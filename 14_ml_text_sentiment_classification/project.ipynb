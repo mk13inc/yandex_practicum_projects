{
 "cells": [
  {
   "cell_type": "markdown",
   "metadata": {},
   "source": [
    "<a id=\"point0\"></a>"
   ]
  },
  {
   "cell_type": "markdown",
   "metadata": {
    "toc": true
   },
   "source": [
    "<h1>Содержание<span class=\"tocSkip\"></span></h1>\n",
    "<div class=\"toc\"><ul class=\"toc-item\"><li><span><a href=\"#Загрузка-и-изучение-данных\" data-toc-modified-id=\"Загрузка-и-изучение-данных-1\"><span class=\"toc-item-num\">1&nbsp;&nbsp;</span>Загрузка и изучение данных</a></span><ul class=\"toc-item\"><li><span><a href=\"#Загрузка-данных\" data-toc-modified-id=\"Загрузка-данных-1.1\"><span class=\"toc-item-num\">1.1&nbsp;&nbsp;</span>Загрузка данных</a></span></li><li><span><a href=\"#Изучение-данных\" data-toc-modified-id=\"Изучение-данных-1.2\"><span class=\"toc-item-num\">1.2&nbsp;&nbsp;</span>Изучение данных</a></span></li></ul></li><li><span><a href=\"#Задача-классификация-тональности-текста\" data-toc-modified-id=\"Задача-классификация-тональности-текста-2\"><span class=\"toc-item-num\">2&nbsp;&nbsp;</span>Задача классификация тональности текста</a></span><ul class=\"toc-item\"><li><span><a href=\"#Метод-TF-IDF\" data-toc-modified-id=\"Метод-TF-IDF-2.1\"><span class=\"toc-item-num\">2.1&nbsp;&nbsp;</span>Метод TF-IDF</a></span><ul class=\"toc-item\"><li><span><a href=\"#Подготовка-данных\" data-toc-modified-id=\"Подготовка-данных-2.1.1\"><span class=\"toc-item-num\">2.1.1&nbsp;&nbsp;</span>Подготовка данных</a></span></li><li><span><a href=\"#Препроцессинг-данных\" data-toc-modified-id=\"Препроцессинг-данных-2.1.2\"><span class=\"toc-item-num\">2.1.2&nbsp;&nbsp;</span>Препроцессинг данных</a></span></li><li><span><a href=\"#Сборка-пайплайна\" data-toc-modified-id=\"Сборка-пайплайна-2.1.3\"><span class=\"toc-item-num\">2.1.3&nbsp;&nbsp;</span>Сборка пайплайна</a></span></li><li><span><a href=\"#Обучение-моделей\" data-toc-modified-id=\"Обучение-моделей-2.1.4\"><span class=\"toc-item-num\">2.1.4&nbsp;&nbsp;</span>Обучение моделей</a></span></li><li><span><a href=\"#Оценка-качества-модели-на-тестовых-данных\" data-toc-modified-id=\"Оценка-качества-модели-на-тестовых-данных-2.1.5\"><span class=\"toc-item-num\">2.1.5&nbsp;&nbsp;</span>Оценка качества модели на тестовых данных</a></span></li><li><span><a href=\"#Проверка-модели-на-адекватность\" data-toc-modified-id=\"Проверка-модели-на-адекватность-2.1.6\"><span class=\"toc-item-num\">2.1.6&nbsp;&nbsp;</span>Проверка модели на адекватность</a></span></li></ul></li><li><span><a href=\"#Попытка-решения-при-помощи-BERT\" data-toc-modified-id=\"Попытка-решения-при-помощи-BERT-2.2\"><span class=\"toc-item-num\">2.2&nbsp;&nbsp;</span>Попытка решения при помощи BERT</a></span></li></ul></li><li><span><a href=\"#Общий-вывод\" data-toc-modified-id=\"Общий-вывод-3\"><span class=\"toc-item-num\">3&nbsp;&nbsp;</span>Общий вывод</a></span></li></ul></div>"
   ]
  },
  {
   "cell_type": "markdown",
   "metadata": {},
   "source": [
    "# Проект для «Викишоп»"
   ]
  },
  {
   "cell_type": "markdown",
   "metadata": {},
   "source": [
    "Интернет-магазин «Викишоп» запускает новый сервис. Теперь пользователи могут редактировать и дополнять описания товаров, как в вики-сообществах. То есть клиенты предлагают свои правки и комментируют изменения других. Магазину нужен инструмент, который будет искать токсичные комментарии и отправлять их на модерацию. \n",
    "\n",
    "Обучите модель классифицировать комментарии на позитивные и негативные. В вашем распоряжении набор данных с разметкой о токсичности правок.\n",
    "\n",
    "Постройте модель со значением метрики качества *F1* не меньше 0.75. \n",
    "\n",
    "**Инструкция по выполнению проекта**\n",
    "\n",
    "1. Загрузите и подготовьте данные.\n",
    "2. Обучите разные модели. \n",
    "3. Сделайте выводы.\n",
    "\n",
    "Для выполнения проекта применять *BERT* необязательно, но вы можете попробовать.\n",
    "\n",
    "**Описание данных**\n",
    "\n",
    "Данные находятся в файле `toxic_comments.csv`. Столбец *text* в нём содержит текст комментария, а *toxic* — целевой признак.\n",
    "\n",
    "**Цель исследования**: Подготовить модели для классификации тональности текста.\n",
    "\n",
    "**Задачи исследования**: \n",
    "1. Ознакомиться с имеющимися в распоряжении данными.\n",
    "2. Применить метод TF-IDF для создания признаков.\n",
    "3. Для полученных признаков TF-IDF исследовать модели классификации.\n",
    "5. Определить лучшую модель удовлетворяющую заданным критериям качества.\n",
    "7. Представить результат и сделать выводы."
   ]
  },
  {
   "cell_type": "markdown",
   "metadata": {},
   "source": [
    "## Загрузка и изучение данных\n",
    "Импорт необходимых для выполнения проекта библиотек:"
   ]
  },
  {
   "cell_type": "code",
   "execution_count": 1,
   "metadata": {},
   "outputs": [],
   "source": [
    "import pandas as pd  # Библиотека pandas\n",
    "import matplotlib.pyplot as plt  # Библиотека для работы с графиками\n",
    "import numpy as np  # Библиотека NumPy\n",
    "import re  # Модуль для работы с регулярными выражениями\n",
    "import hashlib # Модуль хэширования\n",
    "\n",
    "import spacy # Библиотека для анализа естественного языка (NLP)\n",
    "\n",
    "from sklearn.feature_extraction.text import TfidfVectorizer # Класс преобразования текста в признаки TF-IDF\n",
    "from sklearn.model_selection import (train_test_split, # Функция для разбивки датасета на выборки\n",
    "                                     GridSearchCV)  # Инструмент автоматизированного поиска гиперпараметров\n",
    "from sklearn.pipeline import Pipeline # Импорт Pipeline\n",
    "from sklearn.metrics import recall_score, accuracy_score, f1_score # Метрики: recall, accuracy, f1\n",
    "\n",
    "# Модели МО:\n",
    "from sklearn.naive_bayes import MultinomialNB # Наивный байесовский классификатор\n",
    "from sklearn.linear_model import LogisticRegression # Логистическая регрессия\n",
    "from sklearn.svm import LinearSVC # Линейная SVM\n",
    "from sklearn.dummy import DummyClassifier # Модель Dummy"
   ]
  },
  {
   "cell_type": "markdown",
   "metadata": {},
   "source": [
    "Установка вспомогательных настроек, функций и констант:"
   ]
  },
  {
   "cell_type": "code",
   "execution_count": 2,
   "metadata": {},
   "outputs": [],
   "source": [
    "# формат вывода float-чисел датафрейма:\n",
    "pd.options.display.float_format = (\"{:.2f}\".format)\n",
    "\n",
    "# настройка отображения графиков:\n",
    "plt.rcParams[\"figure.figsize\"] = (15,7) # размер графиков по умолчанию:\n",
    "plt.rcParams.update({'axes.grid' : True, 'grid.alpha': 0.33, 'grid.linestyle': '--'}) # отображение сетки:\n",
    "\n",
    "# переменные для форматирования шрифта при выводе информации:\n",
    "green, red, bold, end = '\\33[92m', '\\33[91m', '\\33[1m', '\\33[0m'\n",
    "\n",
    "# установка цветовой палитры:\n",
    "color_list = ['#1f77b4', '#ff7f0e', '#2ca02c', '#d62728', '#9467bd', \n",
    "               '#8c564b', '#e377c2', '#7f7f7f', '#bcbd22', '#17becf']\n",
    "\n",
    "# создание переменной псевдослучайности\n",
    "RANDOM_STATE = 42\n",
    "\n",
    "def show_gs_result(data, n=5):\n",
    "    \"\"\"\n",
    "    Показывает 5 лучших по метрике моделей среди результатов GridSearchCV\n",
    "    \"\"\"\n",
    "    result_reg = pd.DataFrame(data.cv_results_).sort_values('rank_test_score')[\n",
    "    ['rank_test_score', 'param_models', 'mean_test_score','mean_fit_time','params']\n",
    "    ]\n",
    "    result_reg['param_models'] = (result_reg['param_models']\n",
    "                                  .astype('str')\n",
    "                                  .str.replace('<catboost.*>','CatBoostRegressor', regex=True)\n",
    "                                  .str.replace('\\(.*','', regex=True))\n",
    "    return result_reg.head(n)\n",
    "\n",
    "def models_compare(df, threshold_value):\n",
    "    \"\"\"\n",
    "    Визуализация сравнительных характеристик моделей:\n",
    "    mean_test_score, mean_fit_time\n",
    "    \"\"\"\n",
    "    # Создаем график\n",
    "    fig, ax1 = plt.subplots()  # Увеличиваем ширину для читаемости\n",
    "    \n",
    "    # Настройки для столбцов\n",
    "    width = 0.15  # Уменьшаем ширину столбцов, чтобы вместить три\n",
    "    x = range(df.shape[0])  # Позиции по оси X\n",
    "    \n",
    "    # Левая ось Y: mean_test_score\n",
    "    ax1.bar([i - width for i in x], df['mean_test_score'], width, color=color_list[0], label='Средняя метрика')\n",
    "    ax1.set_xlabel('Наименование моделей')\n",
    "    ax1.set_ylabel('Метрика F1')\n",
    "    ax1.tick_params(axis='y')\n",
    "    ax1.set_xticks(x)\n",
    "    ax1.set_xticklabels(df['param_models'])\n",
    "    \n",
    "    # Правая ось Y: mean_fit_time\n",
    "    ax2 = ax1.twinx()  # Создаем вторую ось Y\n",
    "    ax2.bar([i for i in x], df['mean_fit_time'], width, color=color_list[1], label='Среднее время обучения')\n",
    "    ax2.set_ylabel('Время (секунды)')\n",
    "    ax2.tick_params(axis='y')\n",
    "    ax2.set_yscale('log')\n",
    "    \n",
    "    # линия порога метрики:\n",
    "    ax1.axhline(threshold_value, color='r', linestyle='--', label=f\"Порог F1={threshold_value}\")\n",
    "    \n",
    "    # Заголовок и легенда\n",
    "    plt.title('Сравнительные характеристики моделей')\n",
    "    fig.legend(loc='upper center', bbox_to_anchor=(0.3, 0.8))  # Увеличиваем ncol до 3\n",
    "    \n",
    "    # Показываем график\n",
    "    plt.tight_layout()\n",
    "    plt.grid(visible=False)\n",
    "    plt.show()"
   ]
  },
  {
   "cell_type": "markdown",
   "metadata": {},
   "source": [
    "[Вернуться к оглавлению](#point0)"
   ]
  },
  {
   "cell_type": "markdown",
   "metadata": {},
   "source": [
    "### Загрузка данных\n",
    "Загрузим данные в датафреймы:"
   ]
  },
  {
   "cell_type": "code",
   "execution_count": 3,
   "metadata": {},
   "outputs": [],
   "source": [
    "data = pd.read_csv('/datasets/toxic_comments.csv')"
   ]
  },
  {
   "cell_type": "markdown",
   "metadata": {},
   "source": [
    "### Изучение данных\n",
    "Выведем общую информацию об имеющихся данных:"
   ]
  },
  {
   "cell_type": "code",
   "execution_count": 4,
   "metadata": {},
   "outputs": [
    {
     "name": "stdout",
     "output_type": "stream",
     "text": [
      "• \u001b[4mПервые 10 строк датасета:\u001b[0m\n"
     ]
    },
    {
     "data": {
      "text/html": [
       "<div>\n",
       "<style scoped>\n",
       "    .dataframe tbody tr th:only-of-type {\n",
       "        vertical-align: middle;\n",
       "    }\n",
       "\n",
       "    .dataframe tbody tr th {\n",
       "        vertical-align: top;\n",
       "    }\n",
       "\n",
       "    .dataframe thead th {\n",
       "        text-align: right;\n",
       "    }\n",
       "</style>\n",
       "<table border=\"1\" class=\"dataframe\">\n",
       "  <thead>\n",
       "    <tr style=\"text-align: right;\">\n",
       "      <th></th>\n",
       "      <th>Unnamed: 0</th>\n",
       "      <th>text</th>\n",
       "      <th>toxic</th>\n",
       "    </tr>\n",
       "  </thead>\n",
       "  <tbody>\n",
       "    <tr>\n",
       "      <th>0</th>\n",
       "      <td>0</td>\n",
       "      <td>Explanation\\nWhy the edits made under my usern...</td>\n",
       "      <td>0</td>\n",
       "    </tr>\n",
       "    <tr>\n",
       "      <th>1</th>\n",
       "      <td>1</td>\n",
       "      <td>D'aww! He matches this background colour I'm s...</td>\n",
       "      <td>0</td>\n",
       "    </tr>\n",
       "    <tr>\n",
       "      <th>2</th>\n",
       "      <td>2</td>\n",
       "      <td>Hey man, I'm really not trying to edit war. It...</td>\n",
       "      <td>0</td>\n",
       "    </tr>\n",
       "    <tr>\n",
       "      <th>3</th>\n",
       "      <td>3</td>\n",
       "      <td>\"\\nMore\\nI can't make any real suggestions on ...</td>\n",
       "      <td>0</td>\n",
       "    </tr>\n",
       "    <tr>\n",
       "      <th>4</th>\n",
       "      <td>4</td>\n",
       "      <td>You, sir, are my hero. Any chance you remember...</td>\n",
       "      <td>0</td>\n",
       "    </tr>\n",
       "    <tr>\n",
       "      <th>5</th>\n",
       "      <td>5</td>\n",
       "      <td>\"\\n\\nCongratulations from me as well, use the ...</td>\n",
       "      <td>0</td>\n",
       "    </tr>\n",
       "    <tr>\n",
       "      <th>6</th>\n",
       "      <td>6</td>\n",
       "      <td>COCKSUCKER BEFORE YOU PISS AROUND ON MY WORK</td>\n",
       "      <td>1</td>\n",
       "    </tr>\n",
       "    <tr>\n",
       "      <th>7</th>\n",
       "      <td>7</td>\n",
       "      <td>Your vandalism to the Matt Shirvington article...</td>\n",
       "      <td>0</td>\n",
       "    </tr>\n",
       "    <tr>\n",
       "      <th>8</th>\n",
       "      <td>8</td>\n",
       "      <td>Sorry if the word 'nonsense' was offensive to ...</td>\n",
       "      <td>0</td>\n",
       "    </tr>\n",
       "    <tr>\n",
       "      <th>9</th>\n",
       "      <td>9</td>\n",
       "      <td>alignment on this subject and which are contra...</td>\n",
       "      <td>0</td>\n",
       "    </tr>\n",
       "  </tbody>\n",
       "</table>\n",
       "</div>"
      ],
      "text/plain": [
       "   Unnamed: 0                                               text  toxic\n",
       "0           0  Explanation\\nWhy the edits made under my usern...      0\n",
       "1           1  D'aww! He matches this background colour I'm s...      0\n",
       "2           2  Hey man, I'm really not trying to edit war. It...      0\n",
       "3           3  \"\\nMore\\nI can't make any real suggestions on ...      0\n",
       "4           4  You, sir, are my hero. Any chance you remember...      0\n",
       "5           5  \"\\n\\nCongratulations from me as well, use the ...      0\n",
       "6           6       COCKSUCKER BEFORE YOU PISS AROUND ON MY WORK      1\n",
       "7           7  Your vandalism to the Matt Shirvington article...      0\n",
       "8           8  Sorry if the word 'nonsense' was offensive to ...      0\n",
       "9           9  alignment on this subject and which are contra...      0"
      ]
     },
     "metadata": {},
     "output_type": "display_data"
    },
    {
     "name": "stdout",
     "output_type": "stream",
     "text": [
      "\n",
      "• \u001b[4mОсновная информация о датасете:\u001b[0m\n",
      "<class 'pandas.core.frame.DataFrame'>\n",
      "RangeIndex: 159292 entries, 0 to 159291\n",
      "Data columns (total 3 columns):\n",
      " #   Column      Non-Null Count   Dtype \n",
      "---  ------      --------------   ----- \n",
      " 0   Unnamed: 0  159292 non-null  int64 \n",
      " 1   text        159292 non-null  object\n",
      " 2   toxic       159292 non-null  int64 \n",
      "dtypes: int64(2), object(1)\n",
      "memory usage: 3.6+ MB\n"
     ]
    }
   ],
   "source": [
    "print('• ' + '\\33[4m' + 'Первые 10 строк датасета:' + end)\n",
    "display(data.head(10))\n",
    "print('\\n• ' + '\\33[4m' + 'Основная информация о датасете:' + end)\n",
    "data.info()"
   ]
  },
  {
   "cell_type": "markdown",
   "metadata": {},
   "source": [
    "Как видно, данные не содержат пропусков. \n",
    "\n",
    "Для датасета объемом почти <ins>160 тысяч строк</ins> трудно оценить качество данных. Я попобую выборочно рассмотреть данные основываясь на длине сообщений.\n",
    "\n",
    "Проверю как распределены длины сообщений:"
   ]
  },
  {
   "cell_type": "code",
   "execution_count": 5,
   "metadata": {},
   "outputs": [
    {
     "data": {
      "image/png": "[encoded data removed]",
      "text/plain": [
       "<Figure size 1080x504 with 1 Axes>"
      ]
     },
     "metadata": {
      "needs_background": "light"
     },
     "output_type": "display_data"
    },
    {
     "data": {
      "text/html": [
       "<div>\n",
       "<style scoped>\n",
       "    .dataframe tbody tr th:only-of-type {\n",
       "        vertical-align: middle;\n",
       "    }\n",
       "\n",
       "    .dataframe tbody tr th {\n",
       "        vertical-align: top;\n",
       "    }\n",
       "\n",
       "    .dataframe thead th {\n",
       "        text-align: right;\n",
       "    }\n",
       "</style>\n",
       "<table border=\"1\" class=\"dataframe\">\n",
       "  <thead>\n",
       "    <tr style=\"text-align: right;\">\n",
       "      <th></th>\n",
       "      <th>count</th>\n",
       "      <th>mean</th>\n",
       "      <th>std</th>\n",
       "      <th>min</th>\n",
       "      <th>25%</th>\n",
       "      <th>50%</th>\n",
       "      <th>75%</th>\n",
       "      <th>max</th>\n",
       "      <th>Нижний ус</th>\n",
       "      <th>Верхний ус</th>\n",
       "    </tr>\n",
       "  </thead>\n",
       "  <tbody>\n",
       "    <tr>\n",
       "      <th>0</th>\n",
       "      <td>159292.00</td>\n",
       "      <td>393.69</td>\n",
       "      <td>590.11</td>\n",
       "      <td>5.00</td>\n",
       "      <td>95.00</td>\n",
       "      <td>205.00</td>\n",
       "      <td>435.00</td>\n",
       "      <td>5000.00</td>\n",
       "      <td>5.00</td>\n",
       "      <td>945.00</td>\n",
       "    </tr>\n",
       "  </tbody>\n",
       "</table>\n",
       "</div>"
      ],
      "text/plain": [
       "      count   mean    std  min   25%    50%    75%     max  Нижний ус  \\\n",
       "0 159292.00 393.69 590.11 5.00 95.00 205.00 435.00 5000.00       5.00   \n",
       "\n",
       "   Верхний ус  \n",
       "0      945.00  "
      ]
     },
     "metadata": {},
     "output_type": "display_data"
    }
   ],
   "source": [
    "lengths = data['text'].str.len()\n",
    "\n",
    "len_boxplot = plt.boxplot(lengths, vert=False, labels=[''])\n",
    "plt.xlabel(\"Длина сообщения\")\n",
    "plt.title(\"Диаграмма размаха длин сообщений\")\n",
    "plt.show()\n",
    "\n",
    "whiskers = len_boxplot['whiskers']\n",
    "\n",
    "display(pd.concat([lengths.describe(), \n",
    "        pd.DataFrame({'Нижний ус': [whiskers[0].get_xdata()[1]],'Верхний ус':[whiskers[1].get_xdata()[1]]}).T\n",
    "                  ]).T)"
   ]
  },
  {
   "cell_type": "markdown",
   "metadata": {},
   "source": [
    "Набор данных содержит сообщения с минимальной длиной 5 символов, максимальной длиной - 5000 и медианной длиной 205 символов.\n",
    "\n",
    "Выборочно проверю корректность контента. \n",
    "\n",
    "10 самых длинных сообщений:"
   ]
  },
  {
   "cell_type": "code",
   "execution_count": 6,
   "metadata": {},
   "outputs": [
    {
     "data": {
      "text/html": [
       "<div>\n",
       "<style scoped>\n",
       "    .dataframe tbody tr th:only-of-type {\n",
       "        vertical-align: middle;\n",
       "    }\n",
       "\n",
       "    .dataframe tbody tr th {\n",
       "        vertical-align: top;\n",
       "    }\n",
       "\n",
       "    .dataframe thead th {\n",
       "        text-align: right;\n",
       "    }\n",
       "</style>\n",
       "<table border=\"1\" class=\"dataframe\">\n",
       "  <thead>\n",
       "    <tr style=\"text-align: right;\">\n",
       "      <th></th>\n",
       "      <th>Unnamed: 0</th>\n",
       "      <th>text</th>\n",
       "      <th>toxic</th>\n",
       "    </tr>\n",
       "  </thead>\n",
       "  <tbody>\n",
       "    <tr>\n",
       "      <th>27087</th>\n",
       "      <td>27124</td>\n",
       "      <td>DAMN YOU U CUNT DAMN YOU U CUNT DAMN YOU U CUN...</td>\n",
       "      <td>1</td>\n",
       "    </tr>\n",
       "    <tr>\n",
       "      <th>133018</th>\n",
       "      <td>133156</td>\n",
       "      <td>FUCK YOU ALL!!  FUCK YOU ALL!!  FUCK YOU ALL!!...</td>\n",
       "      <td>1</td>\n",
       "    </tr>\n",
       "    <tr>\n",
       "      <th>86382</th>\n",
       "      <td>86463</td>\n",
       "      <td>Wikipedia tEh Free Enyclopedia!!!!!!!!!!!!!!!!...</td>\n",
       "      <td>0</td>\n",
       "    </tr>\n",
       "    <tr>\n",
       "      <th>35244</th>\n",
       "      <td>35285</td>\n",
       "      <td>MarxismLONG LIVE ANONYMOUS PHILIPPINESLONG LIV...</td>\n",
       "      <td>0</td>\n",
       "    </tr>\n",
       "    <tr>\n",
       "      <th>46480</th>\n",
       "      <td>46535</td>\n",
       "      <td>hahahahahahahahahahahahahahahahahaha vandalism...</td>\n",
       "      <td>1</td>\n",
       "    </tr>\n",
       "    <tr>\n",
       "      <th>12869</th>\n",
       "      <td>12884</td>\n",
       "      <td>I OWN THIS PAGE YOU FOOLS!! YOU SHOULD FEAR ME...</td>\n",
       "      <td>1</td>\n",
       "    </tr>\n",
       "    <tr>\n",
       "      <th>123354</th>\n",
       "      <td>123463</td>\n",
       "      <td>LMAO WHAT WEAK THREATS, I HAVENT BEEN BANNED Y...</td>\n",
       "      <td>1</td>\n",
       "    </tr>\n",
       "    <tr>\n",
       "      <th>82496</th>\n",
       "      <td>82574</td>\n",
       "      <td>MUAHAHAHAHAHAHAHAHAHAHAHAHAHAHAHAHAHAHA, YOU C...</td>\n",
       "      <td>1</td>\n",
       "    </tr>\n",
       "    <tr>\n",
       "      <th>156158</th>\n",
       "      <td>156317</td>\n",
       "      <td>HUGE FAGGOT HUGE FAGGOT HUGE FAGGOT HUGE FAGGO...</td>\n",
       "      <td>1</td>\n",
       "    </tr>\n",
       "    <tr>\n",
       "      <th>72066</th>\n",
       "      <td>72136</td>\n",
       "      <td>China smells like fart. China smells like fart...</td>\n",
       "      <td>1</td>\n",
       "    </tr>\n",
       "  </tbody>\n",
       "</table>\n",
       "</div>"
      ],
      "text/plain": [
       "        Unnamed: 0                                               text  toxic\n",
       "27087        27124  DAMN YOU U CUNT DAMN YOU U CUNT DAMN YOU U CUN...      1\n",
       "133018      133156  FUCK YOU ALL!!  FUCK YOU ALL!!  FUCK YOU ALL!!...      1\n",
       "86382        86463  Wikipedia tEh Free Enyclopedia!!!!!!!!!!!!!!!!...      0\n",
       "35244        35285  MarxismLONG LIVE ANONYMOUS PHILIPPINESLONG LIV...      0\n",
       "46480        46535  hahahahahahahahahahahahahahahahahaha vandalism...      1\n",
       "12869        12884  I OWN THIS PAGE YOU FOOLS!! YOU SHOULD FEAR ME...      1\n",
       "123354      123463  LMAO WHAT WEAK THREATS, I HAVENT BEEN BANNED Y...      1\n",
       "82496        82574  MUAHAHAHAHAHAHAHAHAHAHAHAHAHAHAHAHAHAHA, YOU C...      1\n",
       "156158      156317  HUGE FAGGOT HUGE FAGGOT HUGE FAGGOT HUGE FAGGO...      1\n",
       "72066        72136  China smells like fart. China smells like fart...      1"
      ]
     },
     "execution_count": 6,
     "metadata": {},
     "output_type": "execute_result"
    }
   ],
   "source": [
    "data.sort_values('text', key=lambda x: x.str.len()).tail(10)"
   ]
  },
  {
   "cell_type": "markdown",
   "metadata": {},
   "source": [
    "10 сообщений с медианной длиной:"
   ]
  },
  {
   "cell_type": "code",
   "execution_count": 7,
   "metadata": {},
   "outputs": [
    {
     "data": {
      "text/html": [
       "<div>\n",
       "<style scoped>\n",
       "    .dataframe tbody tr th:only-of-type {\n",
       "        vertical-align: middle;\n",
       "    }\n",
       "\n",
       "    .dataframe tbody tr th {\n",
       "        vertical-align: top;\n",
       "    }\n",
       "\n",
       "    .dataframe thead th {\n",
       "        text-align: right;\n",
       "    }\n",
       "</style>\n",
       "<table border=\"1\" class=\"dataframe\">\n",
       "  <thead>\n",
       "    <tr style=\"text-align: right;\">\n",
       "      <th></th>\n",
       "      <th>Unnamed: 0</th>\n",
       "      <th>text</th>\n",
       "      <th>toxic</th>\n",
       "    </tr>\n",
       "  </thead>\n",
       "  <tbody>\n",
       "    <tr>\n",
       "      <th>395</th>\n",
       "      <td>395</td>\n",
       "      <td>RfC\\n\\nYou pretty much blew through my respect...</td>\n",
       "      <td>0</td>\n",
       "    </tr>\n",
       "    <tr>\n",
       "      <th>99764</th>\n",
       "      <td>99861</td>\n",
       "      <td>\"\\nNo, but do you have any sourced, factual ev...</td>\n",
       "      <td>0</td>\n",
       "    </tr>\n",
       "    <tr>\n",
       "      <th>99880</th>\n",
       "      <td>99977</td>\n",
       "      <td>]] Welcome to Wikipedia, Juhko! I  have been e...</td>\n",
       "      <td>0</td>\n",
       "    </tr>\n",
       "    <tr>\n",
       "      <th>101341</th>\n",
       "      <td>101438</td>\n",
       "      <td>Actually, that link is to an anonymous website...</td>\n",
       "      <td>0</td>\n",
       "    </tr>\n",
       "    <tr>\n",
       "      <th>103295</th>\n",
       "      <td>103392</td>\n",
       "      <td>Oh, and this revert just sums up the dedicatio...</td>\n",
       "      <td>0</td>\n",
       "    </tr>\n",
       "    <tr>\n",
       "      <th>103659</th>\n",
       "      <td>103756</td>\n",
       "      <td>Leo Strauss\\n\\nNothing about Leo Strauss under...</td>\n",
       "      <td>0</td>\n",
       "    </tr>\n",
       "    <tr>\n",
       "      <th>104041</th>\n",
       "      <td>104138</td>\n",
       "      <td>The British army employs 113 thousand regular ...</td>\n",
       "      <td>0</td>\n",
       "    </tr>\n",
       "    <tr>\n",
       "      <th>104118</th>\n",
       "      <td>104215</td>\n",
       "      <td>As I understood it, the usual procedure is to ...</td>\n",
       "      <td>0</td>\n",
       "    </tr>\n",
       "    <tr>\n",
       "      <th>104363</th>\n",
       "      <td>104460</td>\n",
       "      <td>Regarding Sunil Grover (Actor) Page \\n\\nHi, Th...</td>\n",
       "      <td>0</td>\n",
       "    </tr>\n",
       "    <tr>\n",
       "      <th>105192</th>\n",
       "      <td>105289</td>\n",
       "      <td>User talk:122.106.69.62|, as you did at User t...</td>\n",
       "      <td>0</td>\n",
       "    </tr>\n",
       "  </tbody>\n",
       "</table>\n",
       "</div>"
      ],
      "text/plain": [
       "        Unnamed: 0                                               text  toxic\n",
       "395            395  RfC\\n\\nYou pretty much blew through my respect...      0\n",
       "99764        99861  \"\\nNo, but do you have any sourced, factual ev...      0\n",
       "99880        99977  ]] Welcome to Wikipedia, Juhko! I  have been e...      0\n",
       "101341      101438  Actually, that link is to an anonymous website...      0\n",
       "103295      103392  Oh, and this revert just sums up the dedicatio...      0\n",
       "103659      103756  Leo Strauss\\n\\nNothing about Leo Strauss under...      0\n",
       "104041      104138  The British army employs 113 thousand regular ...      0\n",
       "104118      104215  As I understood it, the usual procedure is to ...      0\n",
       "104363      104460  Regarding Sunil Grover (Actor) Page \\n\\nHi, Th...      0\n",
       "105192      105289  User talk:122.106.69.62|, as you did at User t...      0"
      ]
     },
     "execution_count": 7,
     "metadata": {},
     "output_type": "execute_result"
    }
   ],
   "source": [
    "data[data['text'].str.len() == lengths.describe()['50%']].sort_values('text', key=lambda x: x.str.len()).head(10)"
   ]
  },
  {
   "cell_type": "markdown",
   "metadata": {},
   "source": [
    "10 самых коротких сообщений:"
   ]
  },
  {
   "cell_type": "code",
   "execution_count": 8,
   "metadata": {},
   "outputs": [
    {
     "data": {
      "text/html": [
       "<div>\n",
       "<style scoped>\n",
       "    .dataframe tbody tr th:only-of-type {\n",
       "        vertical-align: middle;\n",
       "    }\n",
       "\n",
       "    .dataframe tbody tr th {\n",
       "        vertical-align: top;\n",
       "    }\n",
       "\n",
       "    .dataframe thead th {\n",
       "        text-align: right;\n",
       "    }\n",
       "</style>\n",
       "<table border=\"1\" class=\"dataframe\">\n",
       "  <thead>\n",
       "    <tr style=\"text-align: right;\">\n",
       "      <th></th>\n",
       "      <th>Unnamed: 0</th>\n",
       "      <th>text</th>\n",
       "      <th>toxic</th>\n",
       "    </tr>\n",
       "  </thead>\n",
       "  <tbody>\n",
       "    <tr>\n",
       "      <th>119018</th>\n",
       "      <td>119123</td>\n",
       "      <td>\"\"\"</td>\n",
       "      <td>1</td>\n",
       "    </tr>\n",
       "    <tr>\n",
       "      <th>137400</th>\n",
       "      <td>137547</td>\n",
       "      <td>== \"\"\"</td>\n",
       "      <td>0</td>\n",
       "    </tr>\n",
       "    <tr>\n",
       "      <th>52336</th>\n",
       "      <td>52393</td>\n",
       "      <td>14:53,</td>\n",
       "      <td>0</td>\n",
       "    </tr>\n",
       "    <tr>\n",
       "      <th>136820</th>\n",
       "      <td>136958</td>\n",
       "      <td>~ J.Lo</td>\n",
       "      <td>0</td>\n",
       "    </tr>\n",
       "    <tr>\n",
       "      <th>15432</th>\n",
       "      <td>15449</td>\n",
       "      <td>Howdy!\"</td>\n",
       "      <td>0</td>\n",
       "    </tr>\n",
       "    <tr>\n",
       "      <th>120868</th>\n",
       "      <td>120973</td>\n",
       "      <td>you suck</td>\n",
       "      <td>1</td>\n",
       "    </tr>\n",
       "    <tr>\n",
       "      <th>109794</th>\n",
       "      <td>109891</td>\n",
       "      <td>{{unbloc</td>\n",
       "      <td>0</td>\n",
       "    </tr>\n",
       "    <tr>\n",
       "      <th>118650</th>\n",
       "      <td>118750</td>\n",
       "      <td>FUCK YOU</td>\n",
       "      <td>1</td>\n",
       "    </tr>\n",
       "    <tr>\n",
       "      <th>150648</th>\n",
       "      <td>150804</td>\n",
       "      <td>04:59, 22 Au</td>\n",
       "      <td>0</td>\n",
       "    </tr>\n",
       "    <tr>\n",
       "      <th>93421</th>\n",
       "      <td>93513</td>\n",
       "      <td>{{unblock|yo</td>\n",
       "      <td>0</td>\n",
       "    </tr>\n",
       "  </tbody>\n",
       "</table>\n",
       "</div>"
      ],
      "text/plain": [
       "        Unnamed: 0          text  toxic\n",
       "119018      119123           \"\"\"      1\n",
       "137400      137547        == \"\"\"      0\n",
       "52336        52393        14:53,      0\n",
       "136820      136958        ~ J.Lo      0\n",
       "15432        15449       Howdy!\"      0\n",
       "120868      120973      you suck      1\n",
       "109794      109891      {{unbloc      0\n",
       "118650      118750      FUCK YOU      1\n",
       "150648      150804  04:59, 22 Au      0\n",
       "93421        93513  {{unblock|yo      0"
      ]
     },
     "execution_count": 8,
     "metadata": {},
     "output_type": "execute_result"
    }
   ],
   "source": [
    "data.sort_values('text', key=lambda x: x.str.len()).head(10)"
   ]
  },
  {
   "cell_type": "markdown",
   "metadata": {},
   "source": [
    "В целом данные выглядят реалистично и уникально. \n",
    "\n",
    "Из списка коротких сообщений обращает на себя внимание строка с индексом 119018, где содержится текст `'  \"\"\"'`, которая отмечена как токсичная. Не критично, но мне кажется, такую строку следует исключить:"
   ]
  },
  {
   "cell_type": "code",
   "execution_count": 9,
   "metadata": {},
   "outputs": [],
   "source": [
    "data.drop(119018, inplace=True)"
   ]
  },
  {
   "cell_type": "markdown",
   "metadata": {},
   "source": [
    "Проверим, есть ли полные дубли строк:"
   ]
  },
  {
   "cell_type": "code",
   "execution_count": 10,
   "metadata": {},
   "outputs": [
    {
     "data": {
      "text/plain": [
       "0"
      ]
     },
     "execution_count": 10,
     "metadata": {},
     "output_type": "execute_result"
    }
   ],
   "source": [
    "data.duplicated().sum()"
   ]
  },
  {
   "cell_type": "markdown",
   "metadata": {},
   "source": [
    "А также дубли в признаке `text`:"
   ]
  },
  {
   "cell_type": "code",
   "execution_count": 11,
   "metadata": {},
   "outputs": [
    {
     "data": {
      "text/plain": [
       "0"
      ]
     },
     "execution_count": 11,
     "metadata": {},
     "output_type": "execute_result"
    }
   ],
   "source": [
    "data.duplicated(subset=['text']).sum()"
   ]
  },
  {
   "cell_type": "markdown",
   "metadata": {},
   "source": [
    "Проверим баланс классов в целевом признаке:"
   ]
  },
  {
   "cell_type": "code",
   "execution_count": 12,
   "metadata": {},
   "outputs": [
    {
     "data": {
      "text/plain": [
       "0   0.90\n",
       "1   0.10\n",
       "Name: toxic, dtype: float64"
      ]
     },
     "execution_count": 12,
     "metadata": {},
     "output_type": "execute_result"
    }
   ],
   "source": [
    "data['toxic'].value_counts(normalize=True)"
   ]
  },
  {
   "cell_type": "markdown",
   "metadata": {},
   "source": [
    "**Вывод**:\n",
    "* Датасет состоит из 159292 строк и 3 столбцов.\n",
    "* Данные представлены следующими признаками:\n",
    "  * `Unnamed: 0` - /описание этого признака отсутствует/;\n",
    "  * `text` - текст комментария;\n",
    "  * `toxic` - токсичность комментария.\n",
    "* Признак `text` содержит сообщения на английском языке.\n",
    "* Признак `toxic` распределен в примерном соотношении `0`: 90%, `1`: 10%\n",
    "* Данные не содержат пропусков.\n",
    "* Данные не содержат полных дубликатов строк и дубликатов в признаке `text`.\n",
    "* Имеющиеся данные соответствуют описанию и структуре, заявленным заказчиком.\n",
    "* Значения ячеек выглядят реалистично.\n",
    "* Значения ячеек выглядят уникально."
   ]
  },
  {
   "cell_type": "markdown",
   "metadata": {},
   "source": [
    "[Вернуться к оглавлению](#point0)"
   ]
  },
  {
   "cell_type": "markdown",
   "metadata": {},
   "source": [
    "## Задача классификация тональности текста\n",
    "На основе признака `text` и целевого признака `toxic` необходимо построить модель для классификации текстов.\n",
    "### Метод TF-IDF\n",
    "#### Подготовка данных\n",
    "Зададим переменные с обучающими и целевым признаками и отобразим их форму:"
   ]
  },
  {
   "cell_type": "code",
   "execution_count": 13,
   "metadata": {},
   "outputs": [
    {
     "data": {
      "text/plain": [
       "((159291,), (159291,))"
      ]
     },
     "execution_count": 13,
     "metadata": {},
     "output_type": "execute_result"
    }
   ],
   "source": [
    "X = data['text']\n",
    "y = data['toxic']\n",
    "\n",
    "X.shape, y.shape"
   ]
  },
  {
   "cell_type": "markdown",
   "metadata": {},
   "source": [
    "Разобъем данные на обучающую и тестовую выборки с использованием следующих параметров:\n",
    "* `test_size=0.25` - Размер тестовой выборки равен 25% от исходных данных.\n",
    "* `random_state = RANDOM_STATE` - фиксация псевдослучайности алгоримта разбиения\n",
    "* `stratify = y` - для повышения точности характера распределения целевого признака в обучающей и тестовой выборки я использую стратификацию."
   ]
  },
  {
   "cell_type": "code",
   "execution_count": 14,
   "metadata": {},
   "outputs": [
    {
     "data": {
      "text/plain": [
       "(((119468,), (119468,)), ((39823,), (39823,)))"
      ]
     },
     "execution_count": 14,
     "metadata": {},
     "output_type": "execute_result"
    }
   ],
   "source": [
    "X_train, X_test, y_train, y_test = train_test_split(\n",
    "    X,\n",
    "    y,\n",
    "    test_size = 0.25,\n",
    "    random_state = RANDOM_STATE,\n",
    "    stratify = y\n",
    ")\n",
    "\n",
    "# отображение размерности получившихся выборок:\n",
    "(X_train.shape, y_train.shape), (X_test.shape, y_test.shape)"
   ]
  },
  {
   "cell_type": "markdown",
   "metadata": {},
   "source": [
    "Проверим характер распределения целевого признака после разбиения:"
   ]
  },
  {
   "cell_type": "code",
   "execution_count": 15,
   "metadata": {},
   "outputs": [
    {
     "data": {
      "text/html": [
       "<div>\n",
       "<style scoped>\n",
       "    .dataframe tbody tr th:only-of-type {\n",
       "        vertical-align: middle;\n",
       "    }\n",
       "\n",
       "    .dataframe tbody tr th {\n",
       "        vertical-align: top;\n",
       "    }\n",
       "\n",
       "    .dataframe thead th {\n",
       "        text-align: right;\n",
       "    }\n",
       "</style>\n",
       "<table border=\"1\" class=\"dataframe\">\n",
       "  <thead>\n",
       "    <tr style=\"text-align: right;\">\n",
       "      <th></th>\n",
       "      <th>full</th>\n",
       "      <th>train</th>\n",
       "      <th>test</th>\n",
       "    </tr>\n",
       "  </thead>\n",
       "  <tbody>\n",
       "    <tr>\n",
       "      <th>0</th>\n",
       "      <td>0.90</td>\n",
       "      <td>0.90</td>\n",
       "      <td>0.90</td>\n",
       "    </tr>\n",
       "    <tr>\n",
       "      <th>1</th>\n",
       "      <td>0.10</td>\n",
       "      <td>0.10</td>\n",
       "      <td>0.10</td>\n",
       "    </tr>\n",
       "  </tbody>\n",
       "</table>\n",
       "</div>"
      ],
      "text/plain": [
       "   full  train  test\n",
       "0  0.90   0.90  0.90\n",
       "1  0.10   0.10  0.10"
      ]
     },
     "execution_count": 15,
     "metadata": {},
     "output_type": "execute_result"
    }
   ],
   "source": [
    "pd.DataFrame({'full' :y.value_counts(normalize=True),\n",
    "              'train':y_train.value_counts(normalize=True),\n",
    "              'test' :y_test.value_counts(normalize=True),\n",
    "             })"
   ]
  },
  {
   "cell_type": "markdown",
   "metadata": {},
   "source": [
    "Соотношение значений целевого признака для созданных выборок сохранено.\n",
    "\n",
    "**Вывод**:\n",
    "* Сформированы переменные содержащие обучающие и целевой признаки.\n",
    "* Данные разбиты на обучающие и тестовые выборки в пропорции в пропорции: <span style=\"border-width:2px; border-style:solid; border-color:#ddb62b; padding: 3px;\">75% {обучающая}</span> + <span style=\"border-width:2px; border-style:solid; border-color:#d160c4; padding: 3px;\">25% {тестовая}</span>.\n",
    "* Для сохранения характера распределения целевого признака использована стратификация.\n",
    "\n"
   ]
  },
  {
   "cell_type": "markdown",
   "metadata": {},
   "source": [
    "[Вернуться к оглавлению](#point0)"
   ]
  },
  {
   "cell_type": "markdown",
   "metadata": {},
   "source": [
    "#### Препроцессинг данных\n",
    "Чтобы алгоритмы умели определять тематику и тональность текста, их нужно обучить на корпусе. Это набор текстов, в котором эмоции и ключевые слова уже размечены."
   ]
  },
  {
   "cell_type": "markdown",
   "metadata": {},
   "source": [
    "Произведем лемматизацию и очистку текста.\n",
    "\n",
    "В теории курса, при классификации русского текста, данная процедура осуществлялась с помощью двух раздельных функций `lemmatize` и `clear_text`:\n",
    "<blockquote>\n",
    "<code>def lemmatize(text):\n",
    "   m = Mystem()\n",
    "   lemm_list = m.lemmatize(text)\n",
    "   lemm_text = \"\".join(lemm_list)     \n",
    "   return lemm_text\n",
    "\n",
    "def clear_text(text):   \n",
    "   text = re.sub(r'[^a-zA-Z ]', ' ', text)\n",
    "   text = \" \".join(text.split())\n",
    "   return text</code>\n",
    "</blockquote>"
   ]
  },
  {
   "cell_type": "markdown",
   "metadata": {},
   "source": [
    "Возьмем эти функции за основу и преобразуем их для работы с английским текстом.\n",
    "1. В качестве инструмента лемматизации текста я буду использовать библиотеку **SpaCy**.\n",
    "\n",
    "Загрузим модель:\n",
    "* `'en_core_web_sm'` - обозначение модели для английского языка из библиотеки SpaCy, предназначенной для анализа естественного языка (NLP)\n",
    "* `_sm` - обозначение размера библиотеки: 'small' / маленький\n",
    "* `disable=['ner', 'parser']` - по умолчанию `en_core_web_sm` включает компоненты `tagger`, `parser`, `ner` - два последних не нужны для лемматизации, но замедляют обработку, поэтому отключим их.\n",
    "\n"
   ]
  },
  {
   "cell_type": "code",
   "execution_count": 16,
   "metadata": {},
   "outputs": [],
   "source": [
    "nlp = spacy.load('en_core_web_sm', disable=['ner', 'parser'])"
   ]
  },
  {
   "cell_type": "markdown",
   "metadata": {},
   "source": [
    "2. Для предварительной очистки текста от нежелательных символов я буду использовать алгоритм вышеупомянутой функции `clear_text`, но проведу его векторно с помощью встроенных функций pandas - так получается быстрее:   \n",
    "`corpus.str.replace(r'[^a-zA-Z ]', ' ', regex=True).str.split().str.join(' ')`\n",
    "3. Лемматизацию текста я буду осуществлять методом батчей - `nlp.pipe()` обрабатывает тексты батчами (например, по 1000 строк), а не по одному, что значительно ускоряет процедуру на больших корпусах.\n",
    "\n",
    "Таким образом формируется функция для лемматизации:"
   ]
  },
  {
   "cell_type": "code",
   "execution_count": 17,
   "metadata": {},
   "outputs": [],
   "source": [
    "def lemmatize(corpus, batch_size=1000):\n",
    "    \"\"\"\n",
    "    Функция для очистки и лемматизации текста.\n",
    "    В качестве corpus ожидает объект pd.Series\n",
    "    \"\"\"\n",
    "    # Предварительная очистка текста:\n",
    "    corpus_cleaned = corpus.str.replace(r'[^a-zA-Z ]', ' ', regex=True).str.split().str.join(' ')\n",
    "    \n",
    "    # Батчевая лемматизация\n",
    "    lemmatized_texts = [' '.join(token.lemma_ for token in doc) for doc in nlp.pipe(corpus_cleaned, \n",
    "                                                                                    batch_size=batch_size)]\n",
    "    return lemmatized_texts"
   ]
  },
  {
   "cell_type": "markdown",
   "metadata": {},
   "source": [
    "Проверим корректность работы функции на простом примере:"
   ]
  },
  {
   "cell_type": "code",
   "execution_count": 18,
   "metadata": {},
   "outputs": [
    {
     "data": {
      "text/html": [
       "<style  type=\"text/css\" >\n",
       "</style><table id=\"T_080e0_\" ><thead>    <tr>        <th class=\"blank level0\" ></th>        <th class=\"col_heading level0 col0\" >0</th>        <th class=\"col_heading level0 col1\" >1</th>    </tr></thead><tbody>\n",
       "                <tr>\n",
       "                        <th id=\"T_080e0_level0_row0\" class=\"row_heading level0 row0\" >Исходный текст</th>\n",
       "                        <td id=\"T_080e0_row0_col0\" class=\"data row0 col0\" >The striped bats; are; #hanging on their feet for best</td>\n",
       "                        <td id=\"T_080e0_row0_col1\" class=\"data row0 col1\" >you... should be$ ashamed of yourself went worked</td>\n",
       "            </tr>\n",
       "            <tr>\n",
       "                        <th id=\"T_080e0_level0_row1\" class=\"row_heading level0 row1\" >Очищенный и лемматизированный текст</th>\n",
       "                        <td id=\"T_080e0_row1_col0\" class=\"data row1 col0\" >the stripe bat be hang on their foot for good</td>\n",
       "                        <td id=\"T_080e0_row1_col1\" class=\"data row1 col1\" >you should be ashamed of yourself go work</td>\n",
       "            </tr>\n",
       "    </tbody></table>"
      ],
      "text/plain": [
       "<pandas.io.formats.style.Styler at 0x7fe25e8c0bb0>"
      ]
     },
     "execution_count": 18,
     "metadata": {},
     "output_type": "execute_result"
    }
   ],
   "source": [
    "sentence1 = \"The striped bats; are; #hanging on their feet for best\"\n",
    "sentence2 = \"you... should be$ ashamed of yourself went worked\"\n",
    "df_test = pd.DataFrame([sentence1, sentence2], columns = ['text'])\n",
    "\n",
    "pd.DataFrame({\n",
    "    'Исходный текст':df_test['text'],\n",
    "    'Очищенный и лемматизированный текст':lemmatize(df_test['text'])\n",
    "             }).T.style"
   ]
  },
  {
   "cell_type": "markdown",
   "metadata": {},
   "source": [
    "Функция работает корректно. Можно применять к данным."
   ]
  },
  {
   "cell_type": "markdown",
   "metadata": {},
   "source": [
    "Лемматизируем текст для обучающей выборки:"
   ]
  },
  {
   "cell_type": "code",
   "execution_count": 19,
   "metadata": {},
   "outputs": [
    {
     "name": "stdout",
     "output_type": "stream",
     "text": [
      "CPU times: user 6min 17s, sys: 7.26 s, total: 6min 25s\n",
      "Wall time: 6min 25s\n"
     ]
    }
   ],
   "source": [
    "%%time\n",
    "lemmatize_train = lemmatize(X_train)"
   ]
  },
  {
   "cell_type": "markdown",
   "metadata": {},
   "source": [
    "И для тестовой выборки:"
   ]
  },
  {
   "cell_type": "code",
   "execution_count": 20,
   "metadata": {},
   "outputs": [
    {
     "name": "stdout",
     "output_type": "stream",
     "text": [
      "CPU times: user 2min 1s, sys: 1.9 s, total: 2min 3s\n",
      "Wall time: 2min 3s\n"
     ]
    }
   ],
   "source": [
    "%%time\n",
    "lemmatize_test = lemmatize(X_test)"
   ]
  },
  {
   "cell_type": "markdown",
   "metadata": {},
   "source": [
    "Проверим корректность обработки наших данных:"
   ]
  },
  {
   "cell_type": "code",
   "execution_count": 21,
   "metadata": {
    "scrolled": false
   },
   "outputs": [
    {
     "data": {
      "text/html": [
       "<style  type=\"text/css\" >\n",
       "</style><table id=\"T_c73c9_\" ><caption>Train-выборка</caption><thead>    <tr>        <th class=\"blank level0\" ></th>        <th class=\"col_heading level0 col0\" ></th>    </tr></thead><tbody>\n",
       "                <tr>\n",
       "                        <th id=\"T_c73c9_level0_row0\" class=\"row_heading level0 row0\" >Исходный текст</th>\n",
       "                        <td id=\"T_c73c9_row0_col0\" class=\"data row0 col0\" >\"\n",
       "RefBot was approved as exclusion-compliant. You should be able to add\n",
       "\n",
       "to your talk page to stop it editing there. If this isn't successful, the bot may be blocked for not adhering to it's approved terms. –xenotalk \"</td>\n",
       "            </tr>\n",
       "            <tr>\n",
       "                        <th id=\"T_c73c9_level0_row1\" class=\"row_heading level0 row1\" >Очищенный и лемматизированный текст</th>\n",
       "                        <td id=\"T_c73c9_row1_col0\" class=\"data row1 col0\" >RefBot be approve as exclusion compliant you should be able to add to your talk page to stop it edit there if this isn t successful the bot may be block for not adhere to it s approve term xenotalk</td>\n",
       "            </tr>\n",
       "    </tbody></table>"
      ],
      "text/plain": [
       "<pandas.io.formats.style.Styler at 0x7fe24e536520>"
      ]
     },
     "metadata": {},
     "output_type": "display_data"
    },
    {
     "data": {
      "text/html": [
       "<style  type=\"text/css\" >\n",
       "</style><table id=\"T_8a727_\" ><caption>Test-выборка</caption><thead>    <tr>        <th class=\"blank level0\" ></th>        <th class=\"col_heading level0 col0\" ></th>    </tr></thead><tbody>\n",
       "                <tr>\n",
       "                        <th id=\"T_8a727_level0_row0\" class=\"row_heading level0 row0\" >Исходный текст</th>\n",
       "                        <td id=\"T_8a727_row0_col0\" class=\"data row0 col0\" >\" (UTC)\n",
       "\n",
       "Please change \"\"irish-born British\"\" to \"\"irish\"\" or to \"\"irish who worked mainly in London\"\" because of the following; The  says he was born AND grew up in Ireland apart from a stint in London during WW1. He then went travelling in 1926/1928 to London, Berlin, Paris and back to London. Also, when Francis was born in Ireland under British rule he would be British by his passport and then he would be automatically Irish by 1922  and could later reclaim his British nationality  which there is no evidence that he did. So he's irish until proven otherwise. Further to that it threatens the credibility of Wikipedia if a survey of people decide he is British because they think so. Someone's nationality cannot decided by concensus which is whats happening here. Ignoring the above facts above would be more than disappointing but also from what we KNOW it it is incorrect and an injustice to be so arbitrary. 109.78.211.58  14:05, 11 August 2013\"</td>\n",
       "            </tr>\n",
       "            <tr>\n",
       "                        <th id=\"T_8a727_level0_row1\" class=\"row_heading level0 row1\" >Очищенный и лемматизированный текст</th>\n",
       "                        <td id=\"T_8a727_row1_col0\" class=\"data row1 col0\" >UTC please change irish bear British to irish or to irish who work mainly in London because of the follow the say he be bear and grow up in Ireland apart from a stint in London during WW he then go travel in to London Berlin Paris and back to London also when Francis be bear in Ireland under british rule he would be british by his passport and then he would be automatically irish by and could later reclaim his british nationality which there be no evidence that he do so he s irish until prove otherwise far to that it threaten the credibility of Wikipedia if a survey of people decide he be british because they think so someone s nationality can not decide by concensus which be what s happen here ignore the above fact above would be more than disappointing but also from what we know it it be incorrect and an injustice to be so arbitrary August</td>\n",
       "            </tr>\n",
       "    </tbody></table>"
      ],
      "text/plain": [
       "<pandas.io.formats.style.Styler at 0x7fe24e536ca0>"
      ]
     },
     "metadata": {},
     "output_type": "display_data"
    }
   ],
   "source": [
    "display(pd.DataFrame({\n",
    "    'Исходный текст':[X_train.iloc[0]],\n",
    "    'Очищенный и лемматизированный текст':[lemmatize_train[0]],\n",
    "             }, index=['']).T.style.set_caption('Train-выборка'))\n",
    "\n",
    "display(pd.DataFrame({\n",
    "    'Исходный текст':[X_test.iloc[0]],\n",
    "    'Очищенный и лемматизированный текст':[lemmatize_test[0]]\n",
    "             }, index=['']).T.style.set_caption('Test-выборка'))"
   ]
  },
  {
   "cell_type": "markdown",
   "metadata": {},
   "source": [
    "Данные обработаны корректно."
   ]
  },
  {
   "cell_type": "markdown",
   "metadata": {},
   "source": [
    "Для оптимизации процесса удалим из текста слова без смысловой нагрузки (стоп-слова). <s>Это можно сделать при помощи пакета `stopwords`, который находится в модуле `nltk.corpus` библиотеки `nltk`.</s> Это можно сделать при помощи пакета `stopwords`, который находится в модуле `Defaults.stop_words` библиотеки `SpaCy`.\n",
    "\n",
    "Загрузим список стоп-слов для английского языка:"
   ]
  },
  {
   "cell_type": "code",
   "execution_count": 22,
   "metadata": {},
   "outputs": [],
   "source": [
    "stopwords = list(nlp.Defaults.stop_words)"
   ]
  },
  {
   "cell_type": "markdown",
   "metadata": {},
   "source": [
    "<div style=\"border:solid orange 2px; padding: 20px\">На этапе кросс-валидации <code>TfidfVectorizer</code> выдавал предупреждение при использовании стандратного списка стоп-слов: <font color='red'>Your stop_words may be inconsistent with your preprocessing. Tokenizing the stop words generated tokens ['ll', 've'] not in stop_words.</font>, поэтому я расширил список стоп-слов:"
   ]
  },
  {
   "cell_type": "code",
   "execution_count": 23,
   "metadata": {},
   "outputs": [],
   "source": [
    "extra_stopwords = ['ll', 've', 't', 'd', 's', 'm']  # Часто встречающиеся сокращения\n",
    "stopwords_extended = stopwords + extra_stopwords"
   ]
  },
  {
   "cell_type": "markdown",
   "metadata": {},
   "source": [
    "Величина **TF-IDF** (от англ. *term frequency*, «частота терма, или слова»; *inverse document frequency*, «обратная частота документа, или текста») используется для оценка важности слова. То есть TF отвечает за количество упоминаний слова в отдельном тексте, а IDF отражает частоту его употребления во всём корпусе.\n",
    "\n",
    "Формула TF-IDF: $TFIDF=TF*IDF$\n",
    "\n",
    "TF определяется по формуле $TF=\\frac{t}{n}$, где $t$ (от англ. *term*) — количество употребления слова, а $n$ — общее число слов в тексте.\n",
    "\n",
    "IDF нужна в формуле, чтобы уменьшить вес слов, наиболее распространённых в любом другом тексте заданного корпуса. IDF зависит от общего числа текстов в корпусе ($D$) и количества текстов, в которых это слово встречается ($d$).  \n",
    "$IDF=\\log_{10}\\lgroup\\frac{D}{d}\\rgroup$\n",
    "\n",
    "Рассчитать TF-IDF можно с помощью библиотеки `sklearn`. Класс `TfidfVectorizer()` находится в модуле `sklearn.feature_extraction.text`."
   ]
  },
  {
   "cell_type": "markdown",
   "metadata": {},
   "source": [
    "⚠️ TF-IDF для корпуса текстов будет рассчитан на этапе кросс-валидации."
   ]
  },
  {
   "cell_type": "markdown",
   "metadata": {},
   "source": [
    "**Вывод**: для обучающей и тестовой выборки произведена очистка и лемматизация текста."
   ]
  },
  {
   "cell_type": "markdown",
   "metadata": {},
   "source": [
    "[Вернуться к оглавлению](#point0)"
   ]
  },
  {
   "cell_type": "markdown",
   "metadata": {},
   "source": [
    "#### Сборка пайплайна\n",
    "Поиск лучшей модели для корпуса текстов представленном в виде признаков TF-IDF я произведу с помощью пайплайна.\n",
    "\n",
    "Создадим итоговый пайплайн:\n",
    "* `tfidf` - на данном этапе включаем в пайплан счётчик TF-IDF, указав для него список стоп-слов `stopwords_extended`\n",
    "* в качестве модели по умолчанию LogisticRegression:"
   ]
  },
  {
   "cell_type": "code",
   "execution_count": 24,
   "metadata": {},
   "outputs": [],
   "source": [
    "pipe_final = Pipeline([\n",
    "    ('tfidf', TfidfVectorizer(stop_words=stopwords_extended)),  # Добавляем шаг векторизации\n",
    "    ('models', LogisticRegression(random_state=RANDOM_STATE))  # Модель как второй шаг\n",
    "])"
   ]
  },
  {
   "cell_type": "markdown",
   "metadata": {},
   "source": [
    "Создание сетки, содержающую набор моделей и их гиперпараметров. \n",
    "\n",
    "Исследуются модели:\n",
    "\n",
    "Название модели|Гиперпараметры\n",
    "-|:-\n",
    "LogisticRegression|C: [0.1, 12.7]\n",
    "LinearSVC|C: [1.038, 0.1]\n",
    "MultinomialNB|alpha: [0.0187, 0.1]\n",
    "\n",
    "Выбор моделей главным образом обусловлен их способностью быстро работать с большими матрицами признаков.\n",
    "\n",
    "LogisticRegression и LinearSVC - две [линейные модели](https://scikit-learn.ru/stable/modules/linear_model.html), которые используют разные алгоритмы:\n",
    "* Логистическая регрессия минимизирует логарифмическую потерю (log-loss) с добавлением регуляризации.\n",
    "* Линейная SVM минимизирует hinge loss (шарнирную потерю) с L2-регуляризацией.\n",
    "\n",
    "MultinomialNB ([наивный байесовский классификатор](https://scikit-learn.ru/stable/modules/naive_bayes.html)):\n",
    "* Специально разработан для задач обработки текста с TF-IDF или частотными признаками.\n",
    "* Очень быстр в обучении и предсказании.\n",
    "* Хорошо работает с разреженными матрицами.\n",
    "* Подходит для бинарной и многоклассовой классификации."
   ]
  },
  {
   "cell_type": "markdown",
   "metadata": {},
   "source": [
    "<div style=\"border:solid orange 2px; padding: 20px\"><font color='red'>*</font> <i>Примечание</i>: оптимальные значения гиперпаметров моделей получены с помощью инструмента <b>Optuna</b>. Для финальной сетки оставил небольшое число вариаций с целью продемонстрировать лучший достигнутый результат и сократить время на обучение моделей."
   ]
  },
  {
   "cell_type": "code",
   "execution_count": 25,
   "metadata": {},
   "outputs": [],
   "source": [
    "param_grid = [\n",
    "    \n",
    "    # словарь для модели LogisticRegression\n",
    "    {\n",
    "        'models': [LogisticRegression(\n",
    "            random_state=RANDOM_STATE,\n",
    "            max_iter=1000,\n",
    "            solver='lbfgs'\n",
    "        )],\n",
    "        'models__C': [0.1, 12.7],\n",
    "    },\n",
    "    \n",
    "    # словарь для модели LinearSVC\n",
    "    {\n",
    "        'models': [LinearSVC(random_state=RANDOM_STATE, max_iter=1000, dual=True, tol=0.0006)], \n",
    "        'models__C': [1.038, 0.1],\n",
    "\n",
    "    },\n",
    "    \n",
    "    # словарь для модели MultinomialNB\n",
    "    {\n",
    "        'models': [MultinomialNB(fit_prior=True)], \n",
    "        'models__alpha': [0.0187, 0.1],\n",
    "        \n",
    "    }\n",
    "]"
   ]
  },
  {
   "cell_type": "markdown",
   "metadata": {},
   "source": [
    "Создаем пайплайн с применением автоматизированного поиска гиперпараметров **GridSearchCV** со следующими параметрами:\n",
    "* Установка модели пайплайна по умолчанию `pipe_final`.\n",
    "* Применение заданной сетки гиперпараметров моделей `param_grid`.\n",
    "* `cv=5` - применяется кросс-валидация из 5 блоков\n",
    "* `scoring='f1'` - в качестве метрики качества моделей используется **F1-мера** - это **задано условием**. F1-мера используется для оценки модели по числу ошибок обоих родов. Она агрегирует значения $precision$ и $recall$ в единый показатель качества модели. Метрика F1 определяется исходя из равнозначности $precision$ и $recall$ и рассчитывается по формуле: $F1 = 2*\\frac{precision * recall}{precision + recall}$. F1 - это среднее гармоническое между $precision$ и $recall$, его значение лежит в диапазоне [0,1]. F1 достигает максимального значения, когда исходные метрики равны единице. Если хотя бы одна из исходных метрик близка к нулю, то и F1 тоже стремится к нулю. \n",
    "* `n_jobs=-1` - количество вычислительных мощностей (чтобы считалось быстрее, указывают `-1`)\n",
    "* `verbose=5` - опция логирования процесса поиска, например:\n",
    "  * 0: Без вывода.\n",
    "  * 1: Краткий прогресс.\n",
    "  * 2+: Подробный прогресс по каждому фолду и кандидату."
   ]
  },
  {
   "cell_type": "code",
   "execution_count": 26,
   "metadata": {},
   "outputs": [],
   "source": [
    "grid_search = GridSearchCV(\n",
    "    pipe_final,\n",
    "    param_grid,\n",
    "    cv=5,\n",
    "    scoring='f1',\n",
    "    n_jobs=-1,\n",
    "    verbose=1\n",
    ")"
   ]
  },
  {
   "cell_type": "markdown",
   "metadata": {},
   "source": [
    "**Вывод**: сформирован пайплайн с применением автоматизированного поиска гиперпараметров **GridSearchCV**"
   ]
  },
  {
   "cell_type": "markdown",
   "metadata": {},
   "source": [
    "[Вернуться к оглавлению](#point0)"
   ]
  },
  {
   "cell_type": "markdown",
   "metadata": {},
   "source": [
    "#### Обучение моделей\n",
    "Запускаем пайплайн на тренировочных данных:"
   ]
  },
  {
   "cell_type": "code",
   "execution_count": 27,
   "metadata": {
    "scrolled": false
   },
   "outputs": [
    {
     "name": "stdout",
     "output_type": "stream",
     "text": [
      "Fitting 5 folds for each of 6 candidates, totalling 30 fits\n"
     ]
    },
    {
     "data": {
      "text/plain": [
       "GridSearchCV(cv=5,\n",
       "             estimator=Pipeline(steps=[('tfidf',\n",
       "                                        TfidfVectorizer(stop_words=['afterwards',\n",
       "                                                                    'should',\n",
       "                                                                    'within',\n",
       "                                                                    'whereafter',\n",
       "                                                                    'most',\n",
       "                                                                    'which',\n",
       "                                                                    '‘s', 'put',\n",
       "                                                                    'thereby',\n",
       "                                                                    'a', 'part',\n",
       "                                                                    'both',\n",
       "                                                                    'thus',\n",
       "                                                                    'was',\n",
       "                                                                    'wherein',\n",
       "                                                                    'at',\n",
       "                                                                    'once',\n",
       "                                                                    '‘ve',\n",
       "                                                                    'therefore',\n",
       "                                                                    'either',\n",
       "                                                                    'otherwise',\n",
       "                                                                    'take',\n",
       "                                                                    'more',\n",
       "                                                                    'the',\n",
       "                                                                    'whatever',\n",
       "                                                                    'himself',\n",
       "                                                                    'is',\n",
       "                                                                    'anyone',\n",
       "                                                                    'been',\n",
       "                                                                    'move', ...])),\n",
       "                                       ('models',\n",
       "                                        LogisticRegression(random_state=42))]),\n",
       "             n_jobs=-1,\n",
       "             param_grid=[{'models': [LogisticRegression(max_iter=1000,\n",
       "                                                        random_state=42)],\n",
       "                          'models__C': [0.1, 12.7]},\n",
       "                         {'models': [LinearSVC(C=1.038, random_state=42,\n",
       "                                               tol=0.0006)],\n",
       "                          'models__C': [1.038, 0.1]},\n",
       "                         {'models': [MultinomialNB()],\n",
       "                          'models__alpha': [0.0187, 0.1]}],\n",
       "             scoring='f1', verbose=1)"
      ]
     },
     "execution_count": 27,
     "metadata": {},
     "output_type": "execute_result"
    }
   ],
   "source": [
    "grid_search.fit(lemmatize_train, y_train)"
   ]
  },
  {
   "cell_type": "markdown",
   "metadata": {},
   "source": [
    "Отобразим лучшие результаты:"
   ]
  },
  {
   "cell_type": "code",
   "execution_count": 28,
   "metadata": {},
   "outputs": [
    {
     "data": {
      "text/html": [
       "<style  type=\"text/css\" >\n",
       "</style><table id=\"T_20e3f_\" ><thead>    <tr>        <th class=\"blank level0\" ></th>        <th class=\"col_heading level0 col0\" >rank_test_score</th>        <th class=\"col_heading level0 col1\" >param_models</th>        <th class=\"col_heading level0 col2\" >mean_test_score</th>        <th class=\"col_heading level0 col3\" >mean_fit_time</th>        <th class=\"col_heading level0 col4\" >params</th>    </tr></thead><tbody>\n",
       "                <tr>\n",
       "                        <th id=\"T_20e3f_level0_row0\" class=\"row_heading level0 row0\" >2</th>\n",
       "                        <td id=\"T_20e3f_row0_col0\" class=\"data row0 col0\" >1</td>\n",
       "                        <td id=\"T_20e3f_row0_col1\" class=\"data row0 col1\" >LinearSVC</td>\n",
       "                        <td id=\"T_20e3f_row0_col2\" class=\"data row0 col2\" >0.777895</td>\n",
       "                        <td id=\"T_20e3f_row0_col3\" class=\"data row0 col3\" >3.900473</td>\n",
       "                        <td id=\"T_20e3f_row0_col4\" class=\"data row0 col4\" >{'models': LinearSVC(C=1.038, random_state=42, tol=0.0006), 'models__C': 1.038}</td>\n",
       "            </tr>\n",
       "            <tr>\n",
       "                        <th id=\"T_20e3f_level0_row1\" class=\"row_heading level0 row1\" >1</th>\n",
       "                        <td id=\"T_20e3f_row1_col0\" class=\"data row1 col0\" >2</td>\n",
       "                        <td id=\"T_20e3f_row1_col1\" class=\"data row1 col1\" >LogisticRegression</td>\n",
       "                        <td id=\"T_20e3f_row1_col2\" class=\"data row1 col2\" >0.772817</td>\n",
       "                        <td id=\"T_20e3f_row1_col3\" class=\"data row1 col3\" >90.959518</td>\n",
       "                        <td id=\"T_20e3f_row1_col4\" class=\"data row1 col4\" >{'models': LogisticRegression(max_iter=1000, random_state=42), 'models__C': 12.7}</td>\n",
       "            </tr>\n",
       "            <tr>\n",
       "                        <th id=\"T_20e3f_level0_row2\" class=\"row_heading level0 row2\" >3</th>\n",
       "                        <td id=\"T_20e3f_row2_col0\" class=\"data row2 col0\" >3</td>\n",
       "                        <td id=\"T_20e3f_row2_col1\" class=\"data row2 col1\" >LinearSVC</td>\n",
       "                        <td id=\"T_20e3f_row2_col2\" class=\"data row2 col2\" >0.733011</td>\n",
       "                        <td id=\"T_20e3f_row2_col3\" class=\"data row2 col3\" >3.647742</td>\n",
       "                        <td id=\"T_20e3f_row2_col4\" class=\"data row2 col4\" >{'models': LinearSVC(C=1.038, random_state=42, tol=0.0006), 'models__C': 0.1}</td>\n",
       "            </tr>\n",
       "            <tr>\n",
       "                        <th id=\"T_20e3f_level0_row3\" class=\"row_heading level0 row3\" >4</th>\n",
       "                        <td id=\"T_20e3f_row3_col0\" class=\"data row3 col0\" >4</td>\n",
       "                        <td id=\"T_20e3f_row3_col1\" class=\"data row3 col1\" >MultinomialNB</td>\n",
       "                        <td id=\"T_20e3f_row3_col2\" class=\"data row3 col2\" >0.670893</td>\n",
       "                        <td id=\"T_20e3f_row3_col3\" class=\"data row3 col3\" >3.449346</td>\n",
       "                        <td id=\"T_20e3f_row3_col4\" class=\"data row3 col4\" >{'models': MultinomialNB(), 'models__alpha': 0.0187}</td>\n",
       "            </tr>\n",
       "            <tr>\n",
       "                        <th id=\"T_20e3f_level0_row4\" class=\"row_heading level0 row4\" >5</th>\n",
       "                        <td id=\"T_20e3f_row4_col0\" class=\"data row4 col0\" >5</td>\n",
       "                        <td id=\"T_20e3f_row4_col1\" class=\"data row4 col1\" >MultinomialNB</td>\n",
       "                        <td id=\"T_20e3f_row4_col2\" class=\"data row4 col2\" >0.638545</td>\n",
       "                        <td id=\"T_20e3f_row4_col3\" class=\"data row4 col3\" >3.443414</td>\n",
       "                        <td id=\"T_20e3f_row4_col4\" class=\"data row4 col4\" >{'models': MultinomialNB(), 'models__alpha': 0.1}</td>\n",
       "            </tr>\n",
       "            <tr>\n",
       "                        <th id=\"T_20e3f_level0_row5\" class=\"row_heading level0 row5\" >0</th>\n",
       "                        <td id=\"T_20e3f_row5_col0\" class=\"data row5 col0\" >6</td>\n",
       "                        <td id=\"T_20e3f_row5_col1\" class=\"data row5 col1\" >LogisticRegression</td>\n",
       "                        <td id=\"T_20e3f_row5_col2\" class=\"data row5 col2\" >0.490044</td>\n",
       "                        <td id=\"T_20e3f_row5_col3\" class=\"data row5 col3\" >21.255009</td>\n",
       "                        <td id=\"T_20e3f_row5_col4\" class=\"data row5 col4\" >{'models': LogisticRegression(max_iter=1000, random_state=42), 'models__C': 0.1}</td>\n",
       "            </tr>\n",
       "    </tbody></table>"
      ],
      "text/plain": [
       "<pandas.io.formats.style.Styler at 0x7fe24d788e20>"
      ]
     },
     "execution_count": 28,
     "metadata": {},
     "output_type": "execute_result"
    }
   ],
   "source": [
    "result = show_gs_result(grid_search, 10)\n",
    "result.style"
   ]
  },
  {
   "cell_type": "markdown",
   "metadata": {},
   "source": [
    "Отобразим лучшие результаты исследуемых наименований моделей:"
   ]
  },
  {
   "cell_type": "code",
   "execution_count": 29,
   "metadata": {},
   "outputs": [
    {
     "data": {
      "text/html": [
       "<style  type=\"text/css\" >\n",
       "</style><table id=\"T_3a675_\" ><thead>    <tr>        <th class=\"blank level0\" ></th>        <th class=\"col_heading level0 col0\" >rank_test_score</th>        <th class=\"col_heading level0 col1\" >param_models</th>        <th class=\"col_heading level0 col2\" >mean_test_score</th>        <th class=\"col_heading level0 col3\" >mean_fit_time</th>        <th class=\"col_heading level0 col4\" >params</th>    </tr></thead><tbody>\n",
       "                <tr>\n",
       "                        <th id=\"T_3a675_level0_row0\" class=\"row_heading level0 row0\" >2</th>\n",
       "                        <td id=\"T_3a675_row0_col0\" class=\"data row0 col0\" >1</td>\n",
       "                        <td id=\"T_3a675_row0_col1\" class=\"data row0 col1\" >LinearSVC</td>\n",
       "                        <td id=\"T_3a675_row0_col2\" class=\"data row0 col2\" >0.777895</td>\n",
       "                        <td id=\"T_3a675_row0_col3\" class=\"data row0 col3\" >3.900473</td>\n",
       "                        <td id=\"T_3a675_row0_col4\" class=\"data row0 col4\" >{'models': LinearSVC(C=1.038, random_state=42, tol=0.0006), 'models__C': 1.038}</td>\n",
       "            </tr>\n",
       "            <tr>\n",
       "                        <th id=\"T_3a675_level0_row1\" class=\"row_heading level0 row1\" >1</th>\n",
       "                        <td id=\"T_3a675_row1_col0\" class=\"data row1 col0\" >2</td>\n",
       "                        <td id=\"T_3a675_row1_col1\" class=\"data row1 col1\" >LogisticRegression</td>\n",
       "                        <td id=\"T_3a675_row1_col2\" class=\"data row1 col2\" >0.772817</td>\n",
       "                        <td id=\"T_3a675_row1_col3\" class=\"data row1 col3\" >90.959518</td>\n",
       "                        <td id=\"T_3a675_row1_col4\" class=\"data row1 col4\" >{'models': LogisticRegression(max_iter=1000, random_state=42), 'models__C': 12.7}</td>\n",
       "            </tr>\n",
       "            <tr>\n",
       "                        <th id=\"T_3a675_level0_row2\" class=\"row_heading level0 row2\" >4</th>\n",
       "                        <td id=\"T_3a675_row2_col0\" class=\"data row2 col0\" >4</td>\n",
       "                        <td id=\"T_3a675_row2_col1\" class=\"data row2 col1\" >MultinomialNB</td>\n",
       "                        <td id=\"T_3a675_row2_col2\" class=\"data row2 col2\" >0.670893</td>\n",
       "                        <td id=\"T_3a675_row2_col3\" class=\"data row2 col3\" >3.449346</td>\n",
       "                        <td id=\"T_3a675_row2_col4\" class=\"data row2 col4\" >{'models': MultinomialNB(), 'models__alpha': 0.0187}</td>\n",
       "            </tr>\n",
       "    </tbody></table>"
      ],
      "text/plain": [
       "<pandas.io.formats.style.Styler at 0x7fe24d7886a0>"
      ]
     },
     "execution_count": 29,
     "metadata": {},
     "output_type": "execute_result"
    }
   ],
   "source": [
    "best_scores = (result.loc[result.groupby('param_models')['mean_test_score'].idxmax()]\n",
    "               .sort_values(by='rank_test_score'))\n",
    "best_scores.style"
   ]
  },
  {
   "cell_type": "markdown",
   "metadata": {},
   "source": [
    "Отобразим характеристики с помощью графиков."
   ]
  },
  {
   "cell_type": "markdown",
   "metadata": {},
   "source": [
    "<div style=\"border:solid orange 2px; padding: 20px\"><font color='red'>*</font> <i>Примечание</i>: шкала времени - логарифмическая!"
   ]
  },
  {
   "cell_type": "code",
   "execution_count": 30,
   "metadata": {},
   "outputs": [
    {
     "data": {
      "image/png": "[encoded data removed]",
      "text/plain": [
       "<Figure size 1080x504 with 2 Axes>"
      ]
     },
     "metadata": {
      "needs_background": "light"
     },
     "output_type": "display_data"
    }
   ],
   "source": [
    "models_compare(best_scores, 0.75)"
   ]
  },
  {
   "cell_type": "markdown",
   "metadata": {},
   "source": [
    "**Вывод**:\n",
    "* Из трех наименований моделей лишь две смогли преодалеть порог метрики F1=0.75, это линейные модели LinearSVC и LogisticRegression.\n",
    "* Модель LinearSVC показала лучшую метрику качества - F1=0.777895 на кросс-валидации.\n",
    "* Модель LogisticRegression лишь немного отступает по качеству - F1=0.772817.\n",
    "* Вместе с тем, LinearSVC обучается более чем в 20 раз быстрее чем LogisticRegression.\n",
    "* Для модели MultinomialNB не удалось подобрать такие гиперпараметры, при которых она могла бы достичь заданного порога точности.\n",
    "* Добавление векторизации текста TfidfVectorizer на этапе кросс-валидации ощутимо увеличивает время обучения:\n",
    "  * для LinearSVC время увеличилось примерно в 20 раз\n",
    "  * для MultinomialNB - в 80 раз\n",
    "  * для LogisticRegression - существенно не изменилось.\n",
    "* По совокупности характеристик, лучшая из исследуемых моделей - **LinearSVC**."
   ]
  },
  {
   "cell_type": "markdown",
   "metadata": {},
   "source": [
    "Зададим переменную содержащую информацию о лучшей модели:"
   ]
  },
  {
   "cell_type": "code",
   "execution_count": 31,
   "metadata": {},
   "outputs": [],
   "source": [
    "best_model = grid_search.best_estimator_"
   ]
  },
  {
   "cell_type": "markdown",
   "metadata": {},
   "source": [
    "[Вернуться к оглавлению](#point0)"
   ]
  },
  {
   "cell_type": "markdown",
   "metadata": {},
   "source": [
    "#### Оценка качества модели на тестовых данных\n",
    "Рассчитаем метрики лучшей модели на тестовых данных:"
   ]
  },
  {
   "cell_type": "code",
   "execution_count": 32,
   "metadata": {},
   "outputs": [
    {
     "name": "stdout",
     "output_type": "stream",
     "text": [
      "Метрика Accuracy: 0.959\n",
      "Метрика Recall: 0.698\n",
      "Метрика F1: 0.777\n"
     ]
    }
   ],
   "source": [
    "y_test_pred = best_model.predict(lemmatize_test)\n",
    "f1_test = f1_score(y_test, y_test_pred)\n",
    "print(f'Метрика Accuracy: {accuracy_score(y_test, y_test_pred):.3f}')\n",
    "print(f'Метрика Recall: {recall_score(y_test, y_test_pred):.3f}')\n",
    "print(f'Метрика F1: {f1_test:.3f}')"
   ]
  },
  {
   "cell_type": "markdown",
   "metadata": {},
   "source": [
    "**Вывод**:\n",
    "* Модель **LinearSVC** показала метрику F1=0.777 на тестовой выборке, что соотвествует заданному порогу (F1≥0.75).\n",
    "* Метрики Accuracy и Recall соответственно равны 0.959 и 0.698."
   ]
  },
  {
   "cell_type": "markdown",
   "metadata": {},
   "source": [
    "[Вернуться к оглавлению](#point0)"
   ]
  },
  {
   "cell_type": "markdown",
   "metadata": {},
   "source": [
    "#### Проверка модели на адекватность\n",
    "Для проверки модели на адекватность я использую модель **DummyRegressor** из библиотеки `sklearn`. Данная модель формирует предсказания на простом принципе - заполняя значения какой-либо постоянной величиной - в нашем случае самым популярным значением `strategy=\"most_frequent\"`."
   ]
  },
  {
   "cell_type": "code",
   "execution_count": 33,
   "metadata": {},
   "outputs": [
    {
     "name": "stdout",
     "output_type": "stream",
     "text": [
      "Метрика Accuracy: 0.898\n",
      "Метрика Recall: 0.000\n",
      "Метрика F1: 0.000\n",
      "✅ Модель прошла проверку на адекватность: метрика 'LinearSVC' (0.78) выше, чем у случайной (0.0)\n"
     ]
    }
   ],
   "source": [
    "# инициализация модели:\n",
    "dummy = DummyClassifier(strategy=\"most_frequent\")\n",
    "\n",
    "# обучение модели на train-выборке:\n",
    "dummy.fit(lemmatize_train, y_train)\n",
    "\n",
    "# формирование предсказаний на основе признаков test-выборки:\n",
    "dummy_predictions_test = dummy.predict(lemmatize_test)\n",
    "\n",
    "# расчет метрики:\n",
    "f1_dummy = f1_score(y_test, dummy_predictions_test)\n",
    "\n",
    "print(f'Метрика Accuracy: {accuracy_score(y_test, dummy_predictions_test):.3f}')\n",
    "print(f'Метрика Recall: {recall_score(y_test, dummy_predictions_test):.3f}')\n",
    "print(f'Метрика F1: {f1_dummy:.3f}')\n",
    "\n",
    "# оценка результата:\n",
    "if f1_test > f1_dummy:\n",
    "    print(\"✅ Модель прошла проверку на адекватность:\",\n",
    "          f\"метрика '{grid_search.best_estimator_.steps[-1][1].__class__.__name__}' ({f1_test:.2f})\",\n",
    "          f\"выше, чем у случайной ({f1_dummy})\")\n",
    "else:\n",
    "    print(\"Модель нуждается в доработке: метрика качества низкая 👎\")"
   ]
  },
  {
   "cell_type": "markdown",
   "metadata": {},
   "source": [
    "**Вывод**: \n",
    "* Модель LinearSVC прошла проверку на адекватность.\n",
    "* Высокая метрика Accuracy не всегда говорит о качестве модели - в нашем случае 'простая' модель получила 0.898 баллов \"аккуратности\"."
   ]
  },
  {
   "cell_type": "markdown",
   "metadata": {},
   "source": [
    "[Вернуться к оглавлению](#point0)"
   ]
  },
  {
   "cell_type": "markdown",
   "metadata": {},
   "source": [
    "### Попытка решения при помощи BERT"
   ]
  },
  {
   "cell_type": "markdown",
   "metadata": {},
   "source": [
    "BERT (от англ. Bidirectional Encoder Representations from Transformers, «двунаправленная нейронная сеть-кодировщик») — нейронная сеть для создания модели языка. Её разработали в компании Google, чтобы повысить релевантность результатов поиска. Этот алгоритм понимает контекст запросов, а не просто анализирует фразы. Для машинного обучения она ценна тем, что помогает строить векторные представления. Причём в анализе текстов применяют уже предобученную на большом корпусе модель."
   ]
  },
  {
   "cell_type": "markdown",
   "metadata": {},
   "source": [
    "Обучение модели BERT довольно ресурсозатратное, поэтому для решения задачи я рассмотрю сэмпл данных размером 6000 строк:"
   ]
  },
  {
   "cell_type": "code",
   "execution_count": 34,
   "metadata": {},
   "outputs": [
    {
     "data": {
      "text/plain": [
       "(6000, 3)"
      ]
     },
     "execution_count": 34,
     "metadata": {},
     "output_type": "execute_result"
    }
   ],
   "source": [
    "data_sample = data.sample(n=6000, random_state=42).reset_index(drop=True)\n",
    "data_sample.shape"
   ]
  },
  {
   "cell_type": "markdown",
   "metadata": {},
   "source": [
    "Создание переменных для обучающего и целевого признака:"
   ]
  },
  {
   "cell_type": "code",
   "execution_count": 35,
   "metadata": {},
   "outputs": [
    {
     "data": {
      "text/plain": [
       "((6000,), (6000,))"
      ]
     },
     "execution_count": 35,
     "metadata": {},
     "output_type": "execute_result"
    }
   ],
   "source": [
    "X_sample = data_sample['text']\n",
    "y_sample = data_sample['toxic']\n",
    "\n",
    "# отображение формы признаков:\n",
    "X_sample.shape, y_sample.shape"
   ]
  },
  {
   "cell_type": "markdown",
   "metadata": {},
   "source": [
    "Разбивка данных на обучающую и тестовую выборку."
   ]
  },
  {
   "cell_type": "code",
   "execution_count": 36,
   "metadata": {},
   "outputs": [
    {
     "name": "stdout",
     "output_type": "stream",
     "text": [
      "X_train.shape: (4500,); y_train.shape: (4500,)\n",
      "X_test.shape: (1500,); y_test.shape: (1500,)\n"
     ]
    }
   ],
   "source": [
    "TEST_SIZE = 0.25\n",
    "\n",
    "X_train_sample, X_test_sample, y_train_sample, y_test_sample = train_test_split(\n",
    "       X_sample,\n",
    "       y_sample,\n",
    "       test_size = TEST_SIZE,\n",
    "       random_state = RANDOM_STATE,\n",
    "       stratify = y_sample)\n",
    "\n",
    "print(f\"X_train.shape: {X_train_sample.shape}; y_train.shape: {y_train_sample.shape}\")\n",
    "print(f\"X_test.shape: {X_test_sample.shape}; y_test.shape: {y_test_sample.shape}\")"
   ]
  },
  {
   "cell_type": "markdown",
   "metadata": {},
   "source": [
    "<div style=\"border:solid orange 2px; padding: 20px\">\n",
    "Для ускорения процесса далее я пропущу выполнение кода с подготовкой данных. Код запускался в <a href=\"https://colab.research.google.com/drive/1nGPLnDKSwL8fpoJAc7UoBD46GxnoQmeH?usp=sharing\">Google Colab файле</a>, с ним также можно ознакомиться при желании."
   ]
  },
  {
   "cell_type": "markdown",
   "metadata": {},
   "source": [
    "Токенизация текста:\n",
    "* Инициализируем токенизатор как объект класса `BertTokenizer()`. Передадим ему аргумент `toxic-bert` — это наименование словаря для модели, который будет автоматически подгружен.\n",
    "* Применение токенизатора для X_sample:\n",
    "  * `add_special_tokens=True` - значит, что к любому преобразуемому тексту добавляется токен начала (101) и токен конца текста (102).\n",
    "  * `max_length=512` - модель BERT ожидает, что входные тензоры (batch и attention_mask) имеют фиксированную длину последовательности, которая соответствует максимальной длине, заданной в конфигурации модели (обычно 512 токенов для bert-base). \n",
    "  * `truncation=True` - обрезает текст, если он длиннее 512 токенов.\n",
    "  * `padding='max_length'` - выравнивание длин векторов по максимальному значению. В теории курса это осуществлялось с помощью такого кода: `padded = np.array(vector + [0]*(n - len(vector)))`\n",
    "\n",
    "\n",
    "\n",
    "\n",
    "\n",
    "<pre style=\"background-color: #f4f4f4; border: 1px solid #ccc; padding: 10px; font-family: monospace; white-space: pre-wrap; word-wrap: break-word;\">\n",
    "tokenizer = transformers.BertTokenizer.from_pretrained('toxic-bert')\n",
    "\n",
    "# Токенизация с усечением до 512 токенов\n",
    "tokenized = X_sample.apply(\n",
    "    lambda x: tokenizer.encode(\n",
    "        x,\n",
    "        add_special_tokens=True,\n",
    "        max_length=512,\n",
    "        truncation=True,\n",
    "        padding='max_length'\n",
    "    )\n",
    "</pre>"
   ]
  },
  {
   "cell_type": "markdown",
   "metadata": {},
   "source": [
    "Поскольку выравнивание длин векторов было осуществлено на предыдущем шаге, далее просто преобразуем в формат `np.array`:\n",
    "\n",
    "<pre style=\"background-color: #f4f4f4; border: 1px solid #ccc; padding: 10px; font-family: monospace; white-space: pre-wrap; word-wrap: break-word;\">\n",
    "padded = np.array(tokenized.tolist())\n",
    "</pre>"
   ]
  },
  {
   "cell_type": "markdown",
   "metadata": {},
   "source": [
    "Зададим `attention_mask`, чтобы пояснить модели что нули не несут значимой информации:\n",
    "\n",
    "<pre style=\"background-color: #f4f4f4; border: 1px solid #ccc; padding: 10px; font-family: monospace; white-space: pre-wrap; word-wrap: break-word;\">\n",
    "attention_mask = np.where(padded != 0, 1, 0)\n",
    "</pre>"
   ]
  },
  {
   "cell_type": "markdown",
   "metadata": {},
   "source": [
    "Инициализация модели и ее конфигурации. \n",
    "1. Файл конфигурации:\n",
    "  * В качестве аргумента задаем `'toxic-bert'` из предобученных моделей `from_pretrained`.\n",
    "  * `'toxic-bert'` — конфиг базовой модели для **английского текста** <ins>без учета регистра</ins>.\n",
    "2. Модель:\n",
    "  * Инициализируем саму модель класса BertModel. \n",
    "  * В качестве аргумента задаем `'toxic-bert'` из предобученных моделей `from_pretrained`\n",
    "  * В качестве файла конфигурации - ранее заданный `config`.\n",
    "\n",
    "Данные загружаются автоматически с **Hugging Face Model Hub**:\n",
    "\n",
    "<pre style=\"background-color: #f4f4f4; border: 1px solid #ccc; padding: 10px; font-family: monospace; white-space: pre-wrap; word-wrap: break-word;\">\n",
    "config = transformers.BertConfig.from_pretrained('toxic-bert')\n",
    "model = transformers.BertModel.from_pretrained('toxic-bert', config=config)\n",
    "</pre>"
   ]
  },
  {
   "cell_type": "markdown",
   "metadata": {},
   "source": [
    "Создание эмбеддингов:\n",
    "* `batch_size = 100` - Модель BERT создаёт эмбеддинги батчами. Установим небольшой размер батча, чтобы хватило оперативной памяти.\n",
    "* `batch = torch.LongTensor()` - преобразование данных в формат тензоров — многомерных векторов в библиотеке `torch`. Тип данных `LongTensor` хранит числа в «длинном формате», то есть выделяет на каждое число 64 бита.\n",
    "* `torch.no_grad()` - отключение градиентов для ускорения вычисления.\n",
    "* `embeddings.append()` - из полученного тензора извлечём нужные элементы и добавим в список всех эмбеддингов.\n",
    "\n",
    "<pre style=\"background-color: #f4f4f4; border: 1px solid #ccc; padding: 10px; font-family: monospace; white-space: pre-wrap; word-wrap: break-word;\">\n",
    "batch_size = 100\n",
    "embeddings = []\n",
    "\n",
    "for i in notebook.tqdm(range(padded.shape[0] // batch_size)):\n",
    "       batch = torch.LongTensor(padded[batch_size*i:batch_size*(i+1)])\n",
    "       attention_mask_batch = torch.LongTensor(attention_mask[batch_size*i:batch_size*(i+1)])\n",
    "\n",
    "       with torch.no_grad():\n",
    "           batch_embeddings = model(batch, attention_mask=attention_mask_batch)\n",
    "\n",
    "       embeddings.append(batch_embeddings[0][:,0,:].numpy())\n",
    "</pre>"
   ]
  },
  {
   "cell_type": "markdown",
   "metadata": {},
   "source": [
    "Сбор всех эмбеддингов в матрицу признаков:\n",
    "\n",
    "<pre style=\"background-color: #f4f4f4; border: 1px solid #ccc; padding: 10px; font-family: monospace; white-space: pre-wrap; word-wrap: break-word;\">\n",
    "features = np.concatenate(embeddings)\n",
    "</pre>"
   ]
  },
  {
   "cell_type": "markdown",
   "metadata": {},
   "source": [
    "<div style=\"border:solid orange 2px; padding: 20px\">\n",
    "На данном этапе я подгружу из файла полученные ранее данные (<a href=\"https://colab.research.google.com/drive/1nGPLnDKSwL8fpoJAc7UoBD46GxnoQmeH?usp=sharing\">Google Colab файл</a>)."
   ]
  },
  {
   "cell_type": "markdown",
   "metadata": {},
   "source": [
    "Открою файлы с вычисленными эмбеддингами. При загрузке сверю хэш файлов с вычисленным ранее:"
   ]
  },
  {
   "cell_type": "code",
   "execution_count": 37,
   "metadata": {},
   "outputs": [
    {
     "name": "stdout",
     "output_type": "stream",
     "text": [
      "'features_train': данные загружены корректно\n",
      "'features_test': данные загружены корректно\n"
     ]
    }
   ],
   "source": [
    "features_train = np.load('18/features_train.npy')\n",
    "if hashlib.md5(features_train.tobytes()).hexdigest() == '4f3da01279d80bb42a6fd36cdbf6a8b5':\n",
    "    print(\"'features_train': данные загружены корректно\")\n",
    "else:\n",
    "    print(\"'features_train': хэш файла не совпадает\")\n",
    "    \n",
    "features_test = np.load('18/features_test.npy')\n",
    "if hashlib.md5(features_test.tobytes()).hexdigest() == 'aecb103c627f3eba9855d7bfaf0dc10d':\n",
    "    print(\"'features_test': данные загружены корректно\")\n",
    "else:\n",
    "    print(\"'features_test': хэш файла не совпадает\")"
   ]
  },
  {
   "cell_type": "markdown",
   "metadata": {},
   "source": [
    "Формирование пайплайна:"
   ]
  },
  {
   "cell_type": "code",
   "execution_count": 38,
   "metadata": {},
   "outputs": [],
   "source": [
    "pipe_final_bert = Pipeline([    \n",
    "    ('models', LogisticRegression(random_state=RANDOM_STATE))\n",
    "])"
   ]
  },
  {
   "cell_type": "markdown",
   "metadata": {},
   "source": [
    "Задание сетки параметров - использую только одну модель, для которой удалось получить максимум метрики."
   ]
  },
  {
   "cell_type": "code",
   "execution_count": 39,
   "metadata": {},
   "outputs": [],
   "source": [
    "param_grid_bert = [    \n",
    "    # словарь для модели LinearSVC\n",
    "    {\n",
    "        'models': [LinearSVC(\n",
    "            random_state=RANDOM_STATE, \n",
    "            max_iter=1000, \n",
    "            dual=True, \n",
    "            tol=0.002)], \n",
    "        'models__C': [0.0001, 0.1],\n",
    "    },\n",
    "    \n",
    "    # словарь для модели LogisticRegression\n",
    "    {\n",
    "        'models': [LogisticRegression(\n",
    "            random_state=RANDOM_STATE,\n",
    "            max_iter=1000,\n",
    "        )],\n",
    "        'models__C': [0.1],\n",
    "        'models__solver': ['lbfgs'], # 'saga'\n",
    "    }, \n",
    "    \n",
    "    \n",
    "]"
   ]
  },
  {
   "cell_type": "markdown",
   "metadata": {},
   "source": [
    "Сборка пайплайна:"
   ]
  },
  {
   "cell_type": "code",
   "execution_count": 40,
   "metadata": {},
   "outputs": [],
   "source": [
    "grid_search_bert = GridSearchCV(\n",
    "    pipe_final_bert,\n",
    "    param_grid_bert,\n",
    "    cv=5,\n",
    "    scoring='f1',\n",
    "    n_jobs=-1,\n",
    "    verbose=1\n",
    ")"
   ]
  },
  {
   "cell_type": "markdown",
   "metadata": {},
   "source": [
    "Запуск обучения на эмбеддингах сэмплированной выборки:"
   ]
  },
  {
   "cell_type": "code",
   "execution_count": 41,
   "metadata": {},
   "outputs": [
    {
     "name": "stdout",
     "output_type": "stream",
     "text": [
      "Fitting 5 folds for each of 3 candidates, totalling 15 fits\n"
     ]
    },
    {
     "data": {
      "text/plain": [
       "GridSearchCV(cv=5,\n",
       "             estimator=Pipeline(steps=[('models',\n",
       "                                        LogisticRegression(random_state=42))]),\n",
       "             n_jobs=-1,\n",
       "             param_grid=[{'models': [LinearSVC(C=0.0001, random_state=42,\n",
       "                                               tol=0.002)],\n",
       "                          'models__C': [0.0001, 0.1]},\n",
       "                         {'models': [LogisticRegression(max_iter=1000,\n",
       "                                                        random_state=42)],\n",
       "                          'models__C': [0.1], 'models__solver': ['lbfgs']}],\n",
       "             scoring='f1', verbose=1)"
      ]
     },
     "execution_count": 41,
     "metadata": {},
     "output_type": "execute_result"
    }
   ],
   "source": [
    "grid_search_bert.fit(features_train, y_train_sample)"
   ]
  },
  {
   "cell_type": "markdown",
   "metadata": {},
   "source": [
    "Отображение результата:"
   ]
  },
  {
   "cell_type": "code",
   "execution_count": 42,
   "metadata": {},
   "outputs": [
    {
     "data": {
      "text/html": [
       "<style  type=\"text/css\" >\n",
       "</style><table id=\"T_0d502_\" ><thead>    <tr>        <th class=\"blank level0\" ></th>        <th class=\"col_heading level0 col0\" >rank_test_score</th>        <th class=\"col_heading level0 col1\" >param_models</th>        <th class=\"col_heading level0 col2\" >mean_test_score</th>        <th class=\"col_heading level0 col3\" >mean_fit_time</th>        <th class=\"col_heading level0 col4\" >params</th>    </tr></thead><tbody>\n",
       "                <tr>\n",
       "                        <th id=\"T_0d502_level0_row0\" class=\"row_heading level0 row0\" >0</th>\n",
       "                        <td id=\"T_0d502_row0_col0\" class=\"data row0 col0\" >1</td>\n",
       "                        <td id=\"T_0d502_row0_col1\" class=\"data row0 col1\" >LinearSVC</td>\n",
       "                        <td id=\"T_0d502_row0_col2\" class=\"data row0 col2\" >0.952535</td>\n",
       "                        <td id=\"T_0d502_row0_col3\" class=\"data row0 col3\" >0.162158</td>\n",
       "                        <td id=\"T_0d502_row0_col4\" class=\"data row0 col4\" >{'models': LinearSVC(C=0.0001, random_state=42, tol=0.002), 'models__C': 0.0001}</td>\n",
       "            </tr>\n",
       "            <tr>\n",
       "                        <th id=\"T_0d502_level0_row1\" class=\"row_heading level0 row1\" >2</th>\n",
       "                        <td id=\"T_0d502_row1_col0\" class=\"data row1 col0\" >2</td>\n",
       "                        <td id=\"T_0d502_row1_col1\" class=\"data row1 col1\" >LogisticRegression</td>\n",
       "                        <td id=\"T_0d502_row1_col2\" class=\"data row1 col2\" >0.950049</td>\n",
       "                        <td id=\"T_0d502_row1_col3\" class=\"data row1 col3\" >1.865654</td>\n",
       "                        <td id=\"T_0d502_row1_col4\" class=\"data row1 col4\" >{'models': LogisticRegression(max_iter=1000, random_state=42), 'models__C': 0.1, 'models__solver': 'lbfgs'}</td>\n",
       "            </tr>\n",
       "            <tr>\n",
       "                        <th id=\"T_0d502_level0_row2\" class=\"row_heading level0 row2\" >1</th>\n",
       "                        <td id=\"T_0d502_row2_col0\" class=\"data row2 col0\" >3</td>\n",
       "                        <td id=\"T_0d502_row2_col1\" class=\"data row2 col1\" >LinearSVC</td>\n",
       "                        <td id=\"T_0d502_row2_col2\" class=\"data row2 col2\" >0.946559</td>\n",
       "                        <td id=\"T_0d502_row2_col3\" class=\"data row2 col3\" >0.589278</td>\n",
       "                        <td id=\"T_0d502_row2_col4\" class=\"data row2 col4\" >{'models': LinearSVC(C=0.0001, random_state=42, tol=0.002), 'models__C': 0.1}</td>\n",
       "            </tr>\n",
       "    </tbody></table>"
      ],
      "text/plain": [
       "<pandas.io.formats.style.Styler at 0x7fe25ebabaf0>"
      ]
     },
     "execution_count": 42,
     "metadata": {},
     "output_type": "execute_result"
    }
   ],
   "source": [
    "result_bert = show_gs_result(grid_search_bert, 10)\n",
    "result_bert.style"
   ]
  },
  {
   "cell_type": "markdown",
   "metadata": {},
   "source": [
    "Оценка качества модели на тестовых данных:"
   ]
  },
  {
   "cell_type": "code",
   "execution_count": 43,
   "metadata": {},
   "outputs": [
    {
     "name": "stdout",
     "output_type": "stream",
     "text": [
      "Метрика Accuracy: 0.989\n",
      "Метрика Recall: 0.937\n",
      "Метрика F1: 0.946\n"
     ]
    }
   ],
   "source": [
    "y_test_pred_bert = grid_search_bert.best_estimator_.predict(features_test)\n",
    "f1_test_bert = f1_score(y_test_sample, y_test_pred_bert)\n",
    "print(f'Метрика Accuracy: {accuracy_score(y_test_sample, y_test_pred_bert):.3f}')\n",
    "print(f'Метрика Recall: {recall_score(y_test_sample, y_test_pred_bert):.3f}')\n",
    "print(f'Метрика F1: {f1_test_bert:.3f}')"
   ]
  },
  {
   "cell_type": "markdown",
   "metadata": {},
   "source": [
    "**Выводы:**\n",
    "1. Моя первая попытка решения задачи классификации тональности текста при помощи модели BERT не дала удовлетворительного результата:\n",
    "* в качестве предобученной модели я использовал `bert-base-uncased` - это общая модель, предобученная на широком корпусе текстов (Wikipedia, BookCorpus).\n",
    "* Максимально достигнутая метрика качества для модели LinearSVC: F1=0.672 на тестовых данных, что меньше требуемого 0.75.\n",
    "2. Со второй попытки удалось улучшить результат:\n",
    "* Основное отличие решения задачи для моей второй попытки - это использование другой предобученной модели: `unitary/toxic-bert` - это специализированная модель, дообученная на данных, связанных с токсичностью, что делает её более чувствительной к нюансам токсичных текстов (оскорбления, сарказм и т.д.).\n",
    "* Менее существенные отличия:\n",
    "  * Раздельное создание эмбеддингов для train/test выборок. Данная процедура не должна оказывать влияние на качество, но более логично обрабатывать эти наборы данных отдельно.\n",
    "  * Немного увеличенный объем сэмпла - 6000 вместо 5000 у первой попытки. Проводить обучение на всем объеме данных (около 160 тысяч строк) очень ресурсозатратно.\n",
    "* При использовании предобученной модели: `unitary/toxic-bert` удалось достичь метрики качества F1: 0.946 на тестовых данных, что значительно выше, чем у метода TF-IDF."
   ]
  },
  {
   "cell_type": "markdown",
   "metadata": {},
   "source": [
    "[Вернуться к оглавлению](#point0)"
   ]
  },
  {
   "cell_type": "markdown",
   "metadata": {},
   "source": [
    "## Общий вывод\n",
    "Для данных предоставленных интернет-магазином «Викишоп», содержащих данные о правках и комментариях изменений описания товаров с поставленной целью - классификация комментариев на позитивные и негативные - было проведено исследование, в рамках которого:\n",
    "1. Произведено предварительное изучение данных:\n",
    "* Проверена корректность и соответствие предоставленных данных заявленным заказчиком\n",
    "2. Осуществлена классификация тональности текста  \n",
    " 2.1 Классификация тональности текста при помощи TF-IDF\n",
    "* Подготовка данных:\n",
    "  * выделены обучающий и целевой признаки, \n",
    "  * данные разбиты на обучающую и тестовую выборку.\n",
    "* Препроцессинг данных\n",
    "  * Для обучающей и тестовой выборки сформированы корпуса текстов\n",
    "  * Проведена лемматизация и очистка текста\n",
    "* Поиск лучшей модели\n",
    "  * Задача классификации тональности текста на основе TF-IDF признаков производилась с помощью пайплайна - инструмента, который позволяет автоматизировать действия по подготовке данных, обучению моделей и оценке их качества.\n",
    "  * В пайплайн включен счётчик TF-IDF\n",
    "  * В качестве моделей рассматривались LogisticRegression, LinearSVC, MultinomialNB.\n",
    "  * Выбор моделей главным образом обусловлен их способностью быстро работать с большими матрицами признаков\n",
    "  * В качестве метрики качества моделей использовалась F1-мера\n",
    "  * Поиск лучшей модели осуществлялся с помощью инструмента GridSearchCV.\n",
    "  * По результатам поиска лишь две модели показали метрику качества превышающую минимальный установленный заданием порог (F1=0.75):\n",
    "    * ✅ LinearSVC: 0.777895\n",
    "    * ✅ LogisticRegression: 0.772817\n",
    "    * ❌ MultinomialNB: 0.670893\n",
    "  * По совокупности характеристик, была выбрана лучшая из исследуемых моделей - LinearSVC, имеющая лучший показатель метрики качества, а также скорость обучения примерно в 20 быстрее чем у модели LogisticRegression\n",
    "  * Метрика F1 модели LinearSVC на тестовых данных составила **0.777**, что удовлетворяет заданному условию ✅.\n",
    "  * Модель LinearSVC прошла проверку на адекватность.\n",
    "\n",
    " 2.2 Произведены попытки решить задачу при помощи модели BERT:\n",
    " * Решение при помощи предобученной модели `bert-base-uncased`:\n",
    "   * Задача решалась для сэмпла датасета объемом 5000 строк.\n",
    "   * Ограничение на объем связано с длительным процессом обучения и требовательностью к ресурсам.\n",
    "   * При помощи модели BERT были сформированы эмбеддинги сэмплированной выборки\n",
    "   * На основе рассчитанных эмбеддингов и целевого признака произведен поиск лучшей модели задачи классификации тональности текста.\n",
    "   * Лучший достигнутый результат показала модель LinearSVC: F1=0.701249 на кросс-валидации и F1=0.672 на тестовых данных, что меньше заданного порога ❌.\n",
    "   * Нельзя исключать, что на снижение качества результата могла привести ошибка на этапе подготовки данных.\n",
    "   * Вместе с тем, следует учитывать, что задача решалась для сэмпла данных (размер 5000 строк).\n",
    "   * Также следует учесть, что при токенезации текста часть данных была утеряна из-за ограничения по максимальной длине токенов для модели BERT.\n",
    " * Решение при помощи предобученной модели `toxic-bert`:\n",
    "   * Задача решалась для сэмпла датасета объемом 6000 строк.\n",
    "   * Других существенных отличий от предыдущей попытки нет.\n",
    "   * Удалось получить результат F1=0.946 на тестовых данных ✅, что ощутимо выше, чем при решении методом TF-IDF.\n",
    "   \n",
    "Таким образом, можно заключить, что оба исследуемых в рамках данного проекта метода решения задачи классификации тональности текста дали удовлетворительный результат. \n",
    "\n",
    "Метод TF-IDF дал менее качественный результат - но **удовлетворящий заданному условию**! Вместе с тем, он в целом более быстрый на этапе обучения модели (и потенциально еще есть возможность для дальнейшей оптимизации).\n",
    "\n",
    "Метод при помощи модели BERT дал более точный результат, но оказался более требователен к ресурсам. \n",
    "\n",
    "В зависимости от желаемого соотношения между точностью результата и скоростью обучения(требованием к ресурсам) можно выбрать тот или иной вариант."
   ]
  },
  {
   "cell_type": "markdown",
   "metadata": {},
   "source": [
    "[Вернуться к оглавлению](#point0)"
   ]
  }
 ],
 "metadata": {
  "ExecuteTimeLog": [
   {
    "duration": 48,
    "start_time": "2025-03-25T11:48:20.492Z"
   },
   {
    "duration": 6,
    "start_time": "2025-03-25T11:48:52.274Z"
   },
   {
    "duration": 4,
    "start_time": "2025-03-25T11:49:11.810Z"
   },
   {
    "duration": 4012,
    "start_time": "2025-03-25T11:49:36.584Z"
   },
   {
    "duration": 155,
    "start_time": "2025-03-25T11:49:52.323Z"
   },
   {
    "duration": 2375,
    "start_time": "2025-03-25T11:50:29.147Z"
   },
   {
    "duration": 5,
    "start_time": "2025-03-25T11:50:43.287Z"
   },
   {
    "duration": 3,
    "start_time": "2025-03-25T11:56:42.741Z"
   },
   {
    "duration": 3,
    "start_time": "2025-03-25T11:56:47.951Z"
   },
   {
    "duration": 3,
    "start_time": "2025-03-25T12:01:02.614Z"
   },
   {
    "duration": 12,
    "start_time": "2025-03-25T12:01:32.159Z"
   },
   {
    "duration": 393,
    "start_time": "2025-03-25T12:01:59.392Z"
   },
   {
    "duration": 879,
    "start_time": "2025-03-25T12:02:01.408Z"
   },
   {
    "duration": 31,
    "start_time": "2025-03-25T12:02:11.855Z"
   },
   {
    "duration": 13,
    "start_time": "2025-03-25T12:02:26.364Z"
   },
   {
    "duration": 2,
    "start_time": "2025-03-25T12:31:51.098Z"
   },
   {
    "duration": 2312,
    "start_time": "2025-03-25T12:31:54.895Z"
   },
   {
    "duration": 4,
    "start_time": "2025-03-25T12:32:08.101Z"
   },
   {
    "duration": 14762,
    "start_time": "2025-03-25T12:41:43.941Z"
   },
   {
    "duration": 4,
    "start_time": "2025-03-25T12:41:58.705Z"
   },
   {
    "duration": 46,
    "start_time": "2025-03-26T07:37:37.978Z"
   },
   {
    "duration": 3620,
    "start_time": "2025-03-26T07:37:43.133Z"
   },
   {
    "duration": 32,
    "start_time": "2025-03-26T07:37:48.997Z"
   },
   {
    "duration": 244,
    "start_time": "2025-03-26T16:43:36.462Z"
   },
   {
    "duration": 13118,
    "start_time": "2025-03-26T16:43:37.936Z"
   },
   {
    "duration": 5,
    "start_time": "2025-03-26T16:43:52.139Z"
   },
   {
    "duration": 181,
    "start_time": "2025-03-27T04:18:20.966Z"
   },
   {
    "duration": 15100,
    "start_time": "2025-03-27T04:18:24.161Z"
   },
   {
    "duration": 7,
    "start_time": "2025-03-27T04:18:51.257Z"
   },
   {
    "duration": 13881,
    "start_time": "2025-03-27T04:31:00.934Z"
   },
   {
    "duration": 97,
    "start_time": "2025-03-27T04:31:14.911Z"
   },
   {
    "duration": 1513,
    "start_time": "2025-03-27T09:47:07.600Z"
   },
   {
    "duration": 4,
    "start_time": "2025-03-27T09:47:32.520Z"
   },
   {
    "duration": 894,
    "start_time": "2025-03-27T09:47:49.706Z"
   },
   {
    "duration": 41,
    "start_time": "2025-03-27T09:48:18.010Z"
   },
   {
    "duration": 261,
    "start_time": "2025-03-27T09:48:33.001Z"
   },
   {
    "duration": 147,
    "start_time": "2025-03-27T09:48:51.130Z"
   },
   {
    "duration": 95,
    "start_time": "2025-03-27T09:49:10.512Z"
   },
   {
    "duration": 151,
    "start_time": "2025-03-27T09:49:23.315Z"
   },
   {
    "duration": 16,
    "start_time": "2025-03-27T09:49:36.432Z"
   },
   {
    "duration": 232,
    "start_time": "2025-03-27T09:49:46.932Z"
   },
   {
    "duration": 188,
    "start_time": "2025-03-27T09:49:57.107Z"
   },
   {
    "duration": 2,
    "start_time": "2025-03-27T09:50:42.068Z"
   },
   {
    "duration": 3,
    "start_time": "2025-03-27T09:50:46.517Z"
   },
   {
    "duration": 60,
    "start_time": "2025-03-27T09:50:51.169Z"
   },
   {
    "duration": 4,
    "start_time": "2025-03-27T09:50:55.315Z"
   },
   {
    "duration": 91,
    "start_time": "2025-03-27T09:50:59.247Z"
   },
   {
    "duration": 2205,
    "start_time": "2025-03-27T09:51:29.539Z"
   },
   {
    "duration": 6,
    "start_time": "2025-03-27T09:51:34.221Z"
   },
   {
    "duration": 2,
    "start_time": "2025-03-27T09:51:59.097Z"
   },
   {
    "duration": 3,
    "start_time": "2025-03-27T09:52:02.430Z"
   },
   {
    "duration": 3,
    "start_time": "2025-03-27T09:52:05.908Z"
   },
   {
    "duration": 3,
    "start_time": "2025-03-27T09:52:09.862Z"
   },
   {
    "duration": 48614,
    "start_time": "2025-03-27T09:52:17.784Z"
   },
   {
    "duration": 15436,
    "start_time": "2025-03-27T09:53:06.406Z"
   },
   {
    "duration": 148,
    "start_time": "2025-03-27T09:53:21.843Z"
   },
   {
    "duration": 13,
    "start_time": "2025-03-27T09:53:21.993Z"
   },
   {
    "duration": 2,
    "start_time": "2025-03-27T09:53:22.008Z"
   },
   {
    "duration": 6399,
    "start_time": "2025-03-27T09:54:02.182Z"
   },
   {
    "duration": 3,
    "start_time": "2025-03-27T09:54:08.583Z"
   },
   {
    "duration": 3,
    "start_time": "2025-03-27T09:55:19.170Z"
   },
   {
    "duration": 4,
    "start_time": "2025-03-27T09:55:42.506Z"
   },
   {
    "duration": 3,
    "start_time": "2025-03-27T09:55:48.599Z"
   },
   {
    "duration": 860772,
    "start_time": "2025-03-27T09:55:54.936Z"
   },
   {
    "duration": 13,
    "start_time": "2025-03-27T10:10:15.710Z"
   },
   {
    "duration": 2,
    "start_time": "2025-03-27T10:11:03.100Z"
   },
   {
    "duration": 7,
    "start_time": "2025-03-27T10:11:10.011Z"
   },
   {
    "duration": 15,
    "start_time": "2025-03-27T10:11:14.598Z"
   },
   {
    "duration": 15,
    "start_time": "2025-03-27T10:17:30.125Z"
   },
   {
    "duration": 116,
    "start_time": "2025-03-27T10:17:42.046Z"
   },
   {
    "duration": 3,
    "start_time": "2025-03-27T10:17:58.620Z"
   },
   {
    "duration": 25,
    "start_time": "2025-03-27T10:18:04.600Z"
   },
   {
    "duration": 19,
    "start_time": "2025-03-27T10:18:22.809Z"
   },
   {
    "duration": 4,
    "start_time": "2025-03-27T10:23:04.225Z"
   },
   {
    "duration": 4,
    "start_time": "2025-03-27T10:23:22.610Z"
   },
   {
    "duration": 3,
    "start_time": "2025-03-27T10:51:51.079Z"
   },
   {
    "duration": 35,
    "start_time": "2025-03-27T10:51:53.270Z"
   },
   {
    "duration": 4,
    "start_time": "2025-03-27T10:51:55.203Z"
   },
   {
    "duration": 1076,
    "start_time": "2025-03-27T15:55:08.299Z"
   },
   {
    "duration": 1712,
    "start_time": "2025-03-28T04:26:00.859Z"
   },
   {
    "duration": 3,
    "start_time": "2025-03-28T04:26:44.016Z"
   },
   {
    "duration": 908,
    "start_time": "2025-03-28T04:26:49.709Z"
   },
   {
    "duration": 124,
    "start_time": "2025-03-28T04:26:54.282Z"
   },
   {
    "duration": 6,
    "start_time": "2025-03-28T04:27:06.756Z"
   },
   {
    "duration": 39,
    "start_time": "2025-03-28T04:27:09.217Z"
   },
   {
    "duration": 258,
    "start_time": "2025-03-28T04:27:23.964Z"
   },
   {
    "duration": 316,
    "start_time": "2025-03-28T04:28:19.722Z"
   },
   {
    "duration": 11,
    "start_time": "2025-03-28T04:28:56.505Z"
   },
   {
    "duration": 26,
    "start_time": "2025-03-28T04:31:32.653Z"
   },
   {
    "duration": 12,
    "start_time": "2025-03-28T04:31:46.309Z"
   },
   {
    "duration": 8,
    "start_time": "2025-03-28T04:31:55.771Z"
   },
   {
    "duration": 6,
    "start_time": "2025-03-28T04:32:01.522Z"
   },
   {
    "duration": 8,
    "start_time": "2025-03-28T04:32:57.450Z"
   },
   {
    "duration": 27,
    "start_time": "2025-03-28T04:33:42.151Z"
   },
   {
    "duration": 15,
    "start_time": "2025-03-28T04:34:40.385Z"
   },
   {
    "duration": 18,
    "start_time": "2025-03-28T04:35:42.018Z"
   },
   {
    "duration": 23,
    "start_time": "2025-03-28T04:36:06.029Z"
   },
   {
    "duration": 26,
    "start_time": "2025-03-28T04:36:11.037Z"
   },
   {
    "duration": 21,
    "start_time": "2025-03-28T04:36:50.213Z"
   },
   {
    "duration": 57,
    "start_time": "2025-03-28T04:36:59.988Z"
   },
   {
    "duration": 19,
    "start_time": "2025-03-28T04:37:30.779Z"
   },
   {
    "duration": 13,
    "start_time": "2025-03-28T04:38:19.980Z"
   },
   {
    "duration": 15,
    "start_time": "2025-03-28T04:38:27.583Z"
   },
   {
    "duration": 26,
    "start_time": "2025-03-28T04:39:08.974Z"
   },
   {
    "duration": 7,
    "start_time": "2025-03-28T04:39:18.890Z"
   },
   {
    "duration": 7,
    "start_time": "2025-03-28T04:39:53.787Z"
   },
   {
    "duration": 4,
    "start_time": "2025-03-28T04:40:10.002Z"
   },
   {
    "duration": 19,
    "start_time": "2025-03-28T04:40:30.988Z"
   },
   {
    "duration": 17,
    "start_time": "2025-03-28T04:40:50.113Z"
   },
   {
    "duration": 8,
    "start_time": "2025-03-28T04:41:06.876Z"
   },
   {
    "duration": 20,
    "start_time": "2025-03-28T04:41:30.705Z"
   },
   {
    "duration": 27,
    "start_time": "2025-03-28T04:41:44.665Z"
   },
   {
    "duration": 249,
    "start_time": "2025-03-28T04:42:27.389Z"
   },
   {
    "duration": 160,
    "start_time": "2025-03-28T04:42:54.339Z"
   },
   {
    "duration": 96,
    "start_time": "2025-03-28T04:43:03.006Z"
   },
   {
    "duration": 177,
    "start_time": "2025-03-28T04:43:05.663Z"
   },
   {
    "duration": 16,
    "start_time": "2025-03-28T04:43:28.018Z"
   },
   {
    "duration": 231,
    "start_time": "2025-03-28T04:43:32.762Z"
   },
   {
    "duration": 199,
    "start_time": "2025-03-28T04:43:35.396Z"
   },
   {
    "duration": 7,
    "start_time": "2025-03-28T04:59:38.070Z"
   },
   {
    "duration": 61,
    "start_time": "2025-03-28T05:03:28.733Z"
   },
   {
    "duration": 82,
    "start_time": "2025-03-28T05:04:11.317Z"
   },
   {
    "duration": 12,
    "start_time": "2025-03-28T05:04:39.581Z"
   },
   {
    "duration": 5,
    "start_time": "2025-03-28T05:09:44.298Z"
   },
   {
    "duration": 2379,
    "start_time": "2025-03-28T05:11:18.512Z"
   },
   {
    "duration": 4,
    "start_time": "2025-03-28T05:16:55.494Z"
   },
   {
    "duration": 2,
    "start_time": "2025-03-28T05:17:31.942Z"
   },
   {
    "duration": 51653,
    "start_time": "2025-03-28T05:18:19.378Z"
   },
   {
    "duration": 16823,
    "start_time": "2025-03-28T05:19:11.034Z"
   },
   {
    "duration": 10,
    "start_time": "2025-03-28T05:20:00.375Z"
   },
   {
    "duration": 9,
    "start_time": "2025-03-28T05:20:35.678Z"
   },
   {
    "duration": 10,
    "start_time": "2025-03-28T05:21:06.523Z"
   },
   {
    "duration": 6,
    "start_time": "2025-03-28T05:25:33.367Z"
   },
   {
    "duration": 3,
    "start_time": "2025-03-28T05:42:46.891Z"
   },
   {
    "duration": 88,
    "start_time": "2025-03-28T05:45:48.417Z"
   },
   {
    "duration": 6665,
    "start_time": "2025-03-28T05:48:14.938Z"
   },
   {
    "duration": 3,
    "start_time": "2025-03-28T05:54:32.633Z"
   },
   {
    "duration": 4,
    "start_time": "2025-03-28T06:17:50.803Z"
   },
   {
    "duration": 3,
    "start_time": "2025-03-28T06:31:14.945Z"
   },
   {
    "duration": 639090,
    "start_time": "2025-03-28T06:31:43.633Z"
   },
   {
    "duration": 5,
    "start_time": "2025-03-28T06:42:22.725Z"
   },
   {
    "duration": 14,
    "start_time": "2025-03-28T06:44:18.077Z"
   },
   {
    "duration": 5,
    "start_time": "2025-03-28T06:44:37.978Z"
   },
   {
    "duration": 15,
    "start_time": "2025-03-28T06:44:44.037Z"
   },
   {
    "duration": 15,
    "start_time": "2025-03-28T06:44:55.482Z"
   },
   {
    "duration": 11,
    "start_time": "2025-03-28T06:46:45.533Z"
   },
   {
    "duration": 10,
    "start_time": "2025-03-28T06:46:52.143Z"
   },
   {
    "duration": 23,
    "start_time": "2025-03-28T06:47:09.250Z"
   },
   {
    "duration": 17,
    "start_time": "2025-03-28T06:47:24.650Z"
   },
   {
    "duration": 10,
    "start_time": "2025-03-28T06:47:26.645Z"
   },
   {
    "duration": 6,
    "start_time": "2025-03-28T06:48:26.191Z"
   },
   {
    "duration": 144,
    "start_time": "2025-03-28T06:48:28.269Z"
   },
   {
    "duration": 5,
    "start_time": "2025-03-28T06:48:52.448Z"
   },
   {
    "duration": 6,
    "start_time": "2025-03-28T06:49:03.041Z"
   },
   {
    "duration": 531,
    "start_time": "2025-03-28T06:49:04.677Z"
   },
   {
    "duration": 5,
    "start_time": "2025-03-28T06:53:19.425Z"
   },
   {
    "duration": 748,
    "start_time": "2025-03-28T06:53:22.991Z"
   },
   {
    "duration": 7,
    "start_time": "2025-03-28T06:55:24.528Z"
   },
   {
    "duration": 702,
    "start_time": "2025-03-28T06:55:26.248Z"
   },
   {
    "duration": 6,
    "start_time": "2025-03-28T06:55:50.452Z"
   },
   {
    "duration": 696,
    "start_time": "2025-03-28T06:55:53.093Z"
   },
   {
    "duration": 6,
    "start_time": "2025-03-28T07:00:16.806Z"
   },
   {
    "duration": 822,
    "start_time": "2025-03-28T07:00:20.840Z"
   },
   {
    "duration": 6,
    "start_time": "2025-03-28T07:01:02.880Z"
   },
   {
    "duration": 671,
    "start_time": "2025-03-28T07:01:05.927Z"
   },
   {
    "duration": 6,
    "start_time": "2025-03-28T07:02:00.805Z"
   },
   {
    "duration": 703,
    "start_time": "2025-03-28T07:02:03.612Z"
   },
   {
    "duration": 6,
    "start_time": "2025-03-28T07:04:42.413Z"
   },
   {
    "duration": 549,
    "start_time": "2025-03-28T07:04:46.395Z"
   },
   {
    "duration": 6,
    "start_time": "2025-03-28T07:05:35.612Z"
   },
   {
    "duration": 861,
    "start_time": "2025-03-28T07:05:37.869Z"
   },
   {
    "duration": 6,
    "start_time": "2025-03-28T07:05:55.282Z"
   },
   {
    "duration": 822,
    "start_time": "2025-03-28T07:05:56.738Z"
   },
   {
    "duration": 6,
    "start_time": "2025-03-28T07:06:07.434Z"
   },
   {
    "duration": 766,
    "start_time": "2025-03-28T07:06:08.897Z"
   },
   {
    "duration": 6,
    "start_time": "2025-03-28T07:06:31.448Z"
   },
   {
    "duration": 641,
    "start_time": "2025-03-28T07:06:32.930Z"
   },
   {
    "duration": 6,
    "start_time": "2025-03-28T07:07:18.094Z"
   },
   {
    "duration": 14,
    "start_time": "2025-03-28T07:08:24.455Z"
   },
   {
    "duration": 707,
    "start_time": "2025-03-28T07:08:25.605Z"
   },
   {
    "duration": 7,
    "start_time": "2025-03-28T07:09:15.000Z"
   },
   {
    "duration": 553,
    "start_time": "2025-03-28T07:09:16.391Z"
   },
   {
    "duration": 6,
    "start_time": "2025-03-28T07:09:21.677Z"
   },
   {
    "duration": 602,
    "start_time": "2025-03-28T07:09:23.070Z"
   },
   {
    "duration": 6,
    "start_time": "2025-03-28T07:09:29.784Z"
   },
   {
    "duration": 596,
    "start_time": "2025-03-28T07:09:31.253Z"
   },
   {
    "duration": 6,
    "start_time": "2025-03-28T07:25:31.867Z"
   },
   {
    "duration": 658,
    "start_time": "2025-03-28T07:25:32.870Z"
   },
   {
    "duration": 6,
    "start_time": "2025-03-28T07:25:46.895Z"
   },
   {
    "duration": 641,
    "start_time": "2025-03-28T07:25:48.078Z"
   },
   {
    "duration": 6,
    "start_time": "2025-03-28T07:27:11.441Z"
   },
   {
    "duration": 684,
    "start_time": "2025-03-28T07:27:12.748Z"
   },
   {
    "duration": 6,
    "start_time": "2025-03-28T07:27:25.792Z"
   },
   {
    "duration": 699,
    "start_time": "2025-03-28T07:27:26.800Z"
   },
   {
    "duration": 13,
    "start_time": "2025-03-28T07:30:30.567Z"
   },
   {
    "duration": 835,
    "start_time": "2025-03-28T07:31:22.713Z"
   },
   {
    "duration": 3,
    "start_time": "2025-03-28T07:39:03.083Z"
   },
   {
    "duration": 19,
    "start_time": "2025-03-28T07:40:08.071Z"
   },
   {
    "duration": 27,
    "start_time": "2025-03-28T07:40:13.363Z"
   },
   {
    "duration": 3,
    "start_time": "2025-03-28T07:42:26.548Z"
   },
   {
    "duration": 18,
    "start_time": "2025-03-28T07:42:53.607Z"
   },
   {
    "duration": 21,
    "start_time": "2025-03-28T07:44:29.878Z"
   },
   {
    "duration": 34,
    "start_time": "2025-03-28T07:44:51.325Z"
   },
   {
    "duration": 4,
    "start_time": "2025-03-28T07:47:27.974Z"
   },
   {
    "duration": 13,
    "start_time": "2025-03-28T07:48:37.049Z"
   },
   {
    "duration": 844,
    "start_time": "2025-03-28T07:48:41.784Z"
   },
   {
    "duration": 31,
    "start_time": "2025-03-28T07:53:11.355Z"
   },
   {
    "duration": 32,
    "start_time": "2025-03-28T07:53:46.481Z"
   },
   {
    "duration": 4,
    "start_time": "2025-03-28T08:13:50.121Z"
   },
   {
    "duration": 11,
    "start_time": "2025-03-28T08:18:26.175Z"
   },
   {
    "duration": 5,
    "start_time": "2025-03-28T08:19:42.486Z"
   },
   {
    "duration": 10,
    "start_time": "2025-03-28T08:24:32.184Z"
   },
   {
    "duration": 942,
    "start_time": "2025-03-28T08:24:55.332Z"
   },
   {
    "duration": 13299,
    "start_time": "2025-03-28T08:24:58.719Z"
   },
   {
    "duration": 17,
    "start_time": "2025-03-28T08:34:13.820Z"
   },
   {
    "duration": 45,
    "start_time": "2025-03-28T08:56:29.209Z"
   },
   {
    "duration": 1760,
    "start_time": "2025-03-28T08:57:23.160Z"
   },
   {
    "duration": 10,
    "start_time": "2025-03-28T08:57:25.005Z"
   },
   {
    "duration": 1161,
    "start_time": "2025-03-28T08:57:26.875Z"
   },
   {
    "duration": 44,
    "start_time": "2025-03-28T08:57:29.189Z"
   },
   {
    "duration": 339,
    "start_time": "2025-03-28T08:57:31.477Z"
   },
   {
    "duration": 181,
    "start_time": "2025-03-28T08:57:34.597Z"
   },
   {
    "duration": 114,
    "start_time": "2025-03-28T08:57:36.815Z"
   },
   {
    "duration": 196,
    "start_time": "2025-03-28T08:57:38.847Z"
   },
   {
    "duration": 19,
    "start_time": "2025-03-28T08:57:41.280Z"
   },
   {
    "duration": 268,
    "start_time": "2025-03-28T08:57:42.637Z"
   },
   {
    "duration": 208,
    "start_time": "2025-03-28T08:57:44.595Z"
   },
   {
    "duration": 5,
    "start_time": "2025-03-28T08:57:49.772Z"
   },
   {
    "duration": 68,
    "start_time": "2025-03-28T08:57:51.838Z"
   },
   {
    "duration": 12,
    "start_time": "2025-03-28T08:57:53.604Z"
   },
   {
    "duration": 2838,
    "start_time": "2025-03-28T08:57:55.879Z"
   },
   {
    "duration": 4,
    "start_time": "2025-03-28T08:58:01.879Z"
   },
   {
    "duration": 2,
    "start_time": "2025-03-28T08:58:03.596Z"
   },
   {
    "duration": 9,
    "start_time": "2025-03-28T08:58:12.613Z"
   },
   {
    "duration": 94,
    "start_time": "2025-03-28T08:58:14.885Z"
   },
   {
    "duration": 140,
    "start_time": "2025-03-28T08:58:23.374Z"
   },
   {
    "duration": 311,
    "start_time": "2025-03-28T08:58:32.390Z"
   },
   {
    "duration": 10,
    "start_time": "2025-03-28T08:59:08.499Z"
   },
   {
    "duration": 14,
    "start_time": "2025-03-28T09:01:18.640Z"
   },
   {
    "duration": 15,
    "start_time": "2025-03-28T09:01:32.035Z"
   },
   {
    "duration": 3,
    "start_time": "2025-03-28T09:01:49.383Z"
   },
   {
    "duration": 16,
    "start_time": "2025-03-28T09:03:09.914Z"
   },
   {
    "duration": 3,
    "start_time": "2025-03-28T09:04:03.148Z"
   },
   {
    "duration": 11,
    "start_time": "2025-03-28T09:06:26.967Z"
   },
   {
    "duration": 4,
    "start_time": "2025-03-28T09:07:36.269Z"
   },
   {
    "duration": 3,
    "start_time": "2025-03-28T09:07:46.712Z"
   },
   {
    "duration": 3,
    "start_time": "2025-03-28T09:08:31.322Z"
   },
   {
    "duration": 10,
    "start_time": "2025-03-28T09:08:51.881Z"
   },
   {
    "duration": 23010,
    "start_time": "2025-03-28T09:08:59.114Z"
   },
   {
    "duration": 9,
    "start_time": "2025-03-28T09:09:25.089Z"
   },
   {
    "duration": 51,
    "start_time": "2025-03-28T09:09:34.326Z"
   },
   {
    "duration": 3,
    "start_time": "2025-03-28T09:14:19.552Z"
   },
   {
    "duration": 3,
    "start_time": "2025-03-28T09:14:24.402Z"
   },
   {
    "duration": 19958,
    "start_time": "2025-03-28T09:14:26.466Z"
   },
   {
    "duration": 15,
    "start_time": "2025-03-28T09:14:46.426Z"
   },
   {
    "duration": 3,
    "start_time": "2025-03-28T09:16:52.795Z"
   },
   {
    "duration": 3,
    "start_time": "2025-03-28T09:16:57.015Z"
   },
   {
    "duration": 14945,
    "start_time": "2025-03-28T09:16:58.998Z"
   },
   {
    "duration": 16,
    "start_time": "2025-03-28T09:17:13.946Z"
   },
   {
    "duration": 3,
    "start_time": "2025-03-28T09:17:37.190Z"
   },
   {
    "duration": 3,
    "start_time": "2025-03-28T09:17:39.190Z"
   },
   {
    "duration": 7842,
    "start_time": "2025-03-28T09:17:41.732Z"
   },
   {
    "duration": 11,
    "start_time": "2025-03-28T09:17:49.576Z"
   },
   {
    "duration": 2,
    "start_time": "2025-03-28T09:19:40.194Z"
   },
   {
    "duration": 19,
    "start_time": "2025-03-28T09:20:40.739Z"
   },
   {
    "duration": 109,
    "start_time": "2025-03-28T09:21:43.294Z"
   },
   {
    "duration": 116,
    "start_time": "2025-03-28T09:21:46.179Z"
   },
   {
    "duration": 13,
    "start_time": "2025-03-28T09:24:21.286Z"
   },
   {
    "duration": 1656,
    "start_time": "2025-03-28T09:41:19.841Z"
   },
   {
    "duration": 9,
    "start_time": "2025-03-28T09:41:21.499Z"
   },
   {
    "duration": 1039,
    "start_time": "2025-03-28T09:41:21.510Z"
   },
   {
    "duration": 57,
    "start_time": "2025-03-28T09:41:22.551Z"
   },
   {
    "duration": 334,
    "start_time": "2025-03-28T09:41:22.610Z"
   },
   {
    "duration": 188,
    "start_time": "2025-03-28T09:41:22.946Z"
   },
   {
    "duration": 135,
    "start_time": "2025-03-28T09:41:23.136Z"
   },
   {
    "duration": 212,
    "start_time": "2025-03-28T09:41:23.278Z"
   },
   {
    "duration": 17,
    "start_time": "2025-03-28T09:41:23.492Z"
   },
   {
    "duration": 278,
    "start_time": "2025-03-28T09:41:23.511Z"
   },
   {
    "duration": 217,
    "start_time": "2025-03-28T09:41:23.791Z"
   },
   {
    "duration": 102,
    "start_time": "2025-03-28T09:41:24.010Z"
   },
   {
    "duration": 86,
    "start_time": "2025-03-28T09:41:24.114Z"
   },
   {
    "duration": 12,
    "start_time": "2025-03-28T09:41:24.203Z"
   },
   {
    "duration": 2703,
    "start_time": "2025-03-28T09:41:24.217Z"
   },
   {
    "duration": 7,
    "start_time": "2025-03-28T09:41:26.922Z"
   },
   {
    "duration": 5,
    "start_time": "2025-03-28T09:41:26.931Z"
   },
   {
    "duration": 55014,
    "start_time": "2025-03-28T09:41:26.937Z"
   },
   {
    "duration": 17938,
    "start_time": "2025-03-28T09:42:21.956Z"
   },
   {
    "duration": 48,
    "start_time": "2025-03-28T09:42:39.895Z"
   },
   {
    "duration": 19,
    "start_time": "2025-03-28T09:42:39.945Z"
   },
   {
    "duration": 8,
    "start_time": "2025-03-28T09:42:39.969Z"
   },
   {
    "duration": 7112,
    "start_time": "2025-03-28T09:42:39.980Z"
   },
   {
    "duration": 3,
    "start_time": "2025-03-28T09:42:47.093Z"
   },
   {
    "duration": 8,
    "start_time": "2025-03-28T09:42:47.098Z"
   },
   {
    "duration": 10,
    "start_time": "2025-03-28T09:42:47.107Z"
   },
   {
    "duration": 631413,
    "start_time": "2025-03-28T09:42:47.118Z"
   },
   {
    "duration": 15,
    "start_time": "2025-03-28T09:53:18.532Z"
   },
   {
    "duration": 16,
    "start_time": "2025-03-28T09:53:18.549Z"
   },
   {
    "duration": 856,
    "start_time": "2025-03-28T09:53:18.567Z"
   },
   {
    "duration": 3,
    "start_time": "2025-03-28T09:53:19.425Z"
   },
   {
    "duration": 48,
    "start_time": "2025-03-28T09:53:19.429Z"
   },
   {
    "duration": 32,
    "start_time": "2025-03-28T09:53:19.479Z"
   },
   {
    "duration": 22,
    "start_time": "2025-03-28T09:53:19.513Z"
   },
   {
    "duration": 23,
    "start_time": "2025-03-28T09:53:19.536Z"
   },
   {
    "duration": 131,
    "start_time": "2025-03-28T09:53:19.560Z"
   },
   {
    "duration": 0,
    "start_time": "2025-03-28T09:53:19.693Z"
   },
   {
    "duration": 0,
    "start_time": "2025-03-28T09:53:19.695Z"
   },
   {
    "duration": 0,
    "start_time": "2025-03-28T09:53:19.697Z"
   },
   {
    "duration": 0,
    "start_time": "2025-03-28T09:53:19.698Z"
   },
   {
    "duration": 0,
    "start_time": "2025-03-28T09:53:19.699Z"
   },
   {
    "duration": 0,
    "start_time": "2025-03-28T09:53:19.701Z"
   },
   {
    "duration": 0,
    "start_time": "2025-03-28T09:53:19.703Z"
   },
   {
    "duration": 0,
    "start_time": "2025-03-28T09:53:19.704Z"
   },
   {
    "duration": 303,
    "start_time": "2025-03-28T10:05:46.989Z"
   },
   {
    "duration": 11,
    "start_time": "2025-03-28T10:05:50.083Z"
   },
   {
    "duration": 3,
    "start_time": "2025-03-28T10:05:52.941Z"
   },
   {
    "duration": 3,
    "start_time": "2025-03-28T10:05:55.221Z"
   },
   {
    "duration": 3,
    "start_time": "2025-03-28T10:05:56.925Z"
   },
   {
    "duration": 8118,
    "start_time": "2025-03-28T10:05:58.716Z"
   },
   {
    "duration": 11,
    "start_time": "2025-03-28T10:06:06.836Z"
   },
   {
    "duration": 44,
    "start_time": "2025-03-28T10:06:06.857Z"
   },
   {
    "duration": 133,
    "start_time": "2025-03-28T12:47:01.989Z"
   },
   {
    "duration": 1303,
    "start_time": "2025-03-28T14:56:56.584Z"
   },
   {
    "duration": 10,
    "start_time": "2025-03-28T14:57:09.016Z"
   },
   {
    "duration": 1130,
    "start_time": "2025-03-28T14:57:11.420Z"
   },
   {
    "duration": 44,
    "start_time": "2025-03-28T14:57:15.013Z"
   },
   {
    "duration": 291,
    "start_time": "2025-03-28T14:57:25.796Z"
   },
   {
    "duration": 155,
    "start_time": "2025-03-28T14:57:52.351Z"
   },
   {
    "duration": 17,
    "start_time": "2025-03-28T14:57:56.940Z"
   },
   {
    "duration": 103,
    "start_time": "2025-03-28T14:58:57.206Z"
   },
   {
    "duration": 6,
    "start_time": "2025-03-28T14:59:53.940Z"
   },
   {
    "duration": 7,
    "start_time": "2025-03-28T15:00:00.117Z"
   },
   {
    "duration": 4,
    "start_time": "2025-03-28T15:05:06.738Z"
   },
   {
    "duration": 64,
    "start_time": "2025-03-28T15:05:12.962Z"
   },
   {
    "duration": 12,
    "start_time": "2025-03-28T15:05:16.704Z"
   },
   {
    "duration": 4,
    "start_time": "2025-03-28T15:07:18.746Z"
   },
   {
    "duration": 109,
    "start_time": "2025-03-28T15:07:55.929Z"
   },
   {
    "duration": 3064,
    "start_time": "2025-03-28T15:25:42.225Z"
   },
   {
    "duration": 262,
    "start_time": "2025-03-28T15:26:16.457Z"
   },
   {
    "duration": 503,
    "start_time": "2025-03-28T15:27:17.083Z"
   },
   {
    "duration": 73,
    "start_time": "2025-03-28T15:27:39.806Z"
   },
   {
    "duration": 431,
    "start_time": "2025-03-28T15:27:43.296Z"
   },
   {
    "duration": 4,
    "start_time": "2025-03-28T15:28:02.398Z"
   },
   {
    "duration": 8,
    "start_time": "2025-03-28T15:28:03.758Z"
   },
   {
    "duration": 18,
    "start_time": "2025-03-28T15:28:11.435Z"
   },
   {
    "duration": 14,
    "start_time": "2025-03-28T15:29:32.299Z"
   },
   {
    "duration": 14,
    "start_time": "2025-03-28T15:29:50.978Z"
   },
   {
    "duration": 10,
    "start_time": "2025-03-28T15:31:38.850Z"
   },
   {
    "duration": 4,
    "start_time": "2025-03-28T15:31:45.084Z"
   },
   {
    "duration": 4,
    "start_time": "2025-03-28T15:34:44.546Z"
   },
   {
    "duration": 3,
    "start_time": "2025-03-28T15:34:49.618Z"
   },
   {
    "duration": 3,
    "start_time": "2025-03-28T15:34:56.946Z"
   },
   {
    "duration": 4,
    "start_time": "2025-03-28T15:35:11.030Z"
   },
   {
    "duration": 4,
    "start_time": "2025-03-28T15:35:21.486Z"
   },
   {
    "duration": 3,
    "start_time": "2025-03-28T15:35:33.281Z"
   },
   {
    "duration": 4,
    "start_time": "2025-03-28T15:35:41.458Z"
   },
   {
    "duration": 19,
    "start_time": "2025-03-28T15:35:44.330Z"
   },
   {
    "duration": 3,
    "start_time": "2025-03-28T15:37:19.513Z"
   },
   {
    "duration": 85,
    "start_time": "2025-03-28T15:38:56.263Z"
   },
   {
    "duration": 3,
    "start_time": "2025-03-28T15:40:19.855Z"
   },
   {
    "duration": 18,
    "start_time": "2025-03-28T15:40:23.148Z"
   },
   {
    "duration": 32,
    "start_time": "2025-03-28T15:40:32.393Z"
   },
   {
    "duration": 19,
    "start_time": "2025-03-28T15:40:37.403Z"
   },
   {
    "duration": 4,
    "start_time": "2025-03-28T15:41:26.802Z"
   },
   {
    "duration": 19,
    "start_time": "2025-03-28T15:41:32.050Z"
   },
   {
    "duration": 3,
    "start_time": "2025-03-28T15:42:47.887Z"
   },
   {
    "duration": 20,
    "start_time": "2025-03-28T15:42:53.409Z"
   },
   {
    "duration": 3,
    "start_time": "2025-03-28T15:43:37.712Z"
   },
   {
    "duration": 21,
    "start_time": "2025-03-28T15:43:39.767Z"
   },
   {
    "duration": 19,
    "start_time": "2025-03-28T15:43:54.895Z"
   },
   {
    "duration": 3,
    "start_time": "2025-03-28T15:44:00.231Z"
   },
   {
    "duration": 3,
    "start_time": "2025-03-28T15:44:03.469Z"
   },
   {
    "duration": 3,
    "start_time": "2025-03-28T15:44:25.003Z"
   },
   {
    "duration": 3,
    "start_time": "2025-03-28T15:44:26.156Z"
   },
   {
    "duration": 3,
    "start_time": "2025-03-28T15:44:28.294Z"
   },
   {
    "duration": 3,
    "start_time": "2025-03-28T15:44:29.758Z"
   },
   {
    "duration": 20,
    "start_time": "2025-03-28T15:44:32.446Z"
   },
   {
    "duration": 19,
    "start_time": "2025-03-28T15:44:34.364Z"
   },
   {
    "duration": 20,
    "start_time": "2025-03-28T15:44:36.236Z"
   },
   {
    "duration": 5,
    "start_time": "2025-03-28T15:44:48.934Z"
   },
   {
    "duration": 12,
    "start_time": "2025-03-28T15:47:38.074Z"
   },
   {
    "duration": 13,
    "start_time": "2025-03-28T15:47:59.051Z"
   },
   {
    "duration": 4,
    "start_time": "2025-03-28T15:48:10.674Z"
   },
   {
    "duration": 4,
    "start_time": "2025-03-28T15:56:46.833Z"
   },
   {
    "duration": 5,
    "start_time": "2025-03-28T16:01:28.801Z"
   },
   {
    "duration": 4,
    "start_time": "2025-03-28T16:01:36.918Z"
   },
   {
    "duration": 4,
    "start_time": "2025-03-28T16:02:27.651Z"
   },
   {
    "duration": 478,
    "start_time": "2025-03-28T16:05:11.729Z"
   },
   {
    "duration": 1607,
    "start_time": "2025-03-28T16:05:50.718Z"
   },
   {
    "duration": 804,
    "start_time": "2025-03-28T16:09:15.165Z"
   },
   {
    "duration": 1657,
    "start_time": "2025-03-28T16:09:41.784Z"
   },
   {
    "duration": 700,
    "start_time": "2025-03-28T16:10:34.693Z"
   },
   {
    "duration": 704,
    "start_time": "2025-03-28T16:10:47.340Z"
   },
   {
    "duration": 722,
    "start_time": "2025-03-28T16:10:49.411Z"
   },
   {
    "duration": 712,
    "start_time": "2025-03-28T16:10:53.948Z"
   },
   {
    "duration": 710,
    "start_time": "2025-03-28T16:10:55.783Z"
   },
   {
    "duration": 4,
    "start_time": "2025-03-28T16:11:38.751Z"
   },
   {
    "duration": 4,
    "start_time": "2025-03-28T16:11:41.399Z"
   },
   {
    "duration": 3,
    "start_time": "2025-03-28T16:11:46.415Z"
   },
   {
    "duration": 4,
    "start_time": "2025-03-28T16:11:49.095Z"
   },
   {
    "duration": 4,
    "start_time": "2025-03-28T16:12:00.666Z"
   },
   {
    "duration": 700,
    "start_time": "2025-03-28T16:12:19.631Z"
   },
   {
    "duration": 1166,
    "start_time": "2025-03-28T16:12:25.403Z"
   },
   {
    "duration": 720,
    "start_time": "2025-03-28T16:12:35.680Z"
   },
   {
    "duration": 729,
    "start_time": "2025-03-28T16:12:36.920Z"
   },
   {
    "duration": 134512,
    "start_time": "2025-03-28T16:17:14.227Z"
   },
   {
    "duration": 101,
    "start_time": "2025-03-28T16:19:35.867Z"
   },
   {
    "duration": 484,
    "start_time": "2025-03-28T16:20:28.015Z"
   },
   {
    "duration": 346068,
    "start_time": "2025-03-28T16:20:46.909Z"
   },
   {
    "duration": 47058,
    "start_time": "2025-03-28T16:26:47.228Z"
   },
   {
    "duration": 6417,
    "start_time": "2025-03-28T16:27:54.576Z"
   },
   {
    "duration": 4,
    "start_time": "2025-03-28T16:28:22.963Z"
   },
   {
    "duration": 4,
    "start_time": "2025-03-28T16:28:31.939Z"
   },
   {
    "duration": 5,
    "start_time": "2025-03-28T16:28:58.656Z"
   },
   {
    "duration": 5,
    "start_time": "2025-03-28T16:29:21.943Z"
   },
   {
    "duration": 31980,
    "start_time": "2025-03-28T16:32:41.682Z"
   },
   {
    "duration": 4,
    "start_time": "2025-03-28T16:33:13.664Z"
   },
   {
    "duration": 4,
    "start_time": "2025-03-28T16:34:28.005Z"
   },
   {
    "duration": 16993,
    "start_time": "2025-03-28T16:34:37.174Z"
   },
   {
    "duration": 28819,
    "start_time": "2025-03-28T16:36:21.000Z"
   },
   {
    "duration": 6,
    "start_time": "2025-03-28T16:37:07.217Z"
   },
   {
    "duration": 5,
    "start_time": "2025-03-28T16:37:18.241Z"
   },
   {
    "duration": 17253,
    "start_time": "2025-03-28T16:37:35.497Z"
   },
   {
    "duration": 28367,
    "start_time": "2025-03-28T16:37:52.756Z"
   },
   {
    "duration": 17334,
    "start_time": "2025-03-28T16:40:26.574Z"
   },
   {
    "duration": 18915,
    "start_time": "2025-03-28T16:50:35.227Z"
   },
   {
    "duration": 134,
    "start_time": "2025-03-28T16:52:48.642Z"
   },
   {
    "duration": 4088,
    "start_time": "2025-03-28T16:53:04.649Z"
   },
   {
    "duration": 9,
    "start_time": "2025-03-28T16:53:08.739Z"
   },
   {
    "duration": 1003,
    "start_time": "2025-03-28T16:53:08.750Z"
   },
   {
    "duration": 20,
    "start_time": "2025-03-28T16:53:14.144Z"
   },
   {
    "duration": 6,
    "start_time": "2025-03-28T16:53:19.475Z"
   },
   {
    "duration": 63,
    "start_time": "2025-03-28T16:53:22.288Z"
   },
   {
    "duration": 494,
    "start_time": "2025-03-28T16:53:50.763Z"
   },
   {
    "duration": 20079,
    "start_time": "2025-03-28T16:54:17.119Z"
   },
   {
    "duration": 18651,
    "start_time": "2025-03-28T16:55:03.545Z"
   },
   {
    "duration": 115317,
    "start_time": "2025-03-28T16:55:52.729Z"
   },
   {
    "duration": 24767,
    "start_time": "2025-03-28T16:58:05.423Z"
   },
   {
    "duration": 17058,
    "start_time": "2025-03-28T17:00:19.777Z"
   },
   {
    "duration": 4,
    "start_time": "2025-03-28T17:03:26.494Z"
   },
   {
    "duration": 4,
    "start_time": "2025-03-28T17:03:30.280Z"
   },
   {
    "duration": 4,
    "start_time": "2025-03-28T17:03:38.499Z"
   },
   {
    "duration": 5,
    "start_time": "2025-03-28T17:04:00.143Z"
   },
   {
    "duration": 104,
    "start_time": "2025-03-28T17:06:38.523Z"
   },
   {
    "duration": 16028,
    "start_time": "2025-03-28T17:07:15.357Z"
   },
   {
    "duration": 16121,
    "start_time": "2025-03-28T17:25:50.744Z"
   },
   {
    "duration": 15370,
    "start_time": "2025-03-28T17:26:14.467Z"
   },
   {
    "duration": 16758,
    "start_time": "2025-03-28T17:26:36.067Z"
   },
   {
    "duration": 18766,
    "start_time": "2025-03-28T17:27:07.547Z"
   },
   {
    "duration": 16275,
    "start_time": "2025-03-28T17:28:24.896Z"
   },
   {
    "duration": 15998,
    "start_time": "2025-03-28T17:28:41.173Z"
   },
   {
    "duration": 15664,
    "start_time": "2025-03-28T17:29:05.134Z"
   },
   {
    "duration": 6,
    "start_time": "2025-03-28T17:30:40.940Z"
   },
   {
    "duration": 191,
    "start_time": "2025-03-28T17:30:55.903Z"
   },
   {
    "duration": 3,
    "start_time": "2025-03-28T17:31:02.523Z"
   },
   {
    "duration": 3,
    "start_time": "2025-03-28T17:31:05.972Z"
   },
   {
    "duration": 27613,
    "start_time": "2025-03-28T17:31:11.236Z"
   },
   {
    "duration": 4134,
    "start_time": "2025-03-29T06:11:50.887Z"
   },
   {
    "duration": 15,
    "start_time": "2025-03-29T06:11:58.215Z"
   },
   {
    "duration": 844,
    "start_time": "2025-03-29T06:12:00.740Z"
   },
   {
    "duration": 40,
    "start_time": "2025-03-29T06:12:03.613Z"
   },
   {
    "duration": 274,
    "start_time": "2025-03-29T06:12:09.240Z"
   },
   {
    "duration": 18,
    "start_time": "2025-03-29T06:12:18.289Z"
   },
   {
    "duration": 5,
    "start_time": "2025-03-29T06:12:27.508Z"
   },
   {
    "duration": 65,
    "start_time": "2025-03-29T06:12:34.064Z"
   },
   {
    "duration": 14,
    "start_time": "2025-03-29T06:12:36.865Z"
   },
   {
    "duration": 4,
    "start_time": "2025-03-29T06:12:48.999Z"
   },
   {
    "duration": 616,
    "start_time": "2025-03-29T06:41:09.560Z"
   },
   {
    "duration": 4744,
    "start_time": "2025-03-29T06:41:33.419Z"
   },
   {
    "duration": 9,
    "start_time": "2025-03-29T06:44:30.362Z"
   },
   {
    "duration": 4,
    "start_time": "2025-03-29T07:00:09.501Z"
   },
   {
    "duration": 4,
    "start_time": "2025-03-29T07:00:20.339Z"
   },
   {
    "duration": 15,
    "start_time": "2025-03-29T07:00:44.273Z"
   },
   {
    "duration": 9,
    "start_time": "2025-03-29T07:05:55.352Z"
   },
   {
    "duration": 4,
    "start_time": "2025-03-29T07:06:01.935Z"
   },
   {
    "duration": 3,
    "start_time": "2025-03-29T07:07:47.180Z"
   },
   {
    "duration": 6,
    "start_time": "2025-03-29T07:07:56.908Z"
   },
   {
    "duration": 5,
    "start_time": "2025-03-29T07:08:02.099Z"
   },
   {
    "duration": 10,
    "start_time": "2025-03-29T07:08:09.536Z"
   },
   {
    "duration": 9,
    "start_time": "2025-03-29T07:11:42.344Z"
   },
   {
    "duration": 1524,
    "start_time": "2025-03-29T07:12:01.016Z"
   },
   {
    "duration": 3,
    "start_time": "2025-03-29T07:12:15.739Z"
   },
   {
    "duration": 1435,
    "start_time": "2025-03-29T07:12:22.565Z"
   },
   {
    "duration": 1339,
    "start_time": "2025-03-29T07:12:33.428Z"
   },
   {
    "duration": 6,
    "start_time": "2025-03-29T07:12:39.411Z"
   },
   {
    "duration": 6,
    "start_time": "2025-03-29T07:12:48.273Z"
   },
   {
    "duration": 23,
    "start_time": "2025-03-29T07:12:53.586Z"
   },
   {
    "duration": 12,
    "start_time": "2025-03-29T07:13:09.308Z"
   },
   {
    "duration": 21,
    "start_time": "2025-03-29T07:13:37.461Z"
   },
   {
    "duration": 5,
    "start_time": "2025-03-29T07:13:38.695Z"
   },
   {
    "duration": 13,
    "start_time": "2025-03-29T07:13:43.646Z"
   },
   {
    "duration": 12,
    "start_time": "2025-03-29T07:13:54.014Z"
   },
   {
    "duration": 30,
    "start_time": "2025-03-29T07:14:58.277Z"
   },
   {
    "duration": 26,
    "start_time": "2025-03-29T07:15:04.632Z"
   },
   {
    "duration": 28,
    "start_time": "2025-03-29T07:15:20.746Z"
   },
   {
    "duration": 6,
    "start_time": "2025-03-29T07:16:04.887Z"
   },
   {
    "duration": 5,
    "start_time": "2025-03-29T07:16:25.873Z"
   },
   {
    "duration": 6,
    "start_time": "2025-03-29T07:16:30.833Z"
   },
   {
    "duration": 5,
    "start_time": "2025-03-29T07:16:32.592Z"
   },
   {
    "duration": 22,
    "start_time": "2025-03-29T07:17:06.046Z"
   },
   {
    "duration": 7,
    "start_time": "2025-03-29T07:17:47.628Z"
   },
   {
    "duration": 4,
    "start_time": "2025-03-29T07:18:03.923Z"
   },
   {
    "duration": 20,
    "start_time": "2025-03-29T07:18:20.190Z"
   },
   {
    "duration": 27,
    "start_time": "2025-03-29T07:18:52.683Z"
   },
   {
    "duration": 8,
    "start_time": "2025-03-29T07:19:05.493Z"
   },
   {
    "duration": 22,
    "start_time": "2025-03-29T07:19:40.304Z"
   },
   {
    "duration": 3,
    "start_time": "2025-03-29T07:19:54.841Z"
   },
   {
    "duration": 4,
    "start_time": "2025-03-29T07:20:03.013Z"
   },
   {
    "duration": 6,
    "start_time": "2025-03-29T07:20:16.465Z"
   },
   {
    "duration": 7,
    "start_time": "2025-03-29T07:20:22.638Z"
   },
   {
    "duration": 7,
    "start_time": "2025-03-29T07:20:29.014Z"
   },
   {
    "duration": 10,
    "start_time": "2025-03-29T07:20:59.267Z"
   },
   {
    "duration": 13,
    "start_time": "2025-03-29T07:21:10.366Z"
   },
   {
    "duration": 68,
    "start_time": "2025-03-29T07:21:21.189Z"
   },
   {
    "duration": 12,
    "start_time": "2025-03-29T07:21:31.805Z"
   },
   {
    "duration": 11,
    "start_time": "2025-03-29T07:21:37.257Z"
   },
   {
    "duration": 14,
    "start_time": "2025-03-29T07:22:23.310Z"
   },
   {
    "duration": 14,
    "start_time": "2025-03-29T07:24:28.436Z"
   },
   {
    "duration": 145491,
    "start_time": "2025-03-29T07:25:46.318Z"
   },
   {
    "duration": 64,
    "start_time": "2025-03-29T07:32:10.548Z"
   },
   {
    "duration": 1304,
    "start_time": "2025-03-29T07:35:15.680Z"
   },
   {
    "duration": 6,
    "start_time": "2025-03-29T07:35:20.891Z"
   },
   {
    "duration": 5,
    "start_time": "2025-03-29T07:35:26.592Z"
   },
   {
    "duration": 4,
    "start_time": "2025-03-29T07:35:29.063Z"
   },
   {
    "duration": 7,
    "start_time": "2025-03-29T07:35:37.201Z"
   },
   {
    "duration": 416689,
    "start_time": "2025-03-29T08:07:24.959Z"
   },
   {
    "duration": 12,
    "start_time": "2025-03-29T08:30:43.166Z"
   },
   {
    "duration": 3,
    "start_time": "2025-03-29T08:31:14.643Z"
   },
   {
    "duration": 5,
    "start_time": "2025-03-29T08:31:25.012Z"
   },
   {
    "duration": 3,
    "start_time": "2025-03-29T08:32:12.645Z"
   },
   {
    "duration": 5,
    "start_time": "2025-03-29T08:32:17.620Z"
   },
   {
    "duration": 4,
    "start_time": "2025-03-29T08:32:34.812Z"
   },
   {
    "duration": 3,
    "start_time": "2025-03-29T08:32:38.154Z"
   },
   {
    "duration": 4,
    "start_time": "2025-03-29T08:32:49.615Z"
   },
   {
    "duration": 4,
    "start_time": "2025-03-29T08:32:52.795Z"
   },
   {
    "duration": 4,
    "start_time": "2025-03-29T08:33:03.725Z"
   },
   {
    "duration": 10,
    "start_time": "2025-03-29T08:33:11.386Z"
   },
   {
    "duration": 11,
    "start_time": "2025-03-29T08:33:28.385Z"
   },
   {
    "duration": 3,
    "start_time": "2025-03-29T08:36:43.975Z"
   },
   {
    "duration": 3,
    "start_time": "2025-03-29T08:46:35.499Z"
   },
   {
    "duration": 3,
    "start_time": "2025-03-29T08:47:01.578Z"
   },
   {
    "duration": 3,
    "start_time": "2025-03-29T08:47:06.537Z"
   },
   {
    "duration": 19,
    "start_time": "2025-03-29T08:47:08.752Z"
   },
   {
    "duration": 199148,
    "start_time": "2025-03-29T08:47:30.434Z"
   },
   {
    "duration": 14,
    "start_time": "2025-03-29T08:51:23.332Z"
   },
   {
    "duration": 9,
    "start_time": "2025-03-29T08:51:41.451Z"
   },
   {
    "duration": 696,
    "start_time": "2025-03-29T08:51:45.811Z"
   },
   {
    "duration": 3,
    "start_time": "2025-03-29T08:51:51.189Z"
   },
   {
    "duration": 19,
    "start_time": "2025-03-29T08:51:54.385Z"
   },
   {
    "duration": 1527,
    "start_time": "2025-03-29T08:52:17.002Z"
   },
   {
    "duration": 30,
    "start_time": "2025-03-29T08:52:38.622Z"
   },
   {
    "duration": 7,
    "start_time": "2025-03-29T08:53:44.334Z"
   },
   {
    "duration": 3,
    "start_time": "2025-03-29T08:54:26.968Z"
   },
   {
    "duration": 3,
    "start_time": "2025-03-29T08:54:34.879Z"
   },
   {
    "duration": 6,
    "start_time": "2025-03-29T08:54:38.867Z"
   },
   {
    "duration": 25,
    "start_time": "2025-03-29T08:58:47.222Z"
   },
   {
    "duration": 3,
    "start_time": "2025-03-29T09:01:41.600Z"
   },
   {
    "duration": 3,
    "start_time": "2025-03-29T09:01:50.152Z"
   },
   {
    "duration": 3,
    "start_time": "2025-03-29T09:01:53.376Z"
   },
   {
    "duration": 4,
    "start_time": "2025-03-29T09:01:55.989Z"
   },
   {
    "duration": 3,
    "start_time": "2025-03-29T09:01:57.906Z"
   },
   {
    "duration": 246301,
    "start_time": "2025-03-29T09:02:01.764Z"
   },
   {
    "duration": 13,
    "start_time": "2025-03-29T09:08:30.607Z"
   },
   {
    "duration": 9,
    "start_time": "2025-03-29T09:08:37.758Z"
   },
   {
    "duration": 1518,
    "start_time": "2025-03-29T09:10:42.299Z"
   },
   {
    "duration": 4,
    "start_time": "2025-03-29T09:11:25.235Z"
   },
   {
    "duration": 4,
    "start_time": "2025-03-29T09:11:30.755Z"
   },
   {
    "duration": 2,
    "start_time": "2025-03-29T09:11:41.109Z"
   },
   {
    "duration": 7,
    "start_time": "2025-03-29T09:11:42.868Z"
   },
   {
    "duration": 3,
    "start_time": "2025-03-29T09:11:49.396Z"
   },
   {
    "duration": 2,
    "start_time": "2025-03-29T09:11:51.586Z"
   },
   {
    "duration": 7,
    "start_time": "2025-03-29T09:11:54.408Z"
   },
   {
    "duration": 3,
    "start_time": "2025-03-29T09:12:04.394Z"
   },
   {
    "duration": 4,
    "start_time": "2025-03-29T09:12:06.940Z"
   },
   {
    "duration": 3,
    "start_time": "2025-03-29T09:12:09.436Z"
   },
   {
    "duration": 4,
    "start_time": "2025-03-29T09:12:27.355Z"
   },
   {
    "duration": 3,
    "start_time": "2025-03-29T09:12:30.603Z"
   },
   {
    "duration": 156501,
    "start_time": "2025-03-29T09:12:32.950Z"
   },
   {
    "duration": 13,
    "start_time": "2025-03-29T09:15:09.453Z"
   },
   {
    "duration": 9,
    "start_time": "2025-03-29T09:15:22.366Z"
   },
   {
    "duration": 653,
    "start_time": "2025-03-29T09:15:25.076Z"
   },
   {
    "duration": 2,
    "start_time": "2025-03-29T09:15:35.100Z"
   },
   {
    "duration": 1560,
    "start_time": "2025-03-29T09:15:36.845Z"
   },
   {
    "duration": 4,
    "start_time": "2025-03-29T10:24:20.881Z"
   },
   {
    "duration": 6775,
    "start_time": "2025-03-29T10:24:33.117Z"
   },
   {
    "duration": 5,
    "start_time": "2025-03-29T10:25:25.326Z"
   },
   {
    "duration": 425135,
    "start_time": "2025-03-29T10:25:32.193Z"
   },
   {
    "duration": 13,
    "start_time": "2025-03-29T10:34:05.109Z"
   },
   {
    "duration": 15,
    "start_time": "2025-03-29T10:34:07.579Z"
   },
   {
    "duration": 16,
    "start_time": "2025-03-29T10:34:31.637Z"
   },
   {
    "duration": 3,
    "start_time": "2025-03-29T10:38:29.400Z"
   },
   {
    "duration": 3370,
    "start_time": "2025-03-29T10:38:44.885Z"
   },
   {
    "duration": 3015,
    "start_time": "2025-03-29T10:39:38.390Z"
   },
   {
    "duration": 33,
    "start_time": "2025-03-29T10:40:27.501Z"
   },
   {
    "duration": 4,
    "start_time": "2025-03-29T10:40:45.492Z"
   },
   {
    "duration": 3375,
    "start_time": "2025-03-29T10:40:50.230Z"
   },
   {
    "duration": 6,
    "start_time": "2025-03-29T10:41:33.805Z"
   },
   {
    "duration": 35,
    "start_time": "2025-03-29T10:41:38.774Z"
   },
   {
    "duration": 4,
    "start_time": "2025-03-29T11:15:28.463Z"
   },
   {
    "duration": 3,
    "start_time": "2025-03-29T11:15:38.663Z"
   },
   {
    "duration": 11,
    "start_time": "2025-03-29T11:29:11.845Z"
   },
   {
    "duration": 5,
    "start_time": "2025-03-29T11:29:18.575Z"
   },
   {
    "duration": 8,
    "start_time": "2025-03-29T11:29:27.763Z"
   },
   {
    "duration": 9,
    "start_time": "2025-03-29T11:32:19.701Z"
   },
   {
    "duration": 456,
    "start_time": "2025-03-29T11:38:46.757Z"
   },
   {
    "duration": 3,
    "start_time": "2025-03-29T11:39:26.377Z"
   },
   {
    "duration": 3,
    "start_time": "2025-03-29T11:39:34.705Z"
   },
   {
    "duration": 3,
    "start_time": "2025-03-29T11:39:39.956Z"
   },
   {
    "duration": 62,
    "start_time": "2025-03-29T11:39:41.863Z"
   },
   {
    "duration": 4,
    "start_time": "2025-03-29T11:40:39.255Z"
   },
   {
    "duration": 57,
    "start_time": "2025-03-29T11:41:16.028Z"
   },
   {
    "duration": 6547,
    "start_time": "2025-03-29T11:41:58.535Z"
   },
   {
    "duration": 11,
    "start_time": "2025-03-29T11:42:14.814Z"
   },
   {
    "duration": 13,
    "start_time": "2025-03-29T11:42:37.224Z"
   },
   {
    "duration": 577,
    "start_time": "2025-03-29T12:02:59.571Z"
   },
   {
    "duration": 350,
    "start_time": "2025-03-29T12:03:33.370Z"
   },
   {
    "duration": 2,
    "start_time": "2025-03-29T12:08:14.798Z"
   },
   {
    "duration": 3,
    "start_time": "2025-03-29T12:08:15.932Z"
   },
   {
    "duration": 3,
    "start_time": "2025-03-29T12:08:17.741Z"
   },
   {
    "duration": 6634,
    "start_time": "2025-03-29T12:08:19.444Z"
   },
   {
    "duration": 13,
    "start_time": "2025-03-29T12:08:46.019Z"
   },
   {
    "duration": 4,
    "start_time": "2025-03-29T12:10:22.043Z"
   },
   {
    "duration": 2,
    "start_time": "2025-03-29T12:10:24.045Z"
   },
   {
    "duration": 364637,
    "start_time": "2025-03-29T12:10:26.147Z"
   },
   {
    "duration": 29,
    "start_time": "2025-03-29T12:16:30.785Z"
   },
   {
    "duration": 4,
    "start_time": "2025-03-29T12:28:46.579Z"
   },
   {
    "duration": 3,
    "start_time": "2025-03-29T12:28:48.642Z"
   },
   {
    "duration": 6265,
    "start_time": "2025-03-29T12:28:50.656Z"
   },
   {
    "duration": 12,
    "start_time": "2025-03-29T12:29:09.658Z"
   },
   {
    "duration": 3,
    "start_time": "2025-03-29T12:29:25.970Z"
   },
   {
    "duration": 3,
    "start_time": "2025-03-29T12:30:47.145Z"
   },
   {
    "duration": 2,
    "start_time": "2025-03-29T12:30:50.526Z"
   },
   {
    "duration": 11715,
    "start_time": "2025-03-29T12:30:52.448Z"
   },
   {
    "duration": 10,
    "start_time": "2025-03-29T12:31:04.165Z"
   },
   {
    "duration": 4,
    "start_time": "2025-03-29T12:31:44.041Z"
   },
   {
    "duration": 3,
    "start_time": "2025-03-29T12:31:45.553Z"
   },
   {
    "duration": 9721,
    "start_time": "2025-03-29T12:31:47.239Z"
   },
   {
    "duration": 12,
    "start_time": "2025-03-29T12:32:13.969Z"
   },
   {
    "duration": 4,
    "start_time": "2025-03-29T12:32:50.502Z"
   },
   {
    "duration": 3,
    "start_time": "2025-03-29T12:32:52.620Z"
   },
   {
    "duration": 14449,
    "start_time": "2025-03-29T12:32:54.823Z"
   },
   {
    "duration": 10,
    "start_time": "2025-03-29T12:33:09.274Z"
   },
   {
    "duration": 3,
    "start_time": "2025-03-29T12:33:25.229Z"
   },
   {
    "duration": 3,
    "start_time": "2025-03-29T12:33:26.818Z"
   },
   {
    "duration": 13231,
    "start_time": "2025-03-29T12:33:28.930Z"
   },
   {
    "duration": 11,
    "start_time": "2025-03-29T12:33:42.163Z"
   },
   {
    "duration": 11,
    "start_time": "2025-03-29T12:33:53.414Z"
   },
   {
    "duration": 3698,
    "start_time": "2025-03-29T12:39:01.540Z"
   },
   {
    "duration": 9,
    "start_time": "2025-03-29T12:39:57.602Z"
   },
   {
    "duration": 840,
    "start_time": "2025-03-29T12:39:59.666Z"
   },
   {
    "duration": 39,
    "start_time": "2025-03-29T12:40:01.576Z"
   },
   {
    "duration": 236,
    "start_time": "2025-03-29T12:40:20.327Z"
   },
   {
    "duration": 128,
    "start_time": "2025-03-29T12:40:24.786Z"
   },
   {
    "duration": 91,
    "start_time": "2025-03-29T12:40:27.219Z"
   },
   {
    "duration": 152,
    "start_time": "2025-03-29T12:40:29.584Z"
   },
   {
    "duration": 15,
    "start_time": "2025-03-29T12:40:31.873Z"
   },
   {
    "duration": 209,
    "start_time": "2025-03-29T12:40:33.446Z"
   },
   {
    "duration": 173,
    "start_time": "2025-03-29T12:40:36.112Z"
   },
   {
    "duration": 6,
    "start_time": "2025-03-29T12:40:38.123Z"
   },
   {
    "duration": 4,
    "start_time": "2025-03-29T12:40:45.132Z"
   },
   {
    "duration": 57,
    "start_time": "2025-03-29T12:40:47.992Z"
   },
   {
    "duration": 16,
    "start_time": "2025-03-29T12:40:50.187Z"
   },
   {
    "duration": 452,
    "start_time": "2025-03-29T12:41:58.645Z"
   },
   {
    "duration": 4,
    "start_time": "2025-03-29T12:42:40.993Z"
   },
   {
    "duration": 27,
    "start_time": "2025-03-29T12:42:43.751Z"
   },
   {
    "duration": 66,
    "start_time": "2025-03-29T12:43:07.999Z"
   },
   {
    "duration": 393912,
    "start_time": "2025-03-29T12:48:24.757Z"
   },
   {
    "duration": 126161,
    "start_time": "2025-03-29T12:54:58.671Z"
   },
   {
    "duration": 9,
    "start_time": "2025-03-29T12:57:04.834Z"
   },
   {
    "duration": 2,
    "start_time": "2025-03-29T12:58:10.210Z"
   },
   {
    "duration": 2,
    "start_time": "2025-03-29T12:59:31.315Z"
   },
   {
    "duration": 4,
    "start_time": "2025-03-29T12:59:58.227Z"
   },
   {
    "duration": 3,
    "start_time": "2025-03-29T13:01:05.552Z"
   },
   {
    "duration": 2,
    "start_time": "2025-03-29T13:01:08.340Z"
   },
   {
    "duration": 212933,
    "start_time": "2025-03-29T13:01:13.320Z"
   },
   {
    "duration": 12,
    "start_time": "2025-03-29T13:04:46.254Z"
   },
   {
    "duration": 3,
    "start_time": "2025-03-29T13:22:00.901Z"
   },
   {
    "duration": 3,
    "start_time": "2025-03-29T13:22:03.112Z"
   },
   {
    "duration": 119456,
    "start_time": "2025-03-29T13:22:05.538Z"
   },
   {
    "duration": 16,
    "start_time": "2025-03-29T13:24:04.995Z"
   },
   {
    "duration": 4,
    "start_time": "2025-03-29T13:26:09.841Z"
   },
   {
    "duration": 2,
    "start_time": "2025-03-29T13:26:12.116Z"
   },
   {
    "duration": 86683,
    "start_time": "2025-03-29T13:26:15.465Z"
   },
   {
    "duration": 10,
    "start_time": "2025-03-29T13:27:42.150Z"
   },
   {
    "duration": 4,
    "start_time": "2025-03-29T13:28:13.583Z"
   },
   {
    "duration": 3,
    "start_time": "2025-03-29T13:28:15.937Z"
   },
   {
    "duration": 693513,
    "start_time": "2025-03-29T13:28:19.993Z"
   },
   {
    "duration": 10,
    "start_time": "2025-03-29T13:39:53.508Z"
   },
   {
    "duration": 4,
    "start_time": "2025-03-29T13:41:28.152Z"
   },
   {
    "duration": 3,
    "start_time": "2025-03-29T13:41:30.872Z"
   },
   {
    "duration": 658335,
    "start_time": "2025-03-29T13:41:33.663Z"
   },
   {
    "duration": 13,
    "start_time": "2025-03-29T13:52:32.000Z"
   },
   {
    "duration": 9,
    "start_time": "2025-03-29T13:53:11.593Z"
   },
   {
    "duration": 692,
    "start_time": "2025-03-29T13:53:38.002Z"
   },
   {
    "duration": 3,
    "start_time": "2025-03-29T13:54:02.834Z"
   },
   {
    "duration": 1359,
    "start_time": "2025-03-29T13:54:04.880Z"
   },
   {
    "duration": 28,
    "start_time": "2025-03-29T13:54:13.046Z"
   },
   {
    "duration": 11,
    "start_time": "2025-03-29T13:56:20.695Z"
   },
   {
    "duration": 4,
    "start_time": "2025-03-29T13:56:23.141Z"
   },
   {
    "duration": 9,
    "start_time": "2025-03-29T13:56:25.566Z"
   },
   {
    "duration": 693,
    "start_time": "2025-03-29T13:57:01.701Z"
   },
   {
    "duration": 3,
    "start_time": "2025-03-29T13:57:14.685Z"
   },
   {
    "duration": 3,
    "start_time": "2025-03-29T13:57:17.444Z"
   },
   {
    "duration": 3,
    "start_time": "2025-03-29T13:57:20.222Z"
   },
   {
    "duration": 13626,
    "start_time": "2025-03-29T13:57:22.020Z"
   },
   {
    "duration": 11,
    "start_time": "2025-03-29T13:57:39.145Z"
   },
   {
    "duration": 3,
    "start_time": "2025-03-29T13:58:48.528Z"
   },
   {
    "duration": 2,
    "start_time": "2025-03-29T13:58:52.522Z"
   },
   {
    "duration": 13804,
    "start_time": "2025-03-29T13:58:54.461Z"
   },
   {
    "duration": 11,
    "start_time": "2025-03-29T13:59:08.266Z"
   },
   {
    "duration": 4,
    "start_time": "2025-03-29T13:59:29.265Z"
   },
   {
    "duration": 2,
    "start_time": "2025-03-29T13:59:31.140Z"
   },
   {
    "duration": 13538,
    "start_time": "2025-03-29T13:59:33.635Z"
   },
   {
    "duration": 10,
    "start_time": "2025-03-29T13:59:47.175Z"
   },
   {
    "duration": 13,
    "start_time": "2025-03-29T13:59:54.171Z"
   },
   {
    "duration": 3609,
    "start_time": "2025-03-29T14:00:45.055Z"
   },
   {
    "duration": 9,
    "start_time": "2025-03-29T14:00:48.667Z"
   },
   {
    "duration": 801,
    "start_time": "2025-03-29T14:00:48.677Z"
   },
   {
    "duration": 49,
    "start_time": "2025-03-29T14:00:49.480Z"
   },
   {
    "duration": 251,
    "start_time": "2025-03-29T14:00:49.531Z"
   },
   {
    "duration": 168,
    "start_time": "2025-03-29T14:00:49.784Z"
   },
   {
    "duration": 95,
    "start_time": "2025-03-29T14:00:49.953Z"
   },
   {
    "duration": 161,
    "start_time": "2025-03-29T14:00:50.050Z"
   },
   {
    "duration": 58,
    "start_time": "2025-03-29T14:00:50.212Z"
   },
   {
    "duration": 217,
    "start_time": "2025-03-29T14:00:50.272Z"
   },
   {
    "duration": 178,
    "start_time": "2025-03-29T14:00:50.490Z"
   },
   {
    "duration": 10,
    "start_time": "2025-03-29T14:00:50.670Z"
   },
   {
    "duration": 13,
    "start_time": "2025-03-29T14:00:50.682Z"
   },
   {
    "duration": 91,
    "start_time": "2025-03-29T14:00:50.703Z"
   },
   {
    "duration": 10,
    "start_time": "2025-03-29T14:00:50.797Z"
   },
   {
    "duration": 470,
    "start_time": "2025-03-29T14:00:50.808Z"
   },
   {
    "duration": 4,
    "start_time": "2025-03-29T14:00:51.280Z"
   },
   {
    "duration": 147,
    "start_time": "2025-03-29T14:00:51.286Z"
   },
   {
    "duration": 385850,
    "start_time": "2025-03-29T14:00:51.435Z"
   },
   {
    "duration": 123411,
    "start_time": "2025-03-29T14:07:17.287Z"
   },
   {
    "duration": 9,
    "start_time": "2025-03-29T14:09:20.703Z"
   },
   {
    "duration": 12,
    "start_time": "2025-03-29T14:09:20.713Z"
   },
   {
    "duration": 6,
    "start_time": "2025-03-29T14:09:20.726Z"
   },
   {
    "duration": 3,
    "start_time": "2025-03-29T14:09:20.733Z"
   },
   {
    "duration": 8,
    "start_time": "2025-03-29T14:09:20.738Z"
   },
   {
    "duration": 2,
    "start_time": "2025-03-29T14:09:20.747Z"
   },
   {
    "duration": 664554,
    "start_time": "2025-03-29T14:09:20.750Z"
   },
   {
    "duration": 10,
    "start_time": "2025-03-29T14:20:25.306Z"
   },
   {
    "duration": 11,
    "start_time": "2025-03-29T14:20:25.318Z"
   },
   {
    "duration": 840,
    "start_time": "2025-03-29T14:20:25.330Z"
   },
   {
    "duration": 2,
    "start_time": "2025-03-29T14:20:26.171Z"
   },
   {
    "duration": 1379,
    "start_time": "2025-03-29T14:20:26.175Z"
   },
   {
    "duration": 34,
    "start_time": "2025-03-29T14:20:27.556Z"
   },
   {
    "duration": 18,
    "start_time": "2025-03-29T14:20:27.592Z"
   },
   {
    "duration": 8,
    "start_time": "2025-03-29T14:20:27.612Z"
   },
   {
    "duration": 7,
    "start_time": "2025-03-29T14:20:27.622Z"
   },
   {
    "duration": 360,
    "start_time": "2025-03-29T14:20:27.630Z"
   },
   {
    "duration": 3,
    "start_time": "2025-03-29T14:20:27.991Z"
   },
   {
    "duration": 12,
    "start_time": "2025-03-29T14:20:27.995Z"
   },
   {
    "duration": 4,
    "start_time": "2025-03-29T14:20:28.008Z"
   },
   {
    "duration": 13531,
    "start_time": "2025-03-29T14:20:28.015Z"
   },
   {
    "duration": 11,
    "start_time": "2025-03-29T14:20:41.548Z"
   },
   {
    "duration": 45,
    "start_time": "2025-03-29T14:20:41.560Z"
   },
   {
    "duration": 70,
    "start_time": "2025-05-17T11:47:59.329Z"
   }
  ],
  "kernelspec": {
   "display_name": "Python 3 (ipykernel)",
   "language": "python",
   "name": "python3"
  },
  "language_info": {
   "codemirror_mode": {
    "name": "ipython",
    "version": 3
   },
   "file_extension": ".py",
   "mimetype": "text/x-python",
   "name": "python",
   "nbconvert_exporter": "python",
   "pygments_lexer": "ipython3",
   "version": "3.9.5"
  },
  "toc": {
   "base_numbering": 1,
   "nav_menu": {},
   "number_sections": true,
   "sideBar": true,
   "skip_h1_title": true,
   "title_cell": "Содержание",
   "title_sidebar": "Contents",
   "toc_cell": true,
   "toc_position": {
    "height": "450px",
    "left": "71px",
    "top": "145.141px",
    "width": "246px"
   },
   "toc_section_display": true,
   "toc_window_display": false
  }
 },
 "nbformat": 4,
 "nbformat_minor": 2
}
