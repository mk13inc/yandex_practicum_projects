{
 "cells": [
  {
   "cell_type": "markdown",
   "id": "386f2ae7",
   "metadata": {
    "deletable": false,
    "editable": false,
    "id": "386f2ae7"
   },
   "source": [
    "# Исследование надежности заемщиков\n"
   ]
  },
  {
   "cell_type": "markdown",
   "id": "ffe86f65",
   "metadata": {
    "deletable": false,
    "editable": false,
    "id": "ffe86f65"
   },
   "source": [
    "Во второй части проекта вы выполните шаги 3 и 4. Их вручную проверит ревьюер.\n",
    "Чтобы вам не пришлось писать код заново для шагов 1 и 2, мы добавили авторские решения в ячейки с кодом. \n",
    "\n"
   ]
  },
  {
   "cell_type": "markdown",
   "id": "c9786eac",
   "metadata": {},
   "source": [
    "<a id=\"point0\"></a>\n",
    "\n",
    "**Оглавление:**\n",
    "* [1 Общая информация о данных](#Откройте-таблицу-и-изучите-общую-информацию-о-данных)\n",
    "* [2 Предобработка данных](#Предобработка-данных)\n",
    "  * [2.1 Удаление пропусков](#Удаление-пропусков)\n",
    "  * [2.2 Обработка аномальных значений](#Обработка-аномальных-значений)\n",
    "  * [2.3 Удаление пропусков (продолжение)](#Удаление-пропусков-(продолжение))\n",
    "  * [2.4 Изменение типов данных](#Изменение-типов-данных)\n",
    "  * [2.5 Обработка дубликатов](#Обработка-дубликатов)\n",
    "  * [2.6 Категоризация данных](#Категоризация-данных)\n",
    "  * [2.7 Исследование данных и ответы на вопросы](#Шаг-3.-Исследуйте-данные-и-ответьте-на-вопросы)\n",
    "    * [2.7.1 Зависимость между количеством детей и возвратом кредита в срок](#3.1-Есть-ли-зависимость-между-количеством-детей-и-возвратом-кредита-в-срок?)\n",
    "    * [2.7.2 Зависимость между семейным положением и возвратом кредита в срок](#3.2-Есть-ли-зависимость-между-семейным-положением-и-возвратом-кредита-в-срок?)\n",
    "    * [2.7.3 Зависимость между уровнем дохода и возвратом кредита в срок](#3.3-Есть-ли-зависимость-между-уровнем-дохода-и-возвратом-кредита-в-срок?)\n",
    "    * [2.7.4 Как разные цели кредита влияют на его возврат в срок](#3.4-Как-разные-цели-кредита-влияют-на-его-возврат-в-срок?)\n",
    "    * [2.7.5 Возможные причины появления пропусков в исходных данных.](#3.5-Приведите-возможные-причины-появления-пропусков-в-исходных-данных.)\n",
    "    * [2.7.6 Объясните, почему заполнить пропуски медианным значением — лучшее решение для количественных переменных.](#3.6-Объясните,-почему-заполнить-пропуски-медианным-значением-—-лучшее-решение-для-количественных-переменных.)\n",
    "  * [2.8 Общий вывод.](#Шаг-4:-общий-вывод.)"
   ]
  },
  {
   "cell_type": "markdown",
   "id": "26613308",
   "metadata": {
    "deletable": false,
    "editable": false,
    "id": "26613308"
   },
   "source": [
    "## Откройте таблицу и изучите общую информацию о данных"
   ]
  },
  {
   "cell_type": "markdown",
   "id": "3c9f838e",
   "metadata": {
    "deletable": false,
    "editable": false,
    "id": "3c9f838e"
   },
   "source": [
    "**Задание 1. Импортируйте библиотеку pandas. Считайте данные из csv-файла в датафрейм и сохраните в переменную `data`. Путь к файлу:**\n",
    "\n",
    "`/datasets/data.csv`"
   ]
  },
  {
   "cell_type": "code",
   "execution_count": 1,
   "id": "77a68a90",
   "metadata": {
    "deletable": false,
    "id": "77a68a90"
   },
   "outputs": [],
   "source": [
    "import pandas as pd\n",
    "\n",
    "data = pd.read_csv('/datasets/data.csv')"
   ]
  },
  {
   "cell_type": "markdown",
   "id": "45365635",
   "metadata": {
    "deletable": false,
    "editable": false,
    "id": "45365635"
   },
   "source": [
    "**Задание 2. Выведите первые 20 строчек датафрейма `data` на экран.**"
   ]
  },
  {
   "cell_type": "code",
   "execution_count": 2,
   "id": "b0451a9a",
   "metadata": {
    "deletable": false,
    "id": "b0451a9a",
    "outputId": "1a8f3ef2-d323-4ec2-ddf7-89670b5944c4"
   },
   "outputs": [
    {
     "data": {
      "text/html": [
       "<div>\n",
       "<style scoped>\n",
       "    .dataframe tbody tr th:only-of-type {\n",
       "        vertical-align: middle;\n",
       "    }\n",
       "\n",
       "    .dataframe tbody tr th {\n",
       "        vertical-align: top;\n",
       "    }\n",
       "\n",
       "    .dataframe thead th {\n",
       "        text-align: right;\n",
       "    }\n",
       "</style>\n",
       "<table border=\"1\" class=\"dataframe\">\n",
       "  <thead>\n",
       "    <tr style=\"text-align: right;\">\n",
       "      <th></th>\n",
       "      <th>children</th>\n",
       "      <th>days_employed</th>\n",
       "      <th>dob_years</th>\n",
       "      <th>education</th>\n",
       "      <th>education_id</th>\n",
       "      <th>family_status</th>\n",
       "      <th>family_status_id</th>\n",
       "      <th>gender</th>\n",
       "      <th>income_type</th>\n",
       "      <th>debt</th>\n",
       "      <th>total_income</th>\n",
       "      <th>purpose</th>\n",
       "    </tr>\n",
       "  </thead>\n",
       "  <tbody>\n",
       "    <tr>\n",
       "      <th>0</th>\n",
       "      <td>1</td>\n",
       "      <td>-8437.673028</td>\n",
       "      <td>42</td>\n",
       "      <td>высшее</td>\n",
       "      <td>0</td>\n",
       "      <td>женат / замужем</td>\n",
       "      <td>0</td>\n",
       "      <td>F</td>\n",
       "      <td>сотрудник</td>\n",
       "      <td>0</td>\n",
       "      <td>253875.639453</td>\n",
       "      <td>покупка жилья</td>\n",
       "    </tr>\n",
       "    <tr>\n",
       "      <th>1</th>\n",
       "      <td>1</td>\n",
       "      <td>-4024.803754</td>\n",
       "      <td>36</td>\n",
       "      <td>среднее</td>\n",
       "      <td>1</td>\n",
       "      <td>женат / замужем</td>\n",
       "      <td>0</td>\n",
       "      <td>F</td>\n",
       "      <td>сотрудник</td>\n",
       "      <td>0</td>\n",
       "      <td>112080.014102</td>\n",
       "      <td>приобретение автомобиля</td>\n",
       "    </tr>\n",
       "    <tr>\n",
       "      <th>2</th>\n",
       "      <td>0</td>\n",
       "      <td>-5623.422610</td>\n",
       "      <td>33</td>\n",
       "      <td>Среднее</td>\n",
       "      <td>1</td>\n",
       "      <td>женат / замужем</td>\n",
       "      <td>0</td>\n",
       "      <td>M</td>\n",
       "      <td>сотрудник</td>\n",
       "      <td>0</td>\n",
       "      <td>145885.952297</td>\n",
       "      <td>покупка жилья</td>\n",
       "    </tr>\n",
       "    <tr>\n",
       "      <th>3</th>\n",
       "      <td>3</td>\n",
       "      <td>-4124.747207</td>\n",
       "      <td>32</td>\n",
       "      <td>среднее</td>\n",
       "      <td>1</td>\n",
       "      <td>женат / замужем</td>\n",
       "      <td>0</td>\n",
       "      <td>M</td>\n",
       "      <td>сотрудник</td>\n",
       "      <td>0</td>\n",
       "      <td>267628.550329</td>\n",
       "      <td>дополнительное образование</td>\n",
       "    </tr>\n",
       "    <tr>\n",
       "      <th>4</th>\n",
       "      <td>0</td>\n",
       "      <td>340266.072047</td>\n",
       "      <td>53</td>\n",
       "      <td>среднее</td>\n",
       "      <td>1</td>\n",
       "      <td>гражданский брак</td>\n",
       "      <td>1</td>\n",
       "      <td>F</td>\n",
       "      <td>пенсионер</td>\n",
       "      <td>0</td>\n",
       "      <td>158616.077870</td>\n",
       "      <td>сыграть свадьбу</td>\n",
       "    </tr>\n",
       "    <tr>\n",
       "      <th>5</th>\n",
       "      <td>0</td>\n",
       "      <td>-926.185831</td>\n",
       "      <td>27</td>\n",
       "      <td>высшее</td>\n",
       "      <td>0</td>\n",
       "      <td>гражданский брак</td>\n",
       "      <td>1</td>\n",
       "      <td>M</td>\n",
       "      <td>компаньон</td>\n",
       "      <td>0</td>\n",
       "      <td>255763.565419</td>\n",
       "      <td>покупка жилья</td>\n",
       "    </tr>\n",
       "    <tr>\n",
       "      <th>6</th>\n",
       "      <td>0</td>\n",
       "      <td>-2879.202052</td>\n",
       "      <td>43</td>\n",
       "      <td>высшее</td>\n",
       "      <td>0</td>\n",
       "      <td>женат / замужем</td>\n",
       "      <td>0</td>\n",
       "      <td>F</td>\n",
       "      <td>компаньон</td>\n",
       "      <td>0</td>\n",
       "      <td>240525.971920</td>\n",
       "      <td>операции с жильем</td>\n",
       "    </tr>\n",
       "    <tr>\n",
       "      <th>7</th>\n",
       "      <td>0</td>\n",
       "      <td>-152.779569</td>\n",
       "      <td>50</td>\n",
       "      <td>СРЕДНЕЕ</td>\n",
       "      <td>1</td>\n",
       "      <td>женат / замужем</td>\n",
       "      <td>0</td>\n",
       "      <td>M</td>\n",
       "      <td>сотрудник</td>\n",
       "      <td>0</td>\n",
       "      <td>135823.934197</td>\n",
       "      <td>образование</td>\n",
       "    </tr>\n",
       "    <tr>\n",
       "      <th>8</th>\n",
       "      <td>2</td>\n",
       "      <td>-6929.865299</td>\n",
       "      <td>35</td>\n",
       "      <td>ВЫСШЕЕ</td>\n",
       "      <td>0</td>\n",
       "      <td>гражданский брак</td>\n",
       "      <td>1</td>\n",
       "      <td>F</td>\n",
       "      <td>сотрудник</td>\n",
       "      <td>0</td>\n",
       "      <td>95856.832424</td>\n",
       "      <td>на проведение свадьбы</td>\n",
       "    </tr>\n",
       "    <tr>\n",
       "      <th>9</th>\n",
       "      <td>0</td>\n",
       "      <td>-2188.756445</td>\n",
       "      <td>41</td>\n",
       "      <td>среднее</td>\n",
       "      <td>1</td>\n",
       "      <td>женат / замужем</td>\n",
       "      <td>0</td>\n",
       "      <td>M</td>\n",
       "      <td>сотрудник</td>\n",
       "      <td>0</td>\n",
       "      <td>144425.938277</td>\n",
       "      <td>покупка жилья для семьи</td>\n",
       "    </tr>\n",
       "    <tr>\n",
       "      <th>10</th>\n",
       "      <td>2</td>\n",
       "      <td>-4171.483647</td>\n",
       "      <td>36</td>\n",
       "      <td>высшее</td>\n",
       "      <td>0</td>\n",
       "      <td>женат / замужем</td>\n",
       "      <td>0</td>\n",
       "      <td>M</td>\n",
       "      <td>компаньон</td>\n",
       "      <td>0</td>\n",
       "      <td>113943.491460</td>\n",
       "      <td>покупка недвижимости</td>\n",
       "    </tr>\n",
       "    <tr>\n",
       "      <th>11</th>\n",
       "      <td>0</td>\n",
       "      <td>-792.701887</td>\n",
       "      <td>40</td>\n",
       "      <td>среднее</td>\n",
       "      <td>1</td>\n",
       "      <td>женат / замужем</td>\n",
       "      <td>0</td>\n",
       "      <td>F</td>\n",
       "      <td>сотрудник</td>\n",
       "      <td>0</td>\n",
       "      <td>77069.234271</td>\n",
       "      <td>покупка коммерческой недвижимости</td>\n",
       "    </tr>\n",
       "    <tr>\n",
       "      <th>12</th>\n",
       "      <td>0</td>\n",
       "      <td>NaN</td>\n",
       "      <td>65</td>\n",
       "      <td>среднее</td>\n",
       "      <td>1</td>\n",
       "      <td>гражданский брак</td>\n",
       "      <td>1</td>\n",
       "      <td>M</td>\n",
       "      <td>пенсионер</td>\n",
       "      <td>0</td>\n",
       "      <td>NaN</td>\n",
       "      <td>сыграть свадьбу</td>\n",
       "    </tr>\n",
       "    <tr>\n",
       "      <th>13</th>\n",
       "      <td>0</td>\n",
       "      <td>-1846.641941</td>\n",
       "      <td>54</td>\n",
       "      <td>неоконченное высшее</td>\n",
       "      <td>2</td>\n",
       "      <td>женат / замужем</td>\n",
       "      <td>0</td>\n",
       "      <td>F</td>\n",
       "      <td>сотрудник</td>\n",
       "      <td>0</td>\n",
       "      <td>130458.228857</td>\n",
       "      <td>приобретение автомобиля</td>\n",
       "    </tr>\n",
       "    <tr>\n",
       "      <th>14</th>\n",
       "      <td>0</td>\n",
       "      <td>-1844.956182</td>\n",
       "      <td>56</td>\n",
       "      <td>высшее</td>\n",
       "      <td>0</td>\n",
       "      <td>гражданский брак</td>\n",
       "      <td>1</td>\n",
       "      <td>F</td>\n",
       "      <td>компаньон</td>\n",
       "      <td>1</td>\n",
       "      <td>165127.911772</td>\n",
       "      <td>покупка жилой недвижимости</td>\n",
       "    </tr>\n",
       "    <tr>\n",
       "      <th>15</th>\n",
       "      <td>1</td>\n",
       "      <td>-972.364419</td>\n",
       "      <td>26</td>\n",
       "      <td>среднее</td>\n",
       "      <td>1</td>\n",
       "      <td>женат / замужем</td>\n",
       "      <td>0</td>\n",
       "      <td>F</td>\n",
       "      <td>сотрудник</td>\n",
       "      <td>0</td>\n",
       "      <td>116820.904450</td>\n",
       "      <td>строительство собственной недвижимости</td>\n",
       "    </tr>\n",
       "    <tr>\n",
       "      <th>16</th>\n",
       "      <td>0</td>\n",
       "      <td>-1719.934226</td>\n",
       "      <td>35</td>\n",
       "      <td>среднее</td>\n",
       "      <td>1</td>\n",
       "      <td>женат / замужем</td>\n",
       "      <td>0</td>\n",
       "      <td>F</td>\n",
       "      <td>сотрудник</td>\n",
       "      <td>0</td>\n",
       "      <td>289202.704229</td>\n",
       "      <td>недвижимость</td>\n",
       "    </tr>\n",
       "    <tr>\n",
       "      <th>17</th>\n",
       "      <td>0</td>\n",
       "      <td>-2369.999720</td>\n",
       "      <td>33</td>\n",
       "      <td>высшее</td>\n",
       "      <td>0</td>\n",
       "      <td>гражданский брак</td>\n",
       "      <td>1</td>\n",
       "      <td>M</td>\n",
       "      <td>сотрудник</td>\n",
       "      <td>0</td>\n",
       "      <td>90410.586745</td>\n",
       "      <td>строительство недвижимости</td>\n",
       "    </tr>\n",
       "    <tr>\n",
       "      <th>18</th>\n",
       "      <td>0</td>\n",
       "      <td>400281.136913</td>\n",
       "      <td>53</td>\n",
       "      <td>среднее</td>\n",
       "      <td>1</td>\n",
       "      <td>вдовец / вдова</td>\n",
       "      <td>2</td>\n",
       "      <td>F</td>\n",
       "      <td>пенсионер</td>\n",
       "      <td>0</td>\n",
       "      <td>56823.777243</td>\n",
       "      <td>на покупку подержанного автомобиля</td>\n",
       "    </tr>\n",
       "    <tr>\n",
       "      <th>19</th>\n",
       "      <td>0</td>\n",
       "      <td>-10038.818549</td>\n",
       "      <td>48</td>\n",
       "      <td>СРЕДНЕЕ</td>\n",
       "      <td>1</td>\n",
       "      <td>в разводе</td>\n",
       "      <td>3</td>\n",
       "      <td>F</td>\n",
       "      <td>сотрудник</td>\n",
       "      <td>0</td>\n",
       "      <td>242831.107982</td>\n",
       "      <td>на покупку своего автомобиля</td>\n",
       "    </tr>\n",
       "  </tbody>\n",
       "</table>\n",
       "</div>"
      ],
      "text/plain": [
       "    children  days_employed  dob_years            education  education_id  \\\n",
       "0          1   -8437.673028         42               высшее             0   \n",
       "1          1   -4024.803754         36              среднее             1   \n",
       "2          0   -5623.422610         33              Среднее             1   \n",
       "3          3   -4124.747207         32              среднее             1   \n",
       "4          0  340266.072047         53              среднее             1   \n",
       "5          0    -926.185831         27               высшее             0   \n",
       "6          0   -2879.202052         43               высшее             0   \n",
       "7          0    -152.779569         50              СРЕДНЕЕ             1   \n",
       "8          2   -6929.865299         35               ВЫСШЕЕ             0   \n",
       "9          0   -2188.756445         41              среднее             1   \n",
       "10         2   -4171.483647         36               высшее             0   \n",
       "11         0    -792.701887         40              среднее             1   \n",
       "12         0            NaN         65              среднее             1   \n",
       "13         0   -1846.641941         54  неоконченное высшее             2   \n",
       "14         0   -1844.956182         56               высшее             0   \n",
       "15         1    -972.364419         26              среднее             1   \n",
       "16         0   -1719.934226         35              среднее             1   \n",
       "17         0   -2369.999720         33               высшее             0   \n",
       "18         0  400281.136913         53              среднее             1   \n",
       "19         0  -10038.818549         48              СРЕДНЕЕ             1   \n",
       "\n",
       "       family_status  family_status_id gender income_type  debt  \\\n",
       "0    женат / замужем                 0      F   сотрудник     0   \n",
       "1    женат / замужем                 0      F   сотрудник     0   \n",
       "2    женат / замужем                 0      M   сотрудник     0   \n",
       "3    женат / замужем                 0      M   сотрудник     0   \n",
       "4   гражданский брак                 1      F   пенсионер     0   \n",
       "5   гражданский брак                 1      M   компаньон     0   \n",
       "6    женат / замужем                 0      F   компаньон     0   \n",
       "7    женат / замужем                 0      M   сотрудник     0   \n",
       "8   гражданский брак                 1      F   сотрудник     0   \n",
       "9    женат / замужем                 0      M   сотрудник     0   \n",
       "10   женат / замужем                 0      M   компаньон     0   \n",
       "11   женат / замужем                 0      F   сотрудник     0   \n",
       "12  гражданский брак                 1      M   пенсионер     0   \n",
       "13   женат / замужем                 0      F   сотрудник     0   \n",
       "14  гражданский брак                 1      F   компаньон     1   \n",
       "15   женат / замужем                 0      F   сотрудник     0   \n",
       "16   женат / замужем                 0      F   сотрудник     0   \n",
       "17  гражданский брак                 1      M   сотрудник     0   \n",
       "18    вдовец / вдова                 2      F   пенсионер     0   \n",
       "19         в разводе                 3      F   сотрудник     0   \n",
       "\n",
       "     total_income                                 purpose  \n",
       "0   253875.639453                           покупка жилья  \n",
       "1   112080.014102                 приобретение автомобиля  \n",
       "2   145885.952297                           покупка жилья  \n",
       "3   267628.550329              дополнительное образование  \n",
       "4   158616.077870                         сыграть свадьбу  \n",
       "5   255763.565419                           покупка жилья  \n",
       "6   240525.971920                       операции с жильем  \n",
       "7   135823.934197                             образование  \n",
       "8    95856.832424                   на проведение свадьбы  \n",
       "9   144425.938277                 покупка жилья для семьи  \n",
       "10  113943.491460                    покупка недвижимости  \n",
       "11   77069.234271       покупка коммерческой недвижимости  \n",
       "12            NaN                         сыграть свадьбу  \n",
       "13  130458.228857                 приобретение автомобиля  \n",
       "14  165127.911772              покупка жилой недвижимости  \n",
       "15  116820.904450  строительство собственной недвижимости  \n",
       "16  289202.704229                            недвижимость  \n",
       "17   90410.586745              строительство недвижимости  \n",
       "18   56823.777243      на покупку подержанного автомобиля  \n",
       "19  242831.107982            на покупку своего автомобиля  "
      ]
     },
     "execution_count": 2,
     "metadata": {},
     "output_type": "execute_result"
    }
   ],
   "source": [
    "data.head(20)"
   ]
  },
  {
   "cell_type": "markdown",
   "id": "0ed8f27f",
   "metadata": {
    "deletable": false,
    "editable": false,
    "id": "0ed8f27f"
   },
   "source": [
    "**Задание 3. Выведите основную информацию о датафрейме с помощью метода `info()`.**"
   ]
  },
  {
   "cell_type": "code",
   "execution_count": 3,
   "id": "ab3f863b",
   "metadata": {
    "deletable": false,
    "id": "ab3f863b",
    "outputId": "15376089-8dad-46c9-b520-c05248d43158"
   },
   "outputs": [
    {
     "name": "stdout",
     "output_type": "stream",
     "text": [
      "<class 'pandas.core.frame.DataFrame'>\n",
      "RangeIndex: 21525 entries, 0 to 21524\n",
      "Data columns (total 12 columns):\n",
      " #   Column            Non-Null Count  Dtype  \n",
      "---  ------            --------------  -----  \n",
      " 0   children          21525 non-null  int64  \n",
      " 1   days_employed     19351 non-null  float64\n",
      " 2   dob_years         21525 non-null  int64  \n",
      " 3   education         21525 non-null  object \n",
      " 4   education_id      21525 non-null  int64  \n",
      " 5   family_status     21525 non-null  object \n",
      " 6   family_status_id  21525 non-null  int64  \n",
      " 7   gender            21525 non-null  object \n",
      " 8   income_type       21525 non-null  object \n",
      " 9   debt              21525 non-null  int64  \n",
      " 10  total_income      19351 non-null  float64\n",
      " 11  purpose           21525 non-null  object \n",
      "dtypes: float64(2), int64(5), object(5)\n",
      "memory usage: 2.0+ MB\n"
     ]
    }
   ],
   "source": [
    "data.info()"
   ]
  },
  {
   "cell_type": "markdown",
   "id": "0f7b535b",
   "metadata": {},
   "source": [
    "<a class=\"anchor\" id=\"2\"></a>"
   ]
  },
  {
   "cell_type": "markdown",
   "id": "60e3e22d",
   "metadata": {
    "deletable": false,
    "editable": false,
    "id": "60e3e22d"
   },
   "source": [
    "## Предобработка данных"
   ]
  },
  {
   "cell_type": "markdown",
   "id": "1f53bd48",
   "metadata": {},
   "source": [
    "[Вернуться к оглавлению](#point0)"
   ]
  },
  {
   "cell_type": "markdown",
   "id": "03dc170c",
   "metadata": {
    "deletable": false,
    "editable": false,
    "id": "03dc170c"
   },
   "source": [
    "### Удаление пропусков"
   ]
  },
  {
   "cell_type": "markdown",
   "id": "a4f54eef",
   "metadata": {
    "deletable": false,
    "editable": false,
    "id": "a4f54eef"
   },
   "source": [
    "**Задание 4. Выведите количество пропущенных значений для каждого столбца. Используйте комбинацию двух методов.**"
   ]
  },
  {
   "cell_type": "code",
   "execution_count": 4,
   "id": "2dc372b2",
   "metadata": {
    "deletable": false,
    "id": "2dc372b2",
    "outputId": "81f4d817-781c-465c-ed15-91ce4446810d"
   },
   "outputs": [
    {
     "data": {
      "text/plain": [
       "children               0\n",
       "days_employed       2174\n",
       "dob_years              0\n",
       "education              0\n",
       "education_id           0\n",
       "family_status          0\n",
       "family_status_id       0\n",
       "gender                 0\n",
       "income_type            0\n",
       "debt                   0\n",
       "total_income        2174\n",
       "purpose                0\n",
       "dtype: int64"
      ]
     },
     "execution_count": 4,
     "metadata": {},
     "output_type": "execute_result"
    }
   ],
   "source": [
    "data.isna().sum()"
   ]
  },
  {
   "cell_type": "markdown",
   "id": "14f011b1",
   "metadata": {
    "deletable": false,
    "editable": false,
    "id": "14f011b1"
   },
   "source": [
    "**Задание 5. В двух столбцах есть пропущенные значения. Один из них — `days_employed`. Пропуски в этом столбце вы обработаете на следующем этапе. Другой столбец с пропущенными значениями — `total_income` — хранит данные о доходах. На сумму дохода сильнее всего влияет тип занятости, поэтому заполнить пропуски в этом столбце нужно медианным значением по каждому типу из столбца `income_type`. Например, у человека с типом занятости `сотрудник` пропуск в столбце `total_income` должен быть заполнен медианным доходом среди всех записей с тем же типом.**"
   ]
  },
  {
   "cell_type": "code",
   "execution_count": 5,
   "id": "bdabfb6e",
   "metadata": {
    "deletable": false,
    "id": "bdabfb6e"
   },
   "outputs": [],
   "source": [
    "for t in data['income_type'].unique():\n",
    "    data.loc[(data['income_type'] == t) & (data['total_income'].isna()), 'total_income'] = \\\n",
    "    data.loc[(data['income_type'] == t), 'total_income'].median()"
   ]
  },
  {
   "cell_type": "markdown",
   "id": "f47a755c",
   "metadata": {},
   "source": [
    "[Вернуться к оглавлению](#point0)"
   ]
  },
  {
   "cell_type": "markdown",
   "id": "5be34059",
   "metadata": {
    "deletable": false,
    "editable": false,
    "id": "5be34059"
   },
   "source": [
    "### Обработка аномальных значений"
   ]
  },
  {
   "cell_type": "markdown",
   "id": "a87606cb",
   "metadata": {
    "deletable": false,
    "editable": false,
    "id": "a87606cb"
   },
   "source": [
    "**Задание 6. В данных могут встречаться артефакты (аномалии) — значения, которые не отражают действительность и появились по какой-то ошибке. таким артефактом будет отрицательное количество дней трудового стажа в столбце `days_employed`. Для реальных данных это нормально. Обработайте значения в этом столбце: замените все отрицательные значения положительными с помощью метода `abs()`.**"
   ]
  },
  {
   "cell_type": "code",
   "execution_count": 6,
   "id": "020c46cc",
   "metadata": {
    "deletable": false,
    "id": "020c46cc"
   },
   "outputs": [],
   "source": [
    "data['days_employed'] = data['days_employed'].abs()"
   ]
  },
  {
   "cell_type": "markdown",
   "id": "45538a3a",
   "metadata": {
    "deletable": false,
    "editable": false,
    "id": "45538a3a"
   },
   "source": [
    "**Задание 7. Для каждого типа занятости выведите медианное значение трудового стажа `days_employed` в днях.**"
   ]
  },
  {
   "cell_type": "code",
   "execution_count": 7,
   "id": "cd3e6328",
   "metadata": {
    "deletable": false,
    "id": "cd3e6328",
    "outputId": "801ef80e-522b-4668-f34e-565af7432bcf"
   },
   "outputs": [
    {
     "data": {
      "text/plain": [
       "income_type\n",
       "безработный        366413.652744\n",
       "в декрете            3296.759962\n",
       "госслужащий          2689.368353\n",
       "компаньон            1547.382223\n",
       "пенсионер          365213.306266\n",
       "предприниматель       520.848083\n",
       "сотрудник            1574.202821\n",
       "студент               578.751554\n",
       "Name: days_employed, dtype: float64"
      ]
     },
     "execution_count": 7,
     "metadata": {},
     "output_type": "execute_result"
    }
   ],
   "source": [
    "data.groupby('income_type')['days_employed'].agg('median')"
   ]
  },
  {
   "cell_type": "markdown",
   "id": "90c5f058",
   "metadata": {
    "deletable": false,
    "editable": false,
    "id": "90c5f058"
   },
   "source": [
    "У двух типов (безработные и пенсионеры) получатся аномально большие значения. Исправить такие значения сложно, поэтому оставьте их как есть."
   ]
  },
  {
   "cell_type": "markdown",
   "id": "9652e50d",
   "metadata": {
    "deletable": false,
    "editable": false,
    "id": "9652e50d"
   },
   "source": [
    "**Задание 8. Выведите перечень уникальных значений столбца `children`.**"
   ]
  },
  {
   "cell_type": "code",
   "execution_count": 8,
   "id": "dbb37b8e",
   "metadata": {
    "deletable": false,
    "id": "dbb37b8e",
    "outputId": "6975b15c-7f95-4697-d16d-a0c79b657b03"
   },
   "outputs": [
    {
     "data": {
      "text/plain": [
       "array([ 1,  0,  3,  2, -1,  4, 20,  5])"
      ]
     },
     "execution_count": 8,
     "metadata": {},
     "output_type": "execute_result"
    }
   ],
   "source": [
    "data['children'].unique()"
   ]
  },
  {
   "cell_type": "markdown",
   "id": "2b8b0715",
   "metadata": {
    "deletable": false,
    "editable": false,
    "id": "2b8b0715"
   },
   "source": [
    "**Задание 9. В столбце `children` есть два аномальных значения. Удалите строки, в которых встречаются такие аномальные значения из датафрейма `data`.**"
   ]
  },
  {
   "cell_type": "code",
   "execution_count": 9,
   "id": "20009df8",
   "metadata": {
    "deletable": false,
    "id": "20009df8"
   },
   "outputs": [],
   "source": [
    "data = data[(data['children'] != -1) & (data['children'] != 20)]"
   ]
  },
  {
   "cell_type": "markdown",
   "id": "8c6ac9f1",
   "metadata": {
    "deletable": false,
    "editable": false,
    "id": "8c6ac9f1"
   },
   "source": [
    "**Задание 10. Ещё раз выведите перечень уникальных значений столбца `children`, чтобы убедиться, что артефакты удалены.**"
   ]
  },
  {
   "cell_type": "code",
   "execution_count": 10,
   "id": "07337b81",
   "metadata": {
    "deletable": false,
    "id": "07337b81",
    "outputId": "b2097101-d49d-44d9-901b-32a65c9463d1"
   },
   "outputs": [
    {
     "data": {
      "text/plain": [
       "array([1, 0, 3, 2, 4, 5])"
      ]
     },
     "execution_count": 10,
     "metadata": {},
     "output_type": "execute_result"
    }
   ],
   "source": [
    "data['children'].unique()"
   ]
  },
  {
   "cell_type": "markdown",
   "id": "0698fae3",
   "metadata": {},
   "source": [
    "[Вернуться к оглавлению](#point0)"
   ]
  },
  {
   "cell_type": "markdown",
   "id": "ee3f52d4",
   "metadata": {
    "deletable": false,
    "editable": false,
    "id": "ee3f52d4"
   },
   "source": [
    "### Удаление пропусков (продолжение)"
   ]
  },
  {
   "cell_type": "markdown",
   "id": "a700b0e4",
   "metadata": {
    "deletable": false,
    "editable": false,
    "id": "a700b0e4"
   },
   "source": [
    "**Задание 11. Заполните пропуски в столбце `days_employed` медианными значениями по каждого типа занятости `income_type`.**"
   ]
  },
  {
   "cell_type": "code",
   "execution_count": 11,
   "id": "61946b83",
   "metadata": {
    "deletable": false,
    "id": "61946b83"
   },
   "outputs": [],
   "source": [
    "for t in data['income_type'].unique():\n",
    "    data.loc[(data['income_type'] == t) & (data['days_employed'].isna()), 'days_employed'] = \\\n",
    "    data.loc[(data['income_type'] == t), 'days_employed'].median()"
   ]
  },
  {
   "cell_type": "markdown",
   "id": "550dcd9b",
   "metadata": {
    "deletable": false,
    "editable": false,
    "id": "550dcd9b"
   },
   "source": [
    "**Задание 12. Убедитесь, что все пропуски заполнены. Проверьте себя и ещё раз выведите количество пропущенных значений для каждого столбца с помощью двух методов.**"
   ]
  },
  {
   "cell_type": "code",
   "execution_count": 12,
   "id": "937c7014",
   "metadata": {
    "deletable": false,
    "id": "937c7014",
    "outputId": "8da1e4e1-358e-4e87-98c9-f261bce0a7b2"
   },
   "outputs": [
    {
     "data": {
      "text/plain": [
       "children            0\n",
       "days_employed       0\n",
       "dob_years           0\n",
       "education           0\n",
       "education_id        0\n",
       "family_status       0\n",
       "family_status_id    0\n",
       "gender              0\n",
       "income_type         0\n",
       "debt                0\n",
       "total_income        0\n",
       "purpose             0\n",
       "dtype: int64"
      ]
     },
     "execution_count": 12,
     "metadata": {},
     "output_type": "execute_result"
    }
   ],
   "source": [
    "data.isna().sum()"
   ]
  },
  {
   "cell_type": "markdown",
   "id": "d4e18326",
   "metadata": {},
   "source": [
    "[Вернуться к оглавлению](#point0)"
   ]
  },
  {
   "cell_type": "markdown",
   "id": "d522e295",
   "metadata": {
    "deletable": false,
    "editable": false,
    "id": "d522e295"
   },
   "source": [
    "### Изменение типов данных"
   ]
  },
  {
   "cell_type": "markdown",
   "id": "c229c581",
   "metadata": {
    "deletable": false,
    "editable": false,
    "id": "c229c581"
   },
   "source": [
    "**Задание 13. Замените вещественный тип данных в столбце `total_income` на целочисленный с помощью метода `astype()`.**"
   ]
  },
  {
   "cell_type": "code",
   "execution_count": 13,
   "id": "31036462",
   "metadata": {
    "deletable": false,
    "id": "31036462"
   },
   "outputs": [],
   "source": [
    "data['total_income'] = data['total_income'].astype(int)"
   ]
  },
  {
   "cell_type": "markdown",
   "id": "d143bc76",
   "metadata": {},
   "source": [
    "[Вернуться к оглавлению](#point0)"
   ]
  },
  {
   "cell_type": "markdown",
   "id": "b8e3d1d9",
   "metadata": {
    "deletable": false,
    "editable": false,
    "id": "b8e3d1d9"
   },
   "source": [
    "### Обработка дубликатов"
   ]
  },
  {
   "cell_type": "markdown",
   "id": "9be53c49",
   "metadata": {
    "deletable": false,
    "editable": false,
    "id": "9be53c49"
   },
   "source": [
    "**Задание 14. Обработайте неявные дубликаты в столбце `education`. В этом столбце есть одни и те же значения, но записанные по-разному: с использованием заглавных и строчных букв. Приведите их к нижнему регистру.**"
   ]
  },
  {
   "cell_type": "code",
   "execution_count": 14,
   "id": "d89e73e1",
   "metadata": {
    "deletable": false,
    "id": "d89e73e1"
   },
   "outputs": [],
   "source": [
    "data['education'] = data['education'].str.lower()"
   ]
  },
  {
   "cell_type": "markdown",
   "id": "01d4500e",
   "metadata": {
    "deletable": false,
    "editable": false,
    "id": "01d4500e"
   },
   "source": [
    "**Задание 15. Выведите на экран количество строк-дубликатов в данных. Если такие строки присутствуют, удалите их.**"
   ]
  },
  {
   "cell_type": "code",
   "execution_count": 15,
   "id": "e10efb23",
   "metadata": {
    "deletable": false,
    "id": "e10efb23",
    "outputId": "9684deba-1934-42d1-99e1-cda61740f822"
   },
   "outputs": [
    {
     "data": {
      "text/plain": [
       "71"
      ]
     },
     "execution_count": 15,
     "metadata": {},
     "output_type": "execute_result"
    }
   ],
   "source": [
    "data.duplicated().sum()"
   ]
  },
  {
   "cell_type": "code",
   "execution_count": 16,
   "id": "df853f20",
   "metadata": {
    "deletable": false,
    "id": "df853f20"
   },
   "outputs": [],
   "source": [
    "data = data.drop_duplicates()"
   ]
  },
  {
   "cell_type": "markdown",
   "id": "93b0044f",
   "metadata": {},
   "source": [
    "[Вернуться к оглавлению](#point0)"
   ]
  },
  {
   "cell_type": "markdown",
   "id": "627be38f",
   "metadata": {
    "deletable": false,
    "editable": false,
    "id": "627be38f"
   },
   "source": [
    "### Категоризация данных"
   ]
  },
  {
   "cell_type": "markdown",
   "id": "4684c3e0",
   "metadata": {
    "deletable": false,
    "editable": false,
    "id": "4684c3e0"
   },
   "source": [
    "**Задание 16. На основании диапазонов, указанных ниже, создайте в датафрейме `data` столбец `total_income_category` с категориями:**\n",
    "\n",
    "- 0–30000 — `'E'`;\n",
    "- 30001–50000 — `'D'`;\n",
    "- 50001–200000 — `'C'`;\n",
    "- 200001–1000000 — `'B'`;\n",
    "- 1000001 и выше — `'A'`.\n",
    "\n",
    "\n",
    "**Например, кредитополучателю с доходом 25000 нужно назначить категорию `'E'`, а клиенту, получающему 235000, — `'B'`. Используйте собственную функцию с именем `categorize_income()` и метод `apply()`.**"
   ]
  },
  {
   "cell_type": "code",
   "execution_count": 17,
   "id": "78965238",
   "metadata": {
    "deletable": false,
    "id": "78965238"
   },
   "outputs": [],
   "source": [
    "def categorize_income(income):\n",
    "    try:\n",
    "        if 0 <= income <= 30000:\n",
    "            return 'E'\n",
    "        elif 30001 <= income <= 50000:\n",
    "            return 'D'\n",
    "        elif 50001 <= income <= 200000:\n",
    "            return 'C'\n",
    "        elif 200001 <= income <= 1000000:\n",
    "            return 'B'\n",
    "        elif income >= 1000001:\n",
    "            return 'A'\n",
    "    except:\n",
    "        pass"
   ]
  },
  {
   "cell_type": "code",
   "execution_count": 18,
   "id": "0980ada1",
   "metadata": {
    "deletable": false,
    "id": "0980ada1"
   },
   "outputs": [],
   "source": [
    "data['total_income_category'] = data['total_income'].apply(categorize_income)"
   ]
  },
  {
   "cell_type": "markdown",
   "id": "9917bba0",
   "metadata": {
    "deletable": false,
    "editable": false,
    "id": "9917bba0"
   },
   "source": [
    "**Задание 17. Выведите на экран перечень уникальных целей взятия кредита из столбца `purpose`.**"
   ]
  },
  {
   "cell_type": "code",
   "execution_count": 19,
   "id": "ee07b65e",
   "metadata": {
    "deletable": false,
    "id": "ee07b65e",
    "outputId": "673c12d9-7d7e-4ae0-9812-c622c89dd244"
   },
   "outputs": [
    {
     "data": {
      "text/plain": [
       "array(['покупка жилья', 'приобретение автомобиля',\n",
       "       'дополнительное образование', 'сыграть свадьбу',\n",
       "       'операции с жильем', 'образование', 'на проведение свадьбы',\n",
       "       'покупка жилья для семьи', 'покупка недвижимости',\n",
       "       'покупка коммерческой недвижимости', 'покупка жилой недвижимости',\n",
       "       'строительство собственной недвижимости', 'недвижимость',\n",
       "       'строительство недвижимости', 'на покупку подержанного автомобиля',\n",
       "       'на покупку своего автомобиля',\n",
       "       'операции с коммерческой недвижимостью',\n",
       "       'строительство жилой недвижимости', 'жилье',\n",
       "       'операции со своей недвижимостью', 'автомобили',\n",
       "       'заняться образованием', 'сделка с подержанным автомобилем',\n",
       "       'получение образования', 'автомобиль', 'свадьба',\n",
       "       'получение дополнительного образования', 'покупка своего жилья',\n",
       "       'операции с недвижимостью', 'получение высшего образования',\n",
       "       'свой автомобиль', 'сделка с автомобилем',\n",
       "       'профильное образование', 'высшее образование',\n",
       "       'покупка жилья для сдачи', 'на покупку автомобиля', 'ремонт жилью',\n",
       "       'заняться высшим образованием'], dtype=object)"
      ]
     },
     "execution_count": 19,
     "metadata": {},
     "output_type": "execute_result"
    }
   ],
   "source": [
    "data['purpose'].unique()"
   ]
  },
  {
   "cell_type": "markdown",
   "id": "52b79d56",
   "metadata": {
    "deletable": false,
    "editable": false,
    "id": "52b79d56"
   },
   "source": [
    "**Задание 18. Создайте функцию, которая на основании данных из столбца `purpose` сформирует новый столбец `purpose_category`, в который войдут следующие категории:**\n",
    "\n",
    "- `'операции с автомобилем'`,\n",
    "- `'операции с недвижимостью'`,\n",
    "- `'проведение свадьбы'`,\n",
    "- `'получение образования'`.\n",
    "\n",
    "**Например, если в столбце `purpose` находится подстрока `'на покупку автомобиля'`, то в столбце `purpose_category` должна появиться строка `'операции с автомобилем'`.**\n",
    "\n",
    "**Используйте собственную функцию с именем `categorize_purpose()` и метод `apply()`. Изучите данные в столбце `purpose` и определите, какие подстроки помогут вам правильно определить категорию.**"
   ]
  },
  {
   "cell_type": "code",
   "execution_count": 20,
   "id": "be41da5d",
   "metadata": {
    "deletable": false,
    "id": "be41da5d"
   },
   "outputs": [],
   "source": [
    "def categorize_purpose(row):\n",
    "    try:\n",
    "        if 'автом' in row:\n",
    "            return 'операции с автомобилем'\n",
    "        elif 'жил' in row or 'недвиж' in row:\n",
    "            return 'операции с недвижимостью'\n",
    "        elif 'свад' in row:\n",
    "            return 'проведение свадьбы'\n",
    "        elif 'образов' in row:\n",
    "            return 'получение образования'\n",
    "    except:\n",
    "        return 'нет категории'"
   ]
  },
  {
   "cell_type": "code",
   "execution_count": 21,
   "id": "94c4a19a",
   "metadata": {
    "deletable": false,
    "id": "94c4a19a"
   },
   "outputs": [],
   "source": [
    "data['purpose_category'] = data['purpose'].apply(categorize_purpose)"
   ]
  },
  {
   "cell_type": "markdown",
   "id": "afd948c9",
   "metadata": {},
   "source": [
    "[Вернуться к оглавлению](#point0)"
   ]
  },
  {
   "cell_type": "markdown",
   "id": "3d596c34",
   "metadata": {
    "deletable": false,
    "editable": false,
    "id": "3d596c34"
   },
   "source": [
    "### Шаг 3. Исследуйте данные и ответьте на вопросы"
   ]
  },
  {
   "cell_type": "markdown",
   "id": "327bf128",
   "metadata": {},
   "source": [
    "Для исследования влияния определенного фактора заемщика на количество задолженностей необходимо определить какую долю составляет количество просрочек среди данной группы от общего числа кредитов.\n",
    "\n",
    "Поскольку исследование проводится для нескольких факторов: *количество детей*, *семейное положение*, *уровень дохода*, *цель кредита* - с целью исключения однотипных операций, представление данных для анализа предпочтительно осуществить с помощью функции."
   ]
  },
  {
   "cell_type": "code",
   "execution_count": 22,
   "id": "6f35e4dc",
   "metadata": {},
   "outputs": [],
   "source": [
    "def ratio(factor): # функция ratio принимает в качестве аргумента factor - один из факторов исследования\n",
    "    # в теле функции создается сводная таблица pt\n",
    "    # на основе данных 'debt' с помощью функций 'sum','count' формируем столбцы\n",
    "    # с количеством просрочек и общему числу займов\n",
    "    df = data.pivot_table(index = [factor], values='debt', aggfunc = ('sum', 'count'))\n",
    "    \n",
    "    # добавляем столб с процентом просрочек (%), округляем до сотых\n",
    "    df['ratio'] = round(100 * df['sum'] / df['count'], 2) \n",
    "    return df"
   ]
  },
  {
   "cell_type": "markdown",
   "id": "f16225ec",
   "metadata": {},
   "source": [
    "[Вернуться к оглавлению](#point0)"
   ]
  },
  {
   "cell_type": "markdown",
   "id": "648db036",
   "metadata": {
    "deletable": false,
    "editable": false,
    "id": "648db036"
   },
   "source": [
    "#### 3.1 Есть ли зависимость между количеством детей и возвратом кредита в срок?"
   ]
  },
  {
   "cell_type": "markdown",
   "id": "66afcce6",
   "metadata": {},
   "source": [
    "Для анализа зависимости между количеством детей и возвратом кредита в срок исследуем наши данные по столбцу `'children'`."
   ]
  },
  {
   "cell_type": "code",
   "execution_count": 23,
   "id": "7fcff25e",
   "metadata": {
    "deletable": false,
    "id": "7fcff25e"
   },
   "outputs": [
    {
     "data": {
      "text/html": [
       "<div>\n",
       "<style scoped>\n",
       "    .dataframe tbody tr th:only-of-type {\n",
       "        vertical-align: middle;\n",
       "    }\n",
       "\n",
       "    .dataframe tbody tr th {\n",
       "        vertical-align: top;\n",
       "    }\n",
       "\n",
       "    .dataframe thead th {\n",
       "        text-align: right;\n",
       "    }\n",
       "</style>\n",
       "<table border=\"1\" class=\"dataframe\">\n",
       "  <thead>\n",
       "    <tr style=\"text-align: right;\">\n",
       "      <th></th>\n",
       "      <th>count</th>\n",
       "      <th>sum</th>\n",
       "      <th>ratio</th>\n",
       "    </tr>\n",
       "    <tr>\n",
       "      <th>children</th>\n",
       "      <th></th>\n",
       "      <th></th>\n",
       "      <th></th>\n",
       "    </tr>\n",
       "  </thead>\n",
       "  <tbody>\n",
       "    <tr>\n",
       "      <th>0</th>\n",
       "      <td>14091</td>\n",
       "      <td>1063</td>\n",
       "      <td>7.54</td>\n",
       "    </tr>\n",
       "    <tr>\n",
       "      <th>1</th>\n",
       "      <td>4808</td>\n",
       "      <td>444</td>\n",
       "      <td>9.23</td>\n",
       "    </tr>\n",
       "    <tr>\n",
       "      <th>2</th>\n",
       "      <td>2052</td>\n",
       "      <td>194</td>\n",
       "      <td>9.45</td>\n",
       "    </tr>\n",
       "    <tr>\n",
       "      <th>3</th>\n",
       "      <td>330</td>\n",
       "      <td>27</td>\n",
       "      <td>8.18</td>\n",
       "    </tr>\n",
       "    <tr>\n",
       "      <th>4</th>\n",
       "      <td>41</td>\n",
       "      <td>4</td>\n",
       "      <td>9.76</td>\n",
       "    </tr>\n",
       "    <tr>\n",
       "      <th>5</th>\n",
       "      <td>9</td>\n",
       "      <td>0</td>\n",
       "      <td>0.00</td>\n",
       "    </tr>\n",
       "  </tbody>\n",
       "</table>\n",
       "</div>"
      ],
      "text/plain": [
       "          count   sum  ratio\n",
       "children                    \n",
       "0         14091  1063   7.54\n",
       "1          4808   444   9.23\n",
       "2          2052   194   9.45\n",
       "3           330    27   8.18\n",
       "4            41     4   9.76\n",
       "5             9     0   0.00"
      ]
     },
     "execution_count": 23,
     "metadata": {},
     "output_type": "execute_result"
    }
   ],
   "source": [
    "# применим функцию ratio для аргумента children\n",
    "factor_children = ratio('children')\n",
    "factor_children"
   ]
  },
  {
   "cell_type": "markdown",
   "id": "7def986e",
   "metadata": {},
   "source": [
    "Из представленных выше данных видно, что для заемщиков с количеством детей равным 5 количество просрочек равно 0. Однако, следует учесть, что выборка этой группы состоит всего из 9 человек, что значительно меньше значений из других групп. Для проведения анализа следует исключить эту подгруппу.\n",
    "\n",
    "Перезапишем датафрейм `factor_children` введя условие о включении в него только подгрупп размером более 10."
   ]
  },
  {
   "cell_type": "code",
   "execution_count": 24,
   "id": "ceeef5fd",
   "metadata": {},
   "outputs": [
    {
     "data": {
      "text/html": [
       "<div>\n",
       "<style scoped>\n",
       "    .dataframe tbody tr th:only-of-type {\n",
       "        vertical-align: middle;\n",
       "    }\n",
       "\n",
       "    .dataframe tbody tr th {\n",
       "        vertical-align: top;\n",
       "    }\n",
       "\n",
       "    .dataframe thead th {\n",
       "        text-align: right;\n",
       "    }\n",
       "</style>\n",
       "<table border=\"1\" class=\"dataframe\">\n",
       "  <thead>\n",
       "    <tr style=\"text-align: right;\">\n",
       "      <th></th>\n",
       "      <th>count</th>\n",
       "      <th>sum</th>\n",
       "      <th>ratio</th>\n",
       "    </tr>\n",
       "    <tr>\n",
       "      <th>children</th>\n",
       "      <th></th>\n",
       "      <th></th>\n",
       "      <th></th>\n",
       "    </tr>\n",
       "  </thead>\n",
       "  <tbody>\n",
       "    <tr>\n",
       "      <th>0</th>\n",
       "      <td>14091</td>\n",
       "      <td>1063</td>\n",
       "      <td>7.54</td>\n",
       "    </tr>\n",
       "    <tr>\n",
       "      <th>1</th>\n",
       "      <td>4808</td>\n",
       "      <td>444</td>\n",
       "      <td>9.23</td>\n",
       "    </tr>\n",
       "    <tr>\n",
       "      <th>2</th>\n",
       "      <td>2052</td>\n",
       "      <td>194</td>\n",
       "      <td>9.45</td>\n",
       "    </tr>\n",
       "    <tr>\n",
       "      <th>3</th>\n",
       "      <td>330</td>\n",
       "      <td>27</td>\n",
       "      <td>8.18</td>\n",
       "    </tr>\n",
       "    <tr>\n",
       "      <th>4</th>\n",
       "      <td>41</td>\n",
       "      <td>4</td>\n",
       "      <td>9.76</td>\n",
       "    </tr>\n",
       "  </tbody>\n",
       "</table>\n",
       "</div>"
      ],
      "text/plain": [
       "          count   sum  ratio\n",
       "children                    \n",
       "0         14091  1063   7.54\n",
       "1          4808   444   9.23\n",
       "2          2052   194   9.45\n",
       "3           330    27   8.18\n",
       "4            41     4   9.76"
      ]
     },
     "execution_count": 24,
     "metadata": {},
     "output_type": "execute_result"
    }
   ],
   "source": [
    "factor_children = factor_children.loc[factor_children.loc[:,'count'] > 10]\n",
    "factor_children"
   ]
  },
  {
   "cell_type": "markdown",
   "id": "e7ff486f",
   "metadata": {},
   "source": [
    "Для более наглядного представления можно представить данные в виде столбчатой диаграммы."
   ]
  },
  {
   "cell_type": "code",
   "execution_count": 25,
   "id": "0c30acac",
   "metadata": {},
   "outputs": [
    {
     "data": {
      "image/png": "[encoded data removed]",
      "text/plain": [
       "<Figure size 432x288 with 1 Axes>"
      ]
     },
     "metadata": {
      "needs_background": "light"
     },
     "output_type": "display_data"
    }
   ],
   "source": [
    "import seaborn # импортируем библиотеку seaborn для построения диаграмм\n",
    "\n",
    "x = factor_children.index.tolist() # задаем значения по оси x\n",
    "y = factor_children['ratio'] # задаем значения по оси y\n",
    "\n",
    "# строим диаграмму\n",
    "seaborn.barplot(x=x, y=y).set(xlabel='Количество детей, шт', \n",
    "                              ylabel='Просрочка кредита, %', \n",
    "                              title='Зависимость просрочки по кредиту от количества детей');"
   ]
  },
  {
   "cell_type": "markdown",
   "id": "2eb9088e",
   "metadata": {
    "deletable": false,
    "id": "2eb9088e"
   },
   "source": [
    "**Вывод:** \n",
    "1. Количество просрочек по кредиту среди бездетных заемщиков ниже, чем у заемщиков с детьми\n",
    "2. На основании имеющихся данных нельзя определенно утвержать, что *количество детей* влияет на возврат кредита в срок. Хотя данные иллюстрируют небольшое повышение доли просрочек с увеличением количества детей, но в то же время размер выборки в этом направлении уменьшается, что может влиять на точность результата."
   ]
  },
  {
   "cell_type": "markdown",
   "id": "e7462fc0",
   "metadata": {},
   "source": [
    "[Вернуться к оглавлению](#point0)"
   ]
  },
  {
   "cell_type": "markdown",
   "id": "74c9b3a7",
   "metadata": {
    "deletable": false,
    "editable": false,
    "id": "74c9b3a7"
   },
   "source": [
    "#### 3.2 Есть ли зависимость между семейным положением и возвратом кредита в срок?"
   ]
  },
  {
   "cell_type": "markdown",
   "id": "fa066960",
   "metadata": {},
   "source": [
    "Для поиска зависимости между семейным положением и возвратом кредита в срок исследуем наши данные по столбцу `'family_status'`."
   ]
  },
  {
   "cell_type": "code",
   "execution_count": 26,
   "id": "8098ab3b",
   "metadata": {
    "deletable": false,
    "id": "8098ab3b"
   },
   "outputs": [
    {
     "data": {
      "text/html": [
       "<div>\n",
       "<style scoped>\n",
       "    .dataframe tbody tr th:only-of-type {\n",
       "        vertical-align: middle;\n",
       "    }\n",
       "\n",
       "    .dataframe tbody tr th {\n",
       "        vertical-align: top;\n",
       "    }\n",
       "\n",
       "    .dataframe thead th {\n",
       "        text-align: right;\n",
       "    }\n",
       "</style>\n",
       "<table border=\"1\" class=\"dataframe\">\n",
       "  <thead>\n",
       "    <tr style=\"text-align: right;\">\n",
       "      <th></th>\n",
       "      <th>count</th>\n",
       "      <th>sum</th>\n",
       "      <th>ratio</th>\n",
       "    </tr>\n",
       "    <tr>\n",
       "      <th>family_status</th>\n",
       "      <th></th>\n",
       "      <th></th>\n",
       "      <th></th>\n",
       "    </tr>\n",
       "  </thead>\n",
       "  <tbody>\n",
       "    <tr>\n",
       "      <th>вдовец / вдова</th>\n",
       "      <td>951</td>\n",
       "      <td>63</td>\n",
       "      <td>6.62</td>\n",
       "    </tr>\n",
       "    <tr>\n",
       "      <th>в разводе</th>\n",
       "      <td>1189</td>\n",
       "      <td>84</td>\n",
       "      <td>7.06</td>\n",
       "    </tr>\n",
       "    <tr>\n",
       "      <th>женат / замужем</th>\n",
       "      <td>12261</td>\n",
       "      <td>927</td>\n",
       "      <td>7.56</td>\n",
       "    </tr>\n",
       "    <tr>\n",
       "      <th>гражданский брак</th>\n",
       "      <td>4134</td>\n",
       "      <td>385</td>\n",
       "      <td>9.31</td>\n",
       "    </tr>\n",
       "    <tr>\n",
       "      <th>Не женат / не замужем</th>\n",
       "      <td>2796</td>\n",
       "      <td>273</td>\n",
       "      <td>9.76</td>\n",
       "    </tr>\n",
       "  </tbody>\n",
       "</table>\n",
       "</div>"
      ],
      "text/plain": [
       "                       count  sum  ratio\n",
       "family_status                           \n",
       "вдовец / вдова           951   63   6.62\n",
       "в разводе               1189   84   7.06\n",
       "женат / замужем        12261  927   7.56\n",
       "гражданский брак        4134  385   9.31\n",
       "Не женат / не замужем   2796  273   9.76"
      ]
     },
     "execution_count": 26,
     "metadata": {},
     "output_type": "execute_result"
    }
   ],
   "source": [
    "# применим функцию ratio для аргумента family_status,\n",
    "factor_family_status = ratio('family_status').sort_values(by='ratio') # отсортируем данные по столбцу ratio\n",
    "factor_family_status"
   ]
  },
  {
   "cell_type": "markdown",
   "id": "e9ff0dd3",
   "metadata": {},
   "source": [
    "Представим данные в виде столбчатой диаграммы."
   ]
  },
  {
   "cell_type": "code",
   "execution_count": 27,
   "id": "952b876c",
   "metadata": {},
   "outputs": [
    {
     "data": {
      "image/png": "[encoded data removed]",
      "text/plain": [
       "<Figure size 432x288 with 1 Axes>"
      ]
     },
     "metadata": {
      "needs_background": "light"
     },
     "output_type": "display_data"
    }
   ],
   "source": [
    "# задаем значения по оси x\n",
    "x = ['а', 'б', 'в', 'г', 'д']\n",
    "y = factor_family_status['ratio'] # задаем значения по оси y\n",
    "\n",
    "# строим диаграмму\n",
    "xlabel='Семейное положение:\\nа) вдовец / вдова, б) в разводе,\\nв) женат / замужем,' + \\\n",
    "       'г) гражданский брак,\\nд) не женат / не замужем'\n",
    "\n",
    "seaborn.barplot(x=x, y=y).set(xlabel=xlabel, \n",
    "                              ylabel='Просрочка кредита, %', \n",
    "                              title='Зависимость просрочки по кредиту от семейного положения');"
   ]
  },
  {
   "cell_type": "markdown",
   "id": "c389ca63",
   "metadata": {
    "deletable": false,
    "id": "c389ca63"
   },
   "source": [
    "**Вывод:** на основе имеющихся данных, можно сделать вывод, что *семейное положение* оказывает влияние на возврат кредита в срок. Заемщики со статусами \"Не женат / не замужем\" и \"гражданский брак\" относятся к категории с более высокой долей просрочки. Заемщики со статусами \"вдовец / вдова\", \"в разводе\", \"женат / замужем\" имеют менее низкий процент просрочек по кредиту."
   ]
  },
  {
   "cell_type": "markdown",
   "id": "0aa57a10",
   "metadata": {},
   "source": [
    "[Вернуться к оглавлению](#point0)"
   ]
  },
  {
   "cell_type": "markdown",
   "id": "9529de68",
   "metadata": {
    "deletable": false,
    "editable": false,
    "id": "9529de68"
   },
   "source": [
    "#### 3.3 Есть ли зависимость между уровнем дохода и возвратом кредита в срок?"
   ]
  },
  {
   "cell_type": "markdown",
   "id": "14848688",
   "metadata": {},
   "source": [
    "Для поиска зависимости между уровнем дохода и возвратом кредита в срок исследуем данные по столбцу `'total_income_category'`."
   ]
  },
  {
   "cell_type": "code",
   "execution_count": 28,
   "id": "8787f44a",
   "metadata": {
    "deletable": false,
    "id": "8787f44a"
   },
   "outputs": [
    {
     "data": {
      "text/html": [
       "<div>\n",
       "<style scoped>\n",
       "    .dataframe tbody tr th:only-of-type {\n",
       "        vertical-align: middle;\n",
       "    }\n",
       "\n",
       "    .dataframe tbody tr th {\n",
       "        vertical-align: top;\n",
       "    }\n",
       "\n",
       "    .dataframe thead th {\n",
       "        text-align: right;\n",
       "    }\n",
       "</style>\n",
       "<table border=\"1\" class=\"dataframe\">\n",
       "  <thead>\n",
       "    <tr style=\"text-align: right;\">\n",
       "      <th></th>\n",
       "      <th>count</th>\n",
       "      <th>sum</th>\n",
       "      <th>ratio</th>\n",
       "    </tr>\n",
       "    <tr>\n",
       "      <th>total_income_category</th>\n",
       "      <th></th>\n",
       "      <th></th>\n",
       "      <th></th>\n",
       "    </tr>\n",
       "  </thead>\n",
       "  <tbody>\n",
       "    <tr>\n",
       "      <th>A</th>\n",
       "      <td>25</td>\n",
       "      <td>2</td>\n",
       "      <td>8.00</td>\n",
       "    </tr>\n",
       "    <tr>\n",
       "      <th>B</th>\n",
       "      <td>5014</td>\n",
       "      <td>354</td>\n",
       "      <td>7.06</td>\n",
       "    </tr>\n",
       "    <tr>\n",
       "      <th>C</th>\n",
       "      <td>15921</td>\n",
       "      <td>1353</td>\n",
       "      <td>8.50</td>\n",
       "    </tr>\n",
       "    <tr>\n",
       "      <th>D</th>\n",
       "      <td>349</td>\n",
       "      <td>21</td>\n",
       "      <td>6.02</td>\n",
       "    </tr>\n",
       "    <tr>\n",
       "      <th>E</th>\n",
       "      <td>22</td>\n",
       "      <td>2</td>\n",
       "      <td>9.09</td>\n",
       "    </tr>\n",
       "  </tbody>\n",
       "</table>\n",
       "</div>"
      ],
      "text/plain": [
       "                       count   sum  ratio\n",
       "total_income_category                    \n",
       "A                         25     2   8.00\n",
       "B                       5014   354   7.06\n",
       "C                      15921  1353   8.50\n",
       "D                        349    21   6.02\n",
       "E                         22     2   9.09"
      ]
     },
     "execution_count": 28,
     "metadata": {},
     "output_type": "execute_result"
    }
   ],
   "source": [
    "# применим функцию ratio для аргумента total_income_category,\n",
    "factor_income = ratio('total_income_category')\n",
    "factor_income"
   ]
  },
  {
   "cell_type": "markdown",
   "id": "1b18ce19",
   "metadata": {},
   "source": [
    "Из представленных выше данных видно, что самая большая доля просрочек у заемщиков с категорией дохода `'E'` (доход 0–30000 руб). Однако, выборки для категорий доходов `'A'` и `'E'` по численности значительно ниже, чем у других категорий. Исследуем данные исключив данные категории."
   ]
  },
  {
   "cell_type": "code",
   "execution_count": 29,
   "id": "72070ba6",
   "metadata": {},
   "outputs": [
    {
     "data": {
      "text/html": [
       "<div>\n",
       "<style scoped>\n",
       "    .dataframe tbody tr th:only-of-type {\n",
       "        vertical-align: middle;\n",
       "    }\n",
       "\n",
       "    .dataframe tbody tr th {\n",
       "        vertical-align: top;\n",
       "    }\n",
       "\n",
       "    .dataframe thead th {\n",
       "        text-align: right;\n",
       "    }\n",
       "</style>\n",
       "<table border=\"1\" class=\"dataframe\">\n",
       "  <thead>\n",
       "    <tr style=\"text-align: right;\">\n",
       "      <th></th>\n",
       "      <th>count</th>\n",
       "      <th>sum</th>\n",
       "      <th>ratio</th>\n",
       "    </tr>\n",
       "    <tr>\n",
       "      <th>total_income_category</th>\n",
       "      <th></th>\n",
       "      <th></th>\n",
       "      <th></th>\n",
       "    </tr>\n",
       "  </thead>\n",
       "  <tbody>\n",
       "    <tr>\n",
       "      <th>B</th>\n",
       "      <td>5014</td>\n",
       "      <td>354</td>\n",
       "      <td>7.06</td>\n",
       "    </tr>\n",
       "    <tr>\n",
       "      <th>C</th>\n",
       "      <td>15921</td>\n",
       "      <td>1353</td>\n",
       "      <td>8.50</td>\n",
       "    </tr>\n",
       "    <tr>\n",
       "      <th>D</th>\n",
       "      <td>349</td>\n",
       "      <td>21</td>\n",
       "      <td>6.02</td>\n",
       "    </tr>\n",
       "  </tbody>\n",
       "</table>\n",
       "</div>"
      ],
      "text/plain": [
       "                       count   sum  ratio\n",
       "total_income_category                    \n",
       "B                       5014   354   7.06\n",
       "C                      15921  1353   8.50\n",
       "D                        349    21   6.02"
      ]
     },
     "execution_count": 29,
     "metadata": {},
     "output_type": "execute_result"
    }
   ],
   "source": [
    "factor_income = factor_income.loc[factor_income.loc[:, 'count'] > 25]\n",
    "factor_income"
   ]
  },
  {
   "cell_type": "markdown",
   "id": "fda4757e",
   "metadata": {},
   "source": [
    "Представим данные в виде столбчатой диаграммы."
   ]
  },
  {
   "cell_type": "code",
   "execution_count": 30,
   "id": "bc2ec30d",
   "metadata": {},
   "outputs": [
    {
     "data": {
      "image/png": "[encoded data removed]",
      "text/plain": [
       "<Figure size 432x288 with 1 Axes>"
      ]
     },
     "metadata": {
      "needs_background": "light"
     },
     "output_type": "display_data"
    }
   ],
   "source": [
    "x = factor_income.index.tolist() # задаем значения по оси x\n",
    "y = factor_income['ratio'] # задаем значения по оси y\n",
    "\n",
    "# строим диаграмму\n",
    "seaborn.barplot(x=x, y=y).set(xlabel='Категория уровня дохода', \n",
    "                              ylabel='Просрочка кредита, %', \n",
    "                              title='Зависимость просрочки по кредиту от уровня дохода');"
   ]
  },
  {
   "cell_type": "markdown",
   "id": "6dd14b57",
   "metadata": {
    "deletable": false,
    "id": "6dd14b57"
   },
   "source": [
    "**Вывод:** на основе имеющихся данных, можно сделать вывод, что *уровень дохода* влияет на возврат кредита в срок. Заемщики категории `'C'` (доход 50001–200000 руб) имеют самый высокий процент просрочек среди группы. Заемщики категорий `'B'` (доход 200001–1000000 руб) и `'D'` (доход 30001–50000 руб) имеют процент просрочки кредита несколько ниже. Вместе с тем, следует учесть, что выборки последних категорий также меньше, что может влиять на точность результата. "
   ]
  },
  {
   "cell_type": "markdown",
   "id": "1dbe03f9",
   "metadata": {},
   "source": [
    "[Вернуться к оглавлению](#point0)"
   ]
  },
  {
   "cell_type": "markdown",
   "id": "1dcc9b12",
   "metadata": {
    "deletable": false,
    "editable": false,
    "id": "1dcc9b12"
   },
   "source": [
    "#### 3.4 Как разные цели кредита влияют на его возврат в срок?"
   ]
  },
  {
   "cell_type": "markdown",
   "id": "c77452bf",
   "metadata": {},
   "source": [
    "Для поиска зависимости между целью кредита и долей просрочек исследуем данные по столбцу `'purpose_category'`."
   ]
  },
  {
   "cell_type": "code",
   "execution_count": 31,
   "id": "c602bc8b",
   "metadata": {
    "deletable": false,
    "id": "c602bc8b"
   },
   "outputs": [
    {
     "data": {
      "text/html": [
       "<div>\n",
       "<style scoped>\n",
       "    .dataframe tbody tr th:only-of-type {\n",
       "        vertical-align: middle;\n",
       "    }\n",
       "\n",
       "    .dataframe tbody tr th {\n",
       "        vertical-align: top;\n",
       "    }\n",
       "\n",
       "    .dataframe thead th {\n",
       "        text-align: right;\n",
       "    }\n",
       "</style>\n",
       "<table border=\"1\" class=\"dataframe\">\n",
       "  <thead>\n",
       "    <tr style=\"text-align: right;\">\n",
       "      <th></th>\n",
       "      <th>count</th>\n",
       "      <th>sum</th>\n",
       "      <th>ratio</th>\n",
       "    </tr>\n",
       "    <tr>\n",
       "      <th>purpose_category</th>\n",
       "      <th></th>\n",
       "      <th></th>\n",
       "      <th></th>\n",
       "    </tr>\n",
       "  </thead>\n",
       "  <tbody>\n",
       "    <tr>\n",
       "      <th>операции с недвижимостью</th>\n",
       "      <td>10751</td>\n",
       "      <td>780</td>\n",
       "      <td>7.26</td>\n",
       "    </tr>\n",
       "    <tr>\n",
       "      <th>проведение свадьбы</th>\n",
       "      <td>2313</td>\n",
       "      <td>183</td>\n",
       "      <td>7.91</td>\n",
       "    </tr>\n",
       "    <tr>\n",
       "      <th>получение образования</th>\n",
       "      <td>3988</td>\n",
       "      <td>369</td>\n",
       "      <td>9.25</td>\n",
       "    </tr>\n",
       "    <tr>\n",
       "      <th>операции с автомобилем</th>\n",
       "      <td>4279</td>\n",
       "      <td>400</td>\n",
       "      <td>9.35</td>\n",
       "    </tr>\n",
       "  </tbody>\n",
       "</table>\n",
       "</div>"
      ],
      "text/plain": [
       "                          count  sum  ratio\n",
       "purpose_category                           \n",
       "операции с недвижимостью  10751  780   7.26\n",
       "проведение свадьбы         2313  183   7.91\n",
       "получение образования      3988  369   9.25\n",
       "операции с автомобилем     4279  400   9.35"
      ]
     },
     "execution_count": 31,
     "metadata": {},
     "output_type": "execute_result"
    }
   ],
   "source": [
    "# применим функцию ratio для аргумента purpose_category\n",
    "factor_purpose = ratio('purpose_category').sort_values(by='ratio') # отсортируем данные по столбцу ratio\n",
    "factor_purpose"
   ]
  },
  {
   "cell_type": "markdown",
   "id": "e79dd307",
   "metadata": {},
   "source": [
    "Представим данные в виде столбчатой диаграммы."
   ]
  },
  {
   "cell_type": "code",
   "execution_count": 32,
   "id": "5c0fbfa3",
   "metadata": {},
   "outputs": [
    {
     "data": {
      "image/png": "[encoded data removed]",
      "text/plain": [
       "<Figure size 432x288 with 1 Axes>"
      ]
     },
     "metadata": {
      "needs_background": "light"
     },
     "output_type": "display_data"
    }
   ],
   "source": [
    "x = ['а', 'б', 'в', 'г']\n",
    "y = factor_purpose['ratio'] # задаем значения по оси y\n",
    "\n",
    "# строим диаграмму\n",
    "xlabel='Цель кредита:\\nа) операции с недвижимостью,\\nб) проведение свадьбы,\\n' + \\\n",
    "       'в) получение образования,\\nг) операции с автомобилем'\n",
    "\n",
    "seaborn.barplot(x=x, y=y).set(xlabel=xlabel, \n",
    "                              ylabel='Просрочка кредита, %', \n",
    "                              title='Зависимость просрочки по кредиту от цели');"
   ]
  },
  {
   "cell_type": "markdown",
   "id": "cf05ed63",
   "metadata": {
    "deletable": false,
    "id": "cf05ed63"
   },
   "source": [
    "**Вывод:** на основе имеющихся данных, можно сделать вывод, что *цели кредита* влияют на возврат кредита в срок. К категории с более высокой долей просрочек относятся кредиты с целями \"получение образования\" и \"операции с автомобилем\". Цели кредита \"проведение свадьбы\" и \"операции с недвижимостью\" можно отнести к менее рискованным, причем, последняя подкатегория имеет самую низкую долю просрочек из всей исследуемой группы."
   ]
  },
  {
   "cell_type": "markdown",
   "id": "5223df2c",
   "metadata": {},
   "source": [
    "[Вернуться к оглавлению](#point0)"
   ]
  },
  {
   "cell_type": "markdown",
   "id": "46c1f10b",
   "metadata": {
    "deletable": false,
    "editable": false,
    "id": "46c1f10b"
   },
   "source": [
    "#### 3.5 Приведите возможные причины появления пропусков в исходных данных."
   ]
  },
  {
   "cell_type": "markdown",
   "id": "3697d2a9",
   "metadata": {
    "deletable": false,
    "id": "3697d2a9"
   },
   "source": [
    "*Ответ:* При предварительной обработке данных были выявлены пропуски для следующих категорий `days_employed` (общий трудовой стаж в днях) и `total_income` (ежемесячный доход). Эти данные критически важны для получения кредита, поэтому предположить, что заемщик намеренно не сообщил эти данные нельзя.\n",
    "\n",
    "То, что при предобработке выявилось одинаковое количество пропусков (2174) для двух категорий говорит о некой системности ошибки.\n",
    "\n",
    "Проблема с данным, которая в итоге привела к пустым значениям, могла появится на этапе занесения информации сотрудником, либо при дальнейшей обработке и хранении информации.\n",
    "<hr> \n",
    "\n",
    "*Ответ 2:* При предварительной обработке данных были выявлены пропуски для следующих категорий `days_employed` (общий трудовой стаж в днях) и `total_income` (ежемесячный доход). Эти данные критически важны для получения кредита, поэтому предположить, что заемщик намеренно не сообщил эти данные нельзя.\n",
    "\n",
    "То, что при предобработке выявилось одинаковое количество пропусков (2174) для двух категорий говорит о некой системности ошибки.\n",
    "\n",
    "Пропуски в данных могут возникнуть на этапе внесения, обработки и хранения информации.\n",
    "\n",
    "То, что пропущенные значения ожидаемого типа (имеют формат `NaN`), и тот факт, что из всего набора данных пропуски имеются только в двух столбцах, говорит не в пользу того, что файл с данными мог быть поврежден.\n",
    "Поэтому, наиболее вероятно, что пропуски возникли на этапе ввода или обработки информации. Иными словами, сотрудник мог намеренно не внести эти данные. Либо, сотрудник указал данные, но в силу каких-либо обстоятельств (например, программной ошибки или программной особенности) данные не были внесены в базу информации. \n",
    "\n",
    "Пропуски выявлены среди следующих категорий заемщиков: 'пенсионер', 'госслужащий', 'компаньон', 'сотрудник',  'предприниматель'. И если для некоторых категорий, например 'неработающий пенсионер' отсутствие данной информации можно логически объяснить, для других категорий выявить какую-либо закономерность не удается.\n",
    "\n",
    "Если бы была доступна информация о времени и месте выдачи кредита, то можно было провести дополнительный анализ, попытаться обобщить данные и установить точную причину появления пропусков.\n"
   ]
  },
  {
   "cell_type": "markdown",
   "id": "54c5fcc3",
   "metadata": {},
   "source": [
    "[Вернуться к оглавлению](#point0)"
   ]
  },
  {
   "cell_type": "markdown",
   "id": "3137d257",
   "metadata": {
    "deletable": false,
    "editable": false,
    "id": "3137d257"
   },
   "source": [
    "#### 3.6 Объясните, почему заполнить пропуски медианным значением — лучшее решение для количественных переменных."
   ]
  },
  {
   "cell_type": "markdown",
   "id": "cf40012a",
   "metadata": {
    "deletable": false,
    "id": "cf40012a"
   },
   "source": [
    "*Ответ:* при выявлении в исследуемых данных пропусков можно решить проблему различными путями. \n",
    "* **Оставить данные как есть**. Если категория данных с пропусками не подлежит анализу, то такой метод можно применить.\n",
    "* **Удалить строки с пропусками**. В нашем случае это бы привело к потере 10% данных, что весьма ощутимо.\n",
    "* **Заполнить пропуски данными**:\n",
    "* * **Заполнить пропуски нулями**. Такой метод может исказить общую картину данных. В нашем случае эти значения не могут быть нулями, потому что являются критериями для выдачи кредита.\n",
    "  * **Заполнить пропуски средним значением** по диапазону. При выборе этого метода следует учитывать, что среднее значение некорректно характеризует данные, когда некоторые значения сильно выделяются среди большинства. В нашем случае мы имели дело с категориями `days_employed` (общий трудовой стаж в днях) и `total_income` (ежемесячный доход). Данные такого типа могут лежать в широком диапазоне и иметь пиковые значения.\n",
    "  * **Заполнить пропуски медианным значением**. Данный метод приводит к наименьшему искажению данных при заполнении пропусков для количественных переменных, поэтому его и использовали.\n",
    "<hr>\n",
    "\n",
    "*Ответ 2:* Медиана более корректно характеризует данные, когда некоторые значения диапазона сильно выделяются среди большинства. \n",
    "\n",
    "Если в датасете есть очень большие или очень маленькие значения, которые сильно отличаются от остальных, то они могут значительно повлиять на среднее значение. Медиана же будет менее подвержена влиянию таких выбросов.\n",
    "\n",
    "\n",
    "Поэтому заполнить пропуски медианным значением — лучшее решение для количественных переменных."
   ]
  },
  {
   "cell_type": "markdown",
   "id": "93c41cf5",
   "metadata": {},
   "source": [
    "[Вернуться к оглавлению](#point0)"
   ]
  },
  {
   "cell_type": "markdown",
   "id": "57bc304e",
   "metadata": {
    "deletable": false,
    "editable": false,
    "id": "57bc304e"
   },
   "source": [
    "### Шаг 4: общий вывод."
   ]
  },
  {
   "cell_type": "markdown",
   "id": "1ab75d1c",
   "metadata": {
    "deletable": false,
    "id": "1ab75d1c"
   },
   "source": [
    "В рамках проектной работы \"Исследование надёжности заёмщиков\" по заданию заказчика (кредитного отдела банка) был исследован массив данных с целью нахождения закономерностей влияния различных факторов заемщиков на факт погашения кредита в срок.\n",
    "\n",
    "Перед процессом анализа была проведена предобработка данных:\n",
    "* выявлены и устранены пропуски\n",
    "* устранены аномальные значения данных\n",
    "* данные приведены к необходимому для анализа типу\n",
    "* выявлены и устранены дубликаты\n",
    "* данные дополнительно категоризированы с целью повышения информативности.\n",
    "\n",
    "Анализ данных показал следующие результаты:\n",
    "1. Установлено, заемщики у которых нет детей имеют более низкую долю просрочек по займам, по сравнению с заемщиками, у которых есть дети. Но установить явную закономерность между количеством детей и процентом просрочек на основе имеющихся данных не удалось.\n",
    "2. Семейное положение влияет на факт погашения кредита в срок: категории с самой высокой долей просрочки “Не женат / не замужем”, а с самой низкой “вдовец / вдова”\n",
    "3. Уровень дохода влияет на возврат кредита в срок. Заемщики категории 'C'  с доходом 50001–200000 руб имеют самый высокий процент просрочек среди группы.\n",
    "4. Цели займа также влияют на долю задолженности по кредиту: К категории с высокой долей просрочек относятся кредиты с целью \"получение образования\" и \"операции с автомобилем\", а в категории \"операции с недвижимостью\" - самый низкий процент просрочек.\n",
    "\n",
    "Результаты данного исследования могут быть учтены при построении модели кредитного скоринга."
   ]
  },
  {
   "cell_type": "markdown",
   "id": "0166c9e4",
   "metadata": {},
   "source": [
    "[Вернуться к оглавлению](#point0)"
   ]
  }
 ],
 "metadata": {
  "ExecuteTimeLog": [
   {
    "duration": 43,
    "start_time": "2024-07-18T07:22:25.172Z"
   },
   {
    "duration": 698,
    "start_time": "2024-07-18T07:22:50.258Z"
   },
   {
    "duration": 20,
    "start_time": "2024-07-18T07:22:53.038Z"
   },
   {
    "duration": 15,
    "start_time": "2024-07-18T07:22:57.294Z"
   },
   {
    "duration": 10,
    "start_time": "2024-07-18T07:23:00.598Z"
   },
   {
    "duration": 33,
    "start_time": "2024-07-18T07:23:04.239Z"
   },
   {
    "duration": 4,
    "start_time": "2024-07-18T07:23:06.686Z"
   },
   {
    "duration": 7,
    "start_time": "2024-07-18T07:23:08.532Z"
   },
   {
    "duration": 4,
    "start_time": "2024-07-18T07:23:12.278Z"
   },
   {
    "duration": 6,
    "start_time": "2024-07-18T07:23:14.670Z"
   },
   {
    "duration": 4,
    "start_time": "2024-07-18T07:23:16.940Z"
   },
   {
    "duration": 33,
    "start_time": "2024-07-18T07:23:18.923Z"
   },
   {
    "duration": 10,
    "start_time": "2024-07-18T07:23:22.715Z"
   },
   {
    "duration": 3,
    "start_time": "2024-07-18T07:23:30.868Z"
   },
   {
    "duration": 12,
    "start_time": "2024-07-18T07:23:33.438Z"
   },
   {
    "duration": 18,
    "start_time": "2024-07-18T07:23:35.516Z"
   },
   {
    "duration": 25,
    "start_time": "2024-07-18T07:23:37.845Z"
   },
   {
    "duration": 3,
    "start_time": "2024-07-18T07:23:40.709Z"
   },
   {
    "duration": 16,
    "start_time": "2024-07-18T07:23:42.698Z"
   },
   {
    "duration": 5,
    "start_time": "2024-07-18T07:23:44.455Z"
   },
   {
    "duration": 4,
    "start_time": "2024-07-18T07:23:49.205Z"
   },
   {
    "duration": 8,
    "start_time": "2024-07-18T07:23:51.447Z"
   },
   {
    "duration": 9,
    "start_time": "2024-07-18T07:23:56.541Z"
   },
   {
    "duration": 18,
    "start_time": "2024-07-18T07:24:48.034Z"
   },
   {
    "duration": 15,
    "start_time": "2024-07-18T07:27:34.890Z"
   },
   {
    "duration": 524,
    "start_time": "2024-07-18T14:40:58.824Z"
   },
   {
    "duration": 21,
    "start_time": "2024-07-18T14:41:02.107Z"
   },
   {
    "duration": 14,
    "start_time": "2024-07-18T14:41:05.782Z"
   },
   {
    "duration": 12,
    "start_time": "2024-07-18T14:41:11.741Z"
   },
   {
    "duration": 459,
    "start_time": "2024-07-18T14:41:21.282Z"
   },
   {
    "duration": 28,
    "start_time": "2024-07-18T14:41:23.834Z"
   },
   {
    "duration": 11,
    "start_time": "2024-07-18T14:41:27.324Z"
   },
   {
    "duration": 41,
    "start_time": "2024-07-18T14:41:29.716Z"
   },
   {
    "duration": 496,
    "start_time": "2024-07-18T14:41:49.687Z"
   },
   {
    "duration": 22,
    "start_time": "2024-07-18T14:41:51.759Z"
   },
   {
    "duration": 17,
    "start_time": "2024-07-18T14:41:56.253Z"
   },
   {
    "duration": 12,
    "start_time": "2024-07-18T14:41:59.775Z"
   },
   {
    "duration": 36,
    "start_time": "2024-07-18T14:42:02.591Z"
   },
   {
    "duration": 3,
    "start_time": "2024-07-18T14:42:05.205Z"
   },
   {
    "duration": 10,
    "start_time": "2024-07-18T14:42:06.726Z"
   },
   {
    "duration": 5,
    "start_time": "2024-07-18T14:42:09.863Z"
   },
   {
    "duration": 7,
    "start_time": "2024-07-18T14:42:12.063Z"
   },
   {
    "duration": 6,
    "start_time": "2024-07-18T14:42:14.054Z"
   },
   {
    "duration": 39,
    "start_time": "2024-07-18T14:42:16.049Z"
   },
   {
    "duration": 10,
    "start_time": "2024-07-18T14:42:18.557Z"
   },
   {
    "duration": 4,
    "start_time": "2024-07-18T14:42:21.432Z"
   },
   {
    "duration": 19,
    "start_time": "2024-07-18T14:42:23.384Z"
   },
   {
    "duration": 26,
    "start_time": "2024-07-18T14:42:25.262Z"
   },
   {
    "duration": 18,
    "start_time": "2024-07-18T14:42:26.934Z"
   },
   {
    "duration": 4,
    "start_time": "2024-07-18T14:42:37.276Z"
   },
   {
    "duration": 10,
    "start_time": "2024-07-18T14:42:39.627Z"
   },
   {
    "duration": 6,
    "start_time": "2024-07-18T14:42:41.002Z"
   },
   {
    "duration": 4,
    "start_time": "2024-07-18T14:42:45.352Z"
   },
   {
    "duration": 8,
    "start_time": "2024-07-18T14:42:47.428Z"
   },
   {
    "duration": 18,
    "start_time": "2024-07-18T14:42:49.611Z"
   },
   {
    "duration": 3,
    "start_time": "2024-07-18T14:44:37.095Z"
   },
   {
    "duration": 21,
    "start_time": "2024-07-18T14:45:15.384Z"
   },
   {
    "duration": 7,
    "start_time": "2024-07-18T14:46:02.047Z"
   },
   {
    "duration": 1046,
    "start_time": "2024-07-18T14:47:04.897Z"
   },
   {
    "duration": 20,
    "start_time": "2024-07-18T14:48:52.509Z"
   },
   {
    "duration": 116,
    "start_time": "2024-07-18T14:49:25.118Z"
   },
   {
    "duration": 19,
    "start_time": "2024-07-18T14:50:26.478Z"
   },
   {
    "duration": 7,
    "start_time": "2024-07-18T14:50:53.028Z"
   },
   {
    "duration": 111,
    "start_time": "2024-07-18T14:51:20.857Z"
   },
   {
    "duration": 20,
    "start_time": "2024-07-18T14:52:03.977Z"
   },
   {
    "duration": 133,
    "start_time": "2024-07-18T14:52:35.494Z"
   },
   {
    "duration": 85,
    "start_time": "2024-07-18T15:06:27.223Z"
   },
   {
    "duration": 84,
    "start_time": "2024-07-18T15:10:13.777Z"
   },
   {
    "duration": 73,
    "start_time": "2024-07-18T15:11:20.252Z"
   },
   {
    "duration": 470,
    "start_time": "2024-07-18T15:15:15.818Z"
   },
   {
    "duration": 21,
    "start_time": "2024-07-18T15:15:18.722Z"
   },
   {
    "duration": 15,
    "start_time": "2024-07-18T15:15:23.738Z"
   },
   {
    "duration": 15,
    "start_time": "2024-07-18T15:15:27.903Z"
   },
   {
    "duration": 40,
    "start_time": "2024-07-18T15:15:35.922Z"
   },
   {
    "duration": 4,
    "start_time": "2024-07-18T15:15:38.146Z"
   },
   {
    "duration": 7,
    "start_time": "2024-07-18T15:15:40.098Z"
   },
   {
    "duration": 5,
    "start_time": "2024-07-18T15:15:42.073Z"
   },
   {
    "duration": 8,
    "start_time": "2024-07-18T15:15:44.529Z"
   },
   {
    "duration": 5,
    "start_time": "2024-07-18T15:15:46.401Z"
   },
   {
    "duration": 48,
    "start_time": "2024-07-18T15:15:48.602Z"
   },
   {
    "duration": 10,
    "start_time": "2024-07-18T15:15:50.999Z"
   },
   {
    "duration": 4,
    "start_time": "2024-07-18T15:15:53.471Z"
   },
   {
    "duration": 12,
    "start_time": "2024-07-18T15:15:56.198Z"
   },
   {
    "duration": 26,
    "start_time": "2024-07-18T15:15:58.631Z"
   },
   {
    "duration": 18,
    "start_time": "2024-07-18T15:16:00.375Z"
   },
   {
    "duration": 4,
    "start_time": "2024-07-18T15:16:06.466Z"
   },
   {
    "duration": 16,
    "start_time": "2024-07-18T15:16:08.959Z"
   },
   {
    "duration": 6,
    "start_time": "2024-07-18T15:16:10.460Z"
   },
   {
    "duration": 3,
    "start_time": "2024-07-18T15:16:15.489Z"
   },
   {
    "duration": 8,
    "start_time": "2024-07-18T15:16:21.738Z"
   },
   {
    "duration": 3,
    "start_time": "2024-07-18T15:16:23.988Z"
   },
   {
    "duration": 22,
    "start_time": "2024-07-18T15:16:26.811Z"
   },
   {
    "duration": 8,
    "start_time": "2024-07-18T15:16:35.262Z"
   },
   {
    "duration": 836,
    "start_time": "2024-07-18T15:16:38.860Z"
   },
   {
    "duration": 20,
    "start_time": "2024-07-18T15:16:56.027Z"
   },
   {
    "duration": 118,
    "start_time": "2024-07-18T15:17:01.671Z"
   },
   {
    "duration": 19,
    "start_time": "2024-07-18T15:17:08.339Z"
   },
   {
    "duration": 8,
    "start_time": "2024-07-18T15:17:15.297Z"
   },
   {
    "duration": 104,
    "start_time": "2024-07-18T15:17:20.743Z"
   },
   {
    "duration": 20,
    "start_time": "2024-07-18T15:17:29.654Z"
   },
   {
    "duration": 101,
    "start_time": "2024-07-18T15:17:32.814Z"
   },
   {
    "duration": 61,
    "start_time": "2024-07-18T15:22:54.337Z"
   },
   {
    "duration": 514,
    "start_time": "2024-07-19T09:46:25.480Z"
   },
   {
    "duration": 23,
    "start_time": "2024-07-19T09:46:25.996Z"
   },
   {
    "duration": 40,
    "start_time": "2024-07-19T09:46:26.021Z"
   },
   {
    "duration": 26,
    "start_time": "2024-07-19T09:46:26.062Z"
   },
   {
    "duration": 35,
    "start_time": "2024-07-19T09:46:26.090Z"
   },
   {
    "duration": 4,
    "start_time": "2024-07-19T09:46:26.126Z"
   },
   {
    "duration": 11,
    "start_time": "2024-07-19T09:46:26.131Z"
   },
   {
    "duration": 14,
    "start_time": "2024-07-19T09:46:26.144Z"
   },
   {
    "duration": 20,
    "start_time": "2024-07-19T09:46:26.159Z"
   },
   {
    "duration": 19,
    "start_time": "2024-07-19T09:46:26.181Z"
   },
   {
    "duration": 57,
    "start_time": "2024-07-19T09:46:26.202Z"
   },
   {
    "duration": 12,
    "start_time": "2024-07-19T09:46:26.260Z"
   },
   {
    "duration": 10,
    "start_time": "2024-07-19T09:46:26.274Z"
   },
   {
    "duration": 15,
    "start_time": "2024-07-19T09:46:26.287Z"
   },
   {
    "duration": 37,
    "start_time": "2024-07-19T09:46:26.303Z"
   },
   {
    "duration": 16,
    "start_time": "2024-07-19T09:46:26.341Z"
   },
   {
    "duration": 6,
    "start_time": "2024-07-19T09:46:26.359Z"
   },
   {
    "duration": 26,
    "start_time": "2024-07-19T09:46:26.366Z"
   },
   {
    "duration": 13,
    "start_time": "2024-07-19T09:46:26.394Z"
   },
   {
    "duration": 7,
    "start_time": "2024-07-19T09:46:26.408Z"
   },
   {
    "duration": 28,
    "start_time": "2024-07-19T09:46:26.417Z"
   },
   {
    "duration": 12,
    "start_time": "2024-07-19T09:46:26.446Z"
   },
   {
    "duration": 43,
    "start_time": "2024-07-19T09:46:26.460Z"
   },
   {
    "duration": 8,
    "start_time": "2024-07-19T09:46:26.505Z"
   },
   {
    "duration": 1036,
    "start_time": "2024-07-19T09:46:26.515Z"
   },
   {
    "duration": 21,
    "start_time": "2024-07-19T09:46:27.553Z"
   },
   {
    "duration": 146,
    "start_time": "2024-07-19T09:46:27.577Z"
   },
   {
    "duration": 19,
    "start_time": "2024-07-19T09:46:27.724Z"
   },
   {
    "duration": 38,
    "start_time": "2024-07-19T09:46:27.745Z"
   },
   {
    "duration": 241,
    "start_time": "2024-07-19T09:46:27.785Z"
   },
   {
    "duration": 21,
    "start_time": "2024-07-19T09:46:28.028Z"
   },
   {
    "duration": 124,
    "start_time": "2024-07-19T09:46:28.051Z"
   },
   {
    "duration": 1429,
    "start_time": "2024-07-19T11:24:19.291Z"
   },
   {
    "duration": 323,
    "start_time": "2024-07-19T11:24:47.984Z"
   },
   {
    "duration": 20,
    "start_time": "2024-07-19T11:25:02.332Z"
   },
   {
    "duration": 518,
    "start_time": "2024-07-19T11:25:24.970Z"
   },
   {
    "duration": 22,
    "start_time": "2024-07-19T11:25:28.199Z"
   },
   {
    "duration": 16,
    "start_time": "2024-07-19T11:25:32.431Z"
   },
   {
    "duration": 11,
    "start_time": "2024-07-19T11:25:35.471Z"
   },
   {
    "duration": 35,
    "start_time": "2024-07-19T11:25:37.781Z"
   },
   {
    "duration": 3,
    "start_time": "2024-07-19T11:25:40.103Z"
   },
   {
    "duration": 7,
    "start_time": "2024-07-19T11:25:41.975Z"
   },
   {
    "duration": 4,
    "start_time": "2024-07-19T11:25:44.259Z"
   },
   {
    "duration": 6,
    "start_time": "2024-07-19T11:25:46.107Z"
   },
   {
    "duration": 4,
    "start_time": "2024-07-19T11:25:47.783Z"
   },
   {
    "duration": 34,
    "start_time": "2024-07-19T11:25:49.692Z"
   },
   {
    "duration": 11,
    "start_time": "2024-07-19T11:25:51.389Z"
   },
   {
    "duration": 4,
    "start_time": "2024-07-19T11:25:53.500Z"
   },
   {
    "duration": 12,
    "start_time": "2024-07-19T11:25:55.507Z"
   },
   {
    "duration": 19,
    "start_time": "2024-07-19T11:25:56.701Z"
   },
   {
    "duration": 18,
    "start_time": "2024-07-19T11:25:58.278Z"
   },
   {
    "duration": 4,
    "start_time": "2024-07-19T11:26:01.499Z"
   },
   {
    "duration": 10,
    "start_time": "2024-07-19T11:26:04.585Z"
   },
   {
    "duration": 6,
    "start_time": "2024-07-19T11:26:06.788Z"
   },
   {
    "duration": 3,
    "start_time": "2024-07-19T11:26:09.975Z"
   },
   {
    "duration": 9,
    "start_time": "2024-07-19T11:26:11.947Z"
   },
   {
    "duration": 3,
    "start_time": "2024-07-19T11:26:14.214Z"
   },
   {
    "duration": 23,
    "start_time": "2024-07-19T11:26:17.355Z"
   },
   {
    "duration": 8,
    "start_time": "2024-07-19T11:26:19.310Z"
   },
   {
    "duration": 830,
    "start_time": "2024-07-19T11:26:24.830Z"
   },
   {
    "duration": 121,
    "start_time": "2024-07-19T11:26:55.292Z"
   },
   {
    "duration": 49,
    "start_time": "2024-07-19T11:28:00.048Z"
   },
   {
    "duration": 124,
    "start_time": "2024-07-19T11:28:05.500Z"
   },
   {
    "duration": 22,
    "start_time": "2024-07-19T11:30:07.569Z"
   },
   {
    "duration": 131,
    "start_time": "2024-07-19T11:30:10.081Z"
   },
   {
    "duration": 136,
    "start_time": "2024-07-19T11:31:09.708Z"
   },
   {
    "duration": 135,
    "start_time": "2024-07-19T11:33:30.813Z"
   },
   {
    "duration": 122,
    "start_time": "2024-07-19T11:34:46.829Z"
   },
   {
    "duration": 142,
    "start_time": "2024-07-19T11:35:59.624Z"
   },
   {
    "duration": 137,
    "start_time": "2024-07-19T11:36:09.265Z"
   },
   {
    "duration": 139,
    "start_time": "2024-07-19T11:38:54.366Z"
   },
   {
    "duration": 204,
    "start_time": "2024-07-19T11:39:26.238Z"
   },
   {
    "duration": 142,
    "start_time": "2024-07-19T11:39:47.147Z"
   },
   {
    "duration": 18,
    "start_time": "2024-07-19T11:44:45.343Z"
   },
   {
    "duration": 8,
    "start_time": "2024-07-19T11:44:48.860Z"
   },
   {
    "duration": 104,
    "start_time": "2024-07-19T11:44:51.332Z"
   },
   {
    "duration": 121,
    "start_time": "2024-07-19T11:45:45.200Z"
   },
   {
    "duration": 20,
    "start_time": "2024-07-19T11:49:08.735Z"
   },
   {
    "duration": 110,
    "start_time": "2024-07-19T11:49:10.954Z"
   },
   {
    "duration": 111,
    "start_time": "2024-07-19T11:51:26.768Z"
   },
   {
    "duration": 140,
    "start_time": "2024-07-19T11:52:35.022Z"
   },
   {
    "duration": 129,
    "start_time": "2024-07-19T11:52:52.692Z"
   },
   {
    "duration": 548,
    "start_time": "2024-07-19T15:29:00.285Z"
   },
   {
    "duration": 21,
    "start_time": "2024-07-19T15:29:03.194Z"
   },
   {
    "duration": 14,
    "start_time": "2024-07-19T15:29:08.298Z"
   },
   {
    "duration": 10,
    "start_time": "2024-07-19T15:29:13.939Z"
   },
   {
    "duration": 31,
    "start_time": "2024-07-19T15:29:16.079Z"
   },
   {
    "duration": 4,
    "start_time": "2024-07-19T15:29:18.836Z"
   },
   {
    "duration": 8,
    "start_time": "2024-07-19T15:29:20.688Z"
   },
   {
    "duration": 5,
    "start_time": "2024-07-19T15:29:22.696Z"
   },
   {
    "duration": 7,
    "start_time": "2024-07-19T15:29:24.852Z"
   },
   {
    "duration": 5,
    "start_time": "2024-07-19T15:29:26.563Z"
   },
   {
    "duration": 28,
    "start_time": "2024-07-19T15:29:28.386Z"
   },
   {
    "duration": 9,
    "start_time": "2024-07-19T15:29:30.543Z"
   },
   {
    "duration": 4,
    "start_time": "2024-07-19T15:29:32.923Z"
   },
   {
    "duration": 10,
    "start_time": "2024-07-19T15:29:34.858Z"
   },
   {
    "duration": 20,
    "start_time": "2024-07-19T15:29:36.866Z"
   },
   {
    "duration": 26,
    "start_time": "2024-07-19T15:29:38.114Z"
   },
   {
    "duration": 3,
    "start_time": "2024-07-19T15:29:40.482Z"
   },
   {
    "duration": 14,
    "start_time": "2024-07-19T15:29:42.702Z"
   },
   {
    "duration": 8,
    "start_time": "2024-07-19T15:29:44.185Z"
   },
   {
    "duration": 3,
    "start_time": "2024-07-19T15:29:47.153Z"
   },
   {
    "duration": 14,
    "start_time": "2024-07-19T15:29:49.855Z"
   },
   {
    "duration": 4,
    "start_time": "2024-07-19T15:29:51.929Z"
   },
   {
    "duration": 28,
    "start_time": "2024-07-19T15:30:02.226Z"
   },
   {
    "duration": 9,
    "start_time": "2024-07-19T15:30:06.094Z"
   },
   {
    "duration": 1008,
    "start_time": "2024-07-19T15:30:13.105Z"
   },
   {
    "duration": 26,
    "start_time": "2024-07-19T15:30:36.835Z"
   },
   {
    "duration": 155,
    "start_time": "2024-07-19T15:30:41.066Z"
   },
   {
    "duration": 17,
    "start_time": "2024-07-19T15:31:01.830Z"
   },
   {
    "duration": 8,
    "start_time": "2024-07-19T15:31:04.016Z"
   },
   {
    "duration": 116,
    "start_time": "2024-07-19T15:31:06.567Z"
   },
   {
    "duration": 19,
    "start_time": "2024-07-19T15:31:22.016Z"
   },
   {
    "duration": 134,
    "start_time": "2024-07-19T15:31:26.313Z"
   },
   {
    "duration": 513,
    "start_time": "2025-05-20T12:12:42.910Z"
   },
   {
    "duration": 25,
    "start_time": "2025-05-20T12:12:43.425Z"
   },
   {
    "duration": 36,
    "start_time": "2025-05-20T12:12:43.452Z"
   },
   {
    "duration": 12,
    "start_time": "2025-05-20T12:12:43.489Z"
   },
   {
    "duration": 77,
    "start_time": "2025-05-20T12:12:43.504Z"
   },
   {
    "duration": 4,
    "start_time": "2025-05-20T12:12:43.583Z"
   },
   {
    "duration": 214,
    "start_time": "2025-05-20T12:12:43.588Z"
   },
   {
    "duration": 113,
    "start_time": "2025-05-20T12:12:43.804Z"
   },
   {
    "duration": 16,
    "start_time": "2025-05-20T12:12:43.919Z"
   },
   {
    "duration": 6,
    "start_time": "2025-05-20T12:12:43.937Z"
   },
   {
    "duration": 49,
    "start_time": "2025-05-20T12:12:43.945Z"
   },
   {
    "duration": 10,
    "start_time": "2025-05-20T12:12:43.996Z"
   },
   {
    "duration": 3,
    "start_time": "2025-05-20T12:12:44.008Z"
   },
   {
    "duration": 12,
    "start_time": "2025-05-20T12:12:44.013Z"
   },
   {
    "duration": 46,
    "start_time": "2025-05-20T12:12:44.026Z"
   },
   {
    "duration": 17,
    "start_time": "2025-05-20T12:12:44.077Z"
   },
   {
    "duration": 17,
    "start_time": "2025-05-20T12:12:44.095Z"
   },
   {
    "duration": 33,
    "start_time": "2025-05-20T12:12:44.113Z"
   },
   {
    "duration": 23,
    "start_time": "2025-05-20T12:12:44.148Z"
   },
   {
    "duration": 26,
    "start_time": "2025-05-20T12:12:44.174Z"
   },
   {
    "duration": 13,
    "start_time": "2025-05-20T12:12:44.201Z"
   },
   {
    "duration": 30,
    "start_time": "2025-05-20T12:12:44.216Z"
   },
   {
    "duration": 30,
    "start_time": "2025-05-20T12:12:44.248Z"
   },
   {
    "duration": 10,
    "start_time": "2025-05-20T12:12:44.280Z"
   },
   {
    "duration": 1002,
    "start_time": "2025-05-20T12:12:47.176Z"
   },
   {
    "duration": 126,
    "start_time": "2025-05-20T12:12:52.025Z"
   },
   {
    "duration": 23,
    "start_time": "2025-05-20T12:12:56.632Z"
   },
   {
    "duration": 164,
    "start_time": "2025-05-20T12:13:55.663Z"
   },
   {
    "duration": 145,
    "start_time": "2025-05-20T12:14:02.209Z"
   },
   {
    "duration": 149,
    "start_time": "2025-05-20T12:14:24.408Z"
   },
   {
    "duration": 152,
    "start_time": "2025-05-20T12:14:38.981Z"
   },
   {
    "duration": 155,
    "start_time": "2025-05-20T12:14:50.245Z"
   },
   {
    "duration": 151,
    "start_time": "2025-05-20T12:15:26.452Z"
   },
   {
    "duration": 146,
    "start_time": "2025-05-20T12:16:05.708Z"
   },
   {
    "duration": 20,
    "start_time": "2025-05-20T12:16:26.109Z"
   },
   {
    "duration": 9,
    "start_time": "2025-05-20T12:16:28.369Z"
   },
   {
    "duration": 139,
    "start_time": "2025-05-20T12:16:30.650Z"
   },
   {
    "duration": 212,
    "start_time": "2025-05-20T12:16:35.099Z"
   },
   {
    "duration": 20,
    "start_time": "2025-05-20T12:16:38.577Z"
   },
   {
    "duration": 144,
    "start_time": "2025-05-20T12:17:18.962Z"
   },
   {
    "duration": 131,
    "start_time": "2025-05-20T12:17:24.149Z"
   },
   {
    "duration": 174,
    "start_time": "2025-05-20T12:17:26.726Z"
   },
   {
    "duration": 137,
    "start_time": "2025-05-20T12:17:30.285Z"
   },
   {
    "duration": 500,
    "start_time": "2025-05-20T12:19:39.556Z"
   },
   {
    "duration": 25,
    "start_time": "2025-05-20T12:19:40.058Z"
   },
   {
    "duration": 16,
    "start_time": "2025-05-20T12:19:40.084Z"
   },
   {
    "duration": 12,
    "start_time": "2025-05-20T12:19:40.102Z"
   },
   {
    "duration": 64,
    "start_time": "2025-05-20T12:19:40.117Z"
   },
   {
    "duration": 4,
    "start_time": "2025-05-20T12:19:40.183Z"
   },
   {
    "duration": 46,
    "start_time": "2025-05-20T12:19:40.188Z"
   },
   {
    "duration": 22,
    "start_time": "2025-05-20T12:19:40.235Z"
   },
   {
    "duration": 36,
    "start_time": "2025-05-20T12:19:40.258Z"
   },
   {
    "duration": 16,
    "start_time": "2025-05-20T12:19:40.296Z"
   },
   {
    "duration": 38,
    "start_time": "2025-05-20T12:19:40.313Z"
   },
   {
    "duration": 11,
    "start_time": "2025-05-20T12:19:40.352Z"
   },
   {
    "duration": 20,
    "start_time": "2025-05-20T12:19:40.364Z"
   },
   {
    "duration": 25,
    "start_time": "2025-05-20T12:19:40.386Z"
   },
   {
    "duration": 39,
    "start_time": "2025-05-20T12:19:40.412Z"
   },
   {
    "duration": 17,
    "start_time": "2025-05-20T12:19:40.452Z"
   },
   {
    "duration": 4,
    "start_time": "2025-05-20T12:19:40.471Z"
   },
   {
    "duration": 21,
    "start_time": "2025-05-20T12:19:40.476Z"
   },
   {
    "duration": 17,
    "start_time": "2025-05-20T12:19:40.498Z"
   },
   {
    "duration": 4,
    "start_time": "2025-05-20T12:19:40.516Z"
   },
   {
    "duration": 16,
    "start_time": "2025-05-20T12:19:40.522Z"
   },
   {
    "duration": 23,
    "start_time": "2025-05-20T12:19:40.540Z"
   },
   {
    "duration": 37,
    "start_time": "2025-05-20T12:19:40.564Z"
   },
   {
    "duration": 8,
    "start_time": "2025-05-20T12:19:40.602Z"
   },
   {
    "duration": 918,
    "start_time": "2025-05-20T12:19:40.612Z"
   },
   {
    "duration": 29,
    "start_time": "2025-05-20T12:19:41.532Z"
   },
   {
    "duration": 150,
    "start_time": "2025-05-20T12:19:41.564Z"
   },
   {
    "duration": 18,
    "start_time": "2025-05-20T12:19:41.716Z"
   },
   {
    "duration": 98,
    "start_time": "2025-05-20T12:19:41.735Z"
   },
   {
    "duration": 243,
    "start_time": "2025-05-20T12:19:41.835Z"
   },
   {
    "duration": 21,
    "start_time": "2025-05-20T12:19:42.080Z"
   },
   {
    "duration": 154,
    "start_time": "2025-05-20T12:19:42.103Z"
   }
  ],
  "colab": {
   "provenance": []
  },
  "kernelspec": {
   "display_name": "Python 3 (ipykernel)",
   "language": "python",
   "name": "python3"
  },
  "language_info": {
   "codemirror_mode": {
    "name": "ipython",
    "version": 3
   },
   "file_extension": ".py",
   "mimetype": "text/x-python",
   "name": "python",
   "nbconvert_exporter": "python",
   "pygments_lexer": "ipython3",
   "version": "3.8.8"
  },
  "toc": {
   "base_numbering": 1,
   "nav_menu": {},
   "number_sections": true,
   "sideBar": true,
   "skip_h1_title": true,
   "title_cell": "Table of Contents",
   "title_sidebar": "Contents",
   "toc_cell": false,
   "toc_position": {
    "height": "calc(100% - 180px)",
    "left": "10px",
    "top": "150px",
    "width": "199.943px"
   },
   "toc_section_display": true,
   "toc_window_display": false
  }
 },
 "nbformat": 4,
 "nbformat_minor": 5
}
