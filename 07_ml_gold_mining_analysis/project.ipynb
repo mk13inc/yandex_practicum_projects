{
 "cells": [
  {
   "cell_type": "markdown",
   "metadata": {},
   "source": [
    "# Восстановление золота из руды\n",
    "\n",
    "<a id=\"point0\"></a>"
   ]
  },
  {
   "cell_type": "markdown",
   "metadata": {
    "toc": true
   },
   "source": [
    "<h1>Содержание<span class=\"tocSkip\"></span></h1>\n",
    "<div class=\"toc\"><ul class=\"toc-item\"><li><span><a href=\"#Подготовка-данных\" data-toc-modified-id=\"Подготовка-данных-1\"><span class=\"toc-item-num\">1&nbsp;&nbsp;</span>Подготовка данных</a></span><ul class=\"toc-item\"><li><span><a href=\"#Открытие-и-изучение-файлов\" data-toc-modified-id=\"Открытие-и-изучение-файлов-1.1\"><span class=\"toc-item-num\">1.1&nbsp;&nbsp;</span>Открытие и изучение файлов</a></span></li><li><span><a href=\"#Проверка-корректности-расчета-эффективности-обогащения\" data-toc-modified-id=\"Проверка-корректности-расчета-эффективности-обогащения-1.2\"><span class=\"toc-item-num\">1.2&nbsp;&nbsp;</span>Проверка корректности расчета эффективности обогащения</a></span></li><li><span><a href=\"#Анализ-признаков,-недоступных-в-тестовой-выборке\" data-toc-modified-id=\"Анализ-признаков,-недоступных-в-тестовой-выборке-1.3\"><span class=\"toc-item-num\">1.3&nbsp;&nbsp;</span>Анализ признаков, недоступных в тестовой выборке</a></span></li><li><span><a href=\"#Предобработка-данных\" data-toc-modified-id=\"Предобработка-данных-1.4\"><span class=\"toc-item-num\">1.4&nbsp;&nbsp;</span>Предобработка данных</a></span><ul class=\"toc-item\"><li><span><a href=\"#Обработка-дубликатов\" data-toc-modified-id=\"Обработка-дубликатов-1.4.1\"><span class=\"toc-item-num\">1.4.1&nbsp;&nbsp;</span>Обработка дубликатов</a></span></li><li><span><a href=\"#Добавление-целевых-признаков-в-тестовую-выборку\" data-toc-modified-id=\"Добавление-целевых-признаков-в-тестовую-выборку-1.4.2\"><span class=\"toc-item-num\">1.4.2&nbsp;&nbsp;</span>Добавление целевых признаков в тестовую выборку</a></span></li><li><span><a href=\"#Удаление-лишних-признаков-из-обучающей-выборки\" data-toc-modified-id=\"Удаление-лишних-признаков-из-обучающей-выборки-1.4.3\"><span class=\"toc-item-num\">1.4.3&nbsp;&nbsp;</span>Удаление лишних признаков из обучающей выборки</a></span></li><li><span><a href=\"#Переименование-столбцов\" data-toc-modified-id=\"Переименование-столбцов-1.4.4\"><span class=\"toc-item-num\">1.4.4&nbsp;&nbsp;</span>Переименование столбцов</a></span></li><li><span><a href=\"#Обработка-пропусков\" data-toc-modified-id=\"Обработка-пропусков-1.4.5\"><span class=\"toc-item-num\">1.4.5&nbsp;&nbsp;</span>Обработка пропусков</a></span></li><li><span><a href=\"#Обработка-аномальных-значений\" data-toc-modified-id=\"Обработка-аномальных-значений-1.4.6\"><span class=\"toc-item-num\">1.4.6&nbsp;&nbsp;</span>Обработка аномальных значений</a></span></li><li><span><a href=\"#Изменение-типов-данных\" data-toc-modified-id=\"Изменение-типов-данных-1.4.7\"><span class=\"toc-item-num\">1.4.7&nbsp;&nbsp;</span>Изменение типов данных</a></span></li></ul></li></ul></li><li><span><a href=\"#Исследовательский-анализ-данных\" data-toc-modified-id=\"Исследовательский-анализ-данных-2\"><span class=\"toc-item-num\">2&nbsp;&nbsp;</span>Исследовательский анализ данных</a></span><ul class=\"toc-item\"><li><span><a href=\"#Анализ-изменения-концентрации-металлов-(Au,-Ag,-Pb)-на-различных-этапах-очистки\" data-toc-modified-id=\"Анализ-изменения-концентрации-металлов-(Au,-Ag,-Pb)-на-различных-этапах-очистки-2.1\"><span class=\"toc-item-num\">2.1&nbsp;&nbsp;</span>Анализ изменения концентрации металлов (Au, Ag, Pb) на различных этапах очистки</a></span></li><li><span><a href=\"#Анализ-распределения-размеров-гранул-сырья-на-обучающей-и-тестовой-выборках\" data-toc-modified-id=\"Анализ-распределения-размеров-гранул-сырья-на-обучающей-и-тестовой-выборках-2.2\"><span class=\"toc-item-num\">2.2&nbsp;&nbsp;</span>Анализ распределения размеров гранул сырья на обучающей и тестовой выборках</a></span><ul class=\"toc-item\"><li><span><a href=\"#Сравнение-размеров-гранул-сырья-статистическим-методом\" data-toc-modified-id=\"Сравнение-размеров-гранул-сырья-статистическим-методом-2.2.1\"><span class=\"toc-item-num\">2.2.1&nbsp;&nbsp;</span>Сравнение размеров гранул сырья статистическим методом</a></span></li></ul></li><li><span><a href=\"#Анализ-суммарной-концентрации-всех-веществ-на-разных-стадиях:-в-сырье,-в-черновом-и-финальном-концентратах\" data-toc-modified-id=\"Анализ-суммарной-концентрации-всех-веществ-на-разных-стадиях:-в-сырье,-в-черновом-и-финальном-концентратах-2.3\"><span class=\"toc-item-num\">2.3&nbsp;&nbsp;</span>Анализ суммарной концентрации всех веществ на разных стадиях: в сырье, в черновом и финальном концентратах</a></span></li></ul></li><li><span><a href=\"#Подготовка-данных-к-обучению-модели\" data-toc-modified-id=\"Подготовка-данных-к-обучению-модели-3\"><span class=\"toc-item-num\">3&nbsp;&nbsp;</span>Подготовка данных к обучению модели</a></span><ul class=\"toc-item\"><li><span><a href=\"#Разбивка-данных-по-типам-признака\" data-toc-modified-id=\"Разбивка-данных-по-типам-признака-3.1\"><span class=\"toc-item-num\">3.1&nbsp;&nbsp;</span>Разбивка данных по типам признака</a></span></li><li><span><a href=\"#Масштабирование-данных\" data-toc-modified-id=\"Масштабирование-данных-3.2\"><span class=\"toc-item-num\">3.2&nbsp;&nbsp;</span>Масштабирование данных</a></span></li></ul></li><li><span><a href=\"#Исследование-моделей-машинного-обучения\" data-toc-modified-id=\"Исследование-моделей-машинного-обучения-4\"><span class=\"toc-item-num\">4&nbsp;&nbsp;</span>Исследование моделей машинного обучения</a></span><ul class=\"toc-item\"><li><span><a href=\"#Создание-трансформера-для-предобработки-данных\" data-toc-modified-id=\"Создание-трансформера-для-предобработки-данных-4.1\"><span class=\"toc-item-num\">4.1&nbsp;&nbsp;</span>Создание трансформера для предобработки данных</a></span></li><li><span><a href=\"#Формирование-списка-моделей-и-гиперпараметров\" data-toc-modified-id=\"Формирование-списка-моделей-и-гиперпараметров-4.2\"><span class=\"toc-item-num\">4.2&nbsp;&nbsp;</span>Формирование списка моделей и гиперпараметров</a></span></li><li><span><a href=\"#Обучение-моделей-и-подбор-гиперпараметров\" data-toc-modified-id=\"Обучение-моделей-и-подбор-гиперпараметров-4.3\"><span class=\"toc-item-num\">4.3&nbsp;&nbsp;</span>Обучение моделей и подбор гиперпараметров</a></span></li><li><span><a href=\"#Выбор-лучшей-модели\" data-toc-modified-id=\"Выбор-лучшей-модели-4.4\"><span class=\"toc-item-num\">4.4&nbsp;&nbsp;</span>Выбор лучшей модели</a></span></li><li><span><a href=\"#Проверка-модели-на-тестовой-выборке\" data-toc-modified-id=\"Проверка-модели-на-тестовой-выборке-4.5\"><span class=\"toc-item-num\">4.5&nbsp;&nbsp;</span>Проверка модели на тестовой выборке</a></span></li><li><span><a href=\"#Проверка-модели-на-адекватность\" data-toc-modified-id=\"Проверка-модели-на-адекватность-4.6\"><span class=\"toc-item-num\">4.6&nbsp;&nbsp;</span>Проверка модели на адекватность</a></span></li></ul></li><li><span><a href=\"#Общий-вывод\" data-toc-modified-id=\"Общий-вывод-5\"><span class=\"toc-item-num\">5&nbsp;&nbsp;</span>Общий вывод</a></span></li></ul></div>"
   ]
  },
  {
   "cell_type": "markdown",
   "metadata": {},
   "source": [
    "# Введение\n",
    "**Описание проекта**: Необходимо подготовить прототип модели машинного обучения для «Цифры». Компания разрабатывает решения для эффективной работы промышленных предприятий.  \n",
    "Модель должна предсказать коэффициент восстановления золота из золотосодержащей руды. В вашем распоряжении данные с параметрами добычи и очистки.  \n",
    "Модель поможет оптимизировать производство, чтобы не запускать предприятие с убыточными характеристиками.\n",
    "\n",
    "**Цель исследования**: Подготовить прототип модели машинного обучения для предсказания коэффициента восстановления золота из золотосодержащей руды\n",
    "\n",
    "**Задачи исследования**:\n",
    "1. Ознакомиться с имеющимися в распоряжении данными, характеризующим технологический процесс.\n",
    "2. Проверить корректность расчета заданных параметров на примере эффективности обогащения.\n",
    "3. Произвести предварительную обработку данных.\n",
    "4. Провести исследовательский анализ данных:\n",
    "* Изучить изменение концентрации металлов (Au, Ag, Pb) на различных этапах очистки\n",
    "* Исследовать распределение размеров гранул сырья на обучающей и тестовой выборках\n",
    "* Исследовать суммарную концентрацию всех веществ на разных стадиях\n",
    "\n",
    "5. Подготовить данные к обучению модели\n",
    "6. Исследовать модели машинного обучения\n",
    "7. Найти лучшую по метрике качества модель и проверить ее на тестовой выборке\n",
    "8. Проверить модель на адекватность\n",
    "\n",
    "# Описание технологического процесса\n",
    "\n",
    "Как золото получают из руды? Изучим внимательно стадии процесса.\n",
    "\n",
    "Когда добытая руда проходит первичную обработку, получается дроблёная смесь. Её отправляют на флотацию (обогащение) и двухэтапную очистку."
   ]
  },
  {
   "cell_type": "markdown",
   "metadata": {},
   "source": [
    "![svg image](data:image/svg+xml,%3Csvg%20version%3D%221.1%22%20viewBox%3D%220.0%200.0%20960.0%20540.0%22%20fill%3D%22none%22%20stroke%3D%22none%22%20stroke-linecap%3D%22square%22%20stroke-miterlimit%3D%2210%22%20xmlns%3Axlink%3D%22http%3A//www.w3.org/1999/xlink%22%20xmlns%3D%22http%3A//www.w3.org/2000/svg%22%3E%3CclipPath%20id%3D%22p.0%22%3E%0A%3Cpath%20d%3D%22m0%200l550.0%200l0%20520.0l-960.0%200l0%20-540.0z%22%20clip-rule%3D%22nonzero%22/%3E%3C/clipPath%3E%0A%3Cg%20clip-path%3D%22url%28%23p.0%29%22%3E%0A%3Cpath%20fill%3D%22%23fff%22%20d%3D%22m0%200l960.0%200l0%20540.0l-960.0%200z%22%20fill-rule%3D%22evenodd%22/%3E%0A%3Ctext%20x%3D%22148%22%20y%3D%2230%22%20font-family%3D%22helvetica%22%20font-size%3D%2218%22%20fill%3D%22%23000%22%3E%D0%A1%D0%BC%D0%B5%D1%81%D1%8C%20%D0%B7%D0%BE%D0%BB%D0%BE%D1%82%D0%BE%D0%BD%D0%BE%D1%81%D0%BD%D0%BE%D0%B9%3C/text%3E%0A%3Ctext%20x%3D%22215%22%20y%3D%2252%22%20font-family%3D%22helvetica%22%20font-size%3D%2218%22%20fill%3D%22%23000%22%3E%D1%80%D1%83%D0%B4%D1%8B%3C/text%3E%0A%3Ctext%20x%3D%22194%22%20y%3D%22134%22%20font-family%3D%22helvetica%22%20font-size%3D%2218%22%20fill%3D%22%23000%22%3E%D0%A4%D0%BB%D0%BE%D1%82%D0%B0%D1%86%D0%B8%D1%8F%3C/text%3E%0A%3Cpath%20stroke%3D%22%23000%22%20stroke-width%3D%221.0%22%20stroke-linejoin%3D%22round%22%20stroke-linecap%3D%22butt%22%20d%3D%22m154.27296%20104.63802l0%200c0%20-6.2767487%205.088318%20-11.365059%2011.365051%20-11.365059l142.27776%200c3.0142212%200%205.9049683%201.1973877%208.036316%203.3287506c2.1313782%202.131363%203.3287659%205.02211%203.3287659%208.036308l0%2045.458855c0%206.2767487%20-5.088318%2011.365067%20-11.365082%2011.365067l-142.27776%200c-6.2767334%200%20-11.365051%20-5.088318%20-11.365051%20-11.365067z%22%20fill-rule%3D%22evenodd%22/%3E%20%20%20%0A%3Cpath%20stroke%3D%22%232356ff%22%20stroke-width%3D%223.0%22%20stroke-linejoin%3D%22round%22%20stroke-linecap%3D%22butt%22%20d%3D%22m236.08398%2064.64304l0.2574005%2010.635193%22%20fill-rule%3D%22evenodd%22/%3E%0A%3Cpath%20fill%3D%22%232356ff%22%20stroke%3D%22%232356ff%22%20stroke-width%3D%223.0%22%20stroke-linecap%3D%22butt%22%20d%3D%22m231.38763%2075.39813l5.2831573%2013.49041l4.624344%20-13.730202z%22%20fill-rule%3D%22evenodd%22/%3E%0A%3Cpath%20stroke%3D%22%232356ff%22%20stroke-width%3D%223.0%22%20stroke-linejoin%3D%22round%22%20stroke-linecap%3D%22butt%22%20d%3D%22m236.7769%20161.46194l-0.5796051%2072.04782%22%20fill-rule%3D%22evenodd%22/%3E%0A%3Cpath%20fill%3D%22%232356ff%22%20stroke%3D%22%232356ff%22%20stroke-width%3D%223.0%22%20stroke-linecap%3D%22butt%22%20d%3D%22m231.24226%20233.46991l4.8455048%2013.653717l5.06456%20-13.57399z%22%20fill-rule%3D%22evenodd%22/%3E%0A%3Cpath%20fill%3D%22%23fff%22%20d%3D%22m110.69292%20177.46985l250.74016%200l0%2042.015747l-250.74016%200z%22%20fill-rule%3D%22evenodd%22/%3E%0A%3Ctext%20x%3D%22143%22%20y%3D%22204%22%20font-family%3D%22helvetica%22%20font-size%3D%2218%22%20fill%3D%22%23000%22%3E%D0%A7%D0%B5%D1%80%D0%BD%D0%BE%D0%B2%D0%BE%D0%B9%20%D0%BA%D0%BE%D0%BD%D1%86%D0%B5%D0%BD%D1%82%D1%80%D0%B0%D1%82%3C/text%3E%0A%3Cpath%20stroke%3D%22%23000%22%20stroke-width%3D%221.0%22%20stroke-linejoin%3D%22round%22%20stroke-linecap%3D%22butt%22%20d%3D%22m153.55905%20262.8585l0%200c0%20-6.2767334%205.088318%20-11.365051%2011.365067%20-11.365051l142.27776%200c3.0141907%200%205.9049377%201.1973877%208.036316%203.3287506c2.1313477%202.131363%203.3287354%205.02211%203.3287354%208.036301l0%2045.458862c0%206.276764%20-5.088318%2011.365051%20-11.365051%2011.365051l-142.27776%200c-6.2767487%200%20-11.365067%20-5.0882874%20-11.365067%20-11.365051z%22%20fill-rule%3D%22evenodd%22/%3E%0A%3Ctext%20x%3D%22180%22%20y%3D%22281%22%20font-family%3D%22helvetica%22%20font-size%3D%2218%22%20fill%3D%22%23000%22%3E%D0%9F%D0%B5%D1%80%D0%B2%D1%8B%D0%B9%20%D1%8D%D1%82%D0%B0%D0%BF%3C/text%3E%0A%3Ctext%20x%3D%22203%22%20y%3D%22303%22%20font-family%3D%22helvetica%22%20font-size%3D%2218%22%20fill%3D%22%23000%22%3E%D0%BE%D1%87%D0%B8%D1%81%D1%82%D0%BA%D0%B8%3C/text%3E%0A%3Ctext%20x%3D%22184%22%20y%3D%22389%22%20font-family%3D%22helvetica%22%20font-size%3D%2218%22%20fill%3D%22%23000%22%3E%D0%92%D1%82%D0%BE%D1%80%D0%BE%D0%B9%20%D1%8D%D1%82%D0%B0%D0%BF%3C/text%3E%0A%3Ctext%20x%3D%22203%22%20y%3D%22411%22%20font-family%3D%22helvetica%22%20font-size%3D%2218%22%20fill%3D%22%23000%22%3E%D0%BE%D1%87%D0%B8%D1%81%D1%82%D0%BA%D0%B8%3C/text%3E%0A%3Cpath%20stroke%3D%22%23000%22%20stroke-width%3D%221.0%22%20stroke-linejoin%3D%22round%22%20stroke-linecap%3D%22butt%22%20d%3D%22m153.55905%20369.8585l0%200c0%20-6.2767334%205.088318%20-11.365051%2011.365067%20-11.365051l142.27776%200c3.0141907%200%205.9049377%201.1973877%208.036316%203.3287354c2.1313477%202.1313782%203.3287354%205.0221252%203.3287354%208.036316l0%2045.458862c0%206.276764%20-5.088318%2011.365051%20-11.365051%2011.365051l-142.27776%200c-6.2767487%200%20-11.365067%20-5.0882874%20-11.365067%20-11.365051z%22%20fill-rule%3D%22evenodd%22/%3E%0A%3Cpath%20stroke%3D%22%232356ff%22%20stroke-width%3D%223.0%22%20stroke-linejoin%3D%22round%22%20stroke-linecap%3D%22butt%22%20d%3D%22m236.06299%20319.6824l0%2020.803162%22%20fill-rule%3D%22evenodd%22/%3E%0A%3Cpath%20fill%3D%22%232356ff%22%20stroke%3D%22%232356ff%22%20stroke-width%3D%223.0%22%20stroke-linecap%3D%22butt%22%20d%3D%22m231.10779%20340.48557l4.9552%2013.614288l4.9552%20-13.614288z%22%20fill-rule%3D%22evenodd%22/%3E%0A%3Cpath%20stroke%3D%22%232356ff%22%20stroke-width%3D%223.0%22%20stroke-linejoin%3D%22round%22%20stroke-linecap%3D%22butt%22%20d%3D%22m236.06299%20426.6824l0%2014.314972%22%20fill-rule%3D%22evenodd%22/%3E%0A%3Cpath%20fill%3D%22%232356ff%22%20stroke%3D%22%232356ff%22%20stroke-width%3D%223.0%22%20stroke-linecap%3D%22butt%22%20d%3D%22m231.10779%20440.99738l4.9552%2013.614288l4.9552%20-13.614288z%22%20fill-rule%3D%22evenodd%22/%3E%0A%3Ctext%20x%3D%22187%22%20y%3D%22478%22%20font-family%3D%22helvetica%22%20font-size%3D%2218%22%20fill%3D%22%23000%22%3E%D0%A4%D0%B8%D0%BD%D0%B0%D0%BB%D1%8C%D0%BD%D1%8B%D0%B9%3C/text%3E%0A%3Ctext%20x%3D%22188%22%20y%3D%22500%22%20font-family%3D%22helvetica%22%20font-size%3D%2218%22%20fill%3D%22%23000%22%3E%D0%BA%D0%BE%D0%BD%D1%86%D0%B5%D0%BD%D1%82%D1%80%D0%B0%D1%82%3C/text%3E%0A%3Ctext%20x%3D%22413%22%20y%3D%22478%22%20font-family%3D%22helvetica%22%20font-size%3D%2218%22%20fill%3D%22%23000%22%3E%D0%9E%D1%82%D0%B2%D0%B0%D0%BB%D1%8C%D0%BD%D1%8B%D0%B5%3C/text%3E%0A%3Ctext%20x%3D%22432%22%20y%3D%22500%22%20font-family%3D%22helvetica%22%20font-size%3D%2218%22%20fill%3D%22%23000%22%3E%D1%85%D0%B2%D0%BE%D1%81%D1%82%D1%8B%3C/text%3E%0A%3Cpath%20stroke%3D%22%232356ff%22%20stroke-width%3D%223.0%22%20stroke-linejoin%3D%22round%22%20stroke-linecap%3D%22butt%22%20d%3D%22m319.28085%20127.367455l142.61417%200l0%20318.56693%22%20fill-rule%3D%22evenodd%22/%3E%0A%3Cpath%20fill%3D%22%232356ff%22%20stroke%3D%22%232356ff%22%20stroke-width%3D%223.0%22%20stroke-linecap%3D%22butt%22%20d%3D%22m456.93158%20440.68262l4.9552%2013.614288l4.9552%20-13.614288z%22%20fill-rule%3D%22evenodd%22/%3E%0A%3Cpath%20stroke%3D%22%232356ff%22%20stroke-width%3D%223.0%22%20stroke-linejoin%3D%22round%22%20stroke-linecap%3D%22butt%22%20d%3D%22m318.56693%20285.58792l144.75592%200%22%20fill-rule%3D%22evenodd%22/%3E%0A%3Cpath%20stroke%3D%22%232356ff%22%20stroke-width%3D%223.0%22%20stroke-linejoin%3D%22round%22%20stroke-linecap%3D%22butt%22%20d%3D%22m318.20996%20390.69815l144.75592%200%22%20fill-rule%3D%22evenodd%22/%3E%0A%3C/g%3E%0A%3C/svg%3E)"
   ]
  },
  {
   "cell_type": "markdown",
   "metadata": {},
   "source": [
    "Описание каждой стадии: \n",
    "1. **Флотация**. Во флотационную установку подаётся смесь золотосодержащей руды. После обогащения получается черновой концентрат и «отвальные хвосты», то есть остатки продукта с низкой концентрацией ценных металлов.  \n",
    "На стабильность этого процесса влияет непостоянное и неоптимальное физико-химическое состояние флотационной пульпы (смеси твёрдых частиц и жидкости).\n",
    "2. **Очистка**. Черновой концентрат проходит две очистки. На выходе получается финальный концентрат и новые отвальные хвосты.\n",
    "\n",
    "# Описание данных\n",
    "**Технологический процесс**\n",
    "* *Rougher feed* — исходное сырье\n",
    "* *Rougher additions* (или *reagent additions*) — флотационные реагенты: *Xanthate*, *Sulphate*, *Depressant*\n",
    "  * *Xanthate* — ксантогенат (промотер, или активатор флотации);\n",
    "  * *Sulphate* — сульфат (на данном производстве сульфид натрия);\n",
    "  * *Depressant* — депрессант (силикат натрия).\n",
    "* *Rougher process* (англ. «грубый процесс») — флотация\n",
    "* *Rougher tails* — отвальные хвосты\n",
    "* *Float banks* — флотационная установка\n",
    "* *Cleaner process* — очистка\n",
    "* *Rougher Au* — черновой концентрат золота\n",
    "* *Final Au* — финальный концентрат золота\n",
    "\n",
    "**Параметры этапов**\n",
    "* *air amount* — объём воздуха\n",
    "* *fluid levels* — уровень жидкости\n",
    "* *feed size* — размер гранул сырья\n",
    "* *feed rate* — скорость подачи\n",
    "\n",
    "**Наименование признаков**  \n",
    "Наименование признаков должно быть такое:  \n",
    "`[этап].[тип_параметра].[название_параметра]`  \n",
    "Пример: `rougher.input.feed_ag`\n",
    "\n",
    "Возможные значения для блока `[этап]`:\n",
    "* *rougher* — флотация\n",
    "* *primary_cleaner* — первичная очистка\n",
    "* *secondary_cleaner* — вторичная очистка\n",
    "* *final* — финальные характеристики\n",
    "\n",
    "Возможные значения для блока `[тип_параметра]`:\n",
    "* *input* — параметры сырья\n",
    "* *output* — параметры продукта\n",
    "* *state* — параметры, характеризующие текущее состояние этапа\n",
    "* *calculation* — расчётные характеристики\n",
    "\n",
    "**Расчёт эффективности**  \n",
    "Вам нужно смоделировать процесс восстановления золота из золотосодержащей руды.  \n",
    "Эффективность обогащения рассчитывается по формуле:  \n",
    "<p><center>Recovery = $\\frac{C \\times (F - T)}{F\\times(C-T)}\\times 100\\%$</center></p>\n",
    "\n",
    "где:\n",
    "* $C$ — доля золота в концентрате после флотации/очистки;\n",
    "* $F$ — доля золота в сырье/концентрате до флотации/очистки;\n",
    "* $T$ — доля золота в отвальных хвостах после флотации/очистки.\n",
    "\n",
    "Для прогноза коэффициента нужно найти долю золота в концентратах и хвостах. Причём важен не только финальный продукт, но и черновой концентрат.\n",
    "\n",
    "**Метрика качества**\n",
    "Для решения задачи введём новую метрику качества — **sMAPE** (англ. *Symmetric Mean Absolute Percentage Error*, «симметричное среднее абсолютное процентное отклонение»).\n",
    "\n",
    "Она похожа на *MAE*, но выражается не в абсолютных величинах, а в относительных. Почему *симметричная*? Она одинаково учитывает масштаб и целевого признака, и предсказания.\n",
    "\n",
    "Метрика *sMAPE* вычисляется так:  \n",
    "<p><center>sMAPE = $\\frac{1}{N}\\displaystyle\\sum_{i=1}^{N} \\frac{|y_i-\\hat{y}_i|}{\\frac{|y_i|+|\\hat{y}_i|}{2}}\\times 100\\%$</center></p>\n",
    "\n",
    "Обозначения:\n",
    "* $y_i$ — Значение целевого признака для объекта с порядковым номером $i$ в выборке, на которой измеряется качество.\n",
    "* $\\hat{y}_i$ — Значение предсказания для объекта с порядковым номером $i$, например, в тестовой выборке.\n",
    "* $N$ — Количество объектов в выборке.\n",
    "* $\\displaystyle\\sum_{i=1}^{N}$ — Суммирование по всем объектам выборки ($i$ меняется от 1 до $N$).\n",
    "\n",
    "Нужно спрогнозировать сразу две величины:\n",
    "* эффективность обогащения чернового концентрата `rougher.output.recovery`;\n",
    "* эффективность обогащения финального концентрата `final.output.recovery`.\n",
    "\n",
    "Итоговая метрика складывается из двух величин:  \n",
    "<p><center>Итоговое sMAPE = $25\\% \\times \\mathrm{sMAPE}(\\mathrm{rougher}) + 75\\% \\times \\mathrm{sMAPE}(\\mathrm{final})$</center></p>"
   ]
  },
  {
   "cell_type": "markdown",
   "metadata": {},
   "source": [
    "## Подготовка данных\n",
    "\n",
    "Импорт необходимых для выполнения проекта библиотек:"
   ]
  },
  {
   "cell_type": "code",
   "execution_count": 1,
   "metadata": {},
   "outputs": [],
   "source": [
    "import pandas as pd  # Импорт библиотеки pandas\n",
    "import matplotlib.pyplot as plt  # Импорт библиотеки для работы с графиками\n",
    "from scipy import stats as st # Подключение модуля stats из библиотеки scipy\n",
    "\n",
    "# Импорт функций для Pipeline:\n",
    "from sklearn.preprocessing import MinMaxScaler # Импорт функции масштабирования данных\n",
    "from sklearn.metrics import make_scorer # функция оценки модели\n",
    "from sklearn.compose import ColumnTransformer\n",
    "from sklearn.model_selection import GridSearchCV\n",
    "from sklearn.pipeline import Pipeline\n",
    "\n",
    "# Импорт моделей машинного обучения:\n",
    "from sklearn.tree import DecisionTreeRegressor # Дерево решений\n",
    "from sklearn.ensemble import RandomForestRegressor # Случайный лес\n",
    "from sklearn.linear_model import LinearRegression # Линейная регрессия\n",
    "from sklearn.dummy import DummyRegressor # Модель DummyRegressor"
   ]
  },
  {
   "cell_type": "markdown",
   "metadata": {},
   "source": [
    "Установка вспомогательных настроек, функций и констант:"
   ]
  },
  {
   "cell_type": "code",
   "execution_count": 2,
   "metadata": {},
   "outputs": [],
   "source": [
    "# формат вывода float-чисел датафрейма:\n",
    "pd.options.display.float_format = (\"{:.3f}\".format)\n",
    "\n",
    "# снятие ограничения на максимальное количество отображаемых столбцов:\n",
    "pd.set_option('display.max_columns', None)\n",
    "\n",
    "# размер графиков по умолчанию:\n",
    "plt.rcParams[\"figure.figsize\"] = (15,7)\n",
    "\n",
    "# отображение сетки графиков:\n",
    "plt.rcParams.update({'axes.grid' : True, 'grid.alpha': 0.33, 'grid.linestyle': '--'})\n",
    "\n",
    "# переменные для форматирования шрифта при выводе информации:\n",
    "green, red, blue, pink, black, bold, end = '\\33[92m', '\\33[91m', '\\33[36m', '\\33[95m','\\33[7m', '\\33[1m','\\33[0m'\n",
    "\n",
    "# установка цветовой палитры:\n",
    "color_list = ['#1f77b4', '#ff7f0e', '#2ca02c', '#d62728', '#9467bd', \n",
    "               '#8c564b', '#e377c2', '#7f7f7f', '#bcbd22', '#17becf']\n",
    "\n",
    "def dataset_describe():\n",
    "    \"\"\"\n",
    "    Функция для вывода общей информации о датасете\n",
    "    \"\"\"\n",
    "    print(bold + 'Количество строк:' + end)\n",
    "    print('• в исходных данных -', data_full.shape[0])\n",
    "    print('• в обучающей выборке -', data_train.shape[0])\n",
    "    print('• в тестовой выборке -', data_test.shape[0])\n",
    "    print()\n",
    "    print(bold + 'Суммарное количество строк в датасетах train и test:' + end, \n",
    "          f'{data_train.shape[0] + data_test.shape[0]}')\n",
    "    print('Выборки поделены в пропорциях:',\n",
    "          '\\33[45m' + f\"[train: {round(data_train.shape[0] * 100 / data_full.shape[0])}%]\" + end + \\\n",
    "          ', ' + '\\33[43m' + f'[test: {round(data_test.shape[0] * 100 / data_full.shape[0])}%]' + end,\n",
    "          ' от объема исходных данных')\n",
    "    print('\\n* * *\\n')\n",
    "    print(bold + 'Количество столбцов:' + end)\n",
    "    print(f'• в исходных данных - {len(data_full.columns)}')\n",
    "    print(f'• в обучающей выборке - {len(data_train.columns)}')\n",
    "    print(f'• в тестовой выборке - {len(data_test.columns)}')\n",
    "    print('\\n* * *\\n')\n",
    "    print(bold + 'Суммарное количество пропусков в исходных данных:' + end, \n",
    "          red + f'{data_full.isna().sum().sum()}' + end)\n",
    "    print(f\"Исходные данные имеют временные метки от [{data_full['date'].iloc[1]}]\",\n",
    "          f\"до [{data_full['date'].iloc[-1]}]\")\n",
    "    print('\\n* * *\\n')\n",
    "    print(bold + 'Описательная информация для данных:' + end, '[' + blue + 'минимальное значение' + end + ', ' + \\\n",
    "          green + 'медиана' + end + ', ' + red + 'максимальное значение' + end + ']')\n",
    "    for el in data_full.columns[1:]:\n",
    "        print('\\33[4m' + el + end + f': [' + blue + f'{data_full[el].min():.1f}' + end + ', ' + green \\\n",
    "              + f'{data_full[el].median():.1f}' + end + ', ' + red + f'{data_full[el].max():.1f}' + end + '];', \n",
    "              end='  ')\n",
    "\n",
    "def is_that_snake(list_of_strings):\n",
    "    \"\"\"\n",
    "    Данная функция получает на входе список со строковыми значениями (например, список заголовков датафрейма)\n",
    "    и поочередно проверяет наличие НЕжелательных для оформления символов.\n",
    "    Желательные символы: английский алфавит в нижнем регистре, нижнее подчеркивание и цифры от 0 до 9\n",
    "    \"\"\"\n",
    "    snake_symbols, bad_list = list('abcdefghijklmnopqrstuvwxyz_.0123456789'), []\n",
    "    for i in list_of_strings:\n",
    "        if set(i).issubset(snake_symbols): # проверка, что все элементы подмножества i\n",
    "            pass                           # принадлежат множеству snake_symbols\n",
    "        else:\n",
    "            bad_list.append(i)\n",
    "    return f'(!) Следует обратить внимание: {bad_list}' if bad_list else '✅ Проблем с регистром не обнаружено'    \n",
    "\n",
    "def na_count(data):\n",
    "    \"\"\"\n",
    "    Функция для расчета количества пропусков для датасета\n",
    "    \"\"\"\n",
    "    return (data.isna().sum().rename(\"Количество\").to_frame()\n",
    "            .join((100 * data.isna().mean()).rename(\"%\").to_frame())\n",
    "            .sort_values(by=\"%\", ascending=False))\n",
    "\n",
    "def draw_hist(data_set, y, title, ylabel, xlabel, bins=100, alpha=1):\n",
    "    \"\"\"\n",
    "    Функция построения гистограммы\n",
    "    \"\"\"\n",
    "    data_set.plot(kind='hist', y=y, bins=bins, alpha=alpha)\n",
    "    plt.title(title)\n",
    "    plt.xlabel(xlabel)\n",
    "    plt.ylabel(ylabel)\n",
    "    plt.legend(bbox_to_anchor=(0.79, 1))\n",
    "    plt.show()\n",
    "\n",
    "def draw_hist_box(param, bins=100, ylim_b=0, ylim_t=100):\n",
    "    \"\"\"\n",
    "    Функция для отрисовки диаграмм размаха и гистограмм для train и test выборок\n",
    "    \"\"\"\n",
    "    df = pd.DataFrame({\n",
    "        'train': data_train[param],\n",
    "        'test' : data_test[param]\n",
    "       })\n",
    "    # Данные и плоттеры\n",
    "    fig, axs = plt.subplots(1, 2, figsize=(15, 7))  # Создаем сетку из 1 строки и 2 столбцов\n",
    "\n",
    "    # График 1: \n",
    "    plt.hist(df['train'], alpha=0.66, label='Обучающая выборка', orientation=\"horizontal\", bins=bins)\n",
    "    plt.hist(df['test'], alpha=0.66, label='Тестовая выборка', orientation=\"horizontal\", bins=bins)\n",
    "    \n",
    "    # График 2: \n",
    "    df.boxplot(['train', 'test'], ax=axs[0])\n",
    "    \n",
    "    # Заголовки для каждого графика\n",
    "    axs[0].set_title('Диаграмма размаха')\n",
    "    axs[0].set_ylabel('Размер гранул сырья')\n",
    "    axs[0].set_xlabel('Выборки')\n",
    "    axs[0].set_ylim(bottom=ylim_b, top=ylim_t)\n",
    "    axs[1].set_title('Гистограмма распределения параметра')\n",
    "    axs[1].set_xlabel('Частота')\n",
    "    axs[1].set_ylim(bottom=ylim_b, top=ylim_t)\n",
    "    \n",
    "    # Настройки отображения\n",
    "    plt.tight_layout()  # Автоматически подгоняет отступы\n",
    "    plt.legend()\n",
    "    plt.show()\n",
    "\n",
    "def draw_density(param, bins=100, figsize=(15, 7), xlim=[0,200]):\n",
    "    \"\"\"\n",
    "    Функция для отрисовки графиков плотности значений для train и test выборок\n",
    "    \"\"\"\n",
    "    x1=data_train[param]\n",
    "    x2=data_test[param]\n",
    "    kde1 = st.gaussian_kde(x1)\n",
    "    kde2 = st.gaussian_kde(x2)\n",
    "    fig = plt.figure(figsize=figsize)\n",
    "    ax = fig.add_subplot(111)    \n",
    "    x_eval = [i * xlim[1]/100 for i in range(100)]\n",
    "    ax.hist(x1, bins=bins, alpha=0.75, color='blue', density=True, label='Обучающая выборка', ec=\"white\")\n",
    "    ax.hist(x2, bins=bins, alpha=0.75, color='red', density=True, label='Тестовая выборка', ec=\"white\")\n",
    "    ax.plot(x_eval, kde1(x_eval), color='blue')\n",
    "    ax.plot(x_eval, kde2(x_eval), color='red')\n",
    "    plt.axvline(x1.mean(), color='blue', linestyle='dashed', linewidth=2, \n",
    "                label=f'Среднее обучающей выборки: {x1.mean():.2f}')\n",
    "    plt.axvline(x2.mean(), color='red', linestyle='dashed', linewidth=2, \n",
    "                label=f'Среднее тестовой выборки: {x2.mean():.2f}')\n",
    "    plt.title(f'Независимый t-тест: Зависимость среднего значения {param} от типа выборки\\np-value = {p_value}')\n",
    "    plt.xlabel('Размер сырья')\n",
    "    plt.ylabel('Плотность распределения')\n",
    "    plt.xlim(left=xlim[0], right=xlim[1])\n",
    "    plt.legend()\n",
    "    plt.show()    \n",
    "\n",
    "def test_interpretation(param, train_values, test_values):\n",
    "    \"\"\"\n",
    "    Функция интерпретации статистического теста\n",
    "    \"\"\"\n",
    "    print(bold + f'p-value: ' + end + f'{p_value}')\n",
    "    \n",
    "    # Оценка результатов\n",
    "    if p_value < 0.05:\n",
    "        print(red + \"Отвергаем нулевую гипотезу: среднее значение зависит от выборки\" + end)\n",
    "    else:\n",
    "        print(\"Не отвергаем нулевую гипотезу: недостаточно доказательств, что среднее значение зависит от выборки\")\n",
    "    print(bold + 'Среднее обучающей выборки: ' + end + f'{train_values.mean():.2f}')\n",
    "    print(bold + 'Среднее тестовой выборки: '  + end + f'{test_values.mean():.2f}')"
   ]
  },
  {
   "cell_type": "markdown",
   "metadata": {},
   "source": [
    "[Вернуться к оглавлению](#point0)"
   ]
  },
  {
   "cell_type": "markdown",
   "metadata": {},
   "source": [
    "### Открытие и изучение файлов"
   ]
  },
  {
   "cell_type": "code",
   "execution_count": 3,
   "metadata": {},
   "outputs": [],
   "source": [
    "data_train = pd.read_csv('/datasets/gold_recovery_train_new.csv')\n",
    "data_test  = pd.read_csv('/datasets/gold_recovery_test_new.csv')\n",
    "data_full  = pd.read_csv('/datasets/gold_recovery_full_new.csv')"
   ]
  },
  {
   "cell_type": "markdown",
   "metadata": {},
   "source": [
    "По условию проекта предоставлены три набора данных: \n",
    "* `gold_recovery_train_new.csv`,\n",
    "* `gold_recovery_test_new.csv`,\n",
    "* `gold_recovery_full_new.csv`.\n",
    "\n",
    "\n",
    "Обучающая и тестовая выборки, а также полный набор данных.\n",
    "\n",
    "Поскольку набор данных довольно большой как по количеству строк, так и по количеству столбцов, отобразим основную описательную информацию об имеющихся данных:"
   ]
  },
  {
   "cell_type": "code",
   "execution_count": 4,
   "metadata": {
    "scrolled": true
   },
   "outputs": [
    {
     "name": "stdout",
     "output_type": "stream",
     "text": [
      "\u001b[1mКоличество строк:\u001b[0m\n",
      "• в исходных данных - 19439\n",
      "• в обучающей выборке - 14149\n",
      "• в тестовой выборке - 5290\n",
      "\n",
      "\u001b[1mСуммарное количество строк в датасетах train и test:\u001b[0m 19439\n",
      "Выборки поделены в пропорциях: \u001b[45m[train: 73%]\u001b[0m, \u001b[43m[test: 27%]\u001b[0m  от объема исходных данных\n",
      "\n",
      "* * *\n",
      "\n",
      "\u001b[1mКоличество столбцов:\u001b[0m\n",
      "• в исходных данных - 87\n",
      "• в обучающей выборке - 87\n",
      "• в тестовой выборке - 53\n",
      "\n",
      "* * *\n",
      "\n",
      "\u001b[1mСуммарное количество пропусков в исходных данных:\u001b[0m \u001b[91m4481\u001b[0m\n",
      "Исходные данные имеют временные метки от [2016-01-15 01:00:00] до [2018-08-18 10:59:59]\n",
      "\n",
      "* * *\n",
      "\n",
      "\u001b[1mОписательная информация для данных:\u001b[0m [\u001b[36mминимальное значение\u001b[0m, \u001b[92mмедиана\u001b[0m, \u001b[91mмаксимальное значение\u001b[0m]\n",
      "\u001b[4mfinal.output.concentrate_ag\u001b[0m: [\u001b[36m0.0\u001b[0m, \u001b[92m5.1\u001b[0m, \u001b[91m16.0\u001b[0m];  \u001b[4mfinal.output.concentrate_pb\u001b[0m: [\u001b[36m0.0\u001b[0m, \u001b[92m10.1\u001b[0m, \u001b[91m17.0\u001b[0m];  \u001b[4mfinal.output.concentrate_sol\u001b[0m: [\u001b[36m0.0\u001b[0m, \u001b[92m9.2\u001b[0m, \u001b[91m19.6\u001b[0m];  \u001b[4mfinal.output.concentrate_au\u001b[0m: [\u001b[36m0.0\u001b[0m, \u001b[92m45.0\u001b[0m, \u001b[91m52.8\u001b[0m];  \u001b[4mfinal.output.recovery\u001b[0m: [\u001b[36m0.0\u001b[0m, \u001b[92m68.2\u001b[0m, \u001b[91m100.0\u001b[0m];  \u001b[4mfinal.output.tail_ag\u001b[0m: [\u001b[36m0.0\u001b[0m, \u001b[92m9.7\u001b[0m, \u001b[91m19.6\u001b[0m];  \u001b[4mfinal.output.tail_pb\u001b[0m: [\u001b[36m0.0\u001b[0m, \u001b[92m2.7\u001b[0m, \u001b[91m5.8\u001b[0m];  \u001b[4mfinal.output.tail_sol\u001b[0m: [\u001b[36m0.0\u001b[0m, \u001b[92m10.6\u001b[0m, \u001b[91m22.3\u001b[0m];  \u001b[4mfinal.output.tail_au\u001b[0m: [\u001b[36m0.0\u001b[0m, \u001b[92m3.0\u001b[0m, \u001b[91m8.2\u001b[0m];  \u001b[4mprimary_cleaner.input.sulfate\u001b[0m: [\u001b[36m0.0\u001b[0m, \u001b[92m143.2\u001b[0m, \u001b[91m266.0\u001b[0m];  \u001b[4mprimary_cleaner.input.depressant\u001b[0m: [\u001b[36m0.0\u001b[0m, \u001b[92m8.0\u001b[0m, \u001b[91m40.0\u001b[0m];  \u001b[4mprimary_cleaner.input.feed_size\u001b[0m: [\u001b[36m1.1\u001b[0m, \u001b[92m7.3\u001b[0m, \u001b[91m15.5\u001b[0m];  \u001b[4mprimary_cleaner.input.xanthate\u001b[0m: [\u001b[36m0.0\u001b[0m, \u001b[92m0.9\u001b[0m, \u001b[91m4.1\u001b[0m];  \u001b[4mprimary_cleaner.output.concentrate_ag\u001b[0m: [\u001b[36m0.0\u001b[0m, \u001b[92m8.5\u001b[0m, \u001b[91m16.1\u001b[0m];  \u001b[4mprimary_cleaner.output.concentrate_pb\u001b[0m: [\u001b[36m0.0\u001b[0m, \u001b[92m10.2\u001b[0m, \u001b[91m17.1\u001b[0m];  \u001b[4mprimary_cleaner.output.concentrate_sol\u001b[0m: [\u001b[36m0.0\u001b[0m, \u001b[92m10.3\u001b[0m, \u001b[91m22.5\u001b[0m];  \u001b[4mprimary_cleaner.output.concentrate_au\u001b[0m: [\u001b[36m0.0\u001b[0m, \u001b[92m32.8\u001b[0m, \u001b[91m45.9\u001b[0m];  \u001b[4mprimary_cleaner.output.tail_ag\u001b[0m: [\u001b[36m0.0\u001b[0m, \u001b[92m15.8\u001b[0m, \u001b[91m29.5\u001b[0m];  \u001b[4mprimary_cleaner.output.tail_pb\u001b[0m: [\u001b[36m0.0\u001b[0m, \u001b[92m3.3\u001b[0m, \u001b[91m9.6\u001b[0m];  \u001b[4mprimary_cleaner.output.tail_sol\u001b[0m: [\u001b[36m0.0\u001b[0m, \u001b[92m8.2\u001b[0m, \u001b[91m22.3\u001b[0m];  \u001b[4mprimary_cleaner.output.tail_au\u001b[0m: [\u001b[36m0.0\u001b[0m, \u001b[92m3.6\u001b[0m, \u001b[91m17.8\u001b[0m];  \u001b[4mprimary_cleaner.state.floatbank8_a_air\u001b[0m: [\u001b[36m0.0\u001b[0m, \u001b[92m1600.6\u001b[0m, \u001b[91m2103.1\u001b[0m];  \u001b[4mprimary_cleaner.state.floatbank8_a_level\u001b[0m: [\u001b[36m-798.6\u001b[0m, \u001b[92m-499.9\u001b[0m, \u001b[91m-57.2\u001b[0m];  \u001b[4mprimary_cleaner.state.floatbank8_b_air\u001b[0m: [\u001b[36m0.0\u001b[0m, \u001b[92m1600.5\u001b[0m, \u001b[91m2114.9\u001b[0m];  \u001b[4mprimary_cleaner.state.floatbank8_b_level\u001b[0m: [\u001b[36m-800.0\u001b[0m, \u001b[92m-500.0\u001b[0m, \u001b[91m-142.5\u001b[0m];  \u001b[4mprimary_cleaner.state.floatbank8_c_air\u001b[0m: [\u001b[36m0.0\u001b[0m, \u001b[92m1600.3\u001b[0m, \u001b[91m2013.2\u001b[0m];  \u001b[4mprimary_cleaner.state.floatbank8_c_level\u001b[0m: [\u001b[36m-800.0\u001b[0m, \u001b[92m-499.9\u001b[0m, \u001b[91m-150.9\u001b[0m];  \u001b[4mprimary_cleaner.state.floatbank8_d_air\u001b[0m: [\u001b[36m0.0\u001b[0m, \u001b[92m1599.4\u001b[0m, \u001b[91m2398.9\u001b[0m];  \u001b[4mprimary_cleaner.state.floatbank8_d_level\u001b[0m: [\u001b[36m-799.8\u001b[0m, \u001b[92m-499.9\u001b[0m, \u001b[91m-30.6\u001b[0m];  \u001b[4mrougher.calculation.sulfate_to_au_concentrate\u001b[0m: [\u001b[36m-42235197.4\u001b[0m, \u001b[92m44696.5\u001b[0m, \u001b[91m3428098.9\u001b[0m];  \u001b[4mrougher.calculation.floatbank10_sulfate_to_au_feed\u001b[0m: [\u001b[36m-486.6\u001b[0m, \u001b[92m3018.4\u001b[0m, \u001b[91m629639.0\u001b[0m];  \u001b[4mrougher.calculation.floatbank11_sulfate_to_au_feed\u001b[0m: [\u001b[36m-265.0\u001b[0m, \u001b[92m2997.2\u001b[0m, \u001b[91m718685.0\u001b[0m];  \u001b[4mrougher.calculation.au_pb_ratio\u001b[0m: [\u001b[36m-0.0\u001b[0m, \u001b[92m2.3\u001b[0m, \u001b[91m39.4\u001b[0m];  \u001b[4mrougher.input.feed_ag\u001b[0m: [\u001b[36m0.0\u001b[0m, \u001b[92m8.6\u001b[0m, \u001b[91m14.6\u001b[0m];  \u001b[4mrougher.input.feed_pb\u001b[0m: [\u001b[36m0.0\u001b[0m, \u001b[92m3.5\u001b[0m, \u001b[91m7.1\u001b[0m];  \u001b[4mrougher.input.feed_rate\u001b[0m: [\u001b[36m0.0\u001b[0m, \u001b[92m499.4\u001b[0m, \u001b[91m717.5\u001b[0m];  \u001b[4mrougher.input.feed_size\u001b[0m: [\u001b[36m0.0\u001b[0m, \u001b[92m54.6\u001b[0m, \u001b[91m485.0\u001b[0m];  \u001b[4mrougher.input.feed_sol\u001b[0m: [\u001b[36m0.0\u001b[0m, \u001b[92m37.2\u001b[0m, \u001b[91m53.5\u001b[0m];  \u001b[4mrougher.input.feed_au\u001b[0m: [\u001b[36m0.0\u001b[0m, \u001b[92m8.1\u001b[0m, \u001b[91m13.7\u001b[0m];  \u001b[4mrougher.input.floatbank10_sulfate\u001b[0m: [\u001b[36m0.0\u001b[0m, \u001b[92m12.0\u001b[0m, \u001b[91m36.1\u001b[0m];  \u001b[4mrougher.input.floatbank10_xanthate\u001b[0m: [\u001b[36m0.0\u001b[0m, \u001b[92m6.0\u001b[0m, \u001b[91m9.7\u001b[0m];  \u001b[4mrougher.input.floatbank11_sulfate\u001b[0m: [\u001b[36m0.0\u001b[0m, \u001b[92m12.0\u001b[0m, \u001b[91m38.0\u001b[0m];  \u001b[4mrougher.input.floatbank11_xanthate\u001b[0m: [\u001b[36m0.0\u001b[0m, \u001b[92m6.1\u001b[0m, \u001b[91m9.7\u001b[0m];  \u001b[4mrougher.output.concentrate_ag\u001b[0m: [\u001b[36m0.0\u001b[0m, \u001b[92m12.1\u001b[0m, \u001b[91m24.5\u001b[0m];  \u001b[4mrougher.output.concentrate_pb\u001b[0m: [\u001b[36m0.0\u001b[0m, \u001b[92m7.7\u001b[0m, \u001b[91m13.6\u001b[0m];  \u001b[4mrougher.output.concentrate_sol\u001b[0m: [\u001b[36m0.0\u001b[0m, \u001b[92m29.8\u001b[0m, \u001b[91m38.4\u001b[0m];  \u001b[4mrougher.output.concentrate_au\u001b[0m: [\u001b[36m0.0\u001b[0m, \u001b[92m20.3\u001b[0m, \u001b[91m28.8\u001b[0m];  \u001b[4mrougher.output.recovery\u001b[0m: [\u001b[36m0.0\u001b[0m, \u001b[92m86.2\u001b[0m, \u001b[91m100.0\u001b[0m];  \u001b[4mrougher.output.tail_ag\u001b[0m: [\u001b[36m0.6\u001b[0m, \u001b[92m5.8\u001b[0m, \u001b[91m12.7\u001b[0m];  \u001b[4mrougher.output.tail_pb\u001b[0m: [\u001b[36m0.0\u001b[0m, \u001b[92m0.6\u001b[0m, \u001b[91m3.8\u001b[0m];  \u001b[4mrougher.output.tail_sol\u001b[0m: [\u001b[36m10.0\u001b[0m, \u001b[92m18.1\u001b[0m, \u001b[91m66.1\u001b[0m];  \u001b[4mrougher.output.tail_au\u001b[0m: [\u001b[36m0.0\u001b[0m, \u001b[92m1.8\u001b[0m, \u001b[91m9.7\u001b[0m];  \u001b[4mrougher.state.floatbank10_a_air\u001b[0m: [\u001b[36m-0.0\u001b[0m, \u001b[92m1001.1\u001b[0m, \u001b[91m1522.0\u001b[0m];  \u001b[4mrougher.state.floatbank10_a_level\u001b[0m: [\u001b[36m-657.9\u001b[0m, \u001b[92m-300.3\u001b[0m, \u001b[91m-273.8\u001b[0m];  \u001b[4mrougher.state.floatbank10_b_air\u001b[0m: [\u001b[36m-0.7\u001b[0m, \u001b[92m1301.6\u001b[0m, \u001b[91m1809.2\u001b[0m];  \u001b[4mrougher.state.floatbank10_b_level\u001b[0m: [\u001b[36m-650.3\u001b[0m, \u001b[92m-499.8\u001b[0m, \u001b[91m-296.4\u001b[0m];  \u001b[4mrougher.state.floatbank10_c_air\u001b[0m: [\u001b[36m-0.1\u001b[0m, \u001b[92m1300.2\u001b[0m, \u001b[91m2499.1\u001b[0m];  \u001b[4mrougher.state.floatbank10_c_level\u001b[0m: [\u001b[36m-647.5\u001b[0m, \u001b[92m-499.7\u001b[0m, \u001b[91m-292.2\u001b[0m];  \u001b[4mrougher.state.floatbank10_d_air\u001b[0m: [\u001b[36m-1.0\u001b[0m, \u001b[92m1201.6\u001b[0m, \u001b[91m1817.2\u001b[0m];  \u001b[4mrougher.state.floatbank10_d_level\u001b[0m: [\u001b[36m-648.4\u001b[0m, \u001b[92m-499.5\u001b[0m, \u001b[91m-76.4\u001b[0m];  \u001b[4mrougher.state.floatbank10_e_air\u001b[0m: [\u001b[36m-2.0\u001b[0m, \u001b[92m1050.0\u001b[0m, \u001b[91m1922.6\u001b[0m];  \u001b[4mrougher.state.floatbank10_e_level\u001b[0m: [\u001b[36m-649.4\u001b[0m, \u001b[92m-499.7\u001b[0m, \u001b[91m-139.8\u001b[0m];  \u001b[4mrougher.state.floatbank10_f_air\u001b[0m: [\u001b[36m-2.6\u001b[0m, \u001b[92m999.9\u001b[0m, \u001b[91m1706.3\u001b[0m];  \u001b[4mrougher.state.floatbank10_f_level\u001b[0m: [\u001b[36m-649.9\u001b[0m, \u001b[92m-499.5\u001b[0m, \u001b[91m-191.7\u001b[0m];  \u001b[4msecondary_cleaner.output.tail_ag\u001b[0m: [\u001b[36m0.0\u001b[0m, \u001b[92m15.6\u001b[0m, \u001b[91m23.3\u001b[0m];  \u001b[4msecondary_cleaner.output.tail_pb\u001b[0m: [\u001b[36m0.0\u001b[0m, \u001b[92m5.3\u001b[0m, \u001b[91m17.0\u001b[0m];  \u001b[4msecondary_cleaner.output.tail_sol\u001b[0m: [\u001b[36m0.0\u001b[0m, \u001b[92m7.7\u001b[0m, \u001b[91m26.0\u001b[0m];  \u001b[4msecondary_cleaner.output.tail_au\u001b[0m: [\u001b[36m0.0\u001b[0m, \u001b[92m4.1\u001b[0m, \u001b[91m26.8\u001b[0m];  \u001b[4msecondary_cleaner.state.floatbank2_a_air\u001b[0m: [\u001b[36m0.1\u001b[0m, \u001b[92m29.1\u001b[0m, \u001b[91m52.7\u001b[0m];  \u001b[4msecondary_cleaner.state.floatbank2_a_level\u001b[0m: [\u001b[36m-799.6\u001b[0m, \u001b[92m-500.0\u001b[0m, \u001b[91m-127.9\u001b[0m];  \u001b[4msecondary_cleaner.state.floatbank2_b_air\u001b[0m: [\u001b[36m0.0\u001b[0m, \u001b[92m25.0\u001b[0m, \u001b[91m35.2\u001b[0m];  \u001b[4msecondary_cleaner.state.floatbank2_b_level\u001b[0m: [\u001b[36m-799.9\u001b[0m, \u001b[92m-500.0\u001b[0m, \u001b[91m-212.0\u001b[0m];  \u001b[4msecondary_cleaner.state.floatbank3_a_air\u001b[0m: [\u001b[36m0.0\u001b[0m, \u001b[92m28.0\u001b[0m, \u001b[91m44.3\u001b[0m];  \u001b[4msecondary_cleaner.state.floatbank3_a_level\u001b[0m: [\u001b[36m-799.8\u001b[0m, \u001b[92m-499.9\u001b[0m, \u001b[91m-191.7\u001b[0m];  \u001b[4msecondary_cleaner.state.floatbank3_b_air\u001b[0m: [\u001b[36m0.0\u001b[0m, \u001b[92m22.0\u001b[0m, \u001b[91m35.1\u001b[0m];  \u001b[4msecondary_cleaner.state.floatbank3_b_level\u001b[0m: [\u001b[36m-809.3\u001b[0m, \u001b[92m-500.0\u001b[0m, \u001b[91m-159.7\u001b[0m];  \u001b[4msecondary_cleaner.state.floatbank4_a_air\u001b[0m: [\u001b[36m0.0\u001b[0m, \u001b[92m18.0\u001b[0m, \u001b[91m30.1\u001b[0m];  \u001b[4msecondary_cleaner.state.floatbank4_a_level\u001b[0m: [\u001b[36m-799.8\u001b[0m, \u001b[92m-499.8\u001b[0m, \u001b[91m-245.2\u001b[0m];  \u001b[4msecondary_cleaner.state.floatbank4_b_air\u001b[0m: [\u001b[36m0.0\u001b[0m, \u001b[92m15.0\u001b[0m, \u001b[91m31.3\u001b[0m];  \u001b[4msecondary_cleaner.state.floatbank4_b_level\u001b[0m: [\u001b[36m-800.8\u001b[0m, \u001b[92m-499.5\u001b[0m, \u001b[91m-6.5\u001b[0m];  \u001b[4msecondary_cleaner.state.floatbank5_a_air\u001b[0m: [\u001b[36m-0.4\u001b[0m, \u001b[92m15.0\u001b[0m, \u001b[91m43.7\u001b[0m];  \u001b[4msecondary_cleaner.state.floatbank5_a_level\u001b[0m: [\u001b[36m-797.3\u001b[0m, \u001b[92m-499.8\u001b[0m, \u001b[91m-244.5\u001b[0m];  \u001b[4msecondary_cleaner.state.floatbank5_b_air\u001b[0m: [\u001b[36m0.5\u001b[0m, \u001b[92m11.0\u001b[0m, \u001b[91m27.9\u001b[0m];  \u001b[4msecondary_cleaner.state.floatbank5_b_level\u001b[0m: [\u001b[36m-800.2\u001b[0m, \u001b[92m-499.9\u001b[0m, \u001b[91m-137.7\u001b[0m];  \u001b[4msecondary_cleaner.state.floatbank6_a_air\u001b[0m: [\u001b[36m-0.1\u001b[0m, \u001b[92m20.0\u001b[0m, \u001b[91m32.2\u001b[0m];  \u001b[4msecondary_cleaner.state.floatbank6_a_level\u001b[0m: [\u001b[36m-809.7\u001b[0m, \u001b[92m-500.0\u001b[0m, \u001b[91m-104.4\u001b[0m];  "
     ]
    }
   ],
   "source": [
    "dataset_describe()"
   ]
  },
  {
   "cell_type": "markdown",
   "metadata": {},
   "source": [
    "**Вывод**:\n",
    "* Предоставлены три набора данных: {`gold_recovery_train_new.csv`, `gold_recovery_test_new.csv`, `gold_recovery_full_new.csv`} - \n",
    "обучающая и тестовая выборки, а также полный набор данных.\n",
    "* Судя по количеству строк, выборки получены разбиением исходного набора данных в пропорциях 73% + 27%.\n",
    "* Исходный набор данных и обучающая выборка имеет одинаковое количество столбцов (87). Тестовая выборка имеет меньшее количество столбцов: 53.\n",
    "* В данных присутсвуют пропуски. Суммарное количество пропусков - 4481.\n",
    "* Набор данных состоит из признаков, которые имеют разный масштаб: средние значения могут варьироваться от десятых долей до тысяч.\n",
    "* Набор данных состоит из признаков имеющих как положительные, так и отрицательные значения."
   ]
  },
  {
   "cell_type": "markdown",
   "metadata": {},
   "source": [
    "[Вернуться к оглавлению](#point0)"
   ]
  },
  {
   "cell_type": "markdown",
   "metadata": {},
   "source": [
    "### Проверка корректности расчета эффективности обогащения\n",
    "Проверим, что значения эффективности обогащения, которые изначально представлены в таблице рассчитаны корректно. Вычислим её на обучающей выборке для признака `rougher.output.recovery`. После расчета значений, оценим погрешность с заданными значениями с помощью метрики MAE. \n",
    "\n",
    "Эффективность обогащения рассчитывается по формуле:  \n",
    "<p><center>Recovery = $\\frac{C \\times (F - T)}{F\\times(C-T)}\\times 100\\%$</center></p>\n",
    "\n",
    "где:\n",
    "\n",
    "Обозначение|Параметр|Описание\n",
    "-|-|:-\n",
    "$C$|`rougher.output.concentrate_au`|доля золота в концентрате после флотации/очистки\n",
    "$F$|`rougher.input.feed_au`|доля золота в сырье/концентрате до флотации/очистки\n",
    "$T$|`rougher.output.tail_au`|доля золота в отвальных хвостах после флотации/очистки\n",
    "\n",
    "Зададим функцию для расчета эффективности обогащения:"
   ]
  },
  {
   "cell_type": "code",
   "execution_count": 5,
   "metadata": {},
   "outputs": [],
   "source": [
    "def recovery_efficiency(row):\n",
    "    \"\"\"\n",
    "    Формула расчета эффективности обогащения:\n",
    "    Recovery = 100% * (C * (F-T)) / (F * (C-T))\n",
    "    \"\"\"\n",
    "    c, f, t = row['rougher.output.concentrate_au'], row['rougher.input.feed_au'], row['rougher.output.tail_au']\n",
    "    return 100 * (c * (f-t)) / (f * (c-t))"
   ]
  },
  {
   "cell_type": "markdown",
   "metadata": {},
   "source": [
    "Для оценки параметров я создам новый датасет `data_train_recovery`, куда занесу значения *Recovery*.\n",
    "\n",
    "В качестве заданных значений возьму данные из столбца `rougher.output.recovery` датасета `data_train`.  \n",
    "Расчитанные значения занесу в столбец `calculated`.  \n",
    "Переименую столбцы для наглядности и выведу значения:"
   ]
  },
  {
   "cell_type": "code",
   "execution_count": 6,
   "metadata": {},
   "outputs": [
    {
     "data": {
      "text/html": [
       "<div>\n",
       "<style scoped>\n",
       "    .dataframe tbody tr th:only-of-type {\n",
       "        vertical-align: middle;\n",
       "    }\n",
       "\n",
       "    .dataframe tbody tr th {\n",
       "        vertical-align: top;\n",
       "    }\n",
       "\n",
       "    .dataframe thead th {\n",
       "        text-align: right;\n",
       "    }\n",
       "</style>\n",
       "<table border=\"1\" class=\"dataframe\">\n",
       "  <thead>\n",
       "    <tr style=\"text-align: right;\">\n",
       "      <th></th>\n",
       "      <th>default</th>\n",
       "      <th>calculated</th>\n",
       "    </tr>\n",
       "  </thead>\n",
       "  <tbody>\n",
       "    <tr>\n",
       "      <th>0</th>\n",
       "      <td>87.108</td>\n",
       "      <td>87.108</td>\n",
       "    </tr>\n",
       "    <tr>\n",
       "      <th>1</th>\n",
       "      <td>86.843</td>\n",
       "      <td>86.843</td>\n",
       "    </tr>\n",
       "    <tr>\n",
       "      <th>2</th>\n",
       "      <td>86.842</td>\n",
       "      <td>86.842</td>\n",
       "    </tr>\n",
       "    <tr>\n",
       "      <th>3</th>\n",
       "      <td>87.226</td>\n",
       "      <td>87.226</td>\n",
       "    </tr>\n",
       "    <tr>\n",
       "      <th>4</th>\n",
       "      <td>86.689</td>\n",
       "      <td>86.689</td>\n",
       "    </tr>\n",
       "    <tr>\n",
       "      <th>...</th>\n",
       "      <td>...</td>\n",
       "      <td>...</td>\n",
       "    </tr>\n",
       "    <tr>\n",
       "      <th>14144</th>\n",
       "      <td>89.574</td>\n",
       "      <td>89.574</td>\n",
       "    </tr>\n",
       "    <tr>\n",
       "      <th>14145</th>\n",
       "      <td>87.724</td>\n",
       "      <td>87.724</td>\n",
       "    </tr>\n",
       "    <tr>\n",
       "      <th>14146</th>\n",
       "      <td>88.891</td>\n",
       "      <td>88.891</td>\n",
       "    </tr>\n",
       "    <tr>\n",
       "      <th>14147</th>\n",
       "      <td>89.858</td>\n",
       "      <td>89.858</td>\n",
       "    </tr>\n",
       "    <tr>\n",
       "      <th>14148</th>\n",
       "      <td>89.515</td>\n",
       "      <td>89.515</td>\n",
       "    </tr>\n",
       "  </tbody>\n",
       "</table>\n",
       "<p>14149 rows × 2 columns</p>\n",
       "</div>"
      ],
      "text/plain": [
       "       default  calculated\n",
       "0       87.108      87.108\n",
       "1       86.843      86.843\n",
       "2       86.842      86.842\n",
       "3       87.226      87.226\n",
       "4       86.689      86.689\n",
       "...        ...         ...\n",
       "14144   89.574      89.574\n",
       "14145   87.724      87.724\n",
       "14146   88.891      88.891\n",
       "14147   89.858      89.858\n",
       "14148   89.515      89.515\n",
       "\n",
       "[14149 rows x 2 columns]"
      ]
     },
     "execution_count": 6,
     "metadata": {},
     "output_type": "execute_result"
    }
   ],
   "source": [
    "# создание датасета с заданными значениями Recovery:\n",
    "data_train_recovery = pd.DataFrame(data_train['rougher.output.recovery'])\n",
    "\n",
    "# внесение расчетных значений:\n",
    "data_train_recovery['calculated'] = data_train.apply(recovery_efficiency, axis = 1)\n",
    "\n",
    "# установка названий колонок:\n",
    "data_train_recovery.columns = ['default', 'calculated']\n",
    "\n",
    "# вывод данных:\n",
    "data_train_recovery"
   ]
  },
  {
   "cell_type": "markdown",
   "metadata": {},
   "source": [
    "Визуально данные выглядят схоже. \n",
    "\n",
    "Чтобы оценить погрешность для всех 14149 строк рассчитаем метрику *MAE* (Mean Absolute Error), которая определяется по формуле:\n",
    "\n",
    "<p><center><i>MAE</i> = $\\frac{1}{N}\\displaystyle\\sum_{i=1}^{N} |y_i-\\hat{y}_i|$</center></p>\n",
    "\n",
    "Обозначения:\n",
    "* $y_i$ — значение целевого признака для объекта с порядковым номером $i$ в выборке, на которой измеряется качество.\n",
    "* $\\hat{y}_i$ — значение предсказания для объекта с порядковым номером $i$, например, в тестовой выборке.\n",
    "* $N$ — количество объектов в выборке.\n",
    "* $\\displaystyle\\sum_{i=1}^{N}$ — суммирование по всем объектам выборки ($i$ меняется от 1 до $N$).\n",
    "\n",
    "Зададим функцию расчета *MAE*:"
   ]
  },
  {
   "cell_type": "code",
   "execution_count": 7,
   "metadata": {},
   "outputs": [],
   "source": [
    "# данную метрику можно импортировать из библиотеки sklearn:\n",
    "# from sklearn.metrics import mean_absolute_error\n",
    "# но можно и задать вручную:\n",
    "\n",
    "def calc_mae(answers, predictions):\n",
    "    \"\"\"\n",
    "    Расчет метрики MAE:\n",
    "           1   N\n",
    "    MAE = --- Σ  |y_i - y^_i|\n",
    "           N  i=1\n",
    "    \"\"\"\n",
    "    return abs(answers - predictions).mean()"
   ]
  },
  {
   "cell_type": "markdown",
   "metadata": {},
   "source": [
    "Рассчитаем значение метрики:"
   ]
  },
  {
   "cell_type": "code",
   "execution_count": 8,
   "metadata": {},
   "outputs": [
    {
     "name": "stdout",
     "output_type": "stream",
     "text": [
      "MAE = 1.1131451184435918e-14\n"
     ]
    }
   ],
   "source": [
    "print(f\"MAE = {calc_mae(data_train_recovery['default'], data_train_recovery['calculated'])}\")"
   ]
  },
  {
   "cell_type": "markdown",
   "metadata": {},
   "source": [
    "**Вывод**: Получили значение метрики *MAE* слабо отличимое от 0, это говорит о том, что заданные значения показателя эффективности обогащения (`rougher.output.recovery`) рассчитаны корректно."
   ]
  },
  {
   "cell_type": "markdown",
   "metadata": {},
   "source": [
    "[Вернуться к оглавлению](#point0)"
   ]
  },
  {
   "cell_type": "markdown",
   "metadata": {},
   "source": [
    "### Анализ признаков, недоступных в тестовой выборке\n",
    "С помощью цикла проверю какие признаки есть в обучающей и тестовой выборках.  \n",
    "Если признак есть в обеих выборках - выведу его название <font color='#007427'>зеленым цветом</font>, иначе - <font color='#b22b31'>красным</font>:"
   ]
  },
  {
   "cell_type": "code",
   "execution_count": 9,
   "metadata": {
    "scrolled": false
   },
   "outputs": [
    {
     "name": "stdout",
     "output_type": "stream",
     "text": [
      "\u001b[92mdate\u001b[0m\n",
      "\u001b[91mfinal.output.concentrate_ag\u001b[0m\n",
      "\u001b[91mfinal.output.concentrate_pb\u001b[0m\n",
      "\u001b[91mfinal.output.concentrate_sol\u001b[0m\n",
      "\u001b[91mfinal.output.concentrate_au\u001b[0m\n",
      "\u001b[91mfinal.output.recovery\u001b[0m\n",
      "\u001b[91mfinal.output.tail_ag\u001b[0m\n",
      "\u001b[91mfinal.output.tail_pb\u001b[0m\n",
      "\u001b[91mfinal.output.tail_sol\u001b[0m\n",
      "\u001b[91mfinal.output.tail_au\u001b[0m\n",
      "\u001b[92mprimary_cleaner.input.sulfate\u001b[0m\n",
      "\u001b[92mprimary_cleaner.input.depressant\u001b[0m\n",
      "\u001b[92mprimary_cleaner.input.feed_size\u001b[0m\n",
      "\u001b[92mprimary_cleaner.input.xanthate\u001b[0m\n",
      "\u001b[91mprimary_cleaner.output.concentrate_ag\u001b[0m\n",
      "\u001b[91mprimary_cleaner.output.concentrate_pb\u001b[0m\n",
      "\u001b[91mprimary_cleaner.output.concentrate_sol\u001b[0m\n",
      "\u001b[91mprimary_cleaner.output.concentrate_au\u001b[0m\n",
      "\u001b[91mprimary_cleaner.output.tail_ag\u001b[0m\n",
      "\u001b[91mprimary_cleaner.output.tail_pb\u001b[0m\n",
      "\u001b[91mprimary_cleaner.output.tail_sol\u001b[0m\n",
      "\u001b[91mprimary_cleaner.output.tail_au\u001b[0m\n",
      "\u001b[92mprimary_cleaner.state.floatbank8_a_air\u001b[0m\n",
      "\u001b[92mprimary_cleaner.state.floatbank8_a_level\u001b[0m\n",
      "\u001b[92mprimary_cleaner.state.floatbank8_b_air\u001b[0m\n",
      "\u001b[92mprimary_cleaner.state.floatbank8_b_level\u001b[0m\n",
      "\u001b[92mprimary_cleaner.state.floatbank8_c_air\u001b[0m\n",
      "\u001b[92mprimary_cleaner.state.floatbank8_c_level\u001b[0m\n",
      "\u001b[92mprimary_cleaner.state.floatbank8_d_air\u001b[0m\n",
      "\u001b[92mprimary_cleaner.state.floatbank8_d_level\u001b[0m\n",
      "\u001b[91mrougher.calculation.sulfate_to_au_concentrate\u001b[0m\n",
      "\u001b[91mrougher.calculation.floatbank10_sulfate_to_au_feed\u001b[0m\n",
      "\u001b[91mrougher.calculation.floatbank11_sulfate_to_au_feed\u001b[0m\n",
      "\u001b[91mrougher.calculation.au_pb_ratio\u001b[0m\n",
      "\u001b[92mrougher.input.feed_ag\u001b[0m\n",
      "\u001b[92mrougher.input.feed_pb\u001b[0m\n",
      "\u001b[92mrougher.input.feed_rate\u001b[0m\n",
      "\u001b[92mrougher.input.feed_size\u001b[0m\n",
      "\u001b[92mrougher.input.feed_sol\u001b[0m\n",
      "\u001b[92mrougher.input.feed_au\u001b[0m\n",
      "\u001b[92mrougher.input.floatbank10_sulfate\u001b[0m\n",
      "\u001b[92mrougher.input.floatbank10_xanthate\u001b[0m\n",
      "\u001b[92mrougher.input.floatbank11_sulfate\u001b[0m\n",
      "\u001b[92mrougher.input.floatbank11_xanthate\u001b[0m\n",
      "\u001b[91mrougher.output.concentrate_ag\u001b[0m\n",
      "\u001b[91mrougher.output.concentrate_pb\u001b[0m\n",
      "\u001b[91mrougher.output.concentrate_sol\u001b[0m\n",
      "\u001b[91mrougher.output.concentrate_au\u001b[0m\n",
      "\u001b[91mrougher.output.recovery\u001b[0m\n",
      "\u001b[91mrougher.output.tail_ag\u001b[0m\n",
      "\u001b[91mrougher.output.tail_pb\u001b[0m\n",
      "\u001b[91mrougher.output.tail_sol\u001b[0m\n",
      "\u001b[91mrougher.output.tail_au\u001b[0m\n",
      "\u001b[92mrougher.state.floatbank10_a_air\u001b[0m\n",
      "\u001b[92mrougher.state.floatbank10_a_level\u001b[0m\n",
      "\u001b[92mrougher.state.floatbank10_b_air\u001b[0m\n",
      "\u001b[92mrougher.state.floatbank10_b_level\u001b[0m\n",
      "\u001b[92mrougher.state.floatbank10_c_air\u001b[0m\n",
      "\u001b[92mrougher.state.floatbank10_c_level\u001b[0m\n",
      "\u001b[92mrougher.state.floatbank10_d_air\u001b[0m\n",
      "\u001b[92mrougher.state.floatbank10_d_level\u001b[0m\n",
      "\u001b[92mrougher.state.floatbank10_e_air\u001b[0m\n",
      "\u001b[92mrougher.state.floatbank10_e_level\u001b[0m\n",
      "\u001b[92mrougher.state.floatbank10_f_air\u001b[0m\n",
      "\u001b[92mrougher.state.floatbank10_f_level\u001b[0m\n",
      "\u001b[91msecondary_cleaner.output.tail_ag\u001b[0m\n",
      "\u001b[91msecondary_cleaner.output.tail_pb\u001b[0m\n",
      "\u001b[91msecondary_cleaner.output.tail_sol\u001b[0m\n",
      "\u001b[91msecondary_cleaner.output.tail_au\u001b[0m\n",
      "\u001b[92msecondary_cleaner.state.floatbank2_a_air\u001b[0m\n",
      "\u001b[92msecondary_cleaner.state.floatbank2_a_level\u001b[0m\n",
      "\u001b[92msecondary_cleaner.state.floatbank2_b_air\u001b[0m\n",
      "\u001b[92msecondary_cleaner.state.floatbank2_b_level\u001b[0m\n",
      "\u001b[92msecondary_cleaner.state.floatbank3_a_air\u001b[0m\n",
      "\u001b[92msecondary_cleaner.state.floatbank3_a_level\u001b[0m\n",
      "\u001b[92msecondary_cleaner.state.floatbank3_b_air\u001b[0m\n",
      "\u001b[92msecondary_cleaner.state.floatbank3_b_level\u001b[0m\n",
      "\u001b[92msecondary_cleaner.state.floatbank4_a_air\u001b[0m\n",
      "\u001b[92msecondary_cleaner.state.floatbank4_a_level\u001b[0m\n",
      "\u001b[92msecondary_cleaner.state.floatbank4_b_air\u001b[0m\n",
      "\u001b[92msecondary_cleaner.state.floatbank4_b_level\u001b[0m\n",
      "\u001b[92msecondary_cleaner.state.floatbank5_a_air\u001b[0m\n",
      "\u001b[92msecondary_cleaner.state.floatbank5_a_level\u001b[0m\n",
      "\u001b[92msecondary_cleaner.state.floatbank5_b_air\u001b[0m\n",
      "\u001b[92msecondary_cleaner.state.floatbank5_b_level\u001b[0m\n",
      "\u001b[92msecondary_cleaner.state.floatbank6_a_air\u001b[0m\n",
      "\u001b[92msecondary_cleaner.state.floatbank6_a_level\u001b[0m\n"
     ]
    }
   ],
   "source": [
    "for el in data_train.columns:\n",
    "    if el in data_test.columns:\n",
    "        print(green + el + end)\n",
    "    else:\n",
    "        print(red + el + end)    "
   ]
  },
  {
   "cell_type": "markdown",
   "metadata": {},
   "source": [
    "**Выводы:**\n",
    "1. В тестовой выборке отсутствуют признаки блоков `output` (параметры продукта) и `calculation` (расчётные характеристики). Исключение этих признаков из тестовой выборки, предполагаю, сделано намеренно: эти данные не доступны непосредственно во время технологического процесса.\n",
    "2. Строить прогноз следует по признакам с типом параматра `input` (параметры сырья) и `state` (параметры, характеризующие текущее состояние этапа)\n",
    "3. Столбец `date` хоть и присутствует в указанных выборках, но не может быть обучающем признаком для нашего случая, поскольку, как следует из описания, не влияет на ход технологического процесса. Выделение признаков на основе дат допустимо только в задачах временных рядов - в противном случае модель будет делать ошибочные зависимости от времени, и это приведёт к ненадежным результатам предсказания.\n",
    "\n",
    "\n",
    "На основании вышеизложенной информации сформируем списки для обучающих и целевых признаков:"
   ]
  },
  {
   "cell_type": "code",
   "execution_count": 10,
   "metadata": {},
   "outputs": [],
   "source": [
    "# список признаков - все столбцы тестовой выборки\n",
    "# за исключением date:\n",
    "features_list = list(data_test.columns[1:])\n",
    "\n",
    "# список целевых признаков:\n",
    "target_list = ['rougher.output.recovery', 'final.output.recovery']"
   ]
  },
  {
   "cell_type": "markdown",
   "metadata": {},
   "source": [
    "[Вернуться к оглавлению](#point0)"
   ]
  },
  {
   "cell_type": "markdown",
   "metadata": {},
   "source": [
    "### Предобработка данных\n",
    "\n",
    "#### Обработка дубликатов\n",
    "В наших датасетах содержатся данные характеризующие параметры технологического процесса. Эти данные имеют тип `float64` - сами по себе эти строки не могут дублироваться. \n",
    "\n",
    "Также в датасетах есть признак `date` (изначально имеет формат `object`). В этом признаке отображается временная метка и он может быть использован в качестве уникального ключа при добавлении недостающих признаков в выборки.\n",
    "\n",
    "Убедимся, что значения `date` для полного датасета и выборок уникальны:"
   ]
  },
  {
   "cell_type": "code",
   "execution_count": 11,
   "metadata": {},
   "outputs": [
    {
     "name": "stdout",
     "output_type": "stream",
     "text": [
      "Количество дублей date\n",
      "- full: 0\n",
      "- train: 0\n",
      "- test: 0\n"
     ]
    }
   ],
   "source": [
    "print(f\"Количество дублей date\\n- full: {data_full['date'].duplicated().sum()}\\n- train: \\\n",
    "{data_train['date'].duplicated().sum()}\\n- test: {data_test['date'].duplicated().sum()}\")"
   ]
  },
  {
   "cell_type": "markdown",
   "metadata": {},
   "source": [
    "**Вывод:** Как видно, дубликатов в признаке `date` нет, следовательно его можно использовать в качестве уникального ключа."
   ]
  },
  {
   "cell_type": "markdown",
   "metadata": {},
   "source": [
    "[Вернуться к оглавлению](#point0)"
   ]
  },
  {
   "cell_type": "markdown",
   "metadata": {},
   "source": [
    "#### Добавление целевых признаков в тестовую выборку\n",
    "\n",
    "Прежде всего необходимо добавить целевые признаки в тестовую выборку - изначально эти данные там отсутсвуют, но они необходимы для оценки качества модели.\n",
    "\n",
    "Добавим в `data_test` столбцы `rougher.output.recovery` и `final.output.recovery` подставив значения из `data_full`:"
   ]
  },
  {
   "cell_type": "code",
   "execution_count": 12,
   "metadata": {},
   "outputs": [
    {
     "data": {
      "text/html": [
       "<div>\n",
       "<style scoped>\n",
       "    .dataframe tbody tr th:only-of-type {\n",
       "        vertical-align: middle;\n",
       "    }\n",
       "\n",
       "    .dataframe tbody tr th {\n",
       "        vertical-align: top;\n",
       "    }\n",
       "\n",
       "    .dataframe thead th {\n",
       "        text-align: right;\n",
       "    }\n",
       "</style>\n",
       "<table border=\"1\" class=\"dataframe\">\n",
       "  <thead>\n",
       "    <tr style=\"text-align: right;\">\n",
       "      <th></th>\n",
       "      <th>date</th>\n",
       "      <th>primary_cleaner.input.sulfate</th>\n",
       "      <th>primary_cleaner.input.depressant</th>\n",
       "      <th>primary_cleaner.input.feed_size</th>\n",
       "      <th>primary_cleaner.input.xanthate</th>\n",
       "      <th>primary_cleaner.state.floatbank8_a_air</th>\n",
       "      <th>primary_cleaner.state.floatbank8_a_level</th>\n",
       "      <th>primary_cleaner.state.floatbank8_b_air</th>\n",
       "      <th>primary_cleaner.state.floatbank8_b_level</th>\n",
       "      <th>primary_cleaner.state.floatbank8_c_air</th>\n",
       "      <th>primary_cleaner.state.floatbank8_c_level</th>\n",
       "      <th>primary_cleaner.state.floatbank8_d_air</th>\n",
       "      <th>primary_cleaner.state.floatbank8_d_level</th>\n",
       "      <th>rougher.input.feed_ag</th>\n",
       "      <th>rougher.input.feed_pb</th>\n",
       "      <th>rougher.input.feed_rate</th>\n",
       "      <th>rougher.input.feed_size</th>\n",
       "      <th>rougher.input.feed_sol</th>\n",
       "      <th>rougher.input.feed_au</th>\n",
       "      <th>rougher.input.floatbank10_sulfate</th>\n",
       "      <th>rougher.input.floatbank10_xanthate</th>\n",
       "      <th>rougher.input.floatbank11_sulfate</th>\n",
       "      <th>rougher.input.floatbank11_xanthate</th>\n",
       "      <th>rougher.state.floatbank10_a_air</th>\n",
       "      <th>rougher.state.floatbank10_a_level</th>\n",
       "      <th>rougher.state.floatbank10_b_air</th>\n",
       "      <th>rougher.state.floatbank10_b_level</th>\n",
       "      <th>rougher.state.floatbank10_c_air</th>\n",
       "      <th>rougher.state.floatbank10_c_level</th>\n",
       "      <th>rougher.state.floatbank10_d_air</th>\n",
       "      <th>rougher.state.floatbank10_d_level</th>\n",
       "      <th>rougher.state.floatbank10_e_air</th>\n",
       "      <th>rougher.state.floatbank10_e_level</th>\n",
       "      <th>rougher.state.floatbank10_f_air</th>\n",
       "      <th>rougher.state.floatbank10_f_level</th>\n",
       "      <th>secondary_cleaner.state.floatbank2_a_air</th>\n",
       "      <th>secondary_cleaner.state.floatbank2_a_level</th>\n",
       "      <th>secondary_cleaner.state.floatbank2_b_air</th>\n",
       "      <th>secondary_cleaner.state.floatbank2_b_level</th>\n",
       "      <th>secondary_cleaner.state.floatbank3_a_air</th>\n",
       "      <th>secondary_cleaner.state.floatbank3_a_level</th>\n",
       "      <th>secondary_cleaner.state.floatbank3_b_air</th>\n",
       "      <th>secondary_cleaner.state.floatbank3_b_level</th>\n",
       "      <th>secondary_cleaner.state.floatbank4_a_air</th>\n",
       "      <th>secondary_cleaner.state.floatbank4_a_level</th>\n",
       "      <th>secondary_cleaner.state.floatbank4_b_air</th>\n",
       "      <th>secondary_cleaner.state.floatbank4_b_level</th>\n",
       "      <th>secondary_cleaner.state.floatbank5_a_air</th>\n",
       "      <th>secondary_cleaner.state.floatbank5_a_level</th>\n",
       "      <th>secondary_cleaner.state.floatbank5_b_air</th>\n",
       "      <th>secondary_cleaner.state.floatbank5_b_level</th>\n",
       "      <th>secondary_cleaner.state.floatbank6_a_air</th>\n",
       "      <th>secondary_cleaner.state.floatbank6_a_level</th>\n",
       "      <th>rougher.output.recovery</th>\n",
       "      <th>final.output.recovery</th>\n",
       "    </tr>\n",
       "  </thead>\n",
       "  <tbody>\n",
       "    <tr>\n",
       "      <th>343</th>\n",
       "      <td>2016-09-17 13:59:59</td>\n",
       "      <td>156.980</td>\n",
       "      <td>6.664</td>\n",
       "      <td>7.580</td>\n",
       "      <td>1.212</td>\n",
       "      <td>1551.175</td>\n",
       "      <td>-499.767</td>\n",
       "      <td>1548.745</td>\n",
       "      <td>-500.065</td>\n",
       "      <td>1550.397</td>\n",
       "      <td>-500.152</td>\n",
       "      <td>1550.607</td>\n",
       "      <td>-499.821</td>\n",
       "      <td>10.944</td>\n",
       "      <td>3.458</td>\n",
       "      <td>409.894</td>\n",
       "      <td>47.784</td>\n",
       "      <td>40.037</td>\n",
       "      <td>10.343</td>\n",
       "      <td>10.999</td>\n",
       "      <td>6.499</td>\n",
       "      <td>10.989</td>\n",
       "      <td>6.504</td>\n",
       "      <td>999.369</td>\n",
       "      <td>-500.053</td>\n",
       "      <td>1499.270</td>\n",
       "      <td>-499.467</td>\n",
       "      <td>1501.082</td>\n",
       "      <td>-499.795</td>\n",
       "      <td>1358.281</td>\n",
       "      <td>-499.415</td>\n",
       "      <td>1049.950</td>\n",
       "      <td>-499.425</td>\n",
       "      <td>999.959</td>\n",
       "      <td>-500.871</td>\n",
       "      <td>22.041</td>\n",
       "      <td>-499.894</td>\n",
       "      <td>11.881</td>\n",
       "      <td>-500.098</td>\n",
       "      <td>15.010</td>\n",
       "      <td>-500.307</td>\n",
       "      <td>13.008</td>\n",
       "      <td>-473.450</td>\n",
       "      <td>7.975</td>\n",
       "      <td>-631.235</td>\n",
       "      <td>5.028</td>\n",
       "      <td>-500.604</td>\n",
       "      <td>8.014</td>\n",
       "      <td>-485.189</td>\n",
       "      <td>2.880</td>\n",
       "      <td>-422.392</td>\n",
       "      <td>20.016</td>\n",
       "      <td>-498.183</td>\n",
       "      <td>86.261</td>\n",
       "      <td>64.639</td>\n",
       "    </tr>\n",
       "  </tbody>\n",
       "</table>\n",
       "</div>"
      ],
      "text/plain": [
       "                    date  primary_cleaner.input.sulfate  \\\n",
       "343  2016-09-17 13:59:59                        156.980   \n",
       "\n",
       "     primary_cleaner.input.depressant  primary_cleaner.input.feed_size  \\\n",
       "343                             6.664                            7.580   \n",
       "\n",
       "     primary_cleaner.input.xanthate  primary_cleaner.state.floatbank8_a_air  \\\n",
       "343                           1.212                                1551.175   \n",
       "\n",
       "     primary_cleaner.state.floatbank8_a_level  \\\n",
       "343                                  -499.767   \n",
       "\n",
       "     primary_cleaner.state.floatbank8_b_air  \\\n",
       "343                                1548.745   \n",
       "\n",
       "     primary_cleaner.state.floatbank8_b_level  \\\n",
       "343                                  -500.065   \n",
       "\n",
       "     primary_cleaner.state.floatbank8_c_air  \\\n",
       "343                                1550.397   \n",
       "\n",
       "     primary_cleaner.state.floatbank8_c_level  \\\n",
       "343                                  -500.152   \n",
       "\n",
       "     primary_cleaner.state.floatbank8_d_air  \\\n",
       "343                                1550.607   \n",
       "\n",
       "     primary_cleaner.state.floatbank8_d_level  rougher.input.feed_ag  \\\n",
       "343                                  -499.821                 10.944   \n",
       "\n",
       "     rougher.input.feed_pb  rougher.input.feed_rate  rougher.input.feed_size  \\\n",
       "343                  3.458                  409.894                   47.784   \n",
       "\n",
       "     rougher.input.feed_sol  rougher.input.feed_au  \\\n",
       "343                  40.037                 10.343   \n",
       "\n",
       "     rougher.input.floatbank10_sulfate  rougher.input.floatbank10_xanthate  \\\n",
       "343                             10.999                               6.499   \n",
       "\n",
       "     rougher.input.floatbank11_sulfate  rougher.input.floatbank11_xanthate  \\\n",
       "343                             10.989                               6.504   \n",
       "\n",
       "     rougher.state.floatbank10_a_air  rougher.state.floatbank10_a_level  \\\n",
       "343                          999.369                           -500.053   \n",
       "\n",
       "     rougher.state.floatbank10_b_air  rougher.state.floatbank10_b_level  \\\n",
       "343                         1499.270                           -499.467   \n",
       "\n",
       "     rougher.state.floatbank10_c_air  rougher.state.floatbank10_c_level  \\\n",
       "343                         1501.082                           -499.795   \n",
       "\n",
       "     rougher.state.floatbank10_d_air  rougher.state.floatbank10_d_level  \\\n",
       "343                         1358.281                           -499.415   \n",
       "\n",
       "     rougher.state.floatbank10_e_air  rougher.state.floatbank10_e_level  \\\n",
       "343                         1049.950                           -499.425   \n",
       "\n",
       "     rougher.state.floatbank10_f_air  rougher.state.floatbank10_f_level  \\\n",
       "343                          999.959                           -500.871   \n",
       "\n",
       "     secondary_cleaner.state.floatbank2_a_air  \\\n",
       "343                                    22.041   \n",
       "\n",
       "     secondary_cleaner.state.floatbank2_a_level  \\\n",
       "343                                    -499.894   \n",
       "\n",
       "     secondary_cleaner.state.floatbank2_b_air  \\\n",
       "343                                    11.881   \n",
       "\n",
       "     secondary_cleaner.state.floatbank2_b_level  \\\n",
       "343                                    -500.098   \n",
       "\n",
       "     secondary_cleaner.state.floatbank3_a_air  \\\n",
       "343                                    15.010   \n",
       "\n",
       "     secondary_cleaner.state.floatbank3_a_level  \\\n",
       "343                                    -500.307   \n",
       "\n",
       "     secondary_cleaner.state.floatbank3_b_air  \\\n",
       "343                                    13.008   \n",
       "\n",
       "     secondary_cleaner.state.floatbank3_b_level  \\\n",
       "343                                    -473.450   \n",
       "\n",
       "     secondary_cleaner.state.floatbank4_a_air  \\\n",
       "343                                     7.975   \n",
       "\n",
       "     secondary_cleaner.state.floatbank4_a_level  \\\n",
       "343                                    -631.235   \n",
       "\n",
       "     secondary_cleaner.state.floatbank4_b_air  \\\n",
       "343                                     5.028   \n",
       "\n",
       "     secondary_cleaner.state.floatbank4_b_level  \\\n",
       "343                                    -500.604   \n",
       "\n",
       "     secondary_cleaner.state.floatbank5_a_air  \\\n",
       "343                                     8.014   \n",
       "\n",
       "     secondary_cleaner.state.floatbank5_a_level  \\\n",
       "343                                    -485.189   \n",
       "\n",
       "     secondary_cleaner.state.floatbank5_b_air  \\\n",
       "343                                     2.880   \n",
       "\n",
       "     secondary_cleaner.state.floatbank5_b_level  \\\n",
       "343                                    -422.392   \n",
       "\n",
       "     secondary_cleaner.state.floatbank6_a_air  \\\n",
       "343                                    20.016   \n",
       "\n",
       "     secondary_cleaner.state.floatbank6_a_level  rougher.output.recovery  \\\n",
       "343                                    -498.183                   86.261   \n",
       "\n",
       "     final.output.recovery  \n",
       "343                 64.639  "
      ]
     },
     "execution_count": 12,
     "metadata": {},
     "output_type": "execute_result"
    }
   ],
   "source": [
    "data_test = pd.merge(data_test, data_full[target_list + ['date']], on='date', how='left')\n",
    "data_test.sample()"
   ]
  },
  {
   "cell_type": "markdown",
   "metadata": {},
   "source": [
    "Проверим, есть ли пропуски в целевых признаках в обучающей и тестовой выборках:"
   ]
  },
  {
   "cell_type": "code",
   "execution_count": 13,
   "metadata": {},
   "outputs": [
    {
     "data": {
      "text/html": [
       "<div>\n",
       "<style scoped>\n",
       "    .dataframe tbody tr th:only-of-type {\n",
       "        vertical-align: middle;\n",
       "    }\n",
       "\n",
       "    .dataframe tbody tr th {\n",
       "        vertical-align: top;\n",
       "    }\n",
       "\n",
       "    .dataframe thead th {\n",
       "        text-align: right;\n",
       "    }\n",
       "</style>\n",
       "<table border=\"1\" class=\"dataframe\">\n",
       "  <thead>\n",
       "    <tr style=\"text-align: right;\">\n",
       "      <th></th>\n",
       "      <th>Обучающая</th>\n",
       "      <th>Тестовая</th>\n",
       "    </tr>\n",
       "  </thead>\n",
       "  <tbody>\n",
       "    <tr>\n",
       "      <th>rougher.output.recovery</th>\n",
       "      <td>0</td>\n",
       "      <td>0</td>\n",
       "    </tr>\n",
       "    <tr>\n",
       "      <th>final.output.recovery</th>\n",
       "      <td>0</td>\n",
       "      <td>0</td>\n",
       "    </tr>\n",
       "  </tbody>\n",
       "</table>\n",
       "</div>"
      ],
      "text/plain": [
       "                         Обучающая  Тестовая\n",
       "rougher.output.recovery          0         0\n",
       "final.output.recovery            0         0"
      ]
     },
     "execution_count": 13,
     "metadata": {},
     "output_type": "execute_result"
    }
   ],
   "source": [
    "pd.DataFrame(data=[[data_train['rougher.output.recovery'].isna().sum(), \n",
    "                    data_test['rougher.output.recovery'].isna().sum()],\n",
    "                   [data_train['final.output.recovery'].isna().sum(),   \n",
    "                    data_test['final.output.recovery'].isna().sum()]], columns=['Обучающая','Тестовая'],\n",
    "             index=data_train[target_list].isna().sum().index)"
   ]
  },
  {
   "cell_type": "markdown",
   "metadata": {},
   "source": [
    "**Выводы**:\n",
    "* В обучающую и тестовую выборку добавлены целевые признаки, которые будут необходимы для оценки модели.\n",
    "* Целевые признаки в указанных выборках не имеют пропусков."
   ]
  },
  {
   "cell_type": "markdown",
   "metadata": {},
   "source": [
    "[Вернуться к оглавлению](#point0)"
   ]
  },
  {
   "cell_type": "markdown",
   "metadata": {},
   "source": [
    "#### Удаление лишних признаков из обучающей выборки\n",
    "С целью синхронизации процесса обучения и теста, удалим из обучающей выборки признаки, которые отсутствуют в тестовой выборке.\n",
    "\n",
    "В [пункте 1.3](#Анализ-признаков,-недоступных-в-тестовой-выборке) мы уже сравнивали эти данные.\n",
    "\n",
    "Необходимо оставить:\n",
    "* Столбцы признаков `features_list`\n",
    "* Столбцы целевых признаков `target_list`\n",
    "* Столбец `date`"
   ]
  },
  {
   "cell_type": "code",
   "execution_count": 14,
   "metadata": {},
   "outputs": [
    {
     "data": {
      "text/plain": [
       "'Количество столбцов до удаления: 87'"
      ]
     },
     "metadata": {},
     "output_type": "display_data"
    },
    {
     "data": {
      "text/plain": [
       "'Количество столбцов после удаления: 55'"
      ]
     },
     "metadata": {},
     "output_type": "display_data"
    }
   ],
   "source": [
    "display(f'Количество столбцов до удаления: {data_train.shape[1]}')\n",
    "data_train = data_train.drop([i for i in data_train.columns if i not in (target_list + features_list + ['date'])], \n",
    "                             axis=1)\n",
    "display(f'Количество столбцов после удаления: {data_train.shape[1]}')"
   ]
  },
  {
   "cell_type": "markdown",
   "metadata": {},
   "source": [
    "Проверим, что столбцы в выборках идентичны:"
   ]
  },
  {
   "cell_type": "code",
   "execution_count": 15,
   "metadata": {},
   "outputs": [
    {
     "data": {
      "text/plain": [
       "True"
      ]
     },
     "execution_count": 15,
     "metadata": {},
     "output_type": "execute_result"
    }
   ],
   "source": [
    "set(data_train.columns) == set(data_test.columns)"
   ]
  },
  {
   "cell_type": "markdown",
   "metadata": {},
   "source": [
    "**Выводы:** \n",
    "\n",
    "* Из обучающей выборки удалены лишние признаки.\n",
    "* Набор столбцов в обучающей и тестовой выборке идентичен."
   ]
  },
  {
   "cell_type": "markdown",
   "metadata": {},
   "source": [
    "[Вернуться к оглавлению](#point0)"
   ]
  },
  {
   "cell_type": "markdown",
   "metadata": {},
   "source": [
    "#### Переименование столбцов\n",
    "Проверим, соответсвуют ли заголовки змеиному регистру, то есть названия состоят из символов `abcdefghijklmnopqrstuvwxyz_.0123456789`:"
   ]
  },
  {
   "cell_type": "code",
   "execution_count": 16,
   "metadata": {},
   "outputs": [
    {
     "data": {
      "text/plain": [
       "'✅ Проблем с регистром не обнаружено'"
      ]
     },
     "execution_count": 16,
     "metadata": {},
     "output_type": "execute_result"
    }
   ],
   "source": [
    "# проверяю список названий столбцов всех наборов данных:\n",
    "columns_list = data_full.columns.to_list() + data_train.columns.to_list() + data_test.columns.to_list()\n",
    "is_that_snake(columns_list)"
   ]
  },
  {
   "cell_type": "markdown",
   "metadata": {},
   "source": [
    "**Вывод:** заголовки датасета и выборок соответсвуют змеиному регистру."
   ]
  },
  {
   "cell_type": "markdown",
   "metadata": {},
   "source": [
    "[Вернуться к оглавлению](#point0)"
   ]
  },
  {
   "cell_type": "markdown",
   "metadata": {},
   "source": [
    "#### Обработка пропусков\n",
    "\n",
    "Отобразим количество пропусков для обучающей выборки:"
   ]
  },
  {
   "cell_type": "code",
   "execution_count": 17,
   "metadata": {
    "scrolled": false
   },
   "outputs": [
    {
     "data": {
      "text/html": [
       "<div>\n",
       "<style scoped>\n",
       "    .dataframe tbody tr th:only-of-type {\n",
       "        vertical-align: middle;\n",
       "    }\n",
       "\n",
       "    .dataframe tbody tr th {\n",
       "        vertical-align: top;\n",
       "    }\n",
       "\n",
       "    .dataframe thead th {\n",
       "        text-align: right;\n",
       "    }\n",
       "</style>\n",
       "<table border=\"1\" class=\"dataframe\">\n",
       "  <thead>\n",
       "    <tr style=\"text-align: right;\">\n",
       "      <th></th>\n",
       "      <th>Количество</th>\n",
       "      <th>%</th>\n",
       "    </tr>\n",
       "  </thead>\n",
       "  <tbody>\n",
       "    <tr>\n",
       "      <th>rougher.state.floatbank10_e_air</th>\n",
       "      <td>436</td>\n",
       "      <td>3.081</td>\n",
       "    </tr>\n",
       "    <tr>\n",
       "      <th>rougher.input.floatbank11_xanthate</th>\n",
       "      <td>428</td>\n",
       "      <td>3.025</td>\n",
       "    </tr>\n",
       "    <tr>\n",
       "      <th>secondary_cleaner.state.floatbank2_a_air</th>\n",
       "      <td>217</td>\n",
       "      <td>1.534</td>\n",
       "    </tr>\n",
       "    <tr>\n",
       "      <th>rougher.input.feed_size</th>\n",
       "      <td>144</td>\n",
       "      <td>1.018</td>\n",
       "    </tr>\n",
       "    <tr>\n",
       "      <th>rougher.input.feed_pb</th>\n",
       "      <td>100</td>\n",
       "      <td>0.707</td>\n",
       "    </tr>\n",
       "    <tr>\n",
       "      <th>primary_cleaner.input.xanthate</th>\n",
       "      <td>100</td>\n",
       "      <td>0.707</td>\n",
       "    </tr>\n",
       "    <tr>\n",
       "      <th>rougher.input.feed_sol</th>\n",
       "      <td>78</td>\n",
       "      <td>0.551</td>\n",
       "    </tr>\n",
       "    <tr>\n",
       "      <th>rougher.input.floatbank11_sulfate</th>\n",
       "      <td>36</td>\n",
       "      <td>0.254</td>\n",
       "    </tr>\n",
       "    <tr>\n",
       "      <th>primary_cleaner.input.depressant</th>\n",
       "      <td>32</td>\n",
       "      <td>0.226</td>\n",
       "    </tr>\n",
       "    <tr>\n",
       "      <th>rougher.input.floatbank10_sulfate</th>\n",
       "      <td>29</td>\n",
       "      <td>0.205</td>\n",
       "    </tr>\n",
       "    <tr>\n",
       "      <th>secondary_cleaner.state.floatbank2_b_air</th>\n",
       "      <td>21</td>\n",
       "      <td>0.148</td>\n",
       "    </tr>\n",
       "    <tr>\n",
       "      <th>primary_cleaner.input.sulfate</th>\n",
       "      <td>20</td>\n",
       "      <td>0.141</td>\n",
       "    </tr>\n",
       "    <tr>\n",
       "      <th>rougher.input.feed_rate</th>\n",
       "      <td>8</td>\n",
       "      <td>0.057</td>\n",
       "    </tr>\n",
       "    <tr>\n",
       "      <th>rougher.input.floatbank10_xanthate</th>\n",
       "      <td>8</td>\n",
       "      <td>0.057</td>\n",
       "    </tr>\n",
       "    <tr>\n",
       "      <th>secondary_cleaner.state.floatbank4_a_air</th>\n",
       "      <td>6</td>\n",
       "      <td>0.042</td>\n",
       "    </tr>\n",
       "    <tr>\n",
       "      <th>secondary_cleaner.state.floatbank3_a_air</th>\n",
       "      <td>4</td>\n",
       "      <td>0.028</td>\n",
       "    </tr>\n",
       "    <tr>\n",
       "      <th>primary_cleaner.state.floatbank8_b_air</th>\n",
       "      <td>4</td>\n",
       "      <td>0.028</td>\n",
       "    </tr>\n",
       "    <tr>\n",
       "      <th>primary_cleaner.state.floatbank8_a_air</th>\n",
       "      <td>4</td>\n",
       "      <td>0.028</td>\n",
       "    </tr>\n",
       "    <tr>\n",
       "      <th>primary_cleaner.state.floatbank8_d_air</th>\n",
       "      <td>3</td>\n",
       "      <td>0.021</td>\n",
       "    </tr>\n",
       "    <tr>\n",
       "      <th>primary_cleaner.state.floatbank8_c_air</th>\n",
       "      <td>2</td>\n",
       "      <td>0.014</td>\n",
       "    </tr>\n",
       "    <tr>\n",
       "      <th>secondary_cleaner.state.floatbank6_a_air</th>\n",
       "      <td>2</td>\n",
       "      <td>0.014</td>\n",
       "    </tr>\n",
       "    <tr>\n",
       "      <th>secondary_cleaner.state.floatbank3_b_level</th>\n",
       "      <td>1</td>\n",
       "      <td>0.007</td>\n",
       "    </tr>\n",
       "    <tr>\n",
       "      <th>secondary_cleaner.state.floatbank3_a_level</th>\n",
       "      <td>1</td>\n",
       "      <td>0.007</td>\n",
       "    </tr>\n",
       "    <tr>\n",
       "      <th>secondary_cleaner.state.floatbank2_b_level</th>\n",
       "      <td>1</td>\n",
       "      <td>0.007</td>\n",
       "    </tr>\n",
       "    <tr>\n",
       "      <th>secondary_cleaner.state.floatbank2_a_level</th>\n",
       "      <td>1</td>\n",
       "      <td>0.007</td>\n",
       "    </tr>\n",
       "    <tr>\n",
       "      <th>secondary_cleaner.state.floatbank3_b_air</th>\n",
       "      <td>1</td>\n",
       "      <td>0.007</td>\n",
       "    </tr>\n",
       "    <tr>\n",
       "      <th>secondary_cleaner.state.floatbank4_b_air</th>\n",
       "      <td>1</td>\n",
       "      <td>0.007</td>\n",
       "    </tr>\n",
       "    <tr>\n",
       "      <th>secondary_cleaner.state.floatbank4_a_level</th>\n",
       "      <td>1</td>\n",
       "      <td>0.007</td>\n",
       "    </tr>\n",
       "    <tr>\n",
       "      <th>secondary_cleaner.state.floatbank4_b_level</th>\n",
       "      <td>1</td>\n",
       "      <td>0.007</td>\n",
       "    </tr>\n",
       "    <tr>\n",
       "      <th>secondary_cleaner.state.floatbank5_a_air</th>\n",
       "      <td>1</td>\n",
       "      <td>0.007</td>\n",
       "    </tr>\n",
       "    <tr>\n",
       "      <th>secondary_cleaner.state.floatbank5_a_level</th>\n",
       "      <td>1</td>\n",
       "      <td>0.007</td>\n",
       "    </tr>\n",
       "    <tr>\n",
       "      <th>secondary_cleaner.state.floatbank5_b_air</th>\n",
       "      <td>1</td>\n",
       "      <td>0.007</td>\n",
       "    </tr>\n",
       "    <tr>\n",
       "      <th>secondary_cleaner.state.floatbank5_b_level</th>\n",
       "      <td>1</td>\n",
       "      <td>0.007</td>\n",
       "    </tr>\n",
       "    <tr>\n",
       "      <th>rougher.state.floatbank10_b_air</th>\n",
       "      <td>1</td>\n",
       "      <td>0.007</td>\n",
       "    </tr>\n",
       "    <tr>\n",
       "      <th>secondary_cleaner.state.floatbank6_a_level</th>\n",
       "      <td>1</td>\n",
       "      <td>0.007</td>\n",
       "    </tr>\n",
       "    <tr>\n",
       "      <th>rougher.state.floatbank10_a_air</th>\n",
       "      <td>1</td>\n",
       "      <td>0.007</td>\n",
       "    </tr>\n",
       "    <tr>\n",
       "      <th>primary_cleaner.state.floatbank8_a_level</th>\n",
       "      <td>1</td>\n",
       "      <td>0.007</td>\n",
       "    </tr>\n",
       "    <tr>\n",
       "      <th>primary_cleaner.state.floatbank8_b_level</th>\n",
       "      <td>1</td>\n",
       "      <td>0.007</td>\n",
       "    </tr>\n",
       "    <tr>\n",
       "      <th>rougher.state.floatbank10_c_level</th>\n",
       "      <td>1</td>\n",
       "      <td>0.007</td>\n",
       "    </tr>\n",
       "    <tr>\n",
       "      <th>rougher.state.floatbank10_c_air</th>\n",
       "      <td>1</td>\n",
       "      <td>0.007</td>\n",
       "    </tr>\n",
       "    <tr>\n",
       "      <th>rougher.state.floatbank10_b_level</th>\n",
       "      <td>1</td>\n",
       "      <td>0.007</td>\n",
       "    </tr>\n",
       "    <tr>\n",
       "      <th>primary_cleaner.state.floatbank8_c_level</th>\n",
       "      <td>1</td>\n",
       "      <td>0.007</td>\n",
       "    </tr>\n",
       "    <tr>\n",
       "      <th>rougher.state.floatbank10_a_level</th>\n",
       "      <td>1</td>\n",
       "      <td>0.007</td>\n",
       "    </tr>\n",
       "    <tr>\n",
       "      <th>primary_cleaner.state.floatbank8_d_level</th>\n",
       "      <td>1</td>\n",
       "      <td>0.007</td>\n",
       "    </tr>\n",
       "  </tbody>\n",
       "</table>\n",
       "</div>"
      ],
      "text/plain": [
       "                                            Количество     %\n",
       "rougher.state.floatbank10_e_air                    436 3.081\n",
       "rougher.input.floatbank11_xanthate                 428 3.025\n",
       "secondary_cleaner.state.floatbank2_a_air           217 1.534\n",
       "rougher.input.feed_size                            144 1.018\n",
       "rougher.input.feed_pb                              100 0.707\n",
       "primary_cleaner.input.xanthate                     100 0.707\n",
       "rougher.input.feed_sol                              78 0.551\n",
       "rougher.input.floatbank11_sulfate                   36 0.254\n",
       "primary_cleaner.input.depressant                    32 0.226\n",
       "rougher.input.floatbank10_sulfate                   29 0.205\n",
       "secondary_cleaner.state.floatbank2_b_air            21 0.148\n",
       "primary_cleaner.input.sulfate                       20 0.141\n",
       "rougher.input.feed_rate                              8 0.057\n",
       "rougher.input.floatbank10_xanthate                   8 0.057\n",
       "secondary_cleaner.state.floatbank4_a_air             6 0.042\n",
       "secondary_cleaner.state.floatbank3_a_air             4 0.028\n",
       "primary_cleaner.state.floatbank8_b_air               4 0.028\n",
       "primary_cleaner.state.floatbank8_a_air               4 0.028\n",
       "primary_cleaner.state.floatbank8_d_air               3 0.021\n",
       "primary_cleaner.state.floatbank8_c_air               2 0.014\n",
       "secondary_cleaner.state.floatbank6_a_air             2 0.014\n",
       "secondary_cleaner.state.floatbank3_b_level           1 0.007\n",
       "secondary_cleaner.state.floatbank3_a_level           1 0.007\n",
       "secondary_cleaner.state.floatbank2_b_level           1 0.007\n",
       "secondary_cleaner.state.floatbank2_a_level           1 0.007\n",
       "secondary_cleaner.state.floatbank3_b_air             1 0.007\n",
       "secondary_cleaner.state.floatbank4_b_air             1 0.007\n",
       "secondary_cleaner.state.floatbank4_a_level           1 0.007\n",
       "secondary_cleaner.state.floatbank4_b_level           1 0.007\n",
       "secondary_cleaner.state.floatbank5_a_air             1 0.007\n",
       "secondary_cleaner.state.floatbank5_a_level           1 0.007\n",
       "secondary_cleaner.state.floatbank5_b_air             1 0.007\n",
       "secondary_cleaner.state.floatbank5_b_level           1 0.007\n",
       "rougher.state.floatbank10_b_air                      1 0.007\n",
       "secondary_cleaner.state.floatbank6_a_level           1 0.007\n",
       "rougher.state.floatbank10_a_air                      1 0.007\n",
       "primary_cleaner.state.floatbank8_a_level             1 0.007\n",
       "primary_cleaner.state.floatbank8_b_level             1 0.007\n",
       "rougher.state.floatbank10_c_level                    1 0.007\n",
       "rougher.state.floatbank10_c_air                      1 0.007\n",
       "rougher.state.floatbank10_b_level                    1 0.007\n",
       "primary_cleaner.state.floatbank8_c_level             1 0.007\n",
       "rougher.state.floatbank10_a_level                    1 0.007\n",
       "primary_cleaner.state.floatbank8_d_level             1 0.007"
      ]
     },
     "execution_count": 17,
     "metadata": {},
     "output_type": "execute_result"
    }
   ],
   "source": [
    "na_count(data_train).query('Количество > 0')"
   ]
  },
  {
   "cell_type": "markdown",
   "metadata": {},
   "source": [
    "и для тестовой выборки:"
   ]
  },
  {
   "cell_type": "code",
   "execution_count": 18,
   "metadata": {},
   "outputs": [
    {
     "data": {
      "text/html": [
       "<div>\n",
       "<style scoped>\n",
       "    .dataframe tbody tr th:only-of-type {\n",
       "        vertical-align: middle;\n",
       "    }\n",
       "\n",
       "    .dataframe tbody tr th {\n",
       "        vertical-align: top;\n",
       "    }\n",
       "\n",
       "    .dataframe thead th {\n",
       "        text-align: right;\n",
       "    }\n",
       "</style>\n",
       "<table border=\"1\" class=\"dataframe\">\n",
       "  <thead>\n",
       "    <tr style=\"text-align: right;\">\n",
       "      <th></th>\n",
       "      <th>Количество</th>\n",
       "      <th>%</th>\n",
       "    </tr>\n",
       "  </thead>\n",
       "  <tbody>\n",
       "    <tr>\n",
       "      <th>rougher.input.floatbank11_xanthate</th>\n",
       "      <td>25</td>\n",
       "      <td>0.473</td>\n",
       "    </tr>\n",
       "    <tr>\n",
       "      <th>rougher.input.feed_sol</th>\n",
       "      <td>21</td>\n",
       "      <td>0.397</td>\n",
       "    </tr>\n",
       "    <tr>\n",
       "      <th>secondary_cleaner.state.floatbank3_a_air</th>\n",
       "      <td>9</td>\n",
       "      <td>0.170</td>\n",
       "    </tr>\n",
       "    <tr>\n",
       "      <th>rougher.input.floatbank11_sulfate</th>\n",
       "      <td>8</td>\n",
       "      <td>0.151</td>\n",
       "    </tr>\n",
       "    <tr>\n",
       "      <th>primary_cleaner.input.depressant</th>\n",
       "      <td>5</td>\n",
       "      <td>0.095</td>\n",
       "    </tr>\n",
       "    <tr>\n",
       "      <th>rougher.input.floatbank10_sulfate</th>\n",
       "      <td>5</td>\n",
       "      <td>0.095</td>\n",
       "    </tr>\n",
       "    <tr>\n",
       "      <th>primary_cleaner.input.xanthate</th>\n",
       "      <td>4</td>\n",
       "      <td>0.076</td>\n",
       "    </tr>\n",
       "    <tr>\n",
       "      <th>primary_cleaner.input.sulfate</th>\n",
       "      <td>4</td>\n",
       "      <td>0.076</td>\n",
       "    </tr>\n",
       "    <tr>\n",
       "      <th>secondary_cleaner.state.floatbank2_a_air</th>\n",
       "      <td>3</td>\n",
       "      <td>0.057</td>\n",
       "    </tr>\n",
       "    <tr>\n",
       "      <th>rougher.input.feed_rate</th>\n",
       "      <td>3</td>\n",
       "      <td>0.057</td>\n",
       "    </tr>\n",
       "    <tr>\n",
       "      <th>secondary_cleaner.state.floatbank2_b_air</th>\n",
       "      <td>2</td>\n",
       "      <td>0.038</td>\n",
       "    </tr>\n",
       "    <tr>\n",
       "      <th>rougher.input.feed_size</th>\n",
       "      <td>1</td>\n",
       "      <td>0.019</td>\n",
       "    </tr>\n",
       "  </tbody>\n",
       "</table>\n",
       "</div>"
      ],
      "text/plain": [
       "                                          Количество     %\n",
       "rougher.input.floatbank11_xanthate                25 0.473\n",
       "rougher.input.feed_sol                            21 0.397\n",
       "secondary_cleaner.state.floatbank3_a_air           9 0.170\n",
       "rougher.input.floatbank11_sulfate                  8 0.151\n",
       "primary_cleaner.input.depressant                   5 0.095\n",
       "rougher.input.floatbank10_sulfate                  5 0.095\n",
       "primary_cleaner.input.xanthate                     4 0.076\n",
       "primary_cleaner.input.sulfate                      4 0.076\n",
       "secondary_cleaner.state.floatbank2_a_air           3 0.057\n",
       "rougher.input.feed_rate                            3 0.057\n",
       "secondary_cleaner.state.floatbank2_b_air           2 0.038\n",
       "rougher.input.feed_size                            1 0.019"
      ]
     },
     "execution_count": 18,
     "metadata": {},
     "output_type": "execute_result"
    }
   ],
   "source": [
    "na_count(data_test).query('Количество > 0')"
   ]
  },
  {
   "cell_type": "markdown",
   "metadata": {},
   "source": [
    "Как видим, в выборках пристуствуют пропуски для параметров сырья и параметров, характеризующих текущее состояние этапа. В описании технологического процесса не упомянуто о возможных причинах появления пропусков, поэтому можно предположить:\n",
    "* Среди признаков встречаются названия с порядковым номером (например, `floatbank2` - флотационная установка 2). Можно предпложить, что пропуск мог быть вызван тем, что какая-либо установка не была активна в определенный момент технологического процесса.\n",
    "* Пропуск мог появиться из-за ошибки фиксации и передачи параметра.\n",
    "\n",
    "Выведем запись с пропуском в признаке `rougher.input.feed_pb`:"
   ]
  },
  {
   "cell_type": "code",
   "execution_count": 19,
   "metadata": {},
   "outputs": [
    {
     "data": {
      "text/html": [
       "<div>\n",
       "<style scoped>\n",
       "    .dataframe tbody tr th:only-of-type {\n",
       "        vertical-align: middle;\n",
       "    }\n",
       "\n",
       "    .dataframe tbody tr th {\n",
       "        vertical-align: top;\n",
       "    }\n",
       "\n",
       "    .dataframe thead th {\n",
       "        text-align: right;\n",
       "    }\n",
       "</style>\n",
       "<table border=\"1\" class=\"dataframe\">\n",
       "  <thead>\n",
       "    <tr style=\"text-align: right;\">\n",
       "      <th></th>\n",
       "      <th>date</th>\n",
       "      <th>final.output.recovery</th>\n",
       "      <th>primary_cleaner.input.sulfate</th>\n",
       "      <th>primary_cleaner.input.depressant</th>\n",
       "      <th>primary_cleaner.input.feed_size</th>\n",
       "      <th>primary_cleaner.input.xanthate</th>\n",
       "      <th>primary_cleaner.state.floatbank8_a_air</th>\n",
       "      <th>primary_cleaner.state.floatbank8_a_level</th>\n",
       "      <th>primary_cleaner.state.floatbank8_b_air</th>\n",
       "      <th>primary_cleaner.state.floatbank8_b_level</th>\n",
       "      <th>primary_cleaner.state.floatbank8_c_air</th>\n",
       "      <th>primary_cleaner.state.floatbank8_c_level</th>\n",
       "      <th>primary_cleaner.state.floatbank8_d_air</th>\n",
       "      <th>primary_cleaner.state.floatbank8_d_level</th>\n",
       "      <th>rougher.input.feed_ag</th>\n",
       "      <th>rougher.input.feed_pb</th>\n",
       "      <th>rougher.input.feed_rate</th>\n",
       "      <th>rougher.input.feed_size</th>\n",
       "      <th>rougher.input.feed_sol</th>\n",
       "      <th>rougher.input.feed_au</th>\n",
       "      <th>rougher.input.floatbank10_sulfate</th>\n",
       "      <th>rougher.input.floatbank10_xanthate</th>\n",
       "      <th>rougher.input.floatbank11_sulfate</th>\n",
       "      <th>rougher.input.floatbank11_xanthate</th>\n",
       "      <th>rougher.output.recovery</th>\n",
       "      <th>rougher.state.floatbank10_a_air</th>\n",
       "      <th>rougher.state.floatbank10_a_level</th>\n",
       "      <th>rougher.state.floatbank10_b_air</th>\n",
       "      <th>rougher.state.floatbank10_b_level</th>\n",
       "      <th>rougher.state.floatbank10_c_air</th>\n",
       "      <th>rougher.state.floatbank10_c_level</th>\n",
       "      <th>rougher.state.floatbank10_d_air</th>\n",
       "      <th>rougher.state.floatbank10_d_level</th>\n",
       "      <th>rougher.state.floatbank10_e_air</th>\n",
       "      <th>rougher.state.floatbank10_e_level</th>\n",
       "      <th>rougher.state.floatbank10_f_air</th>\n",
       "      <th>rougher.state.floatbank10_f_level</th>\n",
       "      <th>secondary_cleaner.state.floatbank2_a_air</th>\n",
       "      <th>secondary_cleaner.state.floatbank2_a_level</th>\n",
       "      <th>secondary_cleaner.state.floatbank2_b_air</th>\n",
       "      <th>secondary_cleaner.state.floatbank2_b_level</th>\n",
       "      <th>secondary_cleaner.state.floatbank3_a_air</th>\n",
       "      <th>secondary_cleaner.state.floatbank3_a_level</th>\n",
       "      <th>secondary_cleaner.state.floatbank3_b_air</th>\n",
       "      <th>secondary_cleaner.state.floatbank3_b_level</th>\n",
       "      <th>secondary_cleaner.state.floatbank4_a_air</th>\n",
       "      <th>secondary_cleaner.state.floatbank4_a_level</th>\n",
       "      <th>secondary_cleaner.state.floatbank4_b_air</th>\n",
       "      <th>secondary_cleaner.state.floatbank4_b_level</th>\n",
       "      <th>secondary_cleaner.state.floatbank5_a_air</th>\n",
       "      <th>secondary_cleaner.state.floatbank5_a_level</th>\n",
       "      <th>secondary_cleaner.state.floatbank5_b_air</th>\n",
       "      <th>secondary_cleaner.state.floatbank5_b_level</th>\n",
       "      <th>secondary_cleaner.state.floatbank6_a_air</th>\n",
       "      <th>secondary_cleaner.state.floatbank6_a_level</th>\n",
       "    </tr>\n",
       "  </thead>\n",
       "  <tbody>\n",
       "    <tr>\n",
       "      <th>336</th>\n",
       "      <td>2016-01-31 10:00:00</td>\n",
       "      <td>40.604</td>\n",
       "      <td>50.026</td>\n",
       "      <td>4.952</td>\n",
       "      <td>6.690</td>\n",
       "      <td>0.859</td>\n",
       "      <td>1498.756</td>\n",
       "      <td>-500.447</td>\n",
       "      <td>1496.785</td>\n",
       "      <td>-499.759</td>\n",
       "      <td>1501.062</td>\n",
       "      <td>-500.062</td>\n",
       "      <td>1498.529</td>\n",
       "      <td>-499.137</td>\n",
       "      <td>7.504</td>\n",
       "      <td>NaN</td>\n",
       "      <td>202.024</td>\n",
       "      <td>60.126</td>\n",
       "      <td>29.201</td>\n",
       "      <td>3.514</td>\n",
       "      <td>4.501</td>\n",
       "      <td>2.617</td>\n",
       "      <td>4.499</td>\n",
       "      <td>2.618</td>\n",
       "      <td>59.697</td>\n",
       "      <td>1000.753</td>\n",
       "      <td>-499.991</td>\n",
       "      <td>1500.188</td>\n",
       "      <td>-500.331</td>\n",
       "      <td>1499.565</td>\n",
       "      <td>-500.145</td>\n",
       "      <td>1395.851</td>\n",
       "      <td>-500.119</td>\n",
       "      <td>1300.196</td>\n",
       "      <td>-501.586</td>\n",
       "      <td>1199.716</td>\n",
       "      <td>-500.884</td>\n",
       "      <td>24.917</td>\n",
       "      <td>-499.481</td>\n",
       "      <td>24.063</td>\n",
       "      <td>-500.421</td>\n",
       "      <td>25.099</td>\n",
       "      <td>-499.692</td>\n",
       "      <td>23.949</td>\n",
       "      <td>-500.023</td>\n",
       "      <td>14.994</td>\n",
       "      <td>-500.520</td>\n",
       "      <td>13.023</td>\n",
       "      <td>-500.095</td>\n",
       "      <td>14.033</td>\n",
       "      <td>-498.885</td>\n",
       "      <td>14.078</td>\n",
       "      <td>-500.313</td>\n",
       "      <td>16.034</td>\n",
       "      <td>-498.992</td>\n",
       "    </tr>\n",
       "  </tbody>\n",
       "</table>\n",
       "</div>"
      ],
      "text/plain": [
       "                    date  final.output.recovery  \\\n",
       "336  2016-01-31 10:00:00                 40.604   \n",
       "\n",
       "     primary_cleaner.input.sulfate  primary_cleaner.input.depressant  \\\n",
       "336                         50.026                             4.952   \n",
       "\n",
       "     primary_cleaner.input.feed_size  primary_cleaner.input.xanthate  \\\n",
       "336                            6.690                           0.859   \n",
       "\n",
       "     primary_cleaner.state.floatbank8_a_air  \\\n",
       "336                                1498.756   \n",
       "\n",
       "     primary_cleaner.state.floatbank8_a_level  \\\n",
       "336                                  -500.447   \n",
       "\n",
       "     primary_cleaner.state.floatbank8_b_air  \\\n",
       "336                                1496.785   \n",
       "\n",
       "     primary_cleaner.state.floatbank8_b_level  \\\n",
       "336                                  -499.759   \n",
       "\n",
       "     primary_cleaner.state.floatbank8_c_air  \\\n",
       "336                                1501.062   \n",
       "\n",
       "     primary_cleaner.state.floatbank8_c_level  \\\n",
       "336                                  -500.062   \n",
       "\n",
       "     primary_cleaner.state.floatbank8_d_air  \\\n",
       "336                                1498.529   \n",
       "\n",
       "     primary_cleaner.state.floatbank8_d_level  rougher.input.feed_ag  \\\n",
       "336                                  -499.137                  7.504   \n",
       "\n",
       "     rougher.input.feed_pb  rougher.input.feed_rate  rougher.input.feed_size  \\\n",
       "336                    NaN                  202.024                   60.126   \n",
       "\n",
       "     rougher.input.feed_sol  rougher.input.feed_au  \\\n",
       "336                  29.201                  3.514   \n",
       "\n",
       "     rougher.input.floatbank10_sulfate  rougher.input.floatbank10_xanthate  \\\n",
       "336                              4.501                               2.617   \n",
       "\n",
       "     rougher.input.floatbank11_sulfate  rougher.input.floatbank11_xanthate  \\\n",
       "336                              4.499                               2.618   \n",
       "\n",
       "     rougher.output.recovery  rougher.state.floatbank10_a_air  \\\n",
       "336                   59.697                         1000.753   \n",
       "\n",
       "     rougher.state.floatbank10_a_level  rougher.state.floatbank10_b_air  \\\n",
       "336                           -499.991                         1500.188   \n",
       "\n",
       "     rougher.state.floatbank10_b_level  rougher.state.floatbank10_c_air  \\\n",
       "336                           -500.331                         1499.565   \n",
       "\n",
       "     rougher.state.floatbank10_c_level  rougher.state.floatbank10_d_air  \\\n",
       "336                           -500.145                         1395.851   \n",
       "\n",
       "     rougher.state.floatbank10_d_level  rougher.state.floatbank10_e_air  \\\n",
       "336                           -500.119                         1300.196   \n",
       "\n",
       "     rougher.state.floatbank10_e_level  rougher.state.floatbank10_f_air  \\\n",
       "336                           -501.586                         1199.716   \n",
       "\n",
       "     rougher.state.floatbank10_f_level  \\\n",
       "336                           -500.884   \n",
       "\n",
       "     secondary_cleaner.state.floatbank2_a_air  \\\n",
       "336                                    24.917   \n",
       "\n",
       "     secondary_cleaner.state.floatbank2_a_level  \\\n",
       "336                                    -499.481   \n",
       "\n",
       "     secondary_cleaner.state.floatbank2_b_air  \\\n",
       "336                                    24.063   \n",
       "\n",
       "     secondary_cleaner.state.floatbank2_b_level  \\\n",
       "336                                    -500.421   \n",
       "\n",
       "     secondary_cleaner.state.floatbank3_a_air  \\\n",
       "336                                    25.099   \n",
       "\n",
       "     secondary_cleaner.state.floatbank3_a_level  \\\n",
       "336                                    -499.692   \n",
       "\n",
       "     secondary_cleaner.state.floatbank3_b_air  \\\n",
       "336                                    23.949   \n",
       "\n",
       "     secondary_cleaner.state.floatbank3_b_level  \\\n",
       "336                                    -500.023   \n",
       "\n",
       "     secondary_cleaner.state.floatbank4_a_air  \\\n",
       "336                                    14.994   \n",
       "\n",
       "     secondary_cleaner.state.floatbank4_a_level  \\\n",
       "336                                    -500.520   \n",
       "\n",
       "     secondary_cleaner.state.floatbank4_b_air  \\\n",
       "336                                    13.023   \n",
       "\n",
       "     secondary_cleaner.state.floatbank4_b_level  \\\n",
       "336                                    -500.095   \n",
       "\n",
       "     secondary_cleaner.state.floatbank5_a_air  \\\n",
       "336                                    14.033   \n",
       "\n",
       "     secondary_cleaner.state.floatbank5_a_level  \\\n",
       "336                                    -498.885   \n",
       "\n",
       "     secondary_cleaner.state.floatbank5_b_air  \\\n",
       "336                                    14.078   \n",
       "\n",
       "     secondary_cleaner.state.floatbank5_b_level  \\\n",
       "336                                    -500.313   \n",
       "\n",
       "     secondary_cleaner.state.floatbank6_a_air  \\\n",
       "336                                    16.034   \n",
       "\n",
       "     secondary_cleaner.state.floatbank6_a_level  \n",
       "336                                    -498.992  "
      ]
     },
     "execution_count": 19,
     "metadata": {},
     "output_type": "execute_result"
    }
   ],
   "source": [
    "data_train[data_train['rougher.input.feed_pb'].isna()].head(1)"
   ]
  },
  {
   "cell_type": "markdown",
   "metadata": {},
   "source": [
    "Проверим как менялось значение признака `rougher.input.feed_pb` в смежных записях:"
   ]
  },
  {
   "cell_type": "code",
   "execution_count": 20,
   "metadata": {},
   "outputs": [
    {
     "data": {
      "text/plain": [
       "330   3.402\n",
       "331   3.519\n",
       "332   0.950\n",
       "333   0.834\n",
       "334   0.484\n",
       "335   0.316\n",
       "336     NaN\n",
       "337   0.783\n",
       "338   1.469\n",
       "339   1.132\n",
       "340   0.865\n",
       "Name: rougher.input.feed_pb, dtype: float64"
      ]
     },
     "execution_count": 20,
     "metadata": {},
     "output_type": "execute_result"
    }
   ],
   "source": [
    "data_train['rougher.input.feed_pb'].loc[330:340]"
   ]
  },
  {
   "cell_type": "markdown",
   "metadata": {},
   "source": [
    "Основываясь на характере распределения параметра, а также утверждении из описания проекта, что <font color='orange'>\"соседние по времени параметры часто похожи\"</font>, заполню пропуски последним валидным значением, для этого использую метод `fillna` с опцией `method='ffill'`:"
   ]
  },
  {
   "cell_type": "code",
   "execution_count": 21,
   "metadata": {},
   "outputs": [],
   "source": [
    "data_train = data_train.fillna(method='ffill')\n",
    "data_test = data_test.fillna(method='ffill')"
   ]
  },
  {
   "cell_type": "markdown",
   "metadata": {},
   "source": [
    "Проверю как подставились значения:"
   ]
  },
  {
   "cell_type": "code",
   "execution_count": 22,
   "metadata": {},
   "outputs": [
    {
     "data": {
      "text/plain": [
       "330   3.402\n",
       "331   3.519\n",
       "332   0.950\n",
       "333   0.834\n",
       "334   0.484\n",
       "335   0.316\n",
       "336   0.316\n",
       "337   0.783\n",
       "338   1.469\n",
       "339   1.132\n",
       "340   0.865\n",
       "Name: rougher.input.feed_pb, dtype: float64"
      ]
     },
     "execution_count": 22,
     "metadata": {},
     "output_type": "execute_result"
    }
   ],
   "source": [
    "data_train['rougher.input.feed_pb'].loc[330:340]"
   ]
  },
  {
   "cell_type": "markdown",
   "metadata": {},
   "source": [
    "Проверю количество пропусков:"
   ]
  },
  {
   "cell_type": "code",
   "execution_count": 23,
   "metadata": {
    "scrolled": false
   },
   "outputs": [
    {
     "data": {
      "text/html": [
       "<div>\n",
       "<style scoped>\n",
       "    .dataframe tbody tr th:only-of-type {\n",
       "        vertical-align: middle;\n",
       "    }\n",
       "\n",
       "    .dataframe tbody tr th {\n",
       "        vertical-align: top;\n",
       "    }\n",
       "\n",
       "    .dataframe thead th {\n",
       "        text-align: right;\n",
       "    }\n",
       "</style>\n",
       "<table border=\"1\" class=\"dataframe\">\n",
       "  <thead>\n",
       "    <tr style=\"text-align: right;\">\n",
       "      <th></th>\n",
       "      <th>Параметр</th>\n",
       "      <th>data_train</th>\n",
       "      <th>data_test</th>\n",
       "    </tr>\n",
       "  </thead>\n",
       "  <tbody>\n",
       "    <tr>\n",
       "      <th>0</th>\n",
       "      <td>date</td>\n",
       "      <td>0</td>\n",
       "      <td>0</td>\n",
       "    </tr>\n",
       "    <tr>\n",
       "      <th>1</th>\n",
       "      <td>final.output.recovery</td>\n",
       "      <td>0</td>\n",
       "      <td>0</td>\n",
       "    </tr>\n",
       "    <tr>\n",
       "      <th>2</th>\n",
       "      <td>primary_cleaner.input.sulfate</td>\n",
       "      <td>0</td>\n",
       "      <td>0</td>\n",
       "    </tr>\n",
       "    <tr>\n",
       "      <th>3</th>\n",
       "      <td>primary_cleaner.input.depressant</td>\n",
       "      <td>0</td>\n",
       "      <td>0</td>\n",
       "    </tr>\n",
       "    <tr>\n",
       "      <th>4</th>\n",
       "      <td>primary_cleaner.input.feed_size</td>\n",
       "      <td>0</td>\n",
       "      <td>0</td>\n",
       "    </tr>\n",
       "    <tr>\n",
       "      <th>5</th>\n",
       "      <td>primary_cleaner.input.xanthate</td>\n",
       "      <td>0</td>\n",
       "      <td>0</td>\n",
       "    </tr>\n",
       "    <tr>\n",
       "      <th>6</th>\n",
       "      <td>primary_cleaner.state.floatbank8_a_air</td>\n",
       "      <td>0</td>\n",
       "      <td>0</td>\n",
       "    </tr>\n",
       "    <tr>\n",
       "      <th>7</th>\n",
       "      <td>primary_cleaner.state.floatbank8_a_level</td>\n",
       "      <td>0</td>\n",
       "      <td>0</td>\n",
       "    </tr>\n",
       "    <tr>\n",
       "      <th>8</th>\n",
       "      <td>primary_cleaner.state.floatbank8_b_air</td>\n",
       "      <td>0</td>\n",
       "      <td>0</td>\n",
       "    </tr>\n",
       "    <tr>\n",
       "      <th>9</th>\n",
       "      <td>primary_cleaner.state.floatbank8_b_level</td>\n",
       "      <td>0</td>\n",
       "      <td>0</td>\n",
       "    </tr>\n",
       "    <tr>\n",
       "      <th>10</th>\n",
       "      <td>primary_cleaner.state.floatbank8_c_air</td>\n",
       "      <td>0</td>\n",
       "      <td>0</td>\n",
       "    </tr>\n",
       "    <tr>\n",
       "      <th>11</th>\n",
       "      <td>primary_cleaner.state.floatbank8_c_level</td>\n",
       "      <td>0</td>\n",
       "      <td>0</td>\n",
       "    </tr>\n",
       "    <tr>\n",
       "      <th>12</th>\n",
       "      <td>primary_cleaner.state.floatbank8_d_air</td>\n",
       "      <td>0</td>\n",
       "      <td>0</td>\n",
       "    </tr>\n",
       "    <tr>\n",
       "      <th>13</th>\n",
       "      <td>primary_cleaner.state.floatbank8_d_level</td>\n",
       "      <td>0</td>\n",
       "      <td>0</td>\n",
       "    </tr>\n",
       "    <tr>\n",
       "      <th>14</th>\n",
       "      <td>rougher.input.feed_ag</td>\n",
       "      <td>0</td>\n",
       "      <td>0</td>\n",
       "    </tr>\n",
       "    <tr>\n",
       "      <th>15</th>\n",
       "      <td>rougher.input.feed_pb</td>\n",
       "      <td>0</td>\n",
       "      <td>0</td>\n",
       "    </tr>\n",
       "    <tr>\n",
       "      <th>16</th>\n",
       "      <td>rougher.input.feed_rate</td>\n",
       "      <td>0</td>\n",
       "      <td>0</td>\n",
       "    </tr>\n",
       "    <tr>\n",
       "      <th>17</th>\n",
       "      <td>rougher.input.feed_size</td>\n",
       "      <td>0</td>\n",
       "      <td>0</td>\n",
       "    </tr>\n",
       "    <tr>\n",
       "      <th>18</th>\n",
       "      <td>rougher.input.feed_sol</td>\n",
       "      <td>0</td>\n",
       "      <td>0</td>\n",
       "    </tr>\n",
       "    <tr>\n",
       "      <th>19</th>\n",
       "      <td>rougher.input.feed_au</td>\n",
       "      <td>0</td>\n",
       "      <td>0</td>\n",
       "    </tr>\n",
       "    <tr>\n",
       "      <th>20</th>\n",
       "      <td>rougher.input.floatbank10_sulfate</td>\n",
       "      <td>0</td>\n",
       "      <td>0</td>\n",
       "    </tr>\n",
       "    <tr>\n",
       "      <th>21</th>\n",
       "      <td>rougher.input.floatbank10_xanthate</td>\n",
       "      <td>0</td>\n",
       "      <td>0</td>\n",
       "    </tr>\n",
       "    <tr>\n",
       "      <th>22</th>\n",
       "      <td>rougher.input.floatbank11_sulfate</td>\n",
       "      <td>0</td>\n",
       "      <td>0</td>\n",
       "    </tr>\n",
       "    <tr>\n",
       "      <th>23</th>\n",
       "      <td>rougher.input.floatbank11_xanthate</td>\n",
       "      <td>0</td>\n",
       "      <td>0</td>\n",
       "    </tr>\n",
       "    <tr>\n",
       "      <th>24</th>\n",
       "      <td>rougher.output.recovery</td>\n",
       "      <td>0</td>\n",
       "      <td>0</td>\n",
       "    </tr>\n",
       "    <tr>\n",
       "      <th>25</th>\n",
       "      <td>rougher.state.floatbank10_a_air</td>\n",
       "      <td>0</td>\n",
       "      <td>0</td>\n",
       "    </tr>\n",
       "    <tr>\n",
       "      <th>26</th>\n",
       "      <td>rougher.state.floatbank10_a_level</td>\n",
       "      <td>0</td>\n",
       "      <td>0</td>\n",
       "    </tr>\n",
       "    <tr>\n",
       "      <th>27</th>\n",
       "      <td>rougher.state.floatbank10_b_air</td>\n",
       "      <td>0</td>\n",
       "      <td>0</td>\n",
       "    </tr>\n",
       "    <tr>\n",
       "      <th>28</th>\n",
       "      <td>rougher.state.floatbank10_b_level</td>\n",
       "      <td>0</td>\n",
       "      <td>0</td>\n",
       "    </tr>\n",
       "    <tr>\n",
       "      <th>29</th>\n",
       "      <td>rougher.state.floatbank10_c_air</td>\n",
       "      <td>0</td>\n",
       "      <td>0</td>\n",
       "    </tr>\n",
       "    <tr>\n",
       "      <th>30</th>\n",
       "      <td>rougher.state.floatbank10_c_level</td>\n",
       "      <td>0</td>\n",
       "      <td>0</td>\n",
       "    </tr>\n",
       "    <tr>\n",
       "      <th>31</th>\n",
       "      <td>rougher.state.floatbank10_d_air</td>\n",
       "      <td>0</td>\n",
       "      <td>0</td>\n",
       "    </tr>\n",
       "    <tr>\n",
       "      <th>32</th>\n",
       "      <td>rougher.state.floatbank10_d_level</td>\n",
       "      <td>0</td>\n",
       "      <td>0</td>\n",
       "    </tr>\n",
       "    <tr>\n",
       "      <th>33</th>\n",
       "      <td>rougher.state.floatbank10_e_air</td>\n",
       "      <td>0</td>\n",
       "      <td>0</td>\n",
       "    </tr>\n",
       "    <tr>\n",
       "      <th>34</th>\n",
       "      <td>rougher.state.floatbank10_e_level</td>\n",
       "      <td>0</td>\n",
       "      <td>0</td>\n",
       "    </tr>\n",
       "    <tr>\n",
       "      <th>35</th>\n",
       "      <td>rougher.state.floatbank10_f_air</td>\n",
       "      <td>0</td>\n",
       "      <td>0</td>\n",
       "    </tr>\n",
       "    <tr>\n",
       "      <th>36</th>\n",
       "      <td>rougher.state.floatbank10_f_level</td>\n",
       "      <td>0</td>\n",
       "      <td>0</td>\n",
       "    </tr>\n",
       "    <tr>\n",
       "      <th>37</th>\n",
       "      <td>secondary_cleaner.state.floatbank2_a_air</td>\n",
       "      <td>0</td>\n",
       "      <td>0</td>\n",
       "    </tr>\n",
       "    <tr>\n",
       "      <th>38</th>\n",
       "      <td>secondary_cleaner.state.floatbank2_a_level</td>\n",
       "      <td>0</td>\n",
       "      <td>0</td>\n",
       "    </tr>\n",
       "    <tr>\n",
       "      <th>39</th>\n",
       "      <td>secondary_cleaner.state.floatbank2_b_air</td>\n",
       "      <td>0</td>\n",
       "      <td>0</td>\n",
       "    </tr>\n",
       "    <tr>\n",
       "      <th>40</th>\n",
       "      <td>secondary_cleaner.state.floatbank2_b_level</td>\n",
       "      <td>0</td>\n",
       "      <td>0</td>\n",
       "    </tr>\n",
       "    <tr>\n",
       "      <th>41</th>\n",
       "      <td>secondary_cleaner.state.floatbank3_a_air</td>\n",
       "      <td>0</td>\n",
       "      <td>0</td>\n",
       "    </tr>\n",
       "    <tr>\n",
       "      <th>42</th>\n",
       "      <td>secondary_cleaner.state.floatbank3_a_level</td>\n",
       "      <td>0</td>\n",
       "      <td>0</td>\n",
       "    </tr>\n",
       "    <tr>\n",
       "      <th>43</th>\n",
       "      <td>secondary_cleaner.state.floatbank3_b_air</td>\n",
       "      <td>0</td>\n",
       "      <td>0</td>\n",
       "    </tr>\n",
       "    <tr>\n",
       "      <th>44</th>\n",
       "      <td>secondary_cleaner.state.floatbank3_b_level</td>\n",
       "      <td>0</td>\n",
       "      <td>0</td>\n",
       "    </tr>\n",
       "    <tr>\n",
       "      <th>45</th>\n",
       "      <td>secondary_cleaner.state.floatbank4_a_air</td>\n",
       "      <td>0</td>\n",
       "      <td>0</td>\n",
       "    </tr>\n",
       "    <tr>\n",
       "      <th>46</th>\n",
       "      <td>secondary_cleaner.state.floatbank4_a_level</td>\n",
       "      <td>0</td>\n",
       "      <td>0</td>\n",
       "    </tr>\n",
       "    <tr>\n",
       "      <th>47</th>\n",
       "      <td>secondary_cleaner.state.floatbank4_b_air</td>\n",
       "      <td>0</td>\n",
       "      <td>0</td>\n",
       "    </tr>\n",
       "    <tr>\n",
       "      <th>48</th>\n",
       "      <td>secondary_cleaner.state.floatbank4_b_level</td>\n",
       "      <td>0</td>\n",
       "      <td>0</td>\n",
       "    </tr>\n",
       "    <tr>\n",
       "      <th>49</th>\n",
       "      <td>secondary_cleaner.state.floatbank5_a_air</td>\n",
       "      <td>0</td>\n",
       "      <td>0</td>\n",
       "    </tr>\n",
       "    <tr>\n",
       "      <th>50</th>\n",
       "      <td>secondary_cleaner.state.floatbank5_a_level</td>\n",
       "      <td>0</td>\n",
       "      <td>0</td>\n",
       "    </tr>\n",
       "    <tr>\n",
       "      <th>51</th>\n",
       "      <td>secondary_cleaner.state.floatbank5_b_air</td>\n",
       "      <td>0</td>\n",
       "      <td>0</td>\n",
       "    </tr>\n",
       "    <tr>\n",
       "      <th>52</th>\n",
       "      <td>secondary_cleaner.state.floatbank5_b_level</td>\n",
       "      <td>0</td>\n",
       "      <td>0</td>\n",
       "    </tr>\n",
       "    <tr>\n",
       "      <th>53</th>\n",
       "      <td>secondary_cleaner.state.floatbank6_a_air</td>\n",
       "      <td>0</td>\n",
       "      <td>0</td>\n",
       "    </tr>\n",
       "    <tr>\n",
       "      <th>54</th>\n",
       "      <td>secondary_cleaner.state.floatbank6_a_level</td>\n",
       "      <td>0</td>\n",
       "      <td>0</td>\n",
       "    </tr>\n",
       "  </tbody>\n",
       "</table>\n",
       "</div>"
      ],
      "text/plain": [
       "                                      Параметр  data_train  data_test\n",
       "0                                         date           0          0\n",
       "1                        final.output.recovery           0          0\n",
       "2                primary_cleaner.input.sulfate           0          0\n",
       "3             primary_cleaner.input.depressant           0          0\n",
       "4              primary_cleaner.input.feed_size           0          0\n",
       "5               primary_cleaner.input.xanthate           0          0\n",
       "6       primary_cleaner.state.floatbank8_a_air           0          0\n",
       "7     primary_cleaner.state.floatbank8_a_level           0          0\n",
       "8       primary_cleaner.state.floatbank8_b_air           0          0\n",
       "9     primary_cleaner.state.floatbank8_b_level           0          0\n",
       "10      primary_cleaner.state.floatbank8_c_air           0          0\n",
       "11    primary_cleaner.state.floatbank8_c_level           0          0\n",
       "12      primary_cleaner.state.floatbank8_d_air           0          0\n",
       "13    primary_cleaner.state.floatbank8_d_level           0          0\n",
       "14                       rougher.input.feed_ag           0          0\n",
       "15                       rougher.input.feed_pb           0          0\n",
       "16                     rougher.input.feed_rate           0          0\n",
       "17                     rougher.input.feed_size           0          0\n",
       "18                      rougher.input.feed_sol           0          0\n",
       "19                       rougher.input.feed_au           0          0\n",
       "20           rougher.input.floatbank10_sulfate           0          0\n",
       "21          rougher.input.floatbank10_xanthate           0          0\n",
       "22           rougher.input.floatbank11_sulfate           0          0\n",
       "23          rougher.input.floatbank11_xanthate           0          0\n",
       "24                     rougher.output.recovery           0          0\n",
       "25             rougher.state.floatbank10_a_air           0          0\n",
       "26           rougher.state.floatbank10_a_level           0          0\n",
       "27             rougher.state.floatbank10_b_air           0          0\n",
       "28           rougher.state.floatbank10_b_level           0          0\n",
       "29             rougher.state.floatbank10_c_air           0          0\n",
       "30           rougher.state.floatbank10_c_level           0          0\n",
       "31             rougher.state.floatbank10_d_air           0          0\n",
       "32           rougher.state.floatbank10_d_level           0          0\n",
       "33             rougher.state.floatbank10_e_air           0          0\n",
       "34           rougher.state.floatbank10_e_level           0          0\n",
       "35             rougher.state.floatbank10_f_air           0          0\n",
       "36           rougher.state.floatbank10_f_level           0          0\n",
       "37    secondary_cleaner.state.floatbank2_a_air           0          0\n",
       "38  secondary_cleaner.state.floatbank2_a_level           0          0\n",
       "39    secondary_cleaner.state.floatbank2_b_air           0          0\n",
       "40  secondary_cleaner.state.floatbank2_b_level           0          0\n",
       "41    secondary_cleaner.state.floatbank3_a_air           0          0\n",
       "42  secondary_cleaner.state.floatbank3_a_level           0          0\n",
       "43    secondary_cleaner.state.floatbank3_b_air           0          0\n",
       "44  secondary_cleaner.state.floatbank3_b_level           0          0\n",
       "45    secondary_cleaner.state.floatbank4_a_air           0          0\n",
       "46  secondary_cleaner.state.floatbank4_a_level           0          0\n",
       "47    secondary_cleaner.state.floatbank4_b_air           0          0\n",
       "48  secondary_cleaner.state.floatbank4_b_level           0          0\n",
       "49    secondary_cleaner.state.floatbank5_a_air           0          0\n",
       "50  secondary_cleaner.state.floatbank5_a_level           0          0\n",
       "51    secondary_cleaner.state.floatbank5_b_air           0          0\n",
       "52  secondary_cleaner.state.floatbank5_b_level           0          0\n",
       "53    secondary_cleaner.state.floatbank6_a_air           0          0\n",
       "54  secondary_cleaner.state.floatbank6_a_level           0          0"
      ]
     },
     "execution_count": 23,
     "metadata": {},
     "output_type": "execute_result"
    }
   ],
   "source": [
    "pd.DataFrame(data = {\n",
    "    'Параметр': data_train.columns.to_list(),\n",
    "    'data_train': data_train.isna().sum().to_list(),\n",
    "    'data_test': data_test.isna().sum().to_list()\n",
    "    })"
   ]
  },
  {
   "cell_type": "markdown",
   "metadata": {},
   "source": [
    "**Выводы**: \n",
    "* Для обучающей и тестовой выборок пропуски признаков заполнены последними валидными значениями (метод `fillna` с опцией `method='ffill'`)\n",
    "* Целевые признаки не имели пропусков (см. п. [1.4.2](#Добавление-целевых-признаков-в-тестовую-выборку))"
   ]
  },
  {
   "cell_type": "markdown",
   "metadata": {},
   "source": [
    "[Вернуться к оглавлению](#point0)"
   ]
  },
  {
   "cell_type": "markdown",
   "metadata": {},
   "source": [
    "#### Обработка аномальных значений\n",
    "\n",
    "В нашем наборе данных есть строки, где присутствуют нулевые значения концентрации параметров.\n",
    "\n",
    "Проверим и выделим такие значения:"
   ]
  },
  {
   "cell_type": "code",
   "execution_count": 24,
   "metadata": {},
   "outputs": [
    {
     "name": "stdout",
     "output_type": "stream",
     "text": [
      "Количество записей с нулевой концентрацией для признаков:\n",
      "final.output.concentrate_ag: 98\n",
      "final.output.concentrate_pb: 98\n",
      "final.output.concentrate_sol: 98\n",
      "final.output.concentrate_au: 98\n",
      "primary_cleaner.output.concentrate_ag: 108\n",
      "primary_cleaner.output.concentrate_pb: 108\n",
      "primary_cleaner.output.concentrate_sol: 108\n",
      "primary_cleaner.output.concentrate_au: 108\n",
      "rougher.output.concentrate_ag: 394\n",
      "rougher.output.concentrate_pb: 394\n",
      "rougher.output.concentrate_sol: 394\n",
      "rougher.output.concentrate_au: 394\n"
     ]
    }
   ],
   "source": [
    "print('Количество записей с нулевой концентрацией для признаков:')\n",
    "# создание списка для фиксации названий признаков\n",
    "# с нулевыми значениями концентрации:\n",
    "null_concentrate_col_list = []\n",
    "\n",
    "# цикл перебора столбцов исходных данных:\n",
    "for col in data_full.columns:\n",
    "    \n",
    "    # условие выборки столбцов с данными о концентрации:\n",
    "    if 'concentrate' in col or 'input.feed' in col:\n",
    "\n",
    "        # если количество строк с нулевым значеним > 0:\n",
    "        if len(data_full[data_full[col] == 0]) > 0:\n",
    "            \n",
    "            # добавить название в список:\n",
    "            null_concentrate_col_list.append(col)\n",
    "            \n",
    "            # вывести информацию:\n",
    "            print(col + ':', len(data_full[data_full[col] == 0]))"
   ]
  },
  {
   "cell_type": "markdown",
   "metadata": {},
   "source": [
    "Отобразили признаки с нулевой концентрацией и количество нулевых значений в каждом из таких признаков.\n",
    "\n",
    "Названия признаков занесли в отдельный список `null_concentrate_col_list`.\n",
    "\n",
    "Теперь пройдемся по данным столбцам и выберем строки, где присутствуют нулевые значения. Фиксировать строки будем по столбцу `date`:"
   ]
  },
  {
   "cell_type": "code",
   "execution_count": 25,
   "metadata": {},
   "outputs": [],
   "source": [
    "# поскольку в столбце date уникальные значения,\n",
    "# чтобы в процессе сбора данных 'даты' не дублировались\n",
    "# использую для фиксации множество, а не список:\n",
    "null_concentrate_date_set = set()\n",
    "for col in null_concentrate_col_list:\n",
    "    null_concentrate_date_set.update(data_full[data_full[col] == 0]['date'].to_list())"
   ]
  },
  {
   "cell_type": "markdown",
   "metadata": {},
   "source": [
    "Проверим по дате из полученного списка пару значений:"
   ]
  },
  {
   "cell_type": "code",
   "execution_count": 26,
   "metadata": {},
   "outputs": [
    {
     "data": {
      "text/html": [
       "<div>\n",
       "<style scoped>\n",
       "    .dataframe tbody tr th:only-of-type {\n",
       "        vertical-align: middle;\n",
       "    }\n",
       "\n",
       "    .dataframe tbody tr th {\n",
       "        vertical-align: top;\n",
       "    }\n",
       "\n",
       "    .dataframe thead th {\n",
       "        text-align: right;\n",
       "    }\n",
       "</style>\n",
       "<table border=\"1\" class=\"dataframe\">\n",
       "  <thead>\n",
       "    <tr style=\"text-align: right;\">\n",
       "      <th></th>\n",
       "      <th>date</th>\n",
       "      <th>final.output.concentrate_ag</th>\n",
       "      <th>final.output.concentrate_pb</th>\n",
       "      <th>final.output.concentrate_sol</th>\n",
       "      <th>final.output.concentrate_au</th>\n",
       "      <th>final.output.recovery</th>\n",
       "      <th>final.output.tail_ag</th>\n",
       "      <th>final.output.tail_pb</th>\n",
       "      <th>final.output.tail_sol</th>\n",
       "      <th>final.output.tail_au</th>\n",
       "      <th>primary_cleaner.input.sulfate</th>\n",
       "      <th>primary_cleaner.input.depressant</th>\n",
       "      <th>primary_cleaner.input.feed_size</th>\n",
       "      <th>primary_cleaner.input.xanthate</th>\n",
       "      <th>primary_cleaner.output.concentrate_ag</th>\n",
       "      <th>primary_cleaner.output.concentrate_pb</th>\n",
       "      <th>primary_cleaner.output.concentrate_sol</th>\n",
       "      <th>primary_cleaner.output.concentrate_au</th>\n",
       "      <th>primary_cleaner.output.tail_ag</th>\n",
       "      <th>primary_cleaner.output.tail_pb</th>\n",
       "      <th>primary_cleaner.output.tail_sol</th>\n",
       "      <th>primary_cleaner.output.tail_au</th>\n",
       "      <th>primary_cleaner.state.floatbank8_a_air</th>\n",
       "      <th>primary_cleaner.state.floatbank8_a_level</th>\n",
       "      <th>primary_cleaner.state.floatbank8_b_air</th>\n",
       "      <th>primary_cleaner.state.floatbank8_b_level</th>\n",
       "      <th>primary_cleaner.state.floatbank8_c_air</th>\n",
       "      <th>primary_cleaner.state.floatbank8_c_level</th>\n",
       "      <th>primary_cleaner.state.floatbank8_d_air</th>\n",
       "      <th>primary_cleaner.state.floatbank8_d_level</th>\n",
       "      <th>rougher.calculation.sulfate_to_au_concentrate</th>\n",
       "      <th>rougher.calculation.floatbank10_sulfate_to_au_feed</th>\n",
       "      <th>rougher.calculation.floatbank11_sulfate_to_au_feed</th>\n",
       "      <th>rougher.calculation.au_pb_ratio</th>\n",
       "      <th>rougher.input.feed_ag</th>\n",
       "      <th>rougher.input.feed_pb</th>\n",
       "      <th>rougher.input.feed_rate</th>\n",
       "      <th>rougher.input.feed_size</th>\n",
       "      <th>rougher.input.feed_sol</th>\n",
       "      <th>rougher.input.feed_au</th>\n",
       "      <th>rougher.input.floatbank10_sulfate</th>\n",
       "      <th>rougher.input.floatbank10_xanthate</th>\n",
       "      <th>rougher.input.floatbank11_sulfate</th>\n",
       "      <th>rougher.input.floatbank11_xanthate</th>\n",
       "      <th>rougher.output.concentrate_ag</th>\n",
       "      <th>rougher.output.concentrate_pb</th>\n",
       "      <th>rougher.output.concentrate_sol</th>\n",
       "      <th>rougher.output.concentrate_au</th>\n",
       "      <th>rougher.output.recovery</th>\n",
       "      <th>rougher.output.tail_ag</th>\n",
       "      <th>rougher.output.tail_pb</th>\n",
       "      <th>rougher.output.tail_sol</th>\n",
       "      <th>rougher.output.tail_au</th>\n",
       "      <th>rougher.state.floatbank10_a_air</th>\n",
       "      <th>rougher.state.floatbank10_a_level</th>\n",
       "      <th>rougher.state.floatbank10_b_air</th>\n",
       "      <th>rougher.state.floatbank10_b_level</th>\n",
       "      <th>rougher.state.floatbank10_c_air</th>\n",
       "      <th>rougher.state.floatbank10_c_level</th>\n",
       "      <th>rougher.state.floatbank10_d_air</th>\n",
       "      <th>rougher.state.floatbank10_d_level</th>\n",
       "      <th>rougher.state.floatbank10_e_air</th>\n",
       "      <th>rougher.state.floatbank10_e_level</th>\n",
       "      <th>rougher.state.floatbank10_f_air</th>\n",
       "      <th>rougher.state.floatbank10_f_level</th>\n",
       "      <th>secondary_cleaner.output.tail_ag</th>\n",
       "      <th>secondary_cleaner.output.tail_pb</th>\n",
       "      <th>secondary_cleaner.output.tail_sol</th>\n",
       "      <th>secondary_cleaner.output.tail_au</th>\n",
       "      <th>secondary_cleaner.state.floatbank2_a_air</th>\n",
       "      <th>secondary_cleaner.state.floatbank2_a_level</th>\n",
       "      <th>secondary_cleaner.state.floatbank2_b_air</th>\n",
       "      <th>secondary_cleaner.state.floatbank2_b_level</th>\n",
       "      <th>secondary_cleaner.state.floatbank3_a_air</th>\n",
       "      <th>secondary_cleaner.state.floatbank3_a_level</th>\n",
       "      <th>secondary_cleaner.state.floatbank3_b_air</th>\n",
       "      <th>secondary_cleaner.state.floatbank3_b_level</th>\n",
       "      <th>secondary_cleaner.state.floatbank4_a_air</th>\n",
       "      <th>secondary_cleaner.state.floatbank4_a_level</th>\n",
       "      <th>secondary_cleaner.state.floatbank4_b_air</th>\n",
       "      <th>secondary_cleaner.state.floatbank4_b_level</th>\n",
       "      <th>secondary_cleaner.state.floatbank5_a_air</th>\n",
       "      <th>secondary_cleaner.state.floatbank5_a_level</th>\n",
       "      <th>secondary_cleaner.state.floatbank5_b_air</th>\n",
       "      <th>secondary_cleaner.state.floatbank5_b_level</th>\n",
       "      <th>secondary_cleaner.state.floatbank6_a_air</th>\n",
       "      <th>secondary_cleaner.state.floatbank6_a_level</th>\n",
       "    </tr>\n",
       "  </thead>\n",
       "  <tbody>\n",
       "    <tr>\n",
       "      <th>9290</th>\n",
       "      <td>2017-04-07 05:59:59</td>\n",
       "      <td>3.271</td>\n",
       "      <td>10.526</td>\n",
       "      <td>10.715</td>\n",
       "      <td>48.021</td>\n",
       "      <td>63.841</td>\n",
       "      <td>8.129</td>\n",
       "      <td>2.717</td>\n",
       "      <td>12.115</td>\n",
       "      <td>2.465</td>\n",
       "      <td>113.428</td>\n",
       "      <td>5.469</td>\n",
       "      <td>7.390</td>\n",
       "      <td>0.438</td>\n",
       "      <td>6.306</td>\n",
       "      <td>10.021</td>\n",
       "      <td>5.573</td>\n",
       "      <td>34.683</td>\n",
       "      <td>13.719</td>\n",
       "      <td>2.489</td>\n",
       "      <td>8.941</td>\n",
       "      <td>3.673</td>\n",
       "      <td>1729.305</td>\n",
       "      <td>-500.304</td>\n",
       "      <td>1746.241</td>\n",
       "      <td>-500.459</td>\n",
       "      <td>1748.395</td>\n",
       "      <td>-511.340</td>\n",
       "      <td>1750.289</td>\n",
       "      <td>-496.075</td>\n",
       "      <td>49098.156</td>\n",
       "      <td>4734.410</td>\n",
       "      <td>4734.560</td>\n",
       "      <td>2.066</td>\n",
       "      <td>7.607</td>\n",
       "      <td>3.026</td>\n",
       "      <td>392.365</td>\n",
       "      <td>48.061</td>\n",
       "      <td>35.784</td>\n",
       "      <td>6.252</td>\n",
       "      <td>12.501</td>\n",
       "      <td>4.098</td>\n",
       "      <td>12.503</td>\n",
       "      <td>4.099</td>\n",
       "      <td>0.000</td>\n",
       "      <td>0.000</td>\n",
       "      <td>0.000</td>\n",
       "      <td>0.000</td>\n",
       "      <td>0.000</td>\n",
       "      <td>6.048</td>\n",
       "      <td>0.540</td>\n",
       "      <td>20.631</td>\n",
       "      <td>1.314</td>\n",
       "      <td>1299.545</td>\n",
       "      <td>-299.909</td>\n",
       "      <td>1450.701</td>\n",
       "      <td>-349.696</td>\n",
       "      <td>1453.064</td>\n",
       "      <td>-350.813</td>\n",
       "      <td>1250.469</td>\n",
       "      <td>-350.617</td>\n",
       "      <td>1050.616</td>\n",
       "      <td>-349.475</td>\n",
       "      <td>1050.684</td>\n",
       "      <td>-351.401</td>\n",
       "      <td>12.363</td>\n",
       "      <td>4.249</td>\n",
       "      <td>7.233</td>\n",
       "      <td>4.190</td>\n",
       "      <td>34.934</td>\n",
       "      <td>-499.991</td>\n",
       "      <td>30.023</td>\n",
       "      <td>-500.152</td>\n",
       "      <td>36.984</td>\n",
       "      <td>-399.936</td>\n",
       "      <td>28.022</td>\n",
       "      <td>-499.914</td>\n",
       "      <td>25.006</td>\n",
       "      <td>-401.473</td>\n",
       "      <td>22.944</td>\n",
       "      <td>-399.988</td>\n",
       "      <td>33.442</td>\n",
       "      <td>-449.578</td>\n",
       "      <td>24.003</td>\n",
       "      <td>-449.814</td>\n",
       "      <td>29.992</td>\n",
       "      <td>-499.582</td>\n",
       "    </tr>\n",
       "    <tr>\n",
       "      <th>7588</th>\n",
       "      <td>2017-01-18 16:59:59</td>\n",
       "      <td>0.000</td>\n",
       "      <td>0.000</td>\n",
       "      <td>0.000</td>\n",
       "      <td>0.000</td>\n",
       "      <td>0.000</td>\n",
       "      <td>3.166</td>\n",
       "      <td>2.025</td>\n",
       "      <td>4.348</td>\n",
       "      <td>3.585</td>\n",
       "      <td>0.067</td>\n",
       "      <td>NaN</td>\n",
       "      <td>7.050</td>\n",
       "      <td>NaN</td>\n",
       "      <td>11.419</td>\n",
       "      <td>10.289</td>\n",
       "      <td>7.057</td>\n",
       "      <td>24.966</td>\n",
       "      <td>4.913</td>\n",
       "      <td>0.917</td>\n",
       "      <td>20.621</td>\n",
       "      <td>1.015</td>\n",
       "      <td>1439.593</td>\n",
       "      <td>-501.045</td>\n",
       "      <td>1426.599</td>\n",
       "      <td>-502.852</td>\n",
       "      <td>1441.182</td>\n",
       "      <td>-548.033</td>\n",
       "      <td>1453.521</td>\n",
       "      <td>-799.760</td>\n",
       "      <td>84.301</td>\n",
       "      <td>3.898</td>\n",
       "      <td>3.481</td>\n",
       "      <td>1.857</td>\n",
       "      <td>7.807</td>\n",
       "      <td>4.508</td>\n",
       "      <td>0.187</td>\n",
       "      <td>40.036</td>\n",
       "      <td>NaN</td>\n",
       "      <td>8.371</td>\n",
       "      <td>0.014</td>\n",
       "      <td>0.008</td>\n",
       "      <td>0.017</td>\n",
       "      <td>NaN</td>\n",
       "      <td>11.512</td>\n",
       "      <td>11.552</td>\n",
       "      <td>29.867</td>\n",
       "      <td>19.934</td>\n",
       "      <td>86.095</td>\n",
       "      <td>5.289</td>\n",
       "      <td>0.682</td>\n",
       "      <td>14.444</td>\n",
       "      <td>1.823</td>\n",
       "      <td>999.995</td>\n",
       "      <td>-499.994</td>\n",
       "      <td>1400.338</td>\n",
       "      <td>-500.276</td>\n",
       "      <td>1404.173</td>\n",
       "      <td>-500.224</td>\n",
       "      <td>1308.335</td>\n",
       "      <td>-500.717</td>\n",
       "      <td>1100.385</td>\n",
       "      <td>-500.074</td>\n",
       "      <td>999.741</td>\n",
       "      <td>-500.196</td>\n",
       "      <td>8.612</td>\n",
       "      <td>4.370</td>\n",
       "      <td>8.799</td>\n",
       "      <td>8.067</td>\n",
       "      <td>29.981</td>\n",
       "      <td>-504.607</td>\n",
       "      <td>28.029</td>\n",
       "      <td>-565.978</td>\n",
       "      <td>25.003</td>\n",
       "      <td>-638.419</td>\n",
       "      <td>22.940</td>\n",
       "      <td>-606.303</td>\n",
       "      <td>13.982</td>\n",
       "      <td>-497.411</td>\n",
       "      <td>14.032</td>\n",
       "      <td>-500.121</td>\n",
       "      <td>-0.174</td>\n",
       "      <td>-563.738</td>\n",
       "      <td>0.679</td>\n",
       "      <td>-746.433</td>\n",
       "      <td>0.260</td>\n",
       "      <td>-809.058</td>\n",
       "    </tr>\n",
       "  </tbody>\n",
       "</table>\n",
       "</div>"
      ],
      "text/plain": [
       "                     date  final.output.concentrate_ag  \\\n",
       "9290  2017-04-07 05:59:59                        3.271   \n",
       "7588  2017-01-18 16:59:59                        0.000   \n",
       "\n",
       "      final.output.concentrate_pb  final.output.concentrate_sol  \\\n",
       "9290                       10.526                        10.715   \n",
       "7588                        0.000                         0.000   \n",
       "\n",
       "      final.output.concentrate_au  final.output.recovery  \\\n",
       "9290                       48.021                 63.841   \n",
       "7588                        0.000                  0.000   \n",
       "\n",
       "      final.output.tail_ag  final.output.tail_pb  final.output.tail_sol  \\\n",
       "9290                 8.129                 2.717                 12.115   \n",
       "7588                 3.166                 2.025                  4.348   \n",
       "\n",
       "      final.output.tail_au  primary_cleaner.input.sulfate  \\\n",
       "9290                 2.465                        113.428   \n",
       "7588                 3.585                          0.067   \n",
       "\n",
       "      primary_cleaner.input.depressant  primary_cleaner.input.feed_size  \\\n",
       "9290                             5.469                            7.390   \n",
       "7588                               NaN                            7.050   \n",
       "\n",
       "      primary_cleaner.input.xanthate  primary_cleaner.output.concentrate_ag  \\\n",
       "9290                           0.438                                  6.306   \n",
       "7588                             NaN                                 11.419   \n",
       "\n",
       "      primary_cleaner.output.concentrate_pb  \\\n",
       "9290                                 10.021   \n",
       "7588                                 10.289   \n",
       "\n",
       "      primary_cleaner.output.concentrate_sol  \\\n",
       "9290                                   5.573   \n",
       "7588                                   7.057   \n",
       "\n",
       "      primary_cleaner.output.concentrate_au  primary_cleaner.output.tail_ag  \\\n",
       "9290                                 34.683                          13.719   \n",
       "7588                                 24.966                           4.913   \n",
       "\n",
       "      primary_cleaner.output.tail_pb  primary_cleaner.output.tail_sol  \\\n",
       "9290                           2.489                            8.941   \n",
       "7588                           0.917                           20.621   \n",
       "\n",
       "      primary_cleaner.output.tail_au  primary_cleaner.state.floatbank8_a_air  \\\n",
       "9290                           3.673                                1729.305   \n",
       "7588                           1.015                                1439.593   \n",
       "\n",
       "      primary_cleaner.state.floatbank8_a_level  \\\n",
       "9290                                  -500.304   \n",
       "7588                                  -501.045   \n",
       "\n",
       "      primary_cleaner.state.floatbank8_b_air  \\\n",
       "9290                                1746.241   \n",
       "7588                                1426.599   \n",
       "\n",
       "      primary_cleaner.state.floatbank8_b_level  \\\n",
       "9290                                  -500.459   \n",
       "7588                                  -502.852   \n",
       "\n",
       "      primary_cleaner.state.floatbank8_c_air  \\\n",
       "9290                                1748.395   \n",
       "7588                                1441.182   \n",
       "\n",
       "      primary_cleaner.state.floatbank8_c_level  \\\n",
       "9290                                  -511.340   \n",
       "7588                                  -548.033   \n",
       "\n",
       "      primary_cleaner.state.floatbank8_d_air  \\\n",
       "9290                                1750.289   \n",
       "7588                                1453.521   \n",
       "\n",
       "      primary_cleaner.state.floatbank8_d_level  \\\n",
       "9290                                  -496.075   \n",
       "7588                                  -799.760   \n",
       "\n",
       "      rougher.calculation.sulfate_to_au_concentrate  \\\n",
       "9290                                      49098.156   \n",
       "7588                                         84.301   \n",
       "\n",
       "      rougher.calculation.floatbank10_sulfate_to_au_feed  \\\n",
       "9290                                           4734.410    \n",
       "7588                                              3.898    \n",
       "\n",
       "      rougher.calculation.floatbank11_sulfate_to_au_feed  \\\n",
       "9290                                           4734.560    \n",
       "7588                                              3.481    \n",
       "\n",
       "      rougher.calculation.au_pb_ratio  rougher.input.feed_ag  \\\n",
       "9290                            2.066                  7.607   \n",
       "7588                            1.857                  7.807   \n",
       "\n",
       "      rougher.input.feed_pb  rougher.input.feed_rate  rougher.input.feed_size  \\\n",
       "9290                  3.026                  392.365                   48.061   \n",
       "7588                  4.508                    0.187                   40.036   \n",
       "\n",
       "      rougher.input.feed_sol  rougher.input.feed_au  \\\n",
       "9290                  35.784                  6.252   \n",
       "7588                     NaN                  8.371   \n",
       "\n",
       "      rougher.input.floatbank10_sulfate  rougher.input.floatbank10_xanthate  \\\n",
       "9290                             12.501                               4.098   \n",
       "7588                              0.014                               0.008   \n",
       "\n",
       "      rougher.input.floatbank11_sulfate  rougher.input.floatbank11_xanthate  \\\n",
       "9290                             12.503                               4.099   \n",
       "7588                              0.017                                 NaN   \n",
       "\n",
       "      rougher.output.concentrate_ag  rougher.output.concentrate_pb  \\\n",
       "9290                          0.000                          0.000   \n",
       "7588                         11.512                         11.552   \n",
       "\n",
       "      rougher.output.concentrate_sol  rougher.output.concentrate_au  \\\n",
       "9290                           0.000                          0.000   \n",
       "7588                          29.867                         19.934   \n",
       "\n",
       "      rougher.output.recovery  rougher.output.tail_ag  rougher.output.tail_pb  \\\n",
       "9290                    0.000                   6.048                   0.540   \n",
       "7588                   86.095                   5.289                   0.682   \n",
       "\n",
       "      rougher.output.tail_sol  rougher.output.tail_au  \\\n",
       "9290                   20.631                   1.314   \n",
       "7588                   14.444                   1.823   \n",
       "\n",
       "      rougher.state.floatbank10_a_air  rougher.state.floatbank10_a_level  \\\n",
       "9290                         1299.545                           -299.909   \n",
       "7588                          999.995                           -499.994   \n",
       "\n",
       "      rougher.state.floatbank10_b_air  rougher.state.floatbank10_b_level  \\\n",
       "9290                         1450.701                           -349.696   \n",
       "7588                         1400.338                           -500.276   \n",
       "\n",
       "      rougher.state.floatbank10_c_air  rougher.state.floatbank10_c_level  \\\n",
       "9290                         1453.064                           -350.813   \n",
       "7588                         1404.173                           -500.224   \n",
       "\n",
       "      rougher.state.floatbank10_d_air  rougher.state.floatbank10_d_level  \\\n",
       "9290                         1250.469                           -350.617   \n",
       "7588                         1308.335                           -500.717   \n",
       "\n",
       "      rougher.state.floatbank10_e_air  rougher.state.floatbank10_e_level  \\\n",
       "9290                         1050.616                           -349.475   \n",
       "7588                         1100.385                           -500.074   \n",
       "\n",
       "      rougher.state.floatbank10_f_air  rougher.state.floatbank10_f_level  \\\n",
       "9290                         1050.684                           -351.401   \n",
       "7588                          999.741                           -500.196   \n",
       "\n",
       "      secondary_cleaner.output.tail_ag  secondary_cleaner.output.tail_pb  \\\n",
       "9290                            12.363                             4.249   \n",
       "7588                             8.612                             4.370   \n",
       "\n",
       "      secondary_cleaner.output.tail_sol  secondary_cleaner.output.tail_au  \\\n",
       "9290                              7.233                             4.190   \n",
       "7588                              8.799                             8.067   \n",
       "\n",
       "      secondary_cleaner.state.floatbank2_a_air  \\\n",
       "9290                                    34.934   \n",
       "7588                                    29.981   \n",
       "\n",
       "      secondary_cleaner.state.floatbank2_a_level  \\\n",
       "9290                                    -499.991   \n",
       "7588                                    -504.607   \n",
       "\n",
       "      secondary_cleaner.state.floatbank2_b_air  \\\n",
       "9290                                    30.023   \n",
       "7588                                    28.029   \n",
       "\n",
       "      secondary_cleaner.state.floatbank2_b_level  \\\n",
       "9290                                    -500.152   \n",
       "7588                                    -565.978   \n",
       "\n",
       "      secondary_cleaner.state.floatbank3_a_air  \\\n",
       "9290                                    36.984   \n",
       "7588                                    25.003   \n",
       "\n",
       "      secondary_cleaner.state.floatbank3_a_level  \\\n",
       "9290                                    -399.936   \n",
       "7588                                    -638.419   \n",
       "\n",
       "      secondary_cleaner.state.floatbank3_b_air  \\\n",
       "9290                                    28.022   \n",
       "7588                                    22.940   \n",
       "\n",
       "      secondary_cleaner.state.floatbank3_b_level  \\\n",
       "9290                                    -499.914   \n",
       "7588                                    -606.303   \n",
       "\n",
       "      secondary_cleaner.state.floatbank4_a_air  \\\n",
       "9290                                    25.006   \n",
       "7588                                    13.982   \n",
       "\n",
       "      secondary_cleaner.state.floatbank4_a_level  \\\n",
       "9290                                    -401.473   \n",
       "7588                                    -497.411   \n",
       "\n",
       "      secondary_cleaner.state.floatbank4_b_air  \\\n",
       "9290                                    22.944   \n",
       "7588                                    14.032   \n",
       "\n",
       "      secondary_cleaner.state.floatbank4_b_level  \\\n",
       "9290                                    -399.988   \n",
       "7588                                    -500.121   \n",
       "\n",
       "      secondary_cleaner.state.floatbank5_a_air  \\\n",
       "9290                                    33.442   \n",
       "7588                                    -0.174   \n",
       "\n",
       "      secondary_cleaner.state.floatbank5_a_level  \\\n",
       "9290                                    -449.578   \n",
       "7588                                    -563.738   \n",
       "\n",
       "      secondary_cleaner.state.floatbank5_b_air  \\\n",
       "9290                                    24.003   \n",
       "7588                                     0.679   \n",
       "\n",
       "      secondary_cleaner.state.floatbank5_b_level  \\\n",
       "9290                                    -449.814   \n",
       "7588                                    -746.433   \n",
       "\n",
       "      secondary_cleaner.state.floatbank6_a_air  \\\n",
       "9290                                    29.992   \n",
       "7588                                     0.260   \n",
       "\n",
       "      secondary_cleaner.state.floatbank6_a_level  \n",
       "9290                                    -499.582  \n",
       "7588                                    -809.058  "
      ]
     },
     "execution_count": 26,
     "metadata": {},
     "output_type": "execute_result"
    }
   ],
   "source": [
    "data_full.query('date in @null_concentrate_date_set').sample(2)"
   ]
  },
  {
   "cell_type": "code",
   "execution_count": 27,
   "metadata": {},
   "outputs": [
    {
     "name": "stdout",
     "output_type": "stream",
     "text": [
      "Количество строк с нулевой концентрацией: 591\n"
     ]
    }
   ],
   "source": [
    "print(f'Количество строк с нулевой концентрацией: {len(null_concentrate_date_set)}')"
   ]
  },
  {
   "cell_type": "markdown",
   "metadata": {},
   "source": [
    "Нулевой концентрации металла быть не может. Вероятно, это произошло в результате сбоя при сборе/записи данных.\n",
    "\n",
    "Пусть эти данные (столбцы из списка `null_concentrate_col_list`) не будут использованы для обучения модели, и вообще будут удалены из обучающей выборки, но <ins>строки, в которых мы обнаружили ошибки, могут быть неверными и в других столбцах</ins>, которые мы оставляем и далее используем для обучения.\n",
    "\n",
    "Поэтому подобные записи необходимо исключить из наших данных."
   ]
  },
  {
   "cell_type": "code",
   "execution_count": 28,
   "metadata": {},
   "outputs": [],
   "source": [
    "# исходные данные:\n",
    "data_full = data_full.query('date not in @null_concentrate_date_set')\n",
    "\n",
    "# обучающая выборка:\n",
    "data_train = data_train.query('date not in @null_concentrate_date_set')"
   ]
  },
  {
   "cell_type": "markdown",
   "metadata": {},
   "source": [
    "[Вернуться к оглавлению](#point0)"
   ]
  },
  {
   "cell_type": "markdown",
   "metadata": {},
   "source": [
    "#### Изменение типов данных\n",
    "Как уже было сказано, признаки и целевые признаки для наших данных имеют тип `float64`. Это подходящий тип, изменений не требуется.\n",
    "\n",
    "Столбец `date` имеет тип `object`. "
   ]
  },
  {
   "cell_type": "code",
   "execution_count": 29,
   "metadata": {},
   "outputs": [
    {
     "data": {
      "text/plain": [
       "0    2016-01-15 00:00:00\n",
       "Name: date, dtype: object"
      ]
     },
     "execution_count": 29,
     "metadata": {},
     "output_type": "execute_result"
    }
   ],
   "source": [
    "data_train['date'].head(1)"
   ]
  },
  {
   "cell_type": "markdown",
   "metadata": {},
   "source": [
    "Если бы согласно задачам проекта необходимо было анализировать данные по временным отрезкам, то для `date` следовало бы изменить тип данных на `datetime` как более подходящий для таких задач. Поскольку таких задач не ставится - не будем менять тип данных для `date`.\n",
    "\n",
    "**Вывод**: Типы данных в имеющихся датасетах не требуют изменений."
   ]
  },
  {
   "cell_type": "markdown",
   "metadata": {},
   "source": [
    "[Вернуться к оглавлению](#point0)"
   ]
  },
  {
   "cell_type": "markdown",
   "metadata": {},
   "source": [
    "## Исследовательский анализ данных\n",
    "### Анализ изменения концентрации металлов (Au, Ag, Pb) на различных этапах очистки\n",
    "Сформируем списки с названиями металлов `metal_list` и этапами очистки `cleaning_stages_list`:"
   ]
  },
  {
   "cell_type": "code",
   "execution_count": 30,
   "metadata": {},
   "outputs": [],
   "source": [
    "metal_list = ['au', 'ag', 'pb']\n",
    "cleaning_stages_list = ['rougher.input.feed', 'rougher.output.concentrate', \n",
    "                        'primary_cleaner.output.concentrate', 'final.output.concentrate']"
   ]
  },
  {
   "cell_type": "markdown",
   "metadata": {},
   "source": [
    "Построим гистограммы распределения концентрации металлов на различных этапах очистки:"
   ]
  },
  {
   "cell_type": "code",
   "execution_count": 31,
   "metadata": {},
   "outputs": [
    {
     "data": {
      "image/png": "[encoded data removed]",
      "text/plain": [
       "<Figure size 1080x504 with 1 Axes>"
      ]
     },
     "metadata": {
      "needs_background": "light"
     },
     "output_type": "display_data"
    },
    {
     "data": {
      "image/png": "[encoded data removed]",
      "text/plain": [
       "<Figure size 1080x504 with 1 Axes>"
      ]
     },
     "metadata": {
      "needs_background": "light"
     },
     "output_type": "display_data"
    },
    {
     "data": {
      "image/png": "[encoded data removed]",
      "text/plain": [
       "<Figure size 1080x504 with 1 Axes>"
      ]
     },
     "metadata": {
      "needs_background": "light"
     },
     "output_type": "display_data"
    }
   ],
   "source": [
    "for metal in metal_list:\n",
    "    param = [f'{i}_{metal}' for i in cleaning_stages_list]\n",
    "    draw_hist(data_set=data_full, y=param, bins=150, alpha=0.6,\n",
    "              title=f'Распределение концентрации {metal.title()} на различных этапах очистки', \n",
    "              xlabel='Концентрация', ylabel='Частота')"
   ]
  },
  {
   "cell_type": "markdown",
   "metadata": {},
   "source": [
    "Отобразим средние значения концентрации металлов по ходу технологического процесса в виде графиков:"
   ]
  },
  {
   "cell_type": "code",
   "execution_count": 32,
   "metadata": {},
   "outputs": [
    {
     "data": {
      "image/png": "[encoded data removed]",
      "text/plain": [
       "<Figure size 1080x504 with 1 Axes>"
      ]
     },
     "metadata": {
      "needs_background": "light"
     },
     "output_type": "display_data"
    }
   ],
   "source": [
    "# формирование набора данных в виде словаря формата -\n",
    "# [код металла] : [список средних значений концентраций]\n",
    "metal_conc_dict = dict()\n",
    "for metal in metal_list:\n",
    "    metal_conc_dict[metal.title()] = [data_full[f'{i}_{metal}'].mean() for i in cleaning_stages_list]\n",
    "    \n",
    "# построение графика:\n",
    "pd.DataFrame(metal_conc_dict).plot(style='o-', color=['#FFD700', '#c4c4c4', '#000'], linewidth=3)\n",
    "plt.xticks([i for i in range(len(cleaning_stages_list))], \n",
    "           labels=[cleaning_stages_list[i] for i in range(len(cleaning_stages_list))]) \n",
    "plt.title('Среднее значение концентрации металлов по ходу технологического процесса')\n",
    "plt.xlabel('Этапы очистки')\n",
    "plt.ylabel('Среднее значение концентрации')\n",
    "plt.show()"
   ]
  },
  {
   "cell_type": "markdown",
   "metadata": {},
   "source": [
    "Таблица значений концентрации:"
   ]
  },
  {
   "cell_type": "code",
   "execution_count": 33,
   "metadata": {},
   "outputs": [
    {
     "data": {
      "text/html": [
       "<div>\n",
       "<style scoped>\n",
       "    .dataframe tbody tr th:only-of-type {\n",
       "        vertical-align: middle;\n",
       "    }\n",
       "\n",
       "    .dataframe tbody tr th {\n",
       "        vertical-align: top;\n",
       "    }\n",
       "\n",
       "    .dataframe thead th {\n",
       "        text-align: right;\n",
       "    }\n",
       "</style>\n",
       "<table border=\"1\" class=\"dataframe\">\n",
       "  <thead>\n",
       "    <tr style=\"text-align: right;\">\n",
       "      <th></th>\n",
       "      <th>rougher.input.feed</th>\n",
       "      <th>rougher.output.concentrate</th>\n",
       "      <th>primary_cleaner.output.concentrate</th>\n",
       "      <th>final.output.concentrate</th>\n",
       "    </tr>\n",
       "  </thead>\n",
       "  <tbody>\n",
       "    <tr>\n",
       "      <th>Au</th>\n",
       "      <td>8.257</td>\n",
       "      <td>20.182</td>\n",
       "      <td>32.273</td>\n",
       "      <td>44.293</td>\n",
       "    </tr>\n",
       "    <tr>\n",
       "      <th>Ag</th>\n",
       "      <td>8.788</td>\n",
       "      <td>12.248</td>\n",
       "      <td>8.505</td>\n",
       "      <td>5.199</td>\n",
       "    </tr>\n",
       "    <tr>\n",
       "      <th>Pb</th>\n",
       "      <td>3.593</td>\n",
       "      <td>7.758</td>\n",
       "      <td>9.877</td>\n",
       "      <td>10.030</td>\n",
       "    </tr>\n",
       "  </tbody>\n",
       "</table>\n",
       "</div>"
      ],
      "text/plain": [
       "    rougher.input.feed  rougher.output.concentrate  \\\n",
       "Au               8.257                      20.182   \n",
       "Ag               8.788                      12.248   \n",
       "Pb               3.593                       7.758   \n",
       "\n",
       "    primary_cleaner.output.concentrate  final.output.concentrate  \n",
       "Au                              32.273                    44.293  \n",
       "Ag                               8.505                     5.199  \n",
       "Pb                               9.877                    10.030  "
      ]
     },
     "execution_count": 33,
     "metadata": {},
     "output_type": "execute_result"
    }
   ],
   "source": [
    "pd.DataFrame(metal_conc_dict, index=cleaning_stages_list).transpose()"
   ]
  },
  {
   "cell_type": "markdown",
   "metadata": {},
   "source": [
    "**Выводы**:\n",
    "* Среднее значение концентрации <font color=#FFD700>**золота**</font> постепенно увеличиваются по ходу очистки. Это может свидетельствовать о том, что золото накапливается в ходе процесса очистки, либо его концентрация увеличивается за счет удаления других примесей.\n",
    "* Концентрация <font color=#c4c4c4>**серебра**</font> на начальной стадии имеют соразмерную золоту величину концентрации. Немного увеличившись после первой очистки затем концентрация начинает снижаться достигая значения меньшего, чем на первом этапе. Это указывает на то, что серебро может выделяться на начальных этапах очистки, но на последующих этапах оно удаляется или перераспределяется.\n",
    "* Концентрация **свинца** изначально заметно ниже, чем концентрации вышерассмотренных металлов. По ходу очистки величина медленно накапливается на ранних стадиях процесса, однако его содержание остается стабильным ближе к концу.\n",
    "* Для всех рассматриваемых металлов на этапе очистки `primary_cleaner.output.concentrate` заметен выброс значений около нуля (<ins>значения точно равные нулю</ins> мы предварительно удалили ранее!). Не понятно как действовать с данными значениями."
   ]
  },
  {
   "cell_type": "markdown",
   "metadata": {},
   "source": [
    "[Вернуться к оглавлению](#point0)"
   ]
  },
  {
   "cell_type": "markdown",
   "metadata": {},
   "source": [
    "### Анализ распределения размеров гранул сырья на обучающей и тестовой выборках\n",
    "\n",
    "Отобразим диаграммы размаха и гистограммы распределения размеров гранул сырья (`rougher.input.feed_size`) для обучающей и тестовой выборок:"
   ]
  },
  {
   "cell_type": "code",
   "execution_count": 34,
   "metadata": {},
   "outputs": [
    {
     "data": {
      "image/png": "[encoded data removed]",
      "text/plain": [
       "<Figure size 1080x504 with 2 Axes>"
      ]
     },
     "metadata": {
      "needs_background": "light"
     },
     "output_type": "display_data"
    }
   ],
   "source": [
    "draw_hist_box(param='rougher.input.feed_size', bins=300)"
   ]
  },
  {
   "cell_type": "markdown",
   "metadata": {},
   "source": [
    "А также построим графики для признака `primary_cleaner.input.feed_size` для обучающей и тестовой выборок:"
   ]
  },
  {
   "cell_type": "code",
   "execution_count": 35,
   "metadata": {},
   "outputs": [
    {
     "data": {
      "image/png": "[encoded data removed]",
      "text/plain": [
       "<Figure size 1080x504 with 2 Axes>"
      ]
     },
     "metadata": {
      "needs_background": "light"
     },
     "output_type": "display_data"
    }
   ],
   "source": [
    "draw_hist_box(param='primary_cleaner.input.feed_size', ylim_t=15)"
   ]
  },
  {
   "cell_type": "markdown",
   "metadata": {},
   "source": [
    "Выведем основные характеристики рассматриваемых параметров:"
   ]
  },
  {
   "cell_type": "code",
   "execution_count": 36,
   "metadata": {},
   "outputs": [
    {
     "data": {
      "text/html": [
       "<div>\n",
       "<style scoped>\n",
       "    .dataframe tbody tr th:only-of-type {\n",
       "        vertical-align: middle;\n",
       "    }\n",
       "\n",
       "    .dataframe tbody tr th {\n",
       "        vertical-align: top;\n",
       "    }\n",
       "\n",
       "    .dataframe thead th {\n",
       "        text-align: right;\n",
       "    }\n",
       "</style>\n",
       "<table border=\"1\" class=\"dataframe\">\n",
       "  <thead>\n",
       "    <tr style=\"text-align: right;\">\n",
       "      <th></th>\n",
       "      <th>rougher.input.feed_size</th>\n",
       "      <th>primary_cleaner.input.feed_size</th>\n",
       "    </tr>\n",
       "  </thead>\n",
       "  <tbody>\n",
       "    <tr>\n",
       "      <th>Среднее значение обучающей выборки</th>\n",
       "      <td>60.316</td>\n",
       "      <td>7.324</td>\n",
       "    </tr>\n",
       "    <tr>\n",
       "      <th>Среднее значение тестовой выборки</th>\n",
       "      <td>55.953</td>\n",
       "      <td>7.266</td>\n",
       "    </tr>\n",
       "    <tr>\n",
       "      <th>Относительная разница значений, %</th>\n",
       "      <td>7.234</td>\n",
       "      <td>0.789</td>\n",
       "    </tr>\n",
       "  </tbody>\n",
       "</table>\n",
       "</div>"
      ],
      "text/plain": [
       "                                    rougher.input.feed_size  \\\n",
       "Среднее значение обучающей выборки                   60.316   \n",
       "Среднее значение тестовой выборки                    55.953   \n",
       "Относительная разница значений, %                     7.234   \n",
       "\n",
       "                                    primary_cleaner.input.feed_size  \n",
       "Среднее значение обучающей выборки                            7.324  \n",
       "Среднее значение тестовой выборки                             7.266  \n",
       "Относительная разница значений, %                             0.789  "
      ]
     },
     "execution_count": 36,
     "metadata": {},
     "output_type": "execute_result"
    }
   ],
   "source": [
    "param_1, param_2 = 'rougher.input.feed_size', 'primary_cleaner.input.feed_size'\n",
    "\n",
    "pd.DataFrame({\n",
    "    'Среднее значение обучающей выборки': [data_train[param_1].mean(), data_train[param_2].mean()],\n",
    "    'Среднее значение тестовой выборки' : [data_test[param_1].mean(), data_test[param_2].mean()],\n",
    "    'Относительная разница значений, %' : [100 - data_test[param_1].mean() * 100 / data_train[param_1].mean(), \n",
    "                                          100 - data_test[param_2].mean() * 100 / data_train[param_2].mean()]\n",
    "}, index=[param_1, param_2]).transpose()"
   ]
  },
  {
   "cell_type": "markdown",
   "metadata": {},
   "source": [
    "**Вывод**: Судя по графикам и по сравнительным характеристикам, средние размеры гранул сырья для признаков `rougher.input.feed_size` и `primary_cleaner.input.feed_size` близки по значениям.\n",
    "\n",
    "Далее сравним средние размеры гранул сырья статистическим методом."
   ]
  },
  {
   "cell_type": "markdown",
   "metadata": {},
   "source": [
    "[Вернуться к оглавлению](#point0)"
   ]
  },
  {
   "cell_type": "markdown",
   "metadata": {},
   "source": [
    "#### Сравнение размеров гранул сырья статистическим методом\n",
    "\n",
    "Сформулируем гипотезы:\n",
    "* **H0** (Нулевая гипотеза): Среднее значение параметра не зависит от выборки (средние значения параметра в двух выборках равны)\n",
    "* **H1** (Альтернативная гипотеза): Средние значения параметра в двух выборках различаются.\n",
    "\n",
    "Для сравнения между собой средних значений двух независимых генеральных совокупностей воспользуемся методом `ttest_ind` из библиотеки `scipy.stats`."
   ]
  },
  {
   "cell_type": "code",
   "execution_count": 37,
   "metadata": {},
   "outputs": [
    {
     "name": "stdout",
     "output_type": "stream",
     "text": [
      "\u001b[1mp-value: \u001b[0m3.389260708816193e-34\n",
      "\u001b[91mОтвергаем нулевую гипотезу: среднее значение зависит от выборки\u001b[0m\n",
      "\u001b[1mСреднее обучающей выборки: \u001b[0m60.32\n",
      "\u001b[1mСреднее тестовой выборки: \u001b[0m55.95\n"
     ]
    }
   ],
   "source": [
    "# задаем исследуемый параметр:\n",
    "param = 'rougher.input.feed_size'\n",
    "\n",
    "# задаем ряды значений для выборок:\n",
    "train_values = data_train[param]\n",
    "test_values = data_test[param]\n",
    "\n",
    "# выполнение t-теста для сравнения средних значений двух независимых групп:\n",
    "t_stat, p_value = st.ttest_ind(train_values, test_values)\n",
    "\n",
    "# интерпретация результата: \n",
    "test_interpretation(param, train_values, test_values)"
   ]
  },
  {
   "cell_type": "markdown",
   "metadata": {},
   "source": [
    "Отобразим данные с помощью гистрограмм плотности:"
   ]
  },
  {
   "cell_type": "code",
   "execution_count": 38,
   "metadata": {},
   "outputs": [
    {
     "data": {
      "image/png": "[encoded data removed]",
      "text/plain": [
       "<Figure size 1080x504 with 1 Axes>"
      ]
     },
     "metadata": {
      "needs_background": "light"
     },
     "output_type": "display_data"
    }
   ],
   "source": [
    "draw_density(param='rougher.input.feed_size', xlim=[0,150])"
   ]
  },
  {
   "cell_type": "markdown",
   "metadata": {},
   "source": [
    "Теперь повторим для параметра `primary_cleaner.input.feed_size`:"
   ]
  },
  {
   "cell_type": "code",
   "execution_count": 39,
   "metadata": {},
   "outputs": [
    {
     "name": "stdout",
     "output_type": "stream",
     "text": [
      "\u001b[1mp-value: \u001b[0m6.574388038633315e-09\n",
      "\u001b[91mОтвергаем нулевую гипотезу: среднее значение зависит от выборки\u001b[0m\n",
      "\u001b[1mСреднее обучающей выборки: \u001b[0m7.32\n",
      "\u001b[1mСреднее тестовой выборки: \u001b[0m7.27\n"
     ]
    }
   ],
   "source": [
    "# задаем исследуемый параметр:\n",
    "param = 'primary_cleaner.input.feed_size'\n",
    "\n",
    "# задаем ряды значений для выборок:\n",
    "train_values = data_train[param]\n",
    "test_values = data_test[param]\n",
    "\n",
    "# выполнение t-теста для сравнения средних значений двух независимых групп\n",
    "t_stat, p_value = st.ttest_ind(train_values, test_values)\n",
    "\n",
    "# интерпретация результата: \n",
    "test_interpretation(param, train_values, test_values)"
   ]
  },
  {
   "cell_type": "markdown",
   "metadata": {},
   "source": [
    "Построим гистограммы плотности:"
   ]
  },
  {
   "cell_type": "code",
   "execution_count": 40,
   "metadata": {},
   "outputs": [
    {
     "data": {
      "image/png": "[encoded data removed]",
      "text/plain": [
       "<Figure size 1080x504 with 1 Axes>"
      ]
     },
     "metadata": {
      "needs_background": "light"
     },
     "output_type": "display_data"
    }
   ],
   "source": [
    "draw_density(param='primary_cleaner.input.feed_size', bins=50, xlim=[0,20])"
   ]
  },
  {
   "cell_type": "markdown",
   "metadata": {},
   "source": [
    "**Выводы**: \n",
    "* Статистические методы сообщили о значимой разнице сравниваемых значений.\n",
    "* Стоит принять во внимание, что деление полного набора данных на выборки осуществлялось на стороне заказчика, логика деления данных на выборки нам не известна.\n",
    "* На результат статистического теста мог повлиять разный объем выборок: напомним, что выборки были распределены в пропорциях [train: 73%], [test: 27%] от общего набора данных. Хотя метод `ttest_ind` из библиотеки `scipy` позволяет сравнивать две независимые выборки при разных размерах: - эта функция реализует классический двухвыборочный t-тест для независимых выборок, который может применяться к выборкам разного объема.\n",
    "* На результат мог повлиять \"перекос\" данных: необходимо учесть, что t-критерий Стьюдента (критерий, на котором основан метод `ttest_ind`) чувствителен к нормальности распределения данных. Если данные сильно отклоняются от нормального распределения, результаты могут быть ненадежными.\n",
    "* Попытка провести сравнение альтернативным методом, в частности непараметрическим тестом Манна-Уитни, не поменяла картину.\n",
    "* Заказчику стоит обратить внимание на полученные результаты и принять во внимание, что равномерное распредление параметров позволит улучшить качество обучения модели.\n",
    "* В целом, разница средних значений рассматриваемых параметров для наших выборок 7.234% и 0.789% не является столь критичной."
   ]
  },
  {
   "cell_type": "markdown",
   "metadata": {},
   "source": [
    "[Вернуться к оглавлению](#point0)"
   ]
  },
  {
   "cell_type": "markdown",
   "metadata": {},
   "source": [
    "### Анализ суммарной концентрации всех веществ на разных стадиях: в сырье, в черновом и финальном концентратах\n",
    "Рассмотрим как менялась суммарная концентрация веществ **Au**, **Ag** и **Pb**."
   ]
  },
  {
   "cell_type": "markdown",
   "metadata": {},
   "source": [
    "<div style=\"border:solid orange 2px; padding: 20px\">\n",
    "    <font color='red'>*</font> <i>Примечание</i>: элемент <code>sol</code> не включен в расчет суммарной концентрации по рекомендации преподавателя."
   ]
  },
  {
   "cell_type": "markdown",
   "metadata": {},
   "source": [
    "Для анализа значений я создам датафрейм `sum_concentrate`, куда занесу суммарные концентрации веществ на разных стадиях."
   ]
  },
  {
   "cell_type": "code",
   "execution_count": 41,
   "metadata": {},
   "outputs": [],
   "source": [
    "# создание датафрейма:\n",
    "sum_concentrate = pd.DataFrame()\n",
    "\n",
    "# для каждой стадии из списка стадий очистки\n",
    "for stage in cleaning_stages_list:\n",
    "    \n",
    "    # формируем список столбцов для списка металлов:\n",
    "    col_list = [f'{stage}_{i}' for i in metal_list]\n",
    "    \n",
    "    # добавляем сумму по списку столбцов в новый датасет,\n",
    "    # название столбца = название стадии очистки:\n",
    "    sum_concentrate[stage] = data_full[col_list].sum(axis=1)\n",
    "\n",
    "# поскольку в новом датасете собраны только значения концентрации,\n",
    "# уберу из названий столбцов соответствующие фрагменты\n",
    "# для лучшей удобочитаемости:\n",
    "sum_concentrate.columns = (sum_concentrate.columns.str.replace('.concentrate','',regex=False)\n",
    "                           .str.replace('.feed','',regex=False))"
   ]
  },
  {
   "cell_type": "markdown",
   "metadata": {},
   "source": [
    "Отобразим распределение суммарной концентрации на разных стадиях в виде гистограмм:"
   ]
  },
  {
   "cell_type": "code",
   "execution_count": 42,
   "metadata": {},
   "outputs": [
    {
     "data": {
      "image/png": "[encoded data removed]",
      "text/plain": [
       "<Figure size 1080x504 with 1 Axes>"
      ]
     },
     "metadata": {
      "needs_background": "light"
     },
     "output_type": "display_data"
    }
   ],
   "source": [
    "for col in sum_concentrate.columns:\n",
    "    plt.hist(x=sum_concentrate[col], bins=100, alpha=0.7)\n",
    "\n",
    "plt.legend(sum_concentrate.columns)\n",
    "plt.title('Распределение суммарной концентрации веществ на разных стадиях')\n",
    "plt.xlabel('Величина суммарной концентрации')\n",
    "plt.ylabel('Частота')\n",
    "plt.show()"
   ]
  },
  {
   "cell_type": "markdown",
   "metadata": {},
   "source": [
    "Построим диаграммы размаха:"
   ]
  },
  {
   "cell_type": "code",
   "execution_count": 43,
   "metadata": {},
   "outputs": [
    {
     "data": {
      "image/png": "[encoded data removed]",
      "text/plain": [
       "<Figure size 864x432 with 1 Axes>"
      ]
     },
     "metadata": {
      "needs_background": "light"
     },
     "output_type": "display_data"
    }
   ],
   "source": [
    "sum_concentrate.boxplot(figsize=(12,6))\n",
    "plt.title('Диаграммы размаха для суммарной концентрации веществ на разных стадиях')\n",
    "plt.xlabel('Стадии очистки')\n",
    "plt.ylabel('Величина суммарной концентрации')\n",
    "plt.show()"
   ]
  },
  {
   "cell_type": "markdown",
   "metadata": {},
   "source": [
    "Также я решил посчитать межквартильный размах IQR суммарной концентрации на разных стадиях:"
   ]
  },
  {
   "cell_type": "code",
   "execution_count": 44,
   "metadata": {},
   "outputs": [],
   "source": [
    "iqr_sum_conc = pd.DataFrame({\n",
    "    'IQR':[sum_concentrate[i].quantile(0.75) - sum_concentrate[i].quantile(0.25) for i in sum_concentrate.columns]\n",
    "}, index=sum_concentrate.columns)"
   ]
  },
  {
   "cell_type": "markdown",
   "metadata": {},
   "source": [
    "Отобразим изменение IQR на графике:"
   ]
  },
  {
   "cell_type": "code",
   "execution_count": 45,
   "metadata": {},
   "outputs": [
    {
     "data": {
      "image/png": "[encoded data removed]",
      "text/plain": [
       "<Figure size 1080x504 with 1 Axes>"
      ]
     },
     "metadata": {
      "needs_background": "light"
     },
     "output_type": "display_data"
    }
   ],
   "source": [
    "iqr_sum_conc.plot(style='o-');\n",
    "plt.title('Изменение величины межквартильного размаха на разных стадиях')\n",
    "plt.xlabel('Стадии очистки')\n",
    "plt.ylabel('Величина IQR')\n",
    "plt.show()"
   ]
  },
  {
   "cell_type": "markdown",
   "metadata": {},
   "source": [
    "Описательная характеристика для нашего набора данных:"
   ]
  },
  {
   "cell_type": "code",
   "execution_count": 46,
   "metadata": {},
   "outputs": [
    {
     "data": {
      "text/html": [
       "<div>\n",
       "<style scoped>\n",
       "    .dataframe tbody tr th:only-of-type {\n",
       "        vertical-align: middle;\n",
       "    }\n",
       "\n",
       "    .dataframe tbody tr th {\n",
       "        vertical-align: top;\n",
       "    }\n",
       "\n",
       "    .dataframe thead th {\n",
       "        text-align: right;\n",
       "    }\n",
       "</style>\n",
       "<table border=\"1\" class=\"dataframe\">\n",
       "  <thead>\n",
       "    <tr style=\"text-align: right;\">\n",
       "      <th></th>\n",
       "      <th>rougher.input</th>\n",
       "      <th>rougher.output</th>\n",
       "      <th>primary_cleaner.output</th>\n",
       "      <th>final.output</th>\n",
       "    </tr>\n",
       "  </thead>\n",
       "  <tbody>\n",
       "    <tr>\n",
       "      <th>count</th>\n",
       "      <td>18848.000</td>\n",
       "      <td>18848.000</td>\n",
       "      <td>18848.000</td>\n",
       "      <td>18848.000</td>\n",
       "    </tr>\n",
       "    <tr>\n",
       "      <th>mean</th>\n",
       "      <td>20.620</td>\n",
       "      <td>40.188</td>\n",
       "      <td>50.604</td>\n",
       "      <td>59.521</td>\n",
       "    </tr>\n",
       "    <tr>\n",
       "      <th>std</th>\n",
       "      <td>4.484</td>\n",
       "      <td>3.897</td>\n",
       "      <td>6.635</td>\n",
       "      <td>4.346</td>\n",
       "    </tr>\n",
       "    <tr>\n",
       "      <th>min</th>\n",
       "      <td>0.030</td>\n",
       "      <td>0.030</td>\n",
       "      <td>0.030</td>\n",
       "      <td>0.030</td>\n",
       "    </tr>\n",
       "    <tr>\n",
       "      <th>25%</th>\n",
       "      <td>17.218</td>\n",
       "      <td>38.527</td>\n",
       "      <td>50.072</td>\n",
       "      <td>59.306</td>\n",
       "    </tr>\n",
       "    <tr>\n",
       "      <th>50%</th>\n",
       "      <td>20.123</td>\n",
       "      <td>40.369</td>\n",
       "      <td>51.897</td>\n",
       "      <td>60.301</td>\n",
       "    </tr>\n",
       "    <tr>\n",
       "      <th>75%</th>\n",
       "      <td>23.787</td>\n",
       "      <td>42.407</td>\n",
       "      <td>53.350</td>\n",
       "      <td>61.087</td>\n",
       "    </tr>\n",
       "    <tr>\n",
       "      <th>max</th>\n",
       "      <td>33.499</td>\n",
       "      <td>55.569</td>\n",
       "      <td>60.107</td>\n",
       "      <td>64.969</td>\n",
       "    </tr>\n",
       "    <tr>\n",
       "      <th>IQR</th>\n",
       "      <td>6.569</td>\n",
       "      <td>3.880</td>\n",
       "      <td>3.278</td>\n",
       "      <td>1.781</td>\n",
       "    </tr>\n",
       "  </tbody>\n",
       "</table>\n",
       "</div>"
      ],
      "text/plain": [
       "       rougher.input  rougher.output  primary_cleaner.output  final.output\n",
       "count      18848.000       18848.000               18848.000     18848.000\n",
       "mean          20.620          40.188                  50.604        59.521\n",
       "std            4.484           3.897                   6.635         4.346\n",
       "min            0.030           0.030                   0.030         0.030\n",
       "25%           17.218          38.527                  50.072        59.306\n",
       "50%           20.123          40.369                  51.897        60.301\n",
       "75%           23.787          42.407                  53.350        61.087\n",
       "max           33.499          55.569                  60.107        64.969\n",
       "IQR            6.569           3.880                   3.278         1.781"
      ]
     },
     "execution_count": 46,
     "metadata": {},
     "output_type": "execute_result"
    }
   ],
   "source": [
    "pd.concat([sum_concentrate.describe(), iqr_sum_conc.transpose()])"
   ]
  },
  {
   "cell_type": "markdown",
   "metadata": {},
   "source": [
    "**Выводы**:\n",
    "* Суммарная концентрация рассматриваемых веществ увеличивается после каждой стадии очистки. Об этом можно судить по динамике изменения среднего и медианного значений концентрации.\n",
    "* С каждой стадией очистки уменьшается межквартильный размах суммарной концентрации и, как следствие, диапазон нормальных значений. То есть, данные становятся менее разбросанными и более сконцентрированными вокруг среднего значения.\n",
    "* Учитывая характер распределения концентраций для рассматриваемых элеметов (Au, Ag, Pb), который мы рассмотрели в [пункте 2.1](#Анализ-изменения-концентрации-металлов-(Au,-Ag,-Pb)-на-различных-этапах-очистки), можно сделать вывод об  эффективности процесса очистки."
   ]
  },
  {
   "cell_type": "markdown",
   "metadata": {},
   "source": [
    "[Вернуться к оглавлению](#point0)"
   ]
  },
  {
   "cell_type": "markdown",
   "metadata": {},
   "source": [
    "## Подготовка данных к обучению модели\n",
    "### Разбивка данных по типам признака\n",
    "Сформируем массивы данных, содержащие признаки и целевые признаки:"
   ]
  },
  {
   "cell_type": "code",
   "execution_count": 47,
   "metadata": {},
   "outputs": [],
   "source": [
    "# Переменные для признаков и целевого признака\n",
    "# обучающей выборки:\n",
    "X_train = data_train[features_list]\n",
    "y_train = data_train[target_list]\n",
    "\n",
    "# Переменные для признаков и целевого признака\n",
    "# тестовой выборки:\n",
    "X_test = data_test[features_list]\n",
    "y_test = data_test[target_list]"
   ]
  },
  {
   "cell_type": "markdown",
   "metadata": {},
   "source": [
    "[Вернуться к оглавлению](#point0)"
   ]
  },
  {
   "cell_type": "markdown",
   "metadata": {},
   "source": [
    "### Масштабирование данных\n",
    "Отобразим медианные значения признаков на одной шкале:"
   ]
  },
  {
   "cell_type": "code",
   "execution_count": 48,
   "metadata": {},
   "outputs": [
    {
     "data": {
      "image/png": "[encoded data removed]",
      "text/plain": [
       "<Figure size 1080x864 with 1 Axes>"
      ]
     },
     "metadata": {
      "needs_background": "light"
     },
     "output_type": "display_data"
    },
    {
     "name": "stdout",
     "output_type": "stream",
     "text": [
      "Абсолютные значения медианы признаков варьируются от 0.89 до 1601.85\n"
     ]
    }
   ],
   "source": [
    "x = X_train.columns\n",
    "y = [X_train[i].median() for i in X_train.columns]\n",
    "plt.figure(figsize=(15,12))\n",
    "plt.barh(x, y, color=color_list)\n",
    "plt.title('Оценка масштаба медианных значений признаков')\n",
    "plt.xlabel('Абсолютная величина медианы признака')\n",
    "plt.ylabel('Признаки')\n",
    "plt.yticks(fontsize=8) # установка размера шрифта\n",
    "plt.show()\n",
    "\n",
    "print(f'Абсолютные значения медианы признаков варьируются от \\\n",
    "{min([abs(X_train[i].median()) for i in X_train.columns]):.2f} до \\\n",
    "{max([abs(X_train[i].median()) for i in X_train.columns]):.2f}')"
   ]
  },
  {
   "cell_type": "markdown",
   "metadata": {},
   "source": [
    "При обучении моделей машинного обучения **рекомендуется**, чтобы масштаб данных (признаков) был примерно одного порядка. Поскольку не все алгоритмы машинного обучения работают хорошо, если входные значения не распределяются в аналогичном масштабе. Для этой цели применяется масштабирование данных.\n",
    "\n",
    "В машинном обучении есть два распространенных способа масштабирования функций:\n",
    "1. Нормализация\n",
    "2. Стандартизация\n",
    " \n",
    "Во время **нормализации** значения сдвигаются и изменяются в размере, так что они оказываются в диапазоне от `0` до `1`. Метод **стандартизации** сначала вычитает среднее значение, а затем делит его на стандартное отклонение, так что результирующее распределение функций имеет среднее значение как `0` и стандартное отклонение – `1`.\n",
    "\n",
    "**Вывод**: \n",
    "* Признаки в нашем наборе данных имеют ощутимо различный масштаб.\n",
    "* Для улучшения качества обучения модели предпочтительно провести масштабирование.\n",
    "* Масштабирование данных будет осуществляться в Pipeline процесса обучения моделей."
   ]
  },
  {
   "cell_type": "markdown",
   "metadata": {},
   "source": [
    "[Вернуться к оглавлению](#point0)"
   ]
  },
  {
   "cell_type": "markdown",
   "metadata": {},
   "source": [
    "## Исследование моделей машинного обучения\n",
    "\n",
    "Необходимо на основе имеющихся признаков обучить модели для предсказания целевых признаков - `rougher.output.recovery` и `final.output.recovery`.\n",
    "\n",
    "Качество предсказания целевого признака оценивается с помощью метрики *sMAPE* (Symmetric Mean Absolute Percentage Error), определющейся по формуле:\n",
    "\n",
    "<p><center>sMAPE = $\\frac{1}{N}\\displaystyle\\sum_{i=1}^{N} \\frac{|y_i-\\hat{y}_i|}{\\frac{|y_i|+|\\hat{y}_i|}{2}}\\times 100\\%$</center></p>\n",
    "\n",
    "где:\n",
    "* $y_i$ — Значение целевого признака для объекта с порядковым номером $i$ в выборке, на которой измеряется качество.\n",
    "* $\\hat{y}_i$ — Значение предсказания для объекта с порядковым номером $i$, например, в тестовой выборке.\n",
    "* $N$ — Количество объектов в выборке.\n",
    "* $\\displaystyle\\sum_{i=1}^{N}$ — Суммирование по всем объектам выборки ($i$ меняется от 1 до $N$).\n",
    "\n",
    "Качество предсказания самой модели определяется с помощью итоговой метрики, которая складывается из двух величин:  \n",
    "<p><center>Итоговое sMAPE = $25\\% \\times \\mathrm{sMAPE}(\\mathrm{rougher}) + 75\\% \\times \\mathrm{sMAPE}(\\mathrm{final})$</center></p>\n",
    "\n",
    "Зададим необходимые функции:"
   ]
  },
  {
   "cell_type": "code",
   "execution_count": 49,
   "metadata": {},
   "outputs": [],
   "source": [
    "def smape(y_true, y_pred):\n",
    "    \"\"\"\n",
    "    Расчет метрики sMAPE\n",
    "    \"\"\"    \n",
    "    return (200 * abs(y_true - y_pred) / (abs(y_true) + abs(y_pred))).mean()\n",
    "\n",
    "def overall_smape(y_true, y_pred):\n",
    "    \"\"\"\n",
    "    Расчет итоговой метрики:\n",
    "    Итоговое sMAPE = 25% * sMAPE(rougher) + 75% * sMAPE(final)    \n",
    "    \"\"\"\n",
    "    smape_rougher = smape(y_true['rougher.output.recovery'], y_pred[:, 0])\n",
    "    smape_final  = smape(y_true['final.output.recovery'], y_pred[:, 1])\n",
    "    \n",
    "    return 0.25 * smape_rougher + 0.75 * smape_final"
   ]
  },
  {
   "cell_type": "markdown",
   "metadata": {},
   "source": [
    "Для получения более надежной оценки качества модели при обучении я буду использовать [кросс-валидацию](https://wiki.loginom.ru/articles/cross-validation.html).\n",
    "\n",
    "**Кросс-валидация** - это метод оценки аналитической модели и ее поведения на независимых данных с наиболее равномерным использованием имеющихся данных.\n",
    "\n",
    "В основе метода лежит разделение исходного множества данных на $k$ примерно равных блоков, например $k = 5$. Затем на $k−1$, т.е. на 4-х блоках, производится обучение модели, а 5-й блок используется для тестирования. Процедура повторяется $k$ раз, при этом на каждом проходе для проверки выбирается новый блок, а обучение производится на оставшихся."
   ]
  },
  {
   "cell_type": "markdown",
   "metadata": {},
   "source": [
    "![svg image](data:image/svg+xml,%3Csvg%20xmlns%3D%22http%3A//www.w3.org/2000/svg%22%20width%3D%22610%22%20height%3D%22300%22%3E%20%20%20%20%0A%20%20%3Ctext%20x%3D%223%22%20y%3D%2230%22%20font-size%3D%2216%22%20font-family%3D%22Arial%22%3E%D0%98%D1%82%D0%B5%D1%80%D0%B0%D1%86%D0%B8%D1%8F%201%3C/text%3E%0A%20%20%3Crect%20x%3D%22100%22%20y%3D%220%22%20width%3D%22500%22%20height%3D%2250%22%20%20style%3D%22fill%3A%23a7f4a6ff%3B%20%20%22%20/%3E%0A%20%20%3Crect%20x%3D%22100%22%20y%3D%220%22%20width%3D%22100%22%20height%3D%2250%22%20%20style%3D%22fill%3Aorange%3B%20%22%20/%3E%20%20%0A%20%20%3Cline%20x1%3D%22200%22%20y1%3D%220%22%20x2%3D%22200%22%20y2%3D%2250%22%20stroke%3D%22black%22%20stroke-width%3D%222%22/%3E%0A%20%20%3Cline%20x1%3D%22300%22%20y1%3D%220%22%20x2%3D%22300%22%20y2%3D%2250%22%20stroke%3D%22black%22%20stroke-width%3D%222%22/%3E%0A%20%20%3Cline%20x1%3D%22400%22%20y1%3D%220%22%20x2%3D%22400%22%20y2%3D%2250%22%20stroke%3D%22black%22%20stroke-width%3D%222%22/%3E%0A%20%20%3Cline%20x1%3D%22500%22%20y1%3D%220%22%20x2%3D%22500%22%20y2%3D%2250%22%20stroke%3D%22black%22%20stroke-width%3D%222%22/%3E%0A%20%20%3Ctext%20x%3D%22135%22%20y%3D%2230%22%20font-size%3D%2216%22%20font-family%3D%22Arial%22%3ETest%3C/text%3E%0A%20%20%3Ctext%20x%3D%22235%22%20y%3D%2230%22%20font-size%3D%2216%22%20font-family%3D%22Arial%22%3ETrain%3C/text%3E%0A%20%20%3Ctext%20x%3D%22335%22%20y%3D%2230%22%20font-size%3D%2216%22%20font-family%3D%22Arial%22%3ETrain%3C/text%3E%0A%20%20%3Ctext%20x%3D%22435%22%20y%3D%2230%22%20font-size%3D%2216%22%20font-family%3D%22Arial%22%3ETrain%3C/text%3E%0A%20%20%3Ctext%20x%3D%22535%22%20y%3D%2230%22%20font-size%3D%2216%22%20font-family%3D%22Arial%22%3ETrain%3C/text%3E%0A%0A%20%20%3Ctext%20x%3D%223%22%20y%3D%2290%22%20font-size%3D%2216%22%20font-family%3D%22Arial%22%3E%D0%98%D1%82%D0%B5%D1%80%D0%B0%D1%86%D0%B8%D1%8F%202%3C/text%3E%0A%20%20%3Crect%20x%3D%22100%22%20y%3D%2260%22%20width%3D%22500%22%20height%3D%2250%22%20%20style%3D%22fill%3A%23a7f4a6ff%3B%20%20%22%20/%3E%0A%20%20%3Crect%20x%3D%22200%22%20y%3D%2260%22%20width%3D%22100%22%20height%3D%2250%22%20%20style%3D%22fill%3Aorange%3B%20%22%20/%3E%20%20%0A%20%20%3Cline%20x1%3D%22200%22%20y1%3D%2260%22%20x2%3D%22200%22%20y2%3D%22110%22%20stroke%3D%22black%22%20stroke-width%3D%222%22/%3E%0A%20%20%3Cline%20x1%3D%22300%22%20y1%3D%2260%22%20x2%3D%22300%22%20y2%3D%22110%22%20stroke%3D%22black%22%20stroke-width%3D%222%22/%3E%0A%20%20%3Cline%20x1%3D%22400%22%20y1%3D%2260%22%20x2%3D%22400%22%20y2%3D%22110%22%20stroke%3D%22black%22%20stroke-width%3D%222%22/%3E%0A%20%20%3Cline%20x1%3D%22500%22%20y1%3D%2260%22%20x2%3D%22500%22%20y2%3D%22110%22%20stroke%3D%22black%22%20stroke-width%3D%222%22/%3E%0A%20%20%3Ctext%20x%3D%22235%22%20y%3D%2290%22%20font-size%3D%2216%22%20font-family%3D%22Arial%22%3ETest%3C/text%3E%0A%20%20%3Ctext%20x%3D%22135%22%20y%3D%2290%22%20font-size%3D%2216%22%20font-family%3D%22Arial%22%3ETrain%3C/text%3E%0A%20%20%3Ctext%20x%3D%22335%22%20y%3D%2290%22%20font-size%3D%2216%22%20font-family%3D%22Arial%22%3ETrain%3C/text%3E%0A%20%20%3Ctext%20x%3D%22435%22%20y%3D%2290%22%20font-size%3D%2216%22%20font-family%3D%22Arial%22%3ETrain%3C/text%3E%0A%20%20%3Ctext%20x%3D%22535%22%20y%3D%2290%22%20font-size%3D%2216%22%20font-family%3D%22Arial%22%3ETrain%3C/text%3E%0A%0A%20%20%3Ctext%20x%3D%223%22%20y%3D%22150%22%20font-size%3D%2216%22%20font-family%3D%22Arial%22%3E%D0%98%D1%82%D0%B5%D1%80%D0%B0%D1%86%D0%B8%D1%8F%203%3C/text%3E%0A%20%20%3Crect%20x%3D%22100%22%20y%3D%22120%22%20width%3D%22500%22%20height%3D%2250%22%20%20style%3D%22fill%3A%23a7f4a6ff%3B%20%20%22%20/%3E%0A%20%20%3Crect%20x%3D%22300%22%20y%3D%22120%22%20width%3D%22100%22%20height%3D%2250%22%20%20style%3D%22fill%3Aorange%3B%20%22%20/%3E%20%20%0A%20%20%3Cline%20x1%3D%22200%22%20y1%3D%22120%22%20x2%3D%22200%22%20y2%3D%22170%22%20stroke%3D%22black%22%20stroke-width%3D%222%22/%3E%0A%20%20%3Cline%20x1%3D%22300%22%20y1%3D%22120%22%20x2%3D%22300%22%20y2%3D%22170%22%20stroke%3D%22black%22%20stroke-width%3D%222%22/%3E%0A%20%20%3Cline%20x1%3D%22400%22%20y1%3D%22120%22%20x2%3D%22400%22%20y2%3D%22170%22%20stroke%3D%22black%22%20stroke-width%3D%222%22/%3E%0A%20%20%3Cline%20x1%3D%22500%22%20y1%3D%22120%22%20x2%3D%22500%22%20y2%3D%22170%22%20stroke%3D%22black%22%20stroke-width%3D%222%22/%3E%0A%20%20%3Ctext%20x%3D%22335%22%20y%3D%22150%22%20font-size%3D%2216%22%20font-family%3D%22Arial%22%3ETest%3C/text%3E%0A%20%20%3Ctext%20x%3D%22235%22%20y%3D%22150%22%20font-size%3D%2216%22%20font-family%3D%22Arial%22%3ETrain%3C/text%3E%0A%20%20%3Ctext%20x%3D%22135%22%20y%3D%22150%22%20font-size%3D%2216%22%20font-family%3D%22Arial%22%3ETrain%3C/text%3E%0A%20%20%3Ctext%20x%3D%22435%22%20y%3D%22150%22%20font-size%3D%2216%22%20font-family%3D%22Arial%22%3ETrain%3C/text%3E%0A%20%20%3Ctext%20x%3D%22535%22%20y%3D%22150%22%20font-size%3D%2216%22%20font-family%3D%22Arial%22%3ETrain%3C/text%3E%0A%0A%20%20%3Ctext%20x%3D%223%22%20y%3D%22210%22%20font-size%3D%2216%22%20font-family%3D%22Arial%22%3E%D0%98%D1%82%D0%B5%D1%80%D0%B0%D1%86%D0%B8%D1%8F%204%3C/text%3E%0A%20%20%3Crect%20x%3D%22100%22%20y%3D%22180%22%20width%3D%22500%22%20height%3D%2250%22%20%20style%3D%22fill%3A%23a7f4a6ff%3B%20%20%22%20/%3E%0A%20%20%3Crect%20x%3D%22400%22%20y%3D%22180%22%20width%3D%22100%22%20height%3D%2250%22%20%20style%3D%22fill%3Aorange%3B%20%22%20/%3E%20%20%0A%20%20%3Cline%20x1%3D%22200%22%20y1%3D%22180%22%20x2%3D%22200%22%20y2%3D%22230%22%20stroke%3D%22black%22%20stroke-width%3D%222%22/%3E%0A%20%20%3Cline%20x1%3D%22300%22%20y1%3D%22180%22%20x2%3D%22300%22%20y2%3D%22230%22%20stroke%3D%22black%22%20stroke-width%3D%222%22/%3E%0A%20%20%3Cline%20x1%3D%22400%22%20y1%3D%22180%22%20x2%3D%22400%22%20y2%3D%22230%22%20stroke%3D%22black%22%20stroke-width%3D%222%22/%3E%0A%20%20%3Cline%20x1%3D%22500%22%20y1%3D%22180%22%20x2%3D%22500%22%20y2%3D%22230%22%20stroke%3D%22black%22%20stroke-width%3D%222%22/%3E%0A%20%20%3Ctext%20x%3D%22435%22%20y%3D%22210%22%20font-size%3D%2216%22%20font-family%3D%22Arial%22%3ETest%3C/text%3E%0A%20%20%3Ctext%20x%3D%22235%22%20y%3D%22210%22%20font-size%3D%2216%22%20font-family%3D%22Arial%22%3ETrain%3C/text%3E%0A%20%20%3Ctext%20x%3D%22335%22%20y%3D%22210%22%20font-size%3D%2216%22%20font-family%3D%22Arial%22%3ETrain%3C/text%3E%0A%20%20%3Ctext%20x%3D%22135%22%20y%3D%22210%22%20font-size%3D%2216%22%20font-family%3D%22Arial%22%3ETrain%3C/text%3E%0A%20%20%3Ctext%20x%3D%22535%22%20y%3D%22210%22%20font-size%3D%2216%22%20font-family%3D%22Arial%22%3ETrain%3C/text%3E%0A%0A%20%20%3Ctext%20x%3D%223%22%20y%3D%22270%22%20font-size%3D%2216%22%20font-family%3D%22Arial%22%3E%D0%98%D1%82%D0%B5%D1%80%D0%B0%D1%86%D0%B8%D1%8F%205%3C/text%3E%0A%20%20%3Crect%20x%3D%22100%22%20y%3D%22240%22%20width%3D%22500%22%20height%3D%2250%22%20%20style%3D%22fill%3A%23a7f4a6ff%3B%20%20%22%20/%3E%0A%20%20%3Crect%20x%3D%22500%22%20y%3D%22240%22%20width%3D%22100%22%20height%3D%2250%22%20%20style%3D%22fill%3Aorange%3B%20%22%20/%3E%20%20%0A%20%20%3Cline%20x1%3D%22200%22%20y1%3D%22240%22%20x2%3D%22200%22%20y2%3D%22290%22%20stroke%3D%22black%22%20stroke-width%3D%222%22/%3E%0A%20%20%3Cline%20x1%3D%22300%22%20y1%3D%22240%22%20x2%3D%22300%22%20y2%3D%22290%22%20stroke%3D%22black%22%20stroke-width%3D%222%22/%3E%0A%20%20%3Cline%20x1%3D%22400%22%20y1%3D%22240%22%20x2%3D%22400%22%20y2%3D%22290%22%20stroke%3D%22black%22%20stroke-width%3D%222%22/%3E%0A%20%20%3Cline%20x1%3D%22500%22%20y1%3D%22240%22%20x2%3D%22500%22%20y2%3D%22290%22%20stroke%3D%22black%22%20stroke-width%3D%222%22/%3E%0A%20%20%3Ctext%20x%3D%22535%22%20y%3D%22270%22%20font-size%3D%2216%22%20font-family%3D%22Arial%22%3ETest%3C/text%3E%0A%20%20%3Ctext%20x%3D%22235%22%20y%3D%22270%22%20font-size%3D%2216%22%20font-family%3D%22Arial%22%3ETrain%3C/text%3E%0A%20%20%3Ctext%20x%3D%22335%22%20y%3D%22270%22%20font-size%3D%2216%22%20font-family%3D%22Arial%22%3ETrain%3C/text%3E%0A%20%20%3Ctext%20x%3D%22435%22%20y%3D%22270%22%20font-size%3D%2216%22%20font-family%3D%22Arial%22%3ETrain%3C/text%3E%0A%20%20%3Ctext%20x%3D%22135%22%20y%3D%22270%22%20font-size%3D%2216%22%20font-family%3D%22Arial%22%3ETrain%3C/text%3E%20%20%0A%3C/svg%3E)"
   ]
  },
  {
   "cell_type": "markdown",
   "metadata": {},
   "source": [
    "Перекрестная проверка имеет важное преимущество перед применением одного множества для обучения и одного для тестирования модели: **если при каждом проходе оценить выходную ошибку модели и усреднить ее по всем проходам, то полученная ее оценка будет более достоверной**.\n",
    "\n",
    "Определим алгоритм оценки качества модели: в качестве метрики использую \"Итоговое sMAPE\" (`overall_smape`), а в качестве критерия поиска - поиск наименьшего значения (опция `greater_is_better=False`)"
   ]
  },
  {
   "cell_type": "code",
   "execution_count": 50,
   "metadata": {},
   "outputs": [],
   "source": [
    "smape_scorer = make_scorer(overall_smape, greater_is_better=False)"
   ]
  },
  {
   "cell_type": "markdown",
   "metadata": {},
   "source": [
    "Для решения задачи регрессии исследуем следующие модели машинного обучения:\n",
    "\n",
    "* **DecisionTreeRegressor** - Решающее дерево\n",
    "* **RandomForestRegressor** - Случайный лес\n",
    "* **LinearRegression** - Линейная регрессия"
   ]
  },
  {
   "cell_type": "markdown",
   "metadata": {},
   "source": [
    "[Вернуться к оглавлению](#point0)"
   ]
  },
  {
   "cell_type": "markdown",
   "metadata": {},
   "source": [
    "### Создание трансформера для предобработки данных\n",
    "\n",
    "Задаю список числовых признаков. В нашем случае это полный список `features_list`:"
   ]
  },
  {
   "cell_type": "code",
   "execution_count": 51,
   "metadata": {},
   "outputs": [],
   "source": [
    "numerical_features = features_list"
   ]
  },
  {
   "cell_type": "markdown",
   "metadata": {},
   "source": [
    "Задаю параметры препроцессинга данных: для числовых признаков применить нормализацию:"
   ]
  },
  {
   "cell_type": "code",
   "execution_count": 52,
   "metadata": {},
   "outputs": [],
   "source": [
    "preprocessor = ColumnTransformer(\n",
    "        transformers=[\n",
    "            ('num',  MinMaxScaler(), numerical_features)\n",
    "        ])"
   ]
  },
  {
   "cell_type": "markdown",
   "metadata": {},
   "source": [
    "[Вернуться к оглавлению](#point0)"
   ]
  },
  {
   "cell_type": "markdown",
   "metadata": {},
   "source": [
    "### Формирование списка моделей и гиперпараметров\n",
    "\n",
    "Задаю список исследуемых моделей и соответствующих гиперпараметров для GridSearch:"
   ]
  },
  {
   "cell_type": "code",
   "execution_count": 53,
   "metadata": {},
   "outputs": [],
   "source": [
    "models = {\n",
    "    \n",
    "    # 1\n",
    "    'LinearRegression': (LinearRegression(), {'model__fit_intercept': [True, False]}\n",
    "                         ),\n",
    "    \n",
    "    # 2\n",
    "    'DecisionTree': (DecisionTreeRegressor(random_state=42, \n",
    "                                           min_samples_leaf=20,\n",
    "                                           min_samples_split=20,\n",
    "                                           criterion='mae'\n",
    "                                          ), \n",
    "                      {'model__max_depth': [5, 50],\n",
    "                      }),\n",
    "    \n",
    "    # 3\n",
    "    'RandomForest': (RandomForestRegressor(random_state=42, \n",
    "                                           max_depth=7, \n",
    "                                           min_samples_split=3,\n",
    "                                           min_samples_leaf=16,\n",
    "                                           max_features='log2'), \n",
    "                      {'model__n_estimators': [5, 234],\n",
    "                      }),        \n",
    "    }\n",
    "\n",
    "\n",
    "best_models = {} # задание переменной для фиксации параметров лучшей модели"
   ]
  },
  {
   "cell_type": "markdown",
   "metadata": {},
   "source": [
    "[Вернуться к оглавлению](#point0)"
   ]
  },
  {
   "cell_type": "markdown",
   "metadata": {},
   "source": [
    "### Обучение моделей и подбор гиперпараметров\n",
    "\n",
    "Обучим модели, варьируя их гиперпаметры и с помощью 5-кратной кросс-валидации определим модель с наилучшей метрикой качества:"
   ]
  },
  {
   "cell_type": "code",
   "execution_count": 54,
   "metadata": {},
   "outputs": [
    {
     "name": "stdout",
     "output_type": "stream",
     "text": [
      "Лучшая метрика и среднее время обучения на кросс-валидации:\n",
      "• LinearRegression: SMAPE=10.029; mean_fit_time: 0.284\n",
      "• DecisionTree: SMAPE=9.301; mean_fit_time: 58.864\n",
      "• RandomForest: SMAPE=8.250; mean_fit_time: 5.909\n"
     ]
    }
   ],
   "source": [
    "print('Лучшая метрика и среднее время обучения на кросс-валидации:')\n",
    "\n",
    "for model_name, (model, params) in models.items():\n",
    "    \n",
    "    # Создаем конвейер (Pipeline), объединяющий предобработку и модель\n",
    "    pipeline = Pipeline([\n",
    "        ('preprocessor', preprocessor),\n",
    "        ('model', model)\n",
    "    ])\n",
    "    \n",
    "    # Настройка GridSearchCV\n",
    "    grid_search = GridSearchCV(pipeline, \n",
    "                               param_grid=params, \n",
    "                               cv=5, \n",
    "                               scoring=smape_scorer)\n",
    "    \n",
    "    grid_search.fit(X_train, y_train)\n",
    "    \n",
    "    # Сохраняем лучшую модель и её параметры\n",
    "    best_models[model_name] = {\n",
    "        'best_estimator': grid_search.best_estimator_,\n",
    "        'best_score': -grid_search.best_score_,\n",
    "        'best_params': grid_search.best_params_\n",
    "        }\n",
    "    \n",
    "    # Вывод результата\n",
    "    print(f\"• {model_name}: SMAPE={-grid_search.best_score_:.3f}; mean_fit_time:\", \n",
    "    f\"{(pd.DataFrame(grid_search.cv_results_).query('rank_test_score == 1')['mean_fit_time'].iloc[0]):.3f}\")"
   ]
  },
  {
   "cell_type": "markdown",
   "metadata": {},
   "source": [
    "[Вернуться к оглавлению](#point0)"
   ]
  },
  {
   "cell_type": "markdown",
   "metadata": {},
   "source": [
    "### Выбор лучшей модели\n",
    "\n",
    "Отобразим результат исследования моделей:"
   ]
  },
  {
   "cell_type": "code",
   "execution_count": 55,
   "metadata": {},
   "outputs": [
    {
     "name": "stdout",
     "output_type": "stream",
     "text": [
      "\u001b[1mЛучшая модель:\u001b[0m RandomForest\n",
      "\u001b[1mЛучшие гиперпараметры:\u001b[0m {'model__n_estimators': 234}\n",
      "\u001b[1mНаименьшее sMAPE на кросс-валидации:\u001b[0m 8.25\n"
     ]
    }
   ],
   "source": [
    "best_model_name = min(best_models, key=lambda name: best_models[name]['best_score'])\n",
    "best_model = best_models[best_model_name]['best_estimator']\n",
    "\n",
    "print(bold + \"Лучшая модель:\" + end, best_model_name)\n",
    "print(bold + \"Лучшие гиперпараметры:\" + end, best_models[best_model_name]['best_params'])\n",
    "print(bold + \"Наименьшее sMAPE на кросс-валидации:\" + end, round(best_models[best_model_name]['best_score'], 3))"
   ]
  },
  {
   "cell_type": "markdown",
   "metadata": {},
   "source": [
    "**Вывод по поиску лучшей модели**: \n",
    "* Лучший результат показала модель \"случайный лес\" (RandomForestRegressor) с метрикой Итоговое sMAPE = 8.25\n",
    "* Модели DecisionTreeRegressor и LinearRegression показали более скромные результаты."
   ]
  },
  {
   "cell_type": "markdown",
   "metadata": {},
   "source": [
    "[Вернуться к оглавлению](#point0)"
   ]
  },
  {
   "cell_type": "markdown",
   "metadata": {},
   "source": [
    "### Проверка модели на тестовой выборке\n",
    "\n",
    "Сформируем предсказания модели `y_pred` на основе признаков тестовой выборки `X_test`:"
   ]
  },
  {
   "cell_type": "code",
   "execution_count": 56,
   "metadata": {},
   "outputs": [
    {
     "name": "stdout",
     "output_type": "stream",
     "text": [
      "Итоговый sMAPE на тестовой выборке для модели RandomForest: 8.937\n"
     ]
    }
   ],
   "source": [
    "# формирование предсказаний лучшей модели \n",
    "# на основе признаков тестовой выборки:\n",
    "y_pred = best_model.predict(X_test)\n",
    "test_mape = overall_smape(y_test, y_pred)\n",
    "print(f\"Итоговый sMAPE на тестовой выборке для модели {best_model_name}: {test_mape:.3f}\")"
   ]
  },
  {
   "cell_type": "markdown",
   "metadata": {},
   "source": [
    "[Вернуться к оглавлению](#point0)"
   ]
  },
  {
   "cell_type": "markdown",
   "metadata": {},
   "source": [
    "### Проверка модели на адекватность\n",
    "\n",
    "Чтобы оценить адекватность модели в задачах регрессии, нужно сравнить её со случайной. Например рассчитать метрику качества для случая, когда целевой признак заполнен популярным значением.\n",
    "\n",
    "Для данной цели я использую модель **DummyRegressor** из библиотеки `sklearn`. Данная модель формирует предсказания на простом принципе - заполняя значения какой-либо постоянной величиной - по умолчанию подставляя среднее значение (`mean`)."
   ]
  },
  {
   "cell_type": "code",
   "execution_count": 57,
   "metadata": {},
   "outputs": [
    {
     "name": "stdout",
     "output_type": "stream",
     "text": [
      "Итоговое sMAPE для DummyRegressor: 9.83\n"
     ]
    }
   ],
   "source": [
    "# инициализация модели:\n",
    "dummy_model = DummyRegressor()\n",
    "\n",
    "# обучение модели на train-выборке:\n",
    "dummy_model.fit(X_train, y_train)\n",
    "\n",
    "# формирование предсказаний на основе признаков test-выборки:\n",
    "dummy_predictions_test = dummy_model.predict(X_test)\n",
    "\n",
    "# вывод метрики:\n",
    "print(f'Итоговое sMAPE для DummyRegressor: {overall_smape(y_test, dummy_predictions_test):.2f}')"
   ]
  },
  {
   "cell_type": "markdown",
   "metadata": {},
   "source": [
    "**Вывод**: точность предсказания обученной модели оказалась выше, чем случайная величина. Модель прошла тест на адекватность."
   ]
  },
  {
   "cell_type": "markdown",
   "metadata": {},
   "source": [
    "[Вернуться к оглавлению](#point0)"
   ]
  },
  {
   "cell_type": "markdown",
   "metadata": {},
   "source": [
    "## Общий вывод\n",
    "\n",
    "На основе данных предоставленных компанией «Цифра» с целью разработки прототипа модели машинного обучения для предсказания коэффициента восстановления золота из золотосодержащей руды было проведено исследование в рамках которого:\n",
    "1. Произведено предварительное изучение и обработка набора данных.\n",
    "* Произведена оценка корректности расчета заданных параметров содержащихся в датасетах: установлено, что указанный параметр эффективности обогащения был рассчитан корректно.\n",
    "* Произведен анализ признаков содержащихся в наборах данных и на основе этого сформирован список обучающих признаков.\n",
    "* Произведена предварительная обработка данных. В тестовый набор данных были добавлены целевые признаки, а из обучающей выборки удалены признаки, которые не участвуют в обучении модели.\n",
    "* На основании характера распределения данных были заполнены пропуски.\n",
    "* Из набора данных удалены записи с нулевой концентрацией металла. Эти данные, вероятнее всего, внесены в результате ошибки. Построение обучения на таких данных могло привести к слабой надежности результата.\n",
    "\n",
    "2. Проведен исследовательский анализ данных\n",
    "* Изучено изменение концентрации металлов (Au, Ag, Pb) на различных этапах очистки. Среднее значение концентрации золота постепенно увеличиваются по ходу очистки. Концентрация серебра показывает слабую динамику изменения. А концентрация свинца медленно накапливается на ранних стадиях процесса, однако его содержание остается стабильным ближе к концу.\n",
    "* Проведен анализ распределения размеров гранул сырья на обучающей и тестовой выборках. Статистические методы сообщили о значимой разнице сравниваемых значений. Однако, разница средних значений рассматриваемых параметров для наших выборок 7.234% и 0.789% не является критичной.\n",
    "* Проведен анализ суммарной концентрации всех веществ на разных стадиях: в сырье, в черновом и финальном концентратах. Суммарная концентрация рассматриваемых веществ увеличивается после каждой стадии очистки вместе с процессом уменьшения диапазона нормальных значений. Подобный характер распределения указывает на эффективность очистки по ходу технологического процесса.\n",
    "\n",
    "3. Произведена подготовка данных к обучению модели\n",
    "* Данные разбиты по типам признака.\n",
    "* Обосновано масштабирование данных для снижения погрешности в процессе обучения.\n",
    "\n",
    "4. Произведено исследование моделей машинного обучения. \n",
    "* Модели обучались для предсказания целевых признаков - `rougher.output.recovery` и `final.output.recovery` - это параметры эффективности обогащения чернового и финального концентрата. \n",
    "* В качестве метрики оценки предсказания целевого признака использовалось *sMAPE*, а оценка самой модели строилась на *итоговом sMAPE*, которое определялось из соотношения 25% *sMAPE* для чернового концентрата + 75% *sMAPE* для финального.\n",
    "* Обучение моделей проходило с использованием 5-кратной кросс-валидации.\n",
    "* Для решения поставленной задачи были исследованы следующие модели:\n",
    " * **DecisionTreeRegressor** - Решающее дерево\n",
    " * **RandomForestRegressor** - Случайный лес\n",
    " * **LinearRegression** - Линейная регрессия\n",
    "* Самый лучший результат был получен для модели **RandomForestRegressor** - итоговое sMAPE=8.25 на кросс-валидации при значении гиперпараметров {'n_estimators': 234, 'max_depth'=7, 'min_samples_split'=3,'min_samples_leaf'=16,'max_features'='log2'}.\n",
    "* Модель была протестирована на тестовой выборке (sMAPE=8.937) и прошла тест на адекватность.\n",
    "\n",
    "Обученная в рамках данного исследования модель машинного обучения может быть использована в качестве прототипа для предсказания коэффициента восстановления золота из золотосодержащей руды.\n"
   ]
  },
  {
   "cell_type": "markdown",
   "metadata": {},
   "source": [
    "[Вернуться к оглавлению](#point0)"
   ]
  }
 ],
 "metadata": {
  "ExecuteTimeLog": [
   {
    "duration": 1826,
    "start_time": "2024-11-12T17:10:16.700Z"
   },
   {
    "duration": 45,
    "start_time": "2024-11-12T17:10:43.532Z"
   },
   {
    "duration": 3568,
    "start_time": "2024-11-12T17:11:49.973Z"
   },
   {
    "duration": 152,
    "start_time": "2024-11-12T17:12:19.969Z"
   },
   {
    "duration": 6,
    "start_time": "2024-11-12T17:13:55.097Z"
   },
   {
    "duration": 308,
    "start_time": "2024-11-12T17:14:21.907Z"
   },
   {
    "duration": 3,
    "start_time": "2024-11-12T17:14:48.690Z"
   },
   {
    "duration": 6,
    "start_time": "2024-11-12T17:15:02.939Z"
   },
   {
    "duration": 12,
    "start_time": "2024-11-12T17:15:37.742Z"
   },
   {
    "duration": 3,
    "start_time": "2024-11-12T17:16:12.582Z"
   },
   {
    "duration": 15,
    "start_time": "2024-11-12T17:16:52.926Z"
   },
   {
    "duration": 43,
    "start_time": "2024-11-12T17:17:36.265Z"
   },
   {
    "duration": 13,
    "start_time": "2024-11-12T17:17:55.725Z"
   },
   {
    "duration": 9,
    "start_time": "2024-11-12T17:19:39.360Z"
   },
   {
    "duration": 4,
    "start_time": "2024-11-12T17:19:56.727Z"
   },
   {
    "duration": 7,
    "start_time": "2024-11-12T17:21:00.210Z"
   },
   {
    "duration": 21,
    "start_time": "2024-11-12T17:21:34.430Z"
   },
   {
    "duration": 17,
    "start_time": "2024-11-12T17:21:56.465Z"
   },
   {
    "duration": 25,
    "start_time": "2024-11-12T17:22:57.118Z"
   },
   {
    "duration": 5,
    "start_time": "2024-11-12T17:23:15.457Z"
   },
   {
    "duration": 12,
    "start_time": "2024-11-12T17:23:45.825Z"
   },
   {
    "duration": 9,
    "start_time": "2024-11-12T17:23:58.692Z"
   },
   {
    "duration": 28,
    "start_time": "2024-11-12T17:24:13.223Z"
   },
   {
    "duration": 28,
    "start_time": "2024-11-12T17:25:07.418Z"
   },
   {
    "duration": 21,
    "start_time": "2024-11-12T17:25:40.000Z"
   },
   {
    "duration": 53,
    "start_time": "2024-11-12T17:26:03.759Z"
   },
   {
    "duration": 4,
    "start_time": "2024-11-12T17:26:19.499Z"
   },
   {
    "duration": 34,
    "start_time": "2024-11-12T17:26:55.402Z"
   },
   {
    "duration": 5,
    "start_time": "2024-11-12T17:27:19.171Z"
   },
   {
    "duration": 2,
    "start_time": "2024-11-12T17:28:11.567Z"
   },
   {
    "duration": 4330,
    "start_time": "2024-11-12T17:28:27.107Z"
   },
   {
    "duration": 3,
    "start_time": "2024-11-12T17:29:15.690Z"
   },
   {
    "duration": 4288,
    "start_time": "2024-11-12T17:29:18.020Z"
   },
   {
    "duration": 42,
    "start_time": "2024-11-12T17:30:00.544Z"
   },
   {
    "duration": 4107,
    "start_time": "2024-11-12T17:30:10.822Z"
   },
   {
    "duration": 3,
    "start_time": "2024-11-12T17:30:17.840Z"
   },
   {
    "duration": 4132,
    "start_time": "2024-11-12T17:30:19.826Z"
   },
   {
    "duration": 4,
    "start_time": "2024-11-12T17:30:26.910Z"
   },
   {
    "duration": 4241,
    "start_time": "2024-11-12T17:30:29.932Z"
   },
   {
    "duration": 3,
    "start_time": "2024-11-12T17:30:38.714Z"
   },
   {
    "duration": 4100,
    "start_time": "2024-11-12T17:30:42.017Z"
   },
   {
    "duration": 183,
    "start_time": "2024-11-12T17:31:56.093Z"
   },
   {
    "duration": 12,
    "start_time": "2024-11-12T17:32:14.304Z"
   },
   {
    "duration": 1986,
    "start_time": "2024-11-12T17:33:08.914Z"
   },
   {
    "duration": 49,
    "start_time": "2024-11-12T17:33:31.284Z"
   },
   {
    "duration": 2012,
    "start_time": "2024-11-12T17:33:37.258Z"
   },
   {
    "duration": 961,
    "start_time": "2024-11-12T17:34:07.326Z"
   },
   {
    "duration": 11,
    "start_time": "2024-11-12T17:34:26.673Z"
   },
   {
    "duration": 6,
    "start_time": "2024-11-12T17:35:04.286Z"
   },
   {
    "duration": 49,
    "start_time": "2024-11-12T17:35:13.307Z"
   },
   {
    "duration": 1030,
    "start_time": "2024-11-12T17:35:25.433Z"
   },
   {
    "duration": 183,
    "start_time": "2024-11-12T17:35:47.944Z"
   },
   {
    "duration": 920,
    "start_time": "2024-11-12T17:35:52.965Z"
   },
   {
    "duration": 6,
    "start_time": "2024-11-12T17:36:30.773Z"
   },
   {
    "duration": 851,
    "start_time": "2024-11-12T17:36:47.841Z"
   },
   {
    "duration": 16,
    "start_time": "2024-11-12T17:38:30.246Z"
   },
   {
    "duration": 4,
    "start_time": "2024-11-12T17:38:48.095Z"
   },
   {
    "duration": 4,
    "start_time": "2024-11-12T17:39:20.071Z"
   },
   {
    "duration": 3,
    "start_time": "2024-11-12T17:39:29.007Z"
   },
   {
    "duration": 3,
    "start_time": "2024-11-12T17:40:38.051Z"
   },
   {
    "duration": 5,
    "start_time": "2024-11-12T17:41:08.535Z"
   },
   {
    "duration": 4,
    "start_time": "2024-11-12T17:41:22.566Z"
   },
   {
    "duration": 16,
    "start_time": "2024-11-12T17:41:35.857Z"
   },
   {
    "duration": 842,
    "start_time": "2024-11-12T17:42:21.563Z"
   },
   {
    "duration": 377,
    "start_time": "2024-11-12T17:42:41.593Z"
   },
   {
    "duration": 265,
    "start_time": "2024-11-12T17:42:49.312Z"
   },
   {
    "duration": 265,
    "start_time": "2024-11-12T17:42:55.788Z"
   },
   {
    "duration": 13,
    "start_time": "2024-11-12T17:43:25.392Z"
   },
   {
    "duration": 130,
    "start_time": "2024-11-12T17:43:49.521Z"
   },
   {
    "duration": 24,
    "start_time": "2024-11-12T17:44:08.702Z"
   },
   {
    "duration": 8,
    "start_time": "2024-11-12T17:45:29.838Z"
   },
   {
    "duration": 1210,
    "start_time": "2024-11-12T17:46:17.610Z"
   },
   {
    "duration": 1169,
    "start_time": "2024-11-12T17:46:23.761Z"
   },
   {
    "duration": 20,
    "start_time": "2024-11-12T17:47:01.556Z"
   },
   {
    "duration": 4,
    "start_time": "2024-11-12T17:47:38.119Z"
   },
   {
    "duration": 3,
    "start_time": "2024-11-12T17:49:20.351Z"
   },
   {
    "duration": 5313,
    "start_time": "2024-11-12T17:49:58.139Z"
   },
   {
    "duration": 91145,
    "start_time": "2024-11-12T17:51:26.370Z"
   },
   {
    "duration": 62,
    "start_time": "2024-11-12T17:52:57.516Z"
   },
   {
    "duration": 1460,
    "start_time": "2024-11-12T17:53:46.842Z"
   },
   {
    "duration": 8,
    "start_time": "2024-11-12T17:53:52.933Z"
   },
   {
    "duration": 4,
    "start_time": "2024-11-12T17:54:42.586Z"
   },
   {
    "duration": 4778,
    "start_time": "2024-11-12T17:55:15.590Z"
   },
   {
    "duration": 7,
    "start_time": "2024-11-12T17:56:32.139Z"
   },
   {
    "duration": 1454,
    "start_time": "2024-11-12T18:51:15.371Z"
   },
   {
    "duration": 44,
    "start_time": "2024-11-12T18:51:20.688Z"
   },
   {
    "duration": 774,
    "start_time": "2024-11-12T18:51:30.436Z"
   },
   {
    "duration": 121,
    "start_time": "2024-11-12T18:51:46.283Z"
   },
   {
    "duration": 3,
    "start_time": "2024-11-12T18:51:56.414Z"
   },
   {
    "duration": 284,
    "start_time": "2024-11-12T18:51:58.931Z"
   },
   {
    "duration": 3,
    "start_time": "2024-11-12T18:52:08.579Z"
   },
   {
    "duration": 6,
    "start_time": "2024-11-12T18:52:26.439Z"
   },
   {
    "duration": 14,
    "start_time": "2024-11-12T18:52:29.544Z"
   },
   {
    "duration": 3,
    "start_time": "2024-11-12T18:52:36.139Z"
   },
   {
    "duration": 9,
    "start_time": "2024-11-12T18:52:38.514Z"
   },
   {
    "duration": 36,
    "start_time": "2024-11-12T18:52:43.283Z"
   },
   {
    "duration": 13,
    "start_time": "2024-11-12T18:52:47.611Z"
   },
   {
    "duration": 11,
    "start_time": "2024-11-12T18:53:16.103Z"
   },
   {
    "duration": 5,
    "start_time": "2024-11-12T18:53:19.229Z"
   },
   {
    "duration": 5,
    "start_time": "2024-11-12T18:53:26.438Z"
   },
   {
    "duration": 21,
    "start_time": "2024-11-12T18:53:40.927Z"
   },
   {
    "duration": 15,
    "start_time": "2024-11-12T18:53:44.370Z"
   },
   {
    "duration": 25,
    "start_time": "2024-11-12T18:53:50.777Z"
   },
   {
    "duration": 6,
    "start_time": "2024-11-12T18:53:54.146Z"
   },
   {
    "duration": 11,
    "start_time": "2024-11-12T18:54:00.154Z"
   },
   {
    "duration": 6,
    "start_time": "2024-11-12T18:54:03.750Z"
   },
   {
    "duration": 15,
    "start_time": "2024-11-12T18:54:06.703Z"
   },
   {
    "duration": 31,
    "start_time": "2024-11-12T18:54:28.447Z"
   },
   {
    "duration": 13,
    "start_time": "2024-11-12T18:54:36.166Z"
   },
   {
    "duration": 43,
    "start_time": "2024-11-12T18:54:42.275Z"
   },
   {
    "duration": 3,
    "start_time": "2024-11-12T18:54:44.928Z"
   },
   {
    "duration": 46,
    "start_time": "2024-11-12T18:54:55.829Z"
   },
   {
    "duration": 5,
    "start_time": "2024-11-12T18:54:59.393Z"
   },
   {
    "duration": 3,
    "start_time": "2024-11-12T18:55:05.506Z"
   },
   {
    "duration": 4014,
    "start_time": "2024-11-12T18:55:07.612Z"
   },
   {
    "duration": 177,
    "start_time": "2024-11-12T18:55:21.402Z"
   },
   {
    "duration": 9,
    "start_time": "2024-11-12T18:55:26.134Z"
   },
   {
    "duration": 1860,
    "start_time": "2024-11-12T18:55:33.108Z"
   },
   {
    "duration": 1068,
    "start_time": "2024-11-12T18:55:40.447Z"
   },
   {
    "duration": 12,
    "start_time": "2024-11-12T18:55:46.927Z"
   },
   {
    "duration": 5,
    "start_time": "2024-11-12T18:55:52.413Z"
   },
   {
    "duration": 1018,
    "start_time": "2024-11-12T18:55:57.203Z"
   },
   {
    "duration": 7,
    "start_time": "2024-11-12T18:56:03.437Z"
   },
   {
    "duration": 809,
    "start_time": "2024-11-12T18:56:06.359Z"
   },
   {
    "duration": 16,
    "start_time": "2024-11-12T18:56:31.161Z"
   },
   {
    "duration": 956,
    "start_time": "2024-11-12T18:56:35.943Z"
   },
   {
    "duration": 266,
    "start_time": "2024-11-12T18:56:43.770Z"
   },
   {
    "duration": 13,
    "start_time": "2024-11-12T18:56:49.163Z"
   },
   {
    "duration": 135,
    "start_time": "2024-11-12T18:56:51.152Z"
   },
   {
    "duration": 23,
    "start_time": "2024-11-12T18:56:54.974Z"
   },
   {
    "duration": 8,
    "start_time": "2024-11-12T18:57:20.344Z"
   },
   {
    "duration": 1240,
    "start_time": "2024-11-12T18:57:33.975Z"
   },
   {
    "duration": 17,
    "start_time": "2024-11-12T18:57:45.717Z"
   },
   {
    "duration": 5,
    "start_time": "2024-11-12T18:57:51.261Z"
   },
   {
    "duration": 3,
    "start_time": "2024-11-12T18:58:36.188Z"
   },
   {
    "duration": 4972,
    "start_time": "2024-11-12T18:58:41.267Z"
   },
   {
    "duration": 92348,
    "start_time": "2024-11-12T18:59:16.878Z"
   },
   {
    "duration": 1462,
    "start_time": "2024-11-12T19:00:57.538Z"
   },
   {
    "duration": 7,
    "start_time": "2024-11-12T19:01:03.511Z"
   },
   {
    "duration": 5,
    "start_time": "2024-11-12T19:01:23.198Z"
   },
   {
    "duration": 4899,
    "start_time": "2024-11-12T19:01:26.574Z"
   },
   {
    "duration": 7,
    "start_time": "2024-11-12T19:01:34.899Z"
   },
   {
    "duration": 2547,
    "start_time": "2024-11-13T12:58:56.754Z"
   },
   {
    "duration": 47,
    "start_time": "2024-11-13T12:58:59.303Z"
   },
   {
    "duration": 1532,
    "start_time": "2024-11-13T12:58:59.352Z"
   },
   {
    "duration": 100,
    "start_time": "2024-11-13T12:59:00.886Z"
   },
   {
    "duration": 12,
    "start_time": "2024-11-13T12:59:00.988Z"
   },
   {
    "duration": 294,
    "start_time": "2024-11-13T12:59:01.001Z"
   },
   {
    "duration": 3,
    "start_time": "2024-11-13T12:59:01.297Z"
   },
   {
    "duration": 27,
    "start_time": "2024-11-13T12:59:01.302Z"
   },
   {
    "duration": 19,
    "start_time": "2024-11-13T12:59:01.330Z"
   },
   {
    "duration": 28,
    "start_time": "2024-11-13T12:59:01.351Z"
   },
   {
    "duration": 25,
    "start_time": "2024-11-13T12:59:01.381Z"
   },
   {
    "duration": 52,
    "start_time": "2024-11-13T12:59:01.408Z"
   },
   {
    "duration": 11,
    "start_time": "2024-11-13T12:59:01.462Z"
   },
   {
    "duration": 45,
    "start_time": "2024-11-13T12:59:01.476Z"
   },
   {
    "duration": 3,
    "start_time": "2024-11-13T12:59:01.523Z"
   },
   {
    "duration": 79,
    "start_time": "2024-11-13T12:59:01.528Z"
   },
   {
    "duration": 74,
    "start_time": "2024-11-13T12:59:01.608Z"
   },
   {
    "duration": 13,
    "start_time": "2024-11-13T12:59:01.684Z"
   },
   {
    "duration": 33,
    "start_time": "2024-11-13T12:59:01.699Z"
   },
   {
    "duration": 28,
    "start_time": "2024-11-13T12:59:01.734Z"
   },
   {
    "duration": 39,
    "start_time": "2024-11-13T12:59:01.764Z"
   },
   {
    "duration": 12,
    "start_time": "2024-11-13T12:59:01.804Z"
   },
   {
    "duration": 45,
    "start_time": "2024-11-13T12:59:01.818Z"
   },
   {
    "duration": 44,
    "start_time": "2024-11-13T12:59:01.865Z"
   },
   {
    "duration": 27,
    "start_time": "2024-11-13T12:59:01.911Z"
   },
   {
    "duration": 105,
    "start_time": "2024-11-13T12:59:01.940Z"
   },
   {
    "duration": 3,
    "start_time": "2024-11-13T12:59:02.047Z"
   },
   {
    "duration": 213,
    "start_time": "2024-11-13T12:59:02.052Z"
   },
   {
    "duration": 5,
    "start_time": "2024-11-13T12:59:02.267Z"
   },
   {
    "duration": 5,
    "start_time": "2024-11-13T12:59:02.274Z"
   },
   {
    "duration": 4119,
    "start_time": "2024-11-13T12:59:02.281Z"
   },
   {
    "duration": 208,
    "start_time": "2024-11-13T12:59:06.402Z"
   },
   {
    "duration": 14,
    "start_time": "2024-11-13T12:59:06.612Z"
   },
   {
    "duration": 1910,
    "start_time": "2024-11-13T12:59:06.628Z"
   },
   {
    "duration": 1120,
    "start_time": "2024-11-13T12:59:08.540Z"
   },
   {
    "duration": 12,
    "start_time": "2024-11-13T12:59:09.662Z"
   },
   {
    "duration": 6,
    "start_time": "2024-11-13T12:59:09.676Z"
   },
   {
    "duration": 973,
    "start_time": "2024-11-13T12:59:09.684Z"
   },
   {
    "duration": 6,
    "start_time": "2024-11-13T12:59:10.658Z"
   },
   {
    "duration": 809,
    "start_time": "2024-11-13T12:59:10.665Z"
   },
   {
    "duration": 16,
    "start_time": "2024-11-13T12:59:11.478Z"
   },
   {
    "duration": 958,
    "start_time": "2024-11-13T12:59:11.495Z"
   },
   {
    "duration": 291,
    "start_time": "2024-11-13T12:59:12.455Z"
   },
   {
    "duration": 13,
    "start_time": "2024-11-13T12:59:12.748Z"
   },
   {
    "duration": 159,
    "start_time": "2024-11-13T12:59:12.762Z"
   },
   {
    "duration": 22,
    "start_time": "2024-11-13T12:59:12.923Z"
   },
   {
    "duration": 16,
    "start_time": "2024-11-13T12:59:12.947Z"
   },
   {
    "duration": 1295,
    "start_time": "2024-11-13T12:59:12.965Z"
   },
   {
    "duration": 17,
    "start_time": "2024-11-13T12:59:14.262Z"
   },
   {
    "duration": 4,
    "start_time": "2024-11-13T12:59:14.281Z"
   },
   {
    "duration": 17,
    "start_time": "2024-11-13T12:59:14.287Z"
   },
   {
    "duration": 5022,
    "start_time": "2024-11-13T12:59:14.306Z"
   },
   {
    "duration": 92166,
    "start_time": "2024-11-13T12:59:19.329Z"
   },
   {
    "duration": 1429,
    "start_time": "2024-11-13T13:00:51.497Z"
   },
   {
    "duration": 93,
    "start_time": "2024-11-13T13:00:52.929Z"
   },
   {
    "duration": 19,
    "start_time": "2024-11-13T13:00:53.024Z"
   },
   {
    "duration": 4970,
    "start_time": "2024-11-13T13:00:53.045Z"
   },
   {
    "duration": 8,
    "start_time": "2024-11-13T13:00:58.017Z"
   },
   {
    "duration": 1711,
    "start_time": "2024-11-13T15:34:48.725Z"
   },
   {
    "duration": 25,
    "start_time": "2024-11-13T15:34:58.307Z"
   },
   {
    "duration": 3367,
    "start_time": "2024-11-13T15:35:00.969Z"
   },
   {
    "duration": 102,
    "start_time": "2024-11-13T15:35:08.723Z"
   },
   {
    "duration": 4,
    "start_time": "2024-11-13T15:35:15.779Z"
   },
   {
    "duration": 268,
    "start_time": "2024-11-13T15:35:19.444Z"
   },
   {
    "duration": 3,
    "start_time": "2024-11-13T15:35:40.387Z"
   },
   {
    "duration": 7,
    "start_time": "2024-11-13T15:35:43.568Z"
   },
   {
    "duration": 6,
    "start_time": "2024-11-13T15:35:53.917Z"
   },
   {
    "duration": 36,
    "start_time": "2024-11-13T15:35:59.812Z"
   },
   {
    "duration": 11,
    "start_time": "2024-11-13T15:36:09.568Z"
   },
   {
    "duration": 5,
    "start_time": "2024-11-13T15:36:12.314Z"
   },
   {
    "duration": 12,
    "start_time": "2024-11-13T15:36:27.063Z"
   },
   {
    "duration": 25,
    "start_time": "2024-11-13T15:36:35.562Z"
   },
   {
    "duration": 13,
    "start_time": "2024-11-13T15:36:38.327Z"
   },
   {
    "duration": 28,
    "start_time": "2024-11-13T15:36:49.811Z"
   },
   {
    "duration": 3,
    "start_time": "2024-11-13T15:36:53.833Z"
   },
   {
    "duration": 3928,
    "start_time": "2024-11-13T15:36:56.942Z"
   },
   {
    "duration": 24,
    "start_time": "2024-11-13T15:38:10.657Z"
   },
   {
    "duration": 3805,
    "start_time": "2024-11-13T15:38:18.172Z"
   },
   {
    "duration": 3,
    "start_time": "2024-11-13T15:39:01.235Z"
   },
   {
    "duration": 3824,
    "start_time": "2024-11-13T15:39:03.796Z"
   },
   {
    "duration": 3,
    "start_time": "2024-11-13T15:39:10.518Z"
   },
   {
    "duration": 3962,
    "start_time": "2024-11-13T15:39:12.220Z"
   },
   {
    "duration": 3,
    "start_time": "2024-11-13T15:39:21.843Z"
   },
   {
    "duration": 4039,
    "start_time": "2024-11-13T15:39:23.388Z"
   },
   {
    "duration": 3,
    "start_time": "2024-11-13T15:39:29.076Z"
   },
   {
    "duration": 4032,
    "start_time": "2024-11-13T15:39:30.678Z"
   },
   {
    "duration": 3,
    "start_time": "2024-11-13T15:39:36.979Z"
   },
   {
    "duration": 3979,
    "start_time": "2024-11-13T15:39:38.149Z"
   },
   {
    "duration": 3,
    "start_time": "2024-11-13T15:39:53.842Z"
   },
   {
    "duration": 3982,
    "start_time": "2024-11-13T15:39:55.130Z"
   },
   {
    "duration": 3,
    "start_time": "2024-11-13T15:40:13.749Z"
   },
   {
    "duration": 3951,
    "start_time": "2024-11-13T15:40:15.301Z"
   },
   {
    "duration": 3,
    "start_time": "2024-11-13T15:41:47.952Z"
   },
   {
    "duration": 25,
    "start_time": "2024-11-13T16:06:34.468Z"
   },
   {
    "duration": 3934,
    "start_time": "2024-11-13T16:06:40.957Z"
   },
   {
    "duration": 5,
    "start_time": "2024-11-13T16:07:26.057Z"
   },
   {
    "duration": 3932,
    "start_time": "2024-11-13T16:07:29.350Z"
   },
   {
    "duration": 3,
    "start_time": "2024-11-13T16:07:42.015Z"
   },
   {
    "duration": 4004,
    "start_time": "2024-11-13T16:07:43.420Z"
   },
   {
    "duration": 4,
    "start_time": "2024-11-13T16:08:44.986Z"
   },
   {
    "duration": 3922,
    "start_time": "2024-11-13T16:08:46.968Z"
   },
   {
    "duration": 4,
    "start_time": "2024-11-13T16:10:36.552Z"
   },
   {
    "duration": 3875,
    "start_time": "2024-11-13T16:10:40.012Z"
   },
   {
    "duration": 4,
    "start_time": "2024-11-13T16:11:05.643Z"
   },
   {
    "duration": 3989,
    "start_time": "2024-11-13T16:11:06.747Z"
   },
   {
    "duration": 4,
    "start_time": "2024-11-13T16:11:36.951Z"
   },
   {
    "duration": 3804,
    "start_time": "2024-11-13T16:11:39.094Z"
   },
   {
    "duration": 4,
    "start_time": "2024-11-13T16:12:00.423Z"
   },
   {
    "duration": 4253,
    "start_time": "2024-11-13T16:12:01.732Z"
   },
   {
    "duration": 8,
    "start_time": "2024-11-13T16:12:14.456Z"
   },
   {
    "duration": 3986,
    "start_time": "2024-11-13T16:12:16.000Z"
   },
   {
    "duration": 15,
    "start_time": "2024-11-13T16:12:28.653Z"
   },
   {
    "duration": 4428,
    "start_time": "2024-11-13T16:12:29.831Z"
   },
   {
    "duration": 5,
    "start_time": "2024-11-13T16:12:58.073Z"
   },
   {
    "duration": 4118,
    "start_time": "2024-11-13T16:12:59.681Z"
   },
   {
    "duration": 1548,
    "start_time": "2024-11-13T16:37:31.896Z"
   },
   {
    "duration": 39,
    "start_time": "2024-11-13T16:37:48.646Z"
   },
   {
    "duration": 947,
    "start_time": "2024-11-13T16:37:52.579Z"
   },
   {
    "duration": 116,
    "start_time": "2024-11-13T16:38:01.531Z"
   },
   {
    "duration": 3,
    "start_time": "2024-11-13T16:38:20.339Z"
   },
   {
    "duration": 325,
    "start_time": "2024-11-13T16:38:24.118Z"
   },
   {
    "duration": 9,
    "start_time": "2024-11-13T16:38:33.968Z"
   },
   {
    "duration": 15,
    "start_time": "2024-11-13T16:38:36.746Z"
   },
   {
    "duration": 11,
    "start_time": "2024-11-13T16:38:52.017Z"
   },
   {
    "duration": 3,
    "start_time": "2024-11-13T16:43:09.342Z"
   },
   {
    "duration": 10,
    "start_time": "2024-11-13T16:43:12.920Z"
   },
   {
    "duration": 54,
    "start_time": "2024-11-13T16:44:00.859Z"
   },
   {
    "duration": 45,
    "start_time": "2024-11-13T16:46:01.124Z"
   },
   {
    "duration": 13,
    "start_time": "2024-11-13T16:46:05.638Z"
   },
   {
    "duration": 14,
    "start_time": "2024-11-13T16:46:10.182Z"
   },
   {
    "duration": 7,
    "start_time": "2024-11-13T16:46:12.179Z"
   },
   {
    "duration": 8,
    "start_time": "2024-11-13T16:46:15.375Z"
   },
   {
    "duration": 27,
    "start_time": "2024-11-13T16:46:19.519Z"
   },
   {
    "duration": 21,
    "start_time": "2024-11-13T16:46:23.316Z"
   },
   {
    "duration": 25,
    "start_time": "2024-11-13T16:46:27.308Z"
   },
   {
    "duration": 6,
    "start_time": "2024-11-13T16:46:29.424Z"
   },
   {
    "duration": 38,
    "start_time": "2024-11-13T16:46:32.568Z"
   },
   {
    "duration": 10,
    "start_time": "2024-11-13T16:46:46.782Z"
   },
   {
    "duration": 29,
    "start_time": "2024-11-13T16:46:48.982Z"
   },
   {
    "duration": 29,
    "start_time": "2024-11-13T16:47:06.698Z"
   },
   {
    "duration": 13,
    "start_time": "2024-11-13T16:47:10.637Z"
   },
   {
    "duration": 81,
    "start_time": "2024-11-13T16:47:12.433Z"
   },
   {
    "duration": 3,
    "start_time": "2024-11-13T16:47:15.941Z"
   },
   {
    "duration": 37,
    "start_time": "2024-11-13T16:47:19.698Z"
   },
   {
    "duration": 5,
    "start_time": "2024-11-13T16:47:22.186Z"
   },
   {
    "duration": 3,
    "start_time": "2024-11-13T16:47:35.723Z"
   },
   {
    "duration": 4243,
    "start_time": "2024-11-13T16:47:37.799Z"
   },
   {
    "duration": 284,
    "start_time": "2024-11-13T16:48:30.739Z"
   },
   {
    "duration": 14,
    "start_time": "2024-11-13T16:48:39.546Z"
   },
   {
    "duration": 59,
    "start_time": "2024-11-13T16:49:05.134Z"
   },
   {
    "duration": 2211,
    "start_time": "2024-11-13T16:49:15.504Z"
   },
   {
    "duration": 214,
    "start_time": "2024-11-13T16:49:58.812Z"
   },
   {
    "duration": 2026,
    "start_time": "2024-11-13T16:50:03.972Z"
   },
   {
    "duration": 45,
    "start_time": "2024-11-13T16:50:25.750Z"
   },
   {
    "duration": 1785,
    "start_time": "2024-11-13T16:50:30.522Z"
   },
   {
    "duration": 1018,
    "start_time": "2024-11-13T16:50:46.788Z"
   },
   {
    "duration": 17,
    "start_time": "2024-11-13T16:50:54.279Z"
   },
   {
    "duration": 6,
    "start_time": "2024-11-13T16:51:00.440Z"
   },
   {
    "duration": 1028,
    "start_time": "2024-11-13T16:51:19.117Z"
   },
   {
    "duration": 32,
    "start_time": "2024-11-13T16:51:48.476Z"
   },
   {
    "duration": 1230,
    "start_time": "2024-11-13T16:51:53.292Z"
   },
   {
    "duration": 23,
    "start_time": "2024-11-13T16:52:07.598Z"
   },
   {
    "duration": 1338,
    "start_time": "2024-11-13T16:52:16.255Z"
   },
   {
    "duration": 22,
    "start_time": "2024-11-13T16:52:28.710Z"
   },
   {
    "duration": 1111,
    "start_time": "2024-11-13T16:52:34.301Z"
   },
   {
    "duration": 27,
    "start_time": "2024-11-13T16:52:47.189Z"
   },
   {
    "duration": 1205,
    "start_time": "2024-11-13T16:52:51.283Z"
   },
   {
    "duration": 24,
    "start_time": "2024-11-13T16:52:58.450Z"
   },
   {
    "duration": 1226,
    "start_time": "2024-11-13T16:53:00.576Z"
   },
   {
    "duration": 17,
    "start_time": "2024-11-13T16:53:12.134Z"
   },
   {
    "duration": 1103,
    "start_time": "2024-11-13T16:53:16.567Z"
   },
   {
    "duration": 346,
    "start_time": "2024-11-13T16:53:23.289Z"
   },
   {
    "duration": 12,
    "start_time": "2024-11-13T16:53:26.210Z"
   },
   {
    "duration": 202,
    "start_time": "2024-11-13T16:53:32.125Z"
   },
   {
    "duration": 28,
    "start_time": "2024-11-13T16:53:37.332Z"
   },
   {
    "duration": 9,
    "start_time": "2024-11-13T16:54:58.134Z"
   },
   {
    "duration": 1732,
    "start_time": "2024-11-13T16:55:09.692Z"
   },
   {
    "duration": 1953,
    "start_time": "2024-11-13T16:55:28.641Z"
   },
   {
    "duration": 1801,
    "start_time": "2024-11-13T16:55:39.304Z"
   },
   {
    "duration": 1771,
    "start_time": "2024-11-13T16:55:48.349Z"
   },
   {
    "duration": 1751,
    "start_time": "2024-11-13T16:55:57.292Z"
   },
   {
    "duration": 1805,
    "start_time": "2024-11-13T16:56:08.434Z"
   },
   {
    "duration": 4,
    "start_time": "2024-11-13T17:08:19.597Z"
   },
   {
    "duration": 4,
    "start_time": "2024-11-13T17:13:52.589Z"
   },
   {
    "duration": 6,
    "start_time": "2024-11-13T17:18:39.792Z"
   },
   {
    "duration": 125,
    "start_time": "2024-11-13T17:20:14.274Z"
   },
   {
    "duration": 6,
    "start_time": "2024-11-13T17:20:34.845Z"
   },
   {
    "duration": 3,
    "start_time": "2024-11-13T17:20:39.788Z"
   },
   {
    "duration": 82,
    "start_time": "2024-11-13T17:21:35.983Z"
   },
   {
    "duration": 6,
    "start_time": "2024-11-13T17:26:11.956Z"
   },
   {
    "duration": 8007,
    "start_time": "2024-11-13T17:27:31.168Z"
   },
   {
    "duration": 4,
    "start_time": "2024-11-13T17:28:32.616Z"
   },
   {
    "duration": 3,
    "start_time": "2024-11-13T17:28:45.026Z"
   },
   {
    "duration": 2,
    "start_time": "2024-11-13T17:28:55.935Z"
   },
   {
    "duration": 2,
    "start_time": "2024-11-13T17:28:57.417Z"
   },
   {
    "duration": 4,
    "start_time": "2024-11-13T17:28:59.237Z"
   },
   {
    "duration": 77840,
    "start_time": "2024-11-13T17:29:01.223Z"
   },
   {
    "duration": 5,
    "start_time": "2024-11-13T17:30:22.763Z"
   },
   {
    "duration": 5,
    "start_time": "2024-11-13T17:32:59.743Z"
   },
   {
    "duration": 5,
    "start_time": "2024-11-13T17:33:04.208Z"
   },
   {
    "duration": 5,
    "start_time": "2024-11-13T17:33:15.629Z"
   },
   {
    "duration": 4,
    "start_time": "2024-11-13T17:33:55.664Z"
   },
   {
    "duration": 5,
    "start_time": "2024-11-13T17:34:00.691Z"
   },
   {
    "duration": 5,
    "start_time": "2024-11-13T17:34:20.172Z"
   },
   {
    "duration": 14,
    "start_time": "2024-11-13T17:38:16.269Z"
   },
   {
    "duration": 13,
    "start_time": "2024-11-13T17:38:27.331Z"
   },
   {
    "duration": 8,
    "start_time": "2024-11-13T17:39:37.229Z"
   },
   {
    "duration": 1709,
    "start_time": "2024-11-13T18:00:33.537Z"
   },
   {
    "duration": 25,
    "start_time": "2024-11-13T18:00:40.186Z"
   },
   {
    "duration": 839,
    "start_time": "2024-11-13T18:00:46.181Z"
   },
   {
    "duration": 121,
    "start_time": "2024-11-13T18:00:56.356Z"
   },
   {
    "duration": 4,
    "start_time": "2024-11-13T18:01:11.695Z"
   },
   {
    "duration": 272,
    "start_time": "2024-11-13T18:01:14.784Z"
   },
   {
    "duration": 3,
    "start_time": "2024-11-13T18:01:19.495Z"
   },
   {
    "duration": 6,
    "start_time": "2024-11-13T18:01:22.580Z"
   },
   {
    "duration": 14,
    "start_time": "2024-11-13T18:01:26.663Z"
   },
   {
    "duration": 6,
    "start_time": "2024-11-13T18:02:09.761Z"
   },
   {
    "duration": 12,
    "start_time": "2024-11-13T18:02:11.857Z"
   },
   {
    "duration": 34,
    "start_time": "2024-11-13T18:02:24.167Z"
   },
   {
    "duration": 13,
    "start_time": "2024-11-13T18:02:26.774Z"
   },
   {
    "duration": 12,
    "start_time": "2024-11-13T18:02:41.181Z"
   },
   {
    "duration": 5,
    "start_time": "2024-11-13T18:02:43.998Z"
   },
   {
    "duration": 5,
    "start_time": "2024-11-13T18:02:46.829Z"
   },
   {
    "duration": 23,
    "start_time": "2024-11-13T18:02:50.061Z"
   },
   {
    "duration": 17,
    "start_time": "2024-11-13T18:02:55.037Z"
   },
   {
    "duration": 26,
    "start_time": "2024-11-13T18:02:59.005Z"
   },
   {
    "duration": 5,
    "start_time": "2024-11-13T18:03:01.437Z"
   },
   {
    "duration": 11,
    "start_time": "2024-11-13T18:03:03.714Z"
   },
   {
    "duration": 5,
    "start_time": "2024-11-13T18:03:07.323Z"
   },
   {
    "duration": 19,
    "start_time": "2024-11-13T18:03:09.768Z"
   },
   {
    "duration": 24,
    "start_time": "2024-11-13T18:03:14.567Z"
   },
   {
    "duration": 11,
    "start_time": "2024-11-13T18:03:18.736Z"
   },
   {
    "duration": 44,
    "start_time": "2024-11-13T18:03:21.605Z"
   },
   {
    "duration": 4,
    "start_time": "2024-11-13T18:03:24.184Z"
   },
   {
    "duration": 36,
    "start_time": "2024-11-13T18:03:30.356Z"
   },
   {
    "duration": 7,
    "start_time": "2024-11-13T18:03:33.069Z"
   },
   {
    "duration": 3,
    "start_time": "2024-11-13T18:03:38.101Z"
   },
   {
    "duration": 3969,
    "start_time": "2024-11-13T18:03:41.006Z"
   },
   {
    "duration": 229,
    "start_time": "2024-11-13T18:04:02.205Z"
   },
   {
    "duration": 10,
    "start_time": "2024-11-13T18:04:06.878Z"
   },
   {
    "duration": 1429,
    "start_time": "2024-11-13T18:04:16.147Z"
   },
   {
    "duration": 1014,
    "start_time": "2024-11-13T18:04:22.595Z"
   },
   {
    "duration": 12,
    "start_time": "2024-11-13T18:04:34.595Z"
   },
   {
    "duration": 8,
    "start_time": "2024-11-13T18:04:39.330Z"
   },
   {
    "duration": 1103,
    "start_time": "2024-11-13T18:04:47.710Z"
   },
   {
    "duration": 6,
    "start_time": "2024-11-13T18:04:53.533Z"
   },
   {
    "duration": 938,
    "start_time": "2024-11-13T18:04:55.442Z"
   },
   {
    "duration": 17,
    "start_time": "2024-11-13T18:05:02.047Z"
   },
   {
    "duration": 1034,
    "start_time": "2024-11-13T18:05:06.322Z"
   },
   {
    "duration": 263,
    "start_time": "2024-11-13T18:05:13.589Z"
   },
   {
    "duration": 11,
    "start_time": "2024-11-13T18:05:16.693Z"
   },
   {
    "duration": 189,
    "start_time": "2024-11-13T18:05:18.646Z"
   },
   {
    "duration": 23,
    "start_time": "2024-11-13T18:05:21.202Z"
   },
   {
    "duration": 8,
    "start_time": "2024-11-13T18:05:27.581Z"
   },
   {
    "duration": 1809,
    "start_time": "2024-11-13T18:05:39.122Z"
   },
   {
    "duration": 1782,
    "start_time": "2024-11-13T18:05:56.070Z"
   },
   {
    "duration": 9,
    "start_time": "2024-11-13T18:06:32.154Z"
   },
   {
    "duration": 3,
    "start_time": "2024-11-13T18:06:47.504Z"
   },
   {
    "duration": 3,
    "start_time": "2024-11-13T18:07:35.127Z"
   },
   {
    "duration": 3,
    "start_time": "2024-11-13T18:07:37.329Z"
   },
   {
    "duration": 4,
    "start_time": "2024-11-13T18:07:53.242Z"
   },
   {
    "duration": 521512,
    "start_time": "2024-11-13T18:08:05.394Z"
   },
   {
    "duration": 1497,
    "start_time": "2024-11-13T18:17:31.839Z"
   },
   {
    "duration": 24,
    "start_time": "2024-11-13T18:17:33.338Z"
   },
   {
    "duration": 842,
    "start_time": "2024-11-13T18:17:33.363Z"
   },
   {
    "duration": 118,
    "start_time": "2024-11-13T18:17:34.207Z"
   },
   {
    "duration": 3,
    "start_time": "2024-11-13T18:17:34.327Z"
   },
   {
    "duration": 296,
    "start_time": "2024-11-13T18:17:34.332Z"
   },
   {
    "duration": 3,
    "start_time": "2024-11-13T18:17:34.629Z"
   },
   {
    "duration": 20,
    "start_time": "2024-11-13T18:17:34.634Z"
   },
   {
    "duration": 12,
    "start_time": "2024-11-13T18:17:34.656Z"
   },
   {
    "duration": 8,
    "start_time": "2024-11-13T18:17:34.671Z"
   },
   {
    "duration": 27,
    "start_time": "2024-11-13T18:17:34.681Z"
   },
   {
    "duration": 76,
    "start_time": "2024-11-13T18:17:34.710Z"
   },
   {
    "duration": 12,
    "start_time": "2024-11-13T18:17:34.788Z"
   },
   {
    "duration": 16,
    "start_time": "2024-11-13T18:17:34.801Z"
   },
   {
    "duration": 4,
    "start_time": "2024-11-13T18:17:34.819Z"
   },
   {
    "duration": 22,
    "start_time": "2024-11-13T18:17:34.824Z"
   },
   {
    "duration": 79,
    "start_time": "2024-11-13T18:17:34.852Z"
   },
   {
    "duration": 14,
    "start_time": "2024-11-13T18:17:34.933Z"
   },
   {
    "duration": 25,
    "start_time": "2024-11-13T18:17:34.949Z"
   },
   {
    "duration": 5,
    "start_time": "2024-11-13T18:17:34.976Z"
   },
   {
    "duration": 34,
    "start_time": "2024-11-13T18:17:34.982Z"
   },
   {
    "duration": 8,
    "start_time": "2024-11-13T18:17:35.018Z"
   },
   {
    "duration": 26,
    "start_time": "2024-11-13T18:17:35.027Z"
   },
   {
    "duration": 25,
    "start_time": "2024-11-13T18:17:35.055Z"
   },
   {
    "duration": 13,
    "start_time": "2024-11-13T18:17:35.081Z"
   },
   {
    "duration": 66,
    "start_time": "2024-11-13T18:17:35.095Z"
   },
   {
    "duration": 3,
    "start_time": "2024-11-13T18:17:35.163Z"
   },
   {
    "duration": 30,
    "start_time": "2024-11-13T18:17:35.170Z"
   },
   {
    "duration": 5,
    "start_time": "2024-11-13T18:17:35.201Z"
   },
   {
    "duration": 10,
    "start_time": "2024-11-13T18:17:35.208Z"
   },
   {
    "duration": 3883,
    "start_time": "2024-11-13T18:17:35.219Z"
   },
   {
    "duration": 228,
    "start_time": "2024-11-13T18:17:39.104Z"
   },
   {
    "duration": 10,
    "start_time": "2024-11-13T18:17:39.333Z"
   },
   {
    "duration": 1444,
    "start_time": "2024-11-13T18:17:39.352Z"
   },
   {
    "duration": 975,
    "start_time": "2024-11-13T18:17:40.798Z"
   },
   {
    "duration": 11,
    "start_time": "2024-11-13T18:17:41.775Z"
   },
   {
    "duration": 6,
    "start_time": "2024-11-13T18:17:41.788Z"
   },
   {
    "duration": 1057,
    "start_time": "2024-11-13T18:17:41.795Z"
   },
   {
    "duration": 6,
    "start_time": "2024-11-13T18:17:42.854Z"
   },
   {
    "duration": 900,
    "start_time": "2024-11-13T18:17:42.861Z"
   },
   {
    "duration": 15,
    "start_time": "2024-11-13T18:17:43.763Z"
   },
   {
    "duration": 1003,
    "start_time": "2024-11-13T18:17:43.780Z"
   },
   {
    "duration": 250,
    "start_time": "2024-11-13T18:17:44.785Z"
   },
   {
    "duration": 20,
    "start_time": "2024-11-13T18:17:45.037Z"
   },
   {
    "duration": 180,
    "start_time": "2024-11-13T18:17:45.059Z"
   },
   {
    "duration": 31,
    "start_time": "2024-11-13T18:17:45.241Z"
   },
   {
    "duration": 7,
    "start_time": "2024-11-13T18:17:45.274Z"
   },
   {
    "duration": 1598,
    "start_time": "2024-11-13T18:17:45.283Z"
   },
   {
    "duration": 3,
    "start_time": "2024-11-13T18:17:46.882Z"
   },
   {
    "duration": 27,
    "start_time": "2024-11-13T18:17:46.886Z"
   },
   {
    "duration": 18,
    "start_time": "2024-11-13T18:17:46.915Z"
   },
   {
    "duration": 11,
    "start_time": "2024-11-13T18:17:46.934Z"
   },
   {
    "duration": 11,
    "start_time": "2024-11-13T18:17:46.947Z"
   },
   {
    "duration": 4,
    "start_time": "2024-11-13T18:17:46.959Z"
   },
   {
    "duration": 657393,
    "start_time": "2024-11-13T18:17:46.965Z"
   },
   {
    "duration": 92,
    "start_time": "2024-11-13T18:28:44.361Z"
   },
   {
    "duration": 104,
    "start_time": "2024-11-13T18:28:44.456Z"
   },
   {
    "duration": 9,
    "start_time": "2024-11-13T18:28:44.561Z"
   },
   {
    "duration": 1516,
    "start_time": "2024-11-13T18:46:34.317Z"
   },
   {
    "duration": 39,
    "start_time": "2024-11-13T18:46:35.836Z"
   },
   {
    "duration": 863,
    "start_time": "2024-11-13T18:46:35.877Z"
   },
   {
    "duration": 121,
    "start_time": "2024-11-13T18:46:36.742Z"
   },
   {
    "duration": 4,
    "start_time": "2024-11-13T18:46:36.865Z"
   },
   {
    "duration": 290,
    "start_time": "2024-11-13T18:46:36.871Z"
   },
   {
    "duration": 4,
    "start_time": "2024-11-13T18:46:37.163Z"
   },
   {
    "duration": 11,
    "start_time": "2024-11-13T18:46:37.169Z"
   },
   {
    "duration": 72,
    "start_time": "2024-11-13T18:46:37.182Z"
   },
   {
    "duration": 67,
    "start_time": "2024-11-13T18:46:37.258Z"
   },
   {
    "duration": 41,
    "start_time": "2024-11-13T18:46:37.327Z"
   },
   {
    "duration": 78,
    "start_time": "2024-11-13T18:46:37.370Z"
   },
   {
    "duration": 12,
    "start_time": "2024-11-13T18:46:37.450Z"
   },
   {
    "duration": 10,
    "start_time": "2024-11-13T18:46:37.464Z"
   },
   {
    "duration": 16,
    "start_time": "2024-11-13T18:46:37.476Z"
   },
   {
    "duration": 17,
    "start_time": "2024-11-13T18:46:37.494Z"
   },
   {
    "duration": 36,
    "start_time": "2024-11-13T18:46:37.513Z"
   },
   {
    "duration": 15,
    "start_time": "2024-11-13T18:46:37.550Z"
   },
   {
    "duration": 58,
    "start_time": "2024-11-13T18:46:37.566Z"
   },
   {
    "duration": 4,
    "start_time": "2024-11-13T18:46:37.626Z"
   },
   {
    "duration": 93,
    "start_time": "2024-11-13T18:46:37.632Z"
   },
   {
    "duration": 51,
    "start_time": "2024-11-13T18:46:37.727Z"
   },
   {
    "duration": 72,
    "start_time": "2024-11-13T18:46:37.780Z"
   },
   {
    "duration": 25,
    "start_time": "2024-11-13T18:46:37.853Z"
   },
   {
    "duration": 14,
    "start_time": "2024-11-13T18:46:37.880Z"
   },
   {
    "duration": 66,
    "start_time": "2024-11-13T18:46:37.896Z"
   },
   {
    "duration": 3,
    "start_time": "2024-11-13T18:46:37.964Z"
   },
   {
    "duration": 51,
    "start_time": "2024-11-13T18:46:37.973Z"
   },
   {
    "duration": 6,
    "start_time": "2024-11-13T18:46:38.026Z"
   },
   {
    "duration": 36,
    "start_time": "2024-11-13T18:46:38.034Z"
   },
   {
    "duration": 3936,
    "start_time": "2024-11-13T18:46:38.072Z"
   },
   {
    "duration": 224,
    "start_time": "2024-11-13T18:46:42.009Z"
   },
   {
    "duration": 19,
    "start_time": "2024-11-13T18:46:42.235Z"
   },
   {
    "duration": 1413,
    "start_time": "2024-11-13T18:46:42.255Z"
   },
   {
    "duration": 1036,
    "start_time": "2024-11-13T18:46:43.669Z"
   },
   {
    "duration": 11,
    "start_time": "2024-11-13T18:46:44.707Z"
   },
   {
    "duration": 6,
    "start_time": "2024-11-13T18:46:44.720Z"
   },
   {
    "duration": 1138,
    "start_time": "2024-11-13T18:46:44.727Z"
   },
   {
    "duration": 8,
    "start_time": "2024-11-13T18:46:45.868Z"
   },
   {
    "duration": 880,
    "start_time": "2024-11-13T18:46:45.878Z"
   },
   {
    "duration": 16,
    "start_time": "2024-11-13T18:46:46.759Z"
   },
   {
    "duration": 991,
    "start_time": "2024-11-13T18:46:46.777Z"
   },
   {
    "duration": 262,
    "start_time": "2024-11-13T18:46:47.770Z"
   },
   {
    "duration": 18,
    "start_time": "2024-11-13T18:46:48.034Z"
   },
   {
    "duration": 183,
    "start_time": "2024-11-13T18:46:48.054Z"
   },
   {
    "duration": 34,
    "start_time": "2024-11-13T18:46:48.239Z"
   },
   {
    "duration": 8,
    "start_time": "2024-11-13T18:46:48.275Z"
   },
   {
    "duration": 1590,
    "start_time": "2024-11-13T18:46:48.285Z"
   },
   {
    "duration": 3,
    "start_time": "2024-11-13T18:46:49.877Z"
   },
   {
    "duration": 13,
    "start_time": "2024-11-13T18:46:49.882Z"
   },
   {
    "duration": 11,
    "start_time": "2024-11-13T18:46:49.897Z"
   },
   {
    "duration": 14,
    "start_time": "2024-11-13T18:46:49.909Z"
   },
   {
    "duration": 4,
    "start_time": "2024-11-13T18:46:49.925Z"
   },
   {
    "duration": 5,
    "start_time": "2024-11-13T18:46:49.930Z"
   },
   {
    "duration": 596318,
    "start_time": "2024-11-13T18:46:49.937Z"
   },
   {
    "duration": 96,
    "start_time": "2024-11-13T18:56:46.258Z"
   },
   {
    "duration": 20,
    "start_time": "2024-11-13T18:56:46.356Z"
   },
   {
    "duration": 9,
    "start_time": "2024-11-13T18:56:46.378Z"
   },
   {
    "duration": 5,
    "start_time": "2024-11-13T19:00:41.099Z"
   },
   {
    "duration": 284346,
    "start_time": "2024-11-13T19:00:44.411Z"
   },
   {
    "duration": 5,
    "start_time": "2024-11-13T19:05:33.734Z"
   },
   {
    "duration": 18,
    "start_time": "2024-11-13T19:05:45.105Z"
   },
   {
    "duration": 9,
    "start_time": "2024-11-13T19:05:49.468Z"
   },
   {
    "duration": 1484,
    "start_time": "2024-11-13T19:08:20.417Z"
   },
   {
    "duration": 27,
    "start_time": "2024-11-13T19:08:21.903Z"
   },
   {
    "duration": 831,
    "start_time": "2024-11-13T19:08:21.931Z"
   },
   {
    "duration": 113,
    "start_time": "2024-11-13T19:08:22.764Z"
   },
   {
    "duration": 3,
    "start_time": "2024-11-13T19:08:22.879Z"
   },
   {
    "duration": 324,
    "start_time": "2024-11-13T19:08:22.884Z"
   },
   {
    "duration": 3,
    "start_time": "2024-11-13T19:08:23.210Z"
   },
   {
    "duration": 7,
    "start_time": "2024-11-13T19:08:23.215Z"
   },
   {
    "duration": 32,
    "start_time": "2024-11-13T19:08:23.223Z"
   },
   {
    "duration": 2,
    "start_time": "2024-11-13T19:08:23.258Z"
   },
   {
    "duration": 18,
    "start_time": "2024-11-13T19:08:23.262Z"
   },
   {
    "duration": 35,
    "start_time": "2024-11-13T19:08:23.281Z"
   },
   {
    "duration": 11,
    "start_time": "2024-11-13T19:08:23.318Z"
   },
   {
    "duration": 11,
    "start_time": "2024-11-13T19:08:23.352Z"
   },
   {
    "duration": 4,
    "start_time": "2024-11-13T19:08:23.365Z"
   },
   {
    "duration": 17,
    "start_time": "2024-11-13T19:08:23.370Z"
   },
   {
    "duration": 23,
    "start_time": "2024-11-13T19:08:23.389Z"
   },
   {
    "duration": 15,
    "start_time": "2024-11-13T19:08:23.414Z"
   },
   {
    "duration": 25,
    "start_time": "2024-11-13T19:08:23.452Z"
   },
   {
    "duration": 5,
    "start_time": "2024-11-13T19:08:23.479Z"
   },
   {
    "duration": 11,
    "start_time": "2024-11-13T19:08:23.486Z"
   },
   {
    "duration": 5,
    "start_time": "2024-11-13T19:08:23.499Z"
   },
   {
    "duration": 47,
    "start_time": "2024-11-13T19:08:23.506Z"
   },
   {
    "duration": 26,
    "start_time": "2024-11-13T19:08:23.555Z"
   },
   {
    "duration": 13,
    "start_time": "2024-11-13T19:08:23.582Z"
   },
   {
    "duration": 69,
    "start_time": "2024-11-13T19:08:23.597Z"
   },
   {
    "duration": 3,
    "start_time": "2024-11-13T19:08:23.668Z"
   },
   {
    "duration": 33,
    "start_time": "2024-11-13T19:08:23.675Z"
   },
   {
    "duration": 56,
    "start_time": "2024-11-13T19:08:23.710Z"
   },
   {
    "duration": 13,
    "start_time": "2024-11-13T19:08:23.767Z"
   },
   {
    "duration": 3895,
    "start_time": "2024-11-13T19:08:23.782Z"
   },
   {
    "duration": 235,
    "start_time": "2024-11-13T19:08:27.679Z"
   },
   {
    "duration": 10,
    "start_time": "2024-11-13T19:08:27.916Z"
   },
   {
    "duration": 1419,
    "start_time": "2024-11-13T19:08:27.928Z"
   },
   {
    "duration": 953,
    "start_time": "2024-11-13T19:08:29.351Z"
   },
   {
    "duration": 12,
    "start_time": "2024-11-13T19:08:30.306Z"
   },
   {
    "duration": 44,
    "start_time": "2024-11-13T19:08:30.320Z"
   },
   {
    "duration": 1120,
    "start_time": "2024-11-13T19:08:30.365Z"
   },
   {
    "duration": 6,
    "start_time": "2024-11-13T19:08:31.486Z"
   },
   {
    "duration": 855,
    "start_time": "2024-11-13T19:08:31.494Z"
   },
   {
    "duration": 16,
    "start_time": "2024-11-13T19:08:32.351Z"
   },
   {
    "duration": 992,
    "start_time": "2024-11-13T19:08:32.369Z"
   },
   {
    "duration": 249,
    "start_time": "2024-11-13T19:08:33.363Z"
   },
   {
    "duration": 11,
    "start_time": "2024-11-13T19:08:33.614Z"
   },
   {
    "duration": 191,
    "start_time": "2024-11-13T19:08:33.627Z"
   },
   {
    "duration": 33,
    "start_time": "2024-11-13T19:08:33.820Z"
   },
   {
    "duration": 69,
    "start_time": "2024-11-13T19:08:33.855Z"
   },
   {
    "duration": 1626,
    "start_time": "2024-11-13T19:08:33.927Z"
   },
   {
    "duration": 2,
    "start_time": "2024-11-13T19:08:35.555Z"
   },
   {
    "duration": 17,
    "start_time": "2024-11-13T19:08:35.559Z"
   },
   {
    "duration": 5,
    "start_time": "2024-11-13T19:08:35.578Z"
   },
   {
    "duration": 26,
    "start_time": "2024-11-13T19:08:35.585Z"
   },
   {
    "duration": 9,
    "start_time": "2024-11-13T19:08:35.613Z"
   },
   {
    "duration": 7,
    "start_time": "2024-11-13T19:08:35.624Z"
   },
   {
    "duration": 251536,
    "start_time": "2024-11-13T19:08:35.633Z"
   },
   {
    "duration": 13,
    "start_time": "2024-11-13T19:12:47.251Z"
   },
   {
    "duration": 28,
    "start_time": "2024-11-13T19:12:47.353Z"
   },
   {
    "duration": 8,
    "start_time": "2024-11-13T19:12:47.383Z"
   },
   {
    "duration": 3,
    "start_time": "2025-05-19T14:21:25.725Z"
   },
   {
    "duration": 1595,
    "start_time": "2025-05-19T14:22:13.902Z"
   },
   {
    "duration": 21,
    "start_time": "2025-05-19T14:22:15.500Z"
   },
   {
    "duration": 1457,
    "start_time": "2025-05-19T14:22:15.523Z"
   },
   {
    "duration": 101,
    "start_time": "2025-05-19T14:22:16.982Z"
   },
   {
    "duration": 3,
    "start_time": "2025-05-19T14:22:17.085Z"
   },
   {
    "duration": 283,
    "start_time": "2025-05-19T14:22:17.089Z"
   },
   {
    "duration": 3,
    "start_time": "2025-05-19T14:22:17.373Z"
   },
   {
    "duration": 6,
    "start_time": "2025-05-19T14:22:17.378Z"
   },
   {
    "duration": 11,
    "start_time": "2025-05-19T14:22:17.386Z"
   },
   {
    "duration": 3,
    "start_time": "2025-05-19T14:22:17.399Z"
   },
   {
    "duration": 9,
    "start_time": "2025-05-19T14:22:17.436Z"
   },
   {
    "duration": 35,
    "start_time": "2025-05-19T14:22:17.446Z"
   },
   {
    "duration": 11,
    "start_time": "2025-05-19T14:22:17.483Z"
   },
   {
    "duration": 40,
    "start_time": "2025-05-19T14:22:17.496Z"
   },
   {
    "duration": 5,
    "start_time": "2025-05-19T14:22:17.538Z"
   },
   {
    "duration": 84,
    "start_time": "2025-05-19T14:22:17.545Z"
   },
   {
    "duration": 32,
    "start_time": "2025-05-19T14:22:17.630Z"
   },
   {
    "duration": 14,
    "start_time": "2025-05-19T14:22:17.664Z"
   },
   {
    "duration": 22,
    "start_time": "2025-05-19T14:22:17.680Z"
   },
   {
    "duration": 8,
    "start_time": "2025-05-19T14:22:17.704Z"
   },
   {
    "duration": 27,
    "start_time": "2025-05-19T14:22:17.713Z"
   },
   {
    "duration": 5,
    "start_time": "2025-05-19T14:22:17.742Z"
   },
   {
    "duration": 16,
    "start_time": "2025-05-19T14:22:17.749Z"
   },
   {
    "duration": 24,
    "start_time": "2025-05-19T14:22:17.767Z"
   },
   {
    "duration": 42,
    "start_time": "2025-05-19T14:22:17.793Z"
   },
   {
    "duration": 41,
    "start_time": "2025-05-19T14:22:17.837Z"
   },
   {
    "duration": 4,
    "start_time": "2025-05-19T14:22:17.880Z"
   },
   {
    "duration": 55,
    "start_time": "2025-05-19T14:22:17.888Z"
   },
   {
    "duration": 5,
    "start_time": "2025-05-19T14:22:17.946Z"
   },
   {
    "duration": 4,
    "start_time": "2025-05-19T14:22:17.953Z"
   },
   {
    "duration": 3483,
    "start_time": "2025-05-19T14:22:17.959Z"
   },
   {
    "duration": 226,
    "start_time": "2025-05-19T14:22:21.444Z"
   },
   {
    "duration": 9,
    "start_time": "2025-05-19T14:22:21.673Z"
   },
   {
    "duration": 1363,
    "start_time": "2025-05-19T14:22:21.684Z"
   },
   {
    "duration": 867,
    "start_time": "2025-05-19T14:22:23.049Z"
   },
   {
    "duration": 23,
    "start_time": "2025-05-19T14:22:23.918Z"
   },
   {
    "duration": 6,
    "start_time": "2025-05-19T14:22:23.942Z"
   },
   {
    "duration": 1051,
    "start_time": "2025-05-19T14:22:23.949Z"
   },
   {
    "duration": 5,
    "start_time": "2025-05-19T14:22:25.002Z"
   },
   {
    "duration": 922,
    "start_time": "2025-05-19T14:22:25.009Z"
   },
   {
    "duration": 16,
    "start_time": "2025-05-19T14:22:29.889Z"
   },
   {
    "duration": 876,
    "start_time": "2025-05-19T14:22:32.384Z"
   },
   {
    "duration": 238,
    "start_time": "2025-05-19T14:22:36.338Z"
   },
   {
    "duration": 10,
    "start_time": "2025-05-19T14:22:39.155Z"
   },
   {
    "duration": 165,
    "start_time": "2025-05-19T14:22:40.652Z"
   },
   {
    "duration": 255,
    "start_time": "2025-05-19T14:23:04.223Z"
   },
   {
    "duration": 145,
    "start_time": "2025-05-19T14:23:27.752Z"
   },
   {
    "duration": 221,
    "start_time": "2025-05-19T14:24:16.354Z"
   },
   {
    "duration": 200,
    "start_time": "2025-05-19T14:24:21.713Z"
   },
   {
    "duration": 1372,
    "start_time": "2025-05-19T14:27:56.400Z"
   },
   {
    "duration": 21,
    "start_time": "2025-05-19T14:27:57.774Z"
   },
   {
    "duration": 756,
    "start_time": "2025-05-19T14:27:57.797Z"
   },
   {
    "duration": 117,
    "start_time": "2025-05-19T14:27:58.555Z"
   },
   {
    "duration": 4,
    "start_time": "2025-05-19T14:27:58.674Z"
   },
   {
    "duration": 257,
    "start_time": "2025-05-19T14:27:58.679Z"
   },
   {
    "duration": 3,
    "start_time": "2025-05-19T14:27:58.938Z"
   },
   {
    "duration": 7,
    "start_time": "2025-05-19T14:27:58.943Z"
   },
   {
    "duration": 9,
    "start_time": "2025-05-19T14:27:58.951Z"
   },
   {
    "duration": 3,
    "start_time": "2025-05-19T14:27:58.964Z"
   },
   {
    "duration": 11,
    "start_time": "2025-05-19T14:27:58.968Z"
   },
   {
    "duration": 67,
    "start_time": "2025-05-19T14:27:58.980Z"
   },
   {
    "duration": 11,
    "start_time": "2025-05-19T14:27:59.048Z"
   },
   {
    "duration": 11,
    "start_time": "2025-05-19T14:27:59.060Z"
   },
   {
    "duration": 10,
    "start_time": "2025-05-19T14:27:59.072Z"
   },
   {
    "duration": 11,
    "start_time": "2025-05-19T14:27:59.083Z"
   },
   {
    "duration": 22,
    "start_time": "2025-05-19T14:27:59.095Z"
   },
   {
    "duration": 15,
    "start_time": "2025-05-19T14:27:59.136Z"
   },
   {
    "duration": 39,
    "start_time": "2025-05-19T14:27:59.153Z"
   },
   {
    "duration": 9,
    "start_time": "2025-05-19T14:27:59.194Z"
   },
   {
    "duration": 21,
    "start_time": "2025-05-19T14:27:59.205Z"
   },
   {
    "duration": 9,
    "start_time": "2025-05-19T14:27:59.228Z"
   },
   {
    "duration": 18,
    "start_time": "2025-05-19T14:27:59.238Z"
   },
   {
    "duration": 26,
    "start_time": "2025-05-19T14:27:59.258Z"
   },
   {
    "duration": 12,
    "start_time": "2025-05-19T14:27:59.286Z"
   },
   {
    "duration": 69,
    "start_time": "2025-05-19T14:27:59.300Z"
   },
   {
    "duration": 3,
    "start_time": "2025-05-19T14:27:59.372Z"
   },
   {
    "duration": 26,
    "start_time": "2025-05-19T14:27:59.379Z"
   },
   {
    "duration": 5,
    "start_time": "2025-05-19T14:27:59.407Z"
   },
   {
    "duration": 6,
    "start_time": "2025-05-19T14:27:59.435Z"
   },
   {
    "duration": 3667,
    "start_time": "2025-05-19T14:27:59.442Z"
   },
   {
    "duration": 215,
    "start_time": "2025-05-19T14:28:03.110Z"
   },
   {
    "duration": 10,
    "start_time": "2025-05-19T14:28:03.335Z"
   },
   {
    "duration": 1347,
    "start_time": "2025-05-19T14:28:03.346Z"
   },
   {
    "duration": 906,
    "start_time": "2025-05-19T14:28:04.695Z"
   },
   {
    "duration": 14,
    "start_time": "2025-05-19T14:28:05.603Z"
   },
   {
    "duration": 53,
    "start_time": "2025-05-19T14:28:05.618Z"
   },
   {
    "duration": 1103,
    "start_time": "2025-05-19T14:28:05.673Z"
   },
   {
    "duration": 7,
    "start_time": "2025-05-19T14:28:06.778Z"
   },
   {
    "duration": 822,
    "start_time": "2025-05-19T14:28:06.786Z"
   },
   {
    "duration": 28,
    "start_time": "2025-05-19T14:28:07.610Z"
   },
   {
    "duration": 907,
    "start_time": "2025-05-19T14:28:07.640Z"
   },
   {
    "duration": 231,
    "start_time": "2025-05-19T14:28:08.549Z"
   },
   {
    "duration": 12,
    "start_time": "2025-05-19T14:28:08.782Z"
   },
   {
    "duration": 179,
    "start_time": "2025-05-19T14:28:08.796Z"
   },
   {
    "duration": 26,
    "start_time": "2025-05-19T14:28:08.977Z"
   },
   {
    "duration": 8,
    "start_time": "2025-05-19T14:28:09.005Z"
   },
   {
    "duration": 1459,
    "start_time": "2025-05-19T14:28:09.015Z"
   },
   {
    "duration": 4,
    "start_time": "2025-05-19T14:28:10.476Z"
   },
   {
    "duration": 10,
    "start_time": "2025-05-19T14:28:10.483Z"
   },
   {
    "duration": 21,
    "start_time": "2025-05-19T14:28:10.494Z"
   },
   {
    "duration": 6,
    "start_time": "2025-05-19T14:28:10.516Z"
   },
   {
    "duration": 8,
    "start_time": "2025-05-19T14:28:10.524Z"
   },
   {
    "duration": 46165,
    "start_time": "2025-05-19T14:28:10.533Z"
   },
   {
    "duration": 4,
    "start_time": "2025-05-19T14:29:54.693Z"
   },
   {
    "duration": 383589,
    "start_time": "2025-05-19T14:30:22.661Z"
   },
   {
    "duration": 20,
    "start_time": "2025-05-19T14:37:35.294Z"
   },
   {
    "duration": 10,
    "start_time": "2025-05-19T14:37:45.409Z"
   },
   {
    "duration": 4,
    "start_time": "2025-05-19T14:40:21.223Z"
   },
   {
    "duration": 50963,
    "start_time": "2025-05-19T14:40:26.410Z"
   },
   {
    "duration": 5,
    "start_time": "2025-05-19T14:41:23.617Z"
   },
   {
    "duration": 165,
    "start_time": "2025-05-19T14:41:28.296Z"
   },
   {
    "duration": 10,
    "start_time": "2025-05-19T14:41:33.562Z"
   },
   {
    "duration": 15,
    "start_time": "2025-05-19T14:45:48.996Z"
   },
   {
    "duration": 6,
    "start_time": "2025-05-19T14:46:35.176Z"
   },
   {
    "duration": 13,
    "start_time": "2025-05-19T14:46:52.173Z"
   },
   {
    "duration": 6,
    "start_time": "2025-05-19T14:47:21.068Z"
   },
   {
    "duration": 4,
    "start_time": "2025-05-19T14:47:35.026Z"
   },
   {
    "duration": 6,
    "start_time": "2025-05-19T14:48:23.332Z"
   },
   {
    "duration": 14,
    "start_time": "2025-05-19T14:49:37.855Z"
   },
   {
    "duration": 8,
    "start_time": "2025-05-19T14:49:49.174Z"
   },
   {
    "duration": 16,
    "start_time": "2025-05-19T14:49:52.503Z"
   },
   {
    "duration": 9,
    "start_time": "2025-05-19T14:49:56.605Z"
   },
   {
    "duration": 1219,
    "start_time": "2025-05-19T14:50:00.114Z"
   },
   {
    "duration": 9,
    "start_time": "2025-05-19T14:50:02.509Z"
   },
   {
    "duration": 13,
    "start_time": "2025-05-19T14:50:20.096Z"
   },
   {
    "duration": 9,
    "start_time": "2025-05-19T14:50:26.351Z"
   },
   {
    "duration": 8,
    "start_time": "2025-05-19T14:50:37.523Z"
   },
   {
    "duration": 8,
    "start_time": "2025-05-19T14:51:11.505Z"
   },
   {
    "duration": 66,
    "start_time": "2025-05-19T14:54:06.052Z"
   },
   {
    "duration": 75,
    "start_time": "2025-05-19T14:54:34.343Z"
   },
   {
    "duration": 63,
    "start_time": "2025-05-19T14:55:12.925Z"
   },
   {
    "duration": 5,
    "start_time": "2025-05-19T14:55:32.808Z"
   },
   {
    "duration": 6,
    "start_time": "2025-05-19T14:55:48.260Z"
   },
   {
    "duration": 6508,
    "start_time": "2025-05-19T14:55:57.111Z"
   },
   {
    "duration": 13375,
    "start_time": "2025-05-19T14:56:14.962Z"
   },
   {
    "duration": 5,
    "start_time": "2025-05-19T17:29:12.517Z"
   },
   {
    "duration": 50227,
    "start_time": "2025-05-19T17:29:15.004Z"
   },
   {
    "duration": 6,
    "start_time": "2025-05-19T17:30:19.980Z"
   },
   {
    "duration": 63,
    "start_time": "2025-05-19T17:30:25.971Z"
   },
   {
    "duration": 3,
    "start_time": "2025-05-19T18:01:44.778Z"
   },
   {
    "duration": 52791,
    "start_time": "2025-05-19T18:01:46.828Z"
   },
   {
    "duration": 5,
    "start_time": "2025-05-19T18:02:56.146Z"
   },
   {
    "duration": 73,
    "start_time": "2025-05-19T18:03:02.080Z"
   },
   {
    "duration": 69,
    "start_time": "2025-05-19T18:03:16.141Z"
   },
   {
    "duration": 3,
    "start_time": "2025-05-19T19:18:36.923Z"
   },
   {
    "duration": 3,
    "start_time": "2025-05-19T19:19:12.507Z"
   },
   {
    "duration": 3,
    "start_time": "2025-05-19T19:19:15.116Z"
   },
   {
    "duration": 30,
    "start_time": "2025-05-19T19:19:19.984Z"
   },
   {
    "duration": 3,
    "start_time": "2025-05-19T19:19:41.023Z"
   },
   {
    "duration": 4,
    "start_time": "2025-05-19T19:19:43.338Z"
   },
   {
    "duration": 55020,
    "start_time": "2025-05-19T19:19:47.204Z"
   },
   {
    "duration": 6,
    "start_time": "2025-05-19T19:20:53.392Z"
   },
   {
    "duration": 73,
    "start_time": "2025-05-19T19:21:05.552Z"
   },
   {
    "duration": 1635,
    "start_time": "2025-05-20T07:05:17.696Z"
   },
   {
    "duration": 22,
    "start_time": "2025-05-20T07:05:19.333Z"
   },
   {
    "duration": 1613,
    "start_time": "2025-05-20T07:05:19.356Z"
   },
   {
    "duration": 107,
    "start_time": "2025-05-20T07:05:20.972Z"
   },
   {
    "duration": 4,
    "start_time": "2025-05-20T07:05:21.080Z"
   },
   {
    "duration": 315,
    "start_time": "2025-05-20T07:05:21.086Z"
   },
   {
    "duration": 3,
    "start_time": "2025-05-20T07:05:21.403Z"
   },
   {
    "duration": 139,
    "start_time": "2025-05-20T07:05:21.408Z"
   },
   {
    "duration": 301,
    "start_time": "2025-05-20T07:05:21.549Z"
   },
   {
    "duration": 22,
    "start_time": "2025-05-20T07:05:21.853Z"
   },
   {
    "duration": 14,
    "start_time": "2025-05-20T07:05:21.878Z"
   },
   {
    "duration": 85,
    "start_time": "2025-05-20T07:05:21.894Z"
   },
   {
    "duration": 12,
    "start_time": "2025-05-20T07:05:21.981Z"
   },
   {
    "duration": 27,
    "start_time": "2025-05-20T07:05:21.996Z"
   },
   {
    "duration": 35,
    "start_time": "2025-05-20T07:05:22.025Z"
   },
   {
    "duration": 24,
    "start_time": "2025-05-20T07:05:22.062Z"
   },
   {
    "duration": 59,
    "start_time": "2025-05-20T07:05:22.087Z"
   },
   {
    "duration": 13,
    "start_time": "2025-05-20T07:05:22.148Z"
   },
   {
    "duration": 24,
    "start_time": "2025-05-20T07:05:22.163Z"
   },
   {
    "duration": 19,
    "start_time": "2025-05-20T07:05:22.189Z"
   },
   {
    "duration": 24,
    "start_time": "2025-05-20T07:05:22.209Z"
   },
   {
    "duration": 5,
    "start_time": "2025-05-20T07:05:22.234Z"
   },
   {
    "duration": 30,
    "start_time": "2025-05-20T07:05:22.240Z"
   },
   {
    "duration": 36,
    "start_time": "2025-05-20T07:05:22.272Z"
   },
   {
    "duration": 127,
    "start_time": "2025-05-20T07:05:22.309Z"
   },
   {
    "duration": 54,
    "start_time": "2025-05-20T07:05:22.437Z"
   },
   {
    "duration": 3,
    "start_time": "2025-05-20T07:05:22.493Z"
   },
   {
    "duration": 39,
    "start_time": "2025-05-20T07:05:22.500Z"
   },
   {
    "duration": 6,
    "start_time": "2025-05-20T07:05:22.540Z"
   },
   {
    "duration": 15,
    "start_time": "2025-05-20T07:05:22.547Z"
   },
   {
    "duration": 3869,
    "start_time": "2025-05-20T07:05:22.564Z"
   },
   {
    "duration": 231,
    "start_time": "2025-05-20T07:05:26.434Z"
   },
   {
    "duration": 9,
    "start_time": "2025-05-20T07:05:26.667Z"
   },
   {
    "duration": 1474,
    "start_time": "2025-05-20T07:05:26.678Z"
   },
   {
    "duration": 949,
    "start_time": "2025-05-20T07:05:28.154Z"
   },
   {
    "duration": 11,
    "start_time": "2025-05-20T07:05:29.105Z"
   },
   {
    "duration": 6,
    "start_time": "2025-05-20T07:05:29.117Z"
   },
   {
    "duration": 1120,
    "start_time": "2025-05-20T07:05:29.125Z"
   },
   {
    "duration": 7,
    "start_time": "2025-05-20T07:05:30.247Z"
   },
   {
    "duration": 1302,
    "start_time": "2025-05-20T07:05:30.255Z"
   },
   {
    "duration": 16,
    "start_time": "2025-05-20T07:05:31.560Z"
   },
   {
    "duration": 1221,
    "start_time": "2025-05-20T07:05:31.578Z"
   },
   {
    "duration": 250,
    "start_time": "2025-05-20T07:05:32.801Z"
   },
   {
    "duration": 11,
    "start_time": "2025-05-20T07:05:33.061Z"
   },
   {
    "duration": 213,
    "start_time": "2025-05-20T07:05:33.074Z"
   },
   {
    "duration": 22,
    "start_time": "2025-05-20T07:05:33.289Z"
   },
   {
    "duration": 35,
    "start_time": "2025-05-20T07:05:33.313Z"
   },
   {
    "duration": 2044,
    "start_time": "2025-05-20T07:05:33.350Z"
   },
   {
    "duration": 5,
    "start_time": "2025-05-20T07:05:35.396Z"
   },
   {
    "duration": 676,
    "start_time": "2025-05-20T07:05:35.402Z"
   },
   {
    "duration": 194,
    "start_time": "2025-05-20T07:05:36.080Z"
   },
   {
    "duration": 182,
    "start_time": "2025-05-20T07:05:36.276Z"
   },
   {
    "duration": 67,
    "start_time": "2025-05-20T07:09:28.941Z"
   },
   {
    "duration": 6,
    "start_time": "2025-05-20T07:09:56.378Z"
   },
   {
    "duration": 3506,
    "start_time": "2025-05-20T07:09:59.620Z"
   },
   {
    "duration": 4,
    "start_time": "2025-05-20T07:10:56.671Z"
   },
   {
    "duration": 43613,
    "start_time": "2025-05-20T07:10:58.463Z"
   },
   {
    "duration": 4,
    "start_time": "2025-05-20T07:11:46.009Z"
   },
   {
    "duration": 3433,
    "start_time": "2025-05-20T07:11:47.393Z"
   },
   {
    "duration": 4,
    "start_time": "2025-05-20T07:14:00.786Z"
   },
   {
    "duration": 9,
    "start_time": "2025-05-20T07:14:30.708Z"
   },
   {
    "duration": 4,
    "start_time": "2025-05-20T07:14:33.469Z"
   },
   {
    "duration": 8,
    "start_time": "2025-05-20T07:14:41.314Z"
   },
   {
    "duration": 4,
    "start_time": "2025-05-20T07:15:04.541Z"
   },
   {
    "duration": 688590,
    "start_time": "2025-05-20T07:15:09.474Z"
   },
   {
    "duration": 9,
    "start_time": "2025-05-20T07:27:56.761Z"
   },
   {
    "duration": 4,
    "start_time": "2025-05-20T07:29:00.993Z"
   },
   {
    "duration": 752765,
    "start_time": "2025-05-20T07:29:03.965Z"
   },
   {
    "duration": 3,
    "start_time": "2025-05-20T07:41:36.732Z"
   },
   {
    "duration": 5,
    "start_time": "2025-05-20T07:42:10.701Z"
   },
   {
    "duration": 79,
    "start_time": "2025-05-20T07:42:34.022Z"
   },
   {
    "duration": 8,
    "start_time": "2025-05-20T07:42:47.648Z"
   },
   {
    "duration": 1564,
    "start_time": "2025-05-20T07:46:17.737Z"
   },
   {
    "duration": 22,
    "start_time": "2025-05-20T07:46:19.303Z"
   },
   {
    "duration": 858,
    "start_time": "2025-05-20T07:46:19.326Z"
   },
   {
    "duration": 118,
    "start_time": "2025-05-20T07:46:20.186Z"
   },
   {
    "duration": 3,
    "start_time": "2025-05-20T07:46:20.306Z"
   },
   {
    "duration": 292,
    "start_time": "2025-05-20T07:46:20.310Z"
   },
   {
    "duration": 4,
    "start_time": "2025-05-20T07:46:20.603Z"
   },
   {
    "duration": 54,
    "start_time": "2025-05-20T07:46:20.609Z"
   },
   {
    "duration": 40,
    "start_time": "2025-05-20T07:46:20.666Z"
   },
   {
    "duration": 22,
    "start_time": "2025-05-20T07:46:20.709Z"
   },
   {
    "duration": 10,
    "start_time": "2025-05-20T07:46:20.734Z"
   },
   {
    "duration": 58,
    "start_time": "2025-05-20T07:46:20.746Z"
   },
   {
    "duration": 122,
    "start_time": "2025-05-20T07:46:20.806Z"
   },
   {
    "duration": 21,
    "start_time": "2025-05-20T07:46:20.930Z"
   },
   {
    "duration": 31,
    "start_time": "2025-05-20T07:46:20.953Z"
   },
   {
    "duration": 126,
    "start_time": "2025-05-20T07:46:20.986Z"
   },
   {
    "duration": 28,
    "start_time": "2025-05-20T07:46:21.114Z"
   },
   {
    "duration": 15,
    "start_time": "2025-05-20T07:46:21.144Z"
   },
   {
    "duration": 34,
    "start_time": "2025-05-20T07:46:21.163Z"
   },
   {
    "duration": 11,
    "start_time": "2025-05-20T07:46:21.198Z"
   },
   {
    "duration": 34,
    "start_time": "2025-05-20T07:46:21.211Z"
   },
   {
    "duration": 34,
    "start_time": "2025-05-20T07:46:21.246Z"
   },
   {
    "duration": 35,
    "start_time": "2025-05-20T07:46:21.282Z"
   },
   {
    "duration": 25,
    "start_time": "2025-05-20T07:46:21.319Z"
   },
   {
    "duration": 27,
    "start_time": "2025-05-20T07:46:21.345Z"
   },
   {
    "duration": 58,
    "start_time": "2025-05-20T07:46:21.374Z"
   },
   {
    "duration": 29,
    "start_time": "2025-05-20T07:46:21.434Z"
   },
   {
    "duration": 37,
    "start_time": "2025-05-20T07:46:21.467Z"
   },
   {
    "duration": 124,
    "start_time": "2025-05-20T07:46:21.506Z"
   },
   {
    "duration": 34,
    "start_time": "2025-05-20T07:46:21.632Z"
   },
   {
    "duration": 4226,
    "start_time": "2025-05-20T07:46:21.668Z"
   },
   {
    "duration": 252,
    "start_time": "2025-05-20T07:46:25.896Z"
   },
   {
    "duration": 18,
    "start_time": "2025-05-20T07:46:26.149Z"
   },
   {
    "duration": 1559,
    "start_time": "2025-05-20T07:46:26.169Z"
   },
   {
    "duration": 1090,
    "start_time": "2025-05-20T07:46:27.730Z"
   },
   {
    "duration": 15,
    "start_time": "2025-05-20T07:46:28.822Z"
   },
   {
    "duration": 51,
    "start_time": "2025-05-20T07:46:28.839Z"
   },
   {
    "duration": 1145,
    "start_time": "2025-05-20T07:46:28.892Z"
   },
   {
    "duration": 6,
    "start_time": "2025-05-20T07:46:30.039Z"
   },
   {
    "duration": 969,
    "start_time": "2025-05-20T07:46:30.047Z"
   },
   {
    "duration": 16,
    "start_time": "2025-05-20T07:46:31.018Z"
   },
   {
    "duration": 1189,
    "start_time": "2025-05-20T07:46:31.035Z"
   },
   {
    "duration": 255,
    "start_time": "2025-05-20T07:46:32.226Z"
   },
   {
    "duration": 12,
    "start_time": "2025-05-20T07:46:32.483Z"
   },
   {
    "duration": 312,
    "start_time": "2025-05-20T07:46:32.497Z"
   },
   {
    "duration": 24,
    "start_time": "2025-05-20T07:46:32.811Z"
   },
   {
    "duration": 114,
    "start_time": "2025-05-20T07:46:32.837Z"
   },
   {
    "duration": 1708,
    "start_time": "2025-05-20T07:46:32.953Z"
   },
   {
    "duration": 8,
    "start_time": "2025-05-20T07:46:34.664Z"
   },
   {
    "duration": 29,
    "start_time": "2025-05-20T07:46:34.675Z"
   },
   {
    "duration": 198,
    "start_time": "2025-05-20T07:46:34.706Z"
   },
   {
    "duration": 301,
    "start_time": "2025-05-20T07:46:34.906Z"
   },
   {
    "duration": 90,
    "start_time": "2025-05-20T07:46:35.209Z"
   },
   {
    "duration": 768470,
    "start_time": "2025-05-20T07:46:35.300Z"
   },
   {
    "duration": 5,
    "start_time": "2025-05-20T07:59:23.772Z"
   },
   {
    "duration": 93,
    "start_time": "2025-05-20T07:59:23.779Z"
   },
   {
    "duration": 9,
    "start_time": "2025-05-20T07:59:23.874Z"
   }
  ],
  "kernelspec": {
   "display_name": "Python 3 (ipykernel)",
   "language": "python",
   "name": "python3"
  },
  "language_info": {
   "codemirror_mode": {
    "name": "ipython",
    "version": 3
   },
   "file_extension": ".py",
   "mimetype": "text/x-python",
   "name": "python",
   "nbconvert_exporter": "python",
   "pygments_lexer": "ipython3",
   "version": "3.9.5"
  },
  "toc": {
   "base_numbering": 1,
   "nav_menu": {},
   "number_sections": true,
   "sideBar": true,
   "skip_h1_title": true,
   "title_cell": "Содержание",
   "title_sidebar": "Contents",
   "toc_cell": true,
   "toc_position": {},
   "toc_section_display": true,
   "toc_window_display": false
  }
 },
 "nbformat": 4,
 "nbformat_minor": 2
}
